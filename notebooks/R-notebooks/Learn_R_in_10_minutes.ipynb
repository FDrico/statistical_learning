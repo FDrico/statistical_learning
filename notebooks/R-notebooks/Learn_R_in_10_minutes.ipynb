{
 "cells": [
  {
   "cell_type": "code",
   "execution_count": 74,
   "id": "b6a55811-cc5d-42f7-9988-c1f2aacd75a5",
   "metadata": {},
   "outputs": [
    {
     "data": {
      "text/html": [
       "<h3>Data sets</h3>\n",
       "<table class=\"dataframe\">\n",
       "<caption>A data.frame: 104 × 3</caption>\n",
       "<thead>\n",
       "\t<tr><th scope=col>Package</th><th scope=col>Item</th><th scope=col>Title</th></tr>\n",
       "\t<tr><th scope=col>&lt;chr&gt;</th><th scope=col>&lt;chr&gt;</th><th scope=col>&lt;chr&gt;</th></tr>\n",
       "</thead>\n",
       "<tbody>\n",
       "\t<tr><td>datasets</td><td>AirPassengers         </td><td>Monthly Airline Passenger Numbers 1949-1960                    </td></tr>\n",
       "\t<tr><td>datasets</td><td>BJsales               </td><td>Sales Data with Leading Indicator                              </td></tr>\n",
       "\t<tr><td>datasets</td><td>BJsales.lead (BJsales)</td><td>Sales Data with Leading Indicator                              </td></tr>\n",
       "\t<tr><td>datasets</td><td>BOD                   </td><td>Biochemical Oxygen Demand                                      </td></tr>\n",
       "\t<tr><td>datasets</td><td>CO2                   </td><td>Carbon Dioxide Uptake in Grass Plants                          </td></tr>\n",
       "\t<tr><td>datasets</td><td>ChickWeight           </td><td>Weight versus age of chicks on different diets                 </td></tr>\n",
       "\t<tr><td>datasets</td><td>DNase                 </td><td>Elisa assay of DNase                                           </td></tr>\n",
       "\t<tr><td>datasets</td><td>EuStockMarkets        </td><td>Daily Closing Prices of Major European Stock Indices, 1991-1998</td></tr>\n",
       "\t<tr><td>datasets</td><td>Formaldehyde          </td><td>Determination of Formaldehyde                                  </td></tr>\n",
       "\t<tr><td>datasets</td><td>HairEyeColor          </td><td>Hair and Eye Color of Statistics Students                      </td></tr>\n",
       "\t<tr><td>datasets</td><td>Harman23.cor          </td><td>Harman Example 2.3                                             </td></tr>\n",
       "\t<tr><td>datasets</td><td>Harman74.cor          </td><td>Harman Example 7.4                                             </td></tr>\n",
       "\t<tr><td>datasets</td><td>Indometh              </td><td>Pharmacokinetics of Indomethacin                               </td></tr>\n",
       "\t<tr><td>datasets</td><td>InsectSprays          </td><td>Effectiveness of Insect Sprays                                 </td></tr>\n",
       "\t<tr><td>datasets</td><td><span style=white-space:pre-wrap>JohnsonJohnson        </span></td><td><span style=white-space:pre-wrap>Quarterly Earnings per Johnson &amp; Johnson Share                 </span></td></tr>\n",
       "\t<tr><td>datasets</td><td>LakeHuron             </td><td>Level of Lake Huron 1875-1972                                  </td></tr>\n",
       "\t<tr><td>datasets</td><td>LifeCycleSavings      </td><td>Intercountry Life-Cycle Savings Data                           </td></tr>\n",
       "\t<tr><td>datasets</td><td>Loblolly              </td><td>Growth of Loblolly Pine Trees                                  </td></tr>\n",
       "\t<tr><td>datasets</td><td>Nile                  </td><td>Flow of the River Nile                                         </td></tr>\n",
       "\t<tr><td>datasets</td><td>Orange                </td><td>Growth of Orange Trees                                         </td></tr>\n",
       "\t<tr><td>datasets</td><td>OrchardSprays         </td><td>Potency of Orchard Sprays                                      </td></tr>\n",
       "\t<tr><td>datasets</td><td>PlantGrowth           </td><td>Results from an Experiment on Plant Growth                     </td></tr>\n",
       "\t<tr><td>datasets</td><td>Puromycin             </td><td>Reaction Velocity of an Enzymatic Reaction                     </td></tr>\n",
       "\t<tr><td>datasets</td><td>Seatbelts             </td><td>Road Casualties in Great Britain 1969-84                       </td></tr>\n",
       "\t<tr><td>datasets</td><td>Theoph                </td><td>Pharmacokinetics of Theophylline                               </td></tr>\n",
       "\t<tr><td>datasets</td><td>Titanic               </td><td>Survival of passengers on the Titanic                          </td></tr>\n",
       "\t<tr><td>datasets</td><td>ToothGrowth           </td><td>The Effect of Vitamin C on Tooth Growth in Guinea Pigs         </td></tr>\n",
       "\t<tr><td>datasets</td><td>UCBAdmissions         </td><td>Student Admissions at UC Berkeley                              </td></tr>\n",
       "\t<tr><td>datasets</td><td>UKDriverDeaths        </td><td>Road Casualties in Great Britain 1969-84                       </td></tr>\n",
       "\t<tr><td>datasets</td><td>UKgas                 </td><td>UK Quarterly Gas Consumption                                   </td></tr>\n",
       "\t<tr><td>datasets</td><td>USAccDeaths           </td><td>Accidental Deaths in the US 1973-1978                          </td></tr>\n",
       "\t<tr><td>datasets</td><td>USArrests             </td><td>Violent Crime Rates by US State                                </td></tr>\n",
       "\t<tr><td>datasets</td><td>USJudgeRatings        </td><td>Lawyers' Ratings of State Judges in the US Superior Court      </td></tr>\n",
       "\t<tr><td>datasets</td><td>USPersonalExpenditure </td><td>Personal Expenditure Data                                      </td></tr>\n",
       "\t<tr><td>datasets</td><td>UScitiesD             </td><td>Distances Between European Cities and Between US Cities        </td></tr>\n",
       "\t<tr><td>datasets</td><td>VADeaths              </td><td>Death Rates in Virginia (1940)                                 </td></tr>\n",
       "\t<tr><td>datasets</td><td>WWWusage              </td><td>Internet Usage per Minute                                      </td></tr>\n",
       "\t<tr><td>datasets</td><td>WorldPhones           </td><td>The World's Telephones                                         </td></tr>\n",
       "\t<tr><td>datasets</td><td>ability.cov           </td><td>Ability and Intelligence Tests                                 </td></tr>\n",
       "\t<tr><td>datasets</td><td>airmiles              </td><td>Passenger Miles on Commercial US Airlines, 1937-1960           </td></tr>\n",
       "\t<tr><td>datasets</td><td>airquality            </td><td>New York Air Quality Measurements                              </td></tr>\n",
       "\t<tr><td>datasets</td><td>anscombe              </td><td>Anscombe's Quartet of 'Identical' Simple Linear Regressions    </td></tr>\n",
       "\t<tr><td>datasets</td><td>attenu                </td><td>The Joyner-Boore Attenuation Data                              </td></tr>\n",
       "\t<tr><td>datasets</td><td>attitude              </td><td>The Chatterjee-Price Attitude Data                             </td></tr>\n",
       "\t<tr><td>datasets</td><td>austres               </td><td>Quarterly Time Series of the Number of Australian Residents    </td></tr>\n",
       "\t<tr><td>datasets</td><td>beaver1 (beavers)     </td><td>Body Temperature Series of Two Beavers                         </td></tr>\n",
       "\t<tr><td>datasets</td><td>beaver2 (beavers)     </td><td>Body Temperature Series of Two Beavers                         </td></tr>\n",
       "\t<tr><td>datasets</td><td>cars                  </td><td>Speed and Stopping Distances of Cars                           </td></tr>\n",
       "\t<tr><td>datasets</td><td>chickwts              </td><td>Chicken Weights by Feed Type                                   </td></tr>\n",
       "\t<tr><td>datasets</td><td>co2                   </td><td>Mauna Loa Atmospheric CO2 Concentration                        </td></tr>\n",
       "\t<tr><td>datasets</td><td>crimtab               </td><td>Student's 3000 Criminals Data                                  </td></tr>\n",
       "\t<tr><td>datasets</td><td>discoveries           </td><td>Yearly Numbers of Important Discoveries                        </td></tr>\n",
       "\t<tr><td>datasets</td><td>esoph                 </td><td>Smoking, Alcohol and (O)esophageal Cancer                      </td></tr>\n",
       "\t<tr><td>datasets</td><td>euro                  </td><td>Conversion Rates of Euro Currencies                            </td></tr>\n",
       "\t<tr><td>datasets</td><td>euro.cross (euro)     </td><td>Conversion Rates of Euro Currencies                            </td></tr>\n",
       "\t<tr><td>datasets</td><td>eurodist              </td><td>Distances Between European Cities and Between US Cities        </td></tr>\n",
       "\t<tr><td>datasets</td><td>faithful              </td><td>Old Faithful Geyser Data                                       </td></tr>\n",
       "\t<tr><td>datasets</td><td>fdeaths (UKLungDeaths)</td><td>Monthly Deaths from Lung Diseases in the UK                    </td></tr>\n",
       "\t<tr><td>datasets</td><td>freeny                </td><td>Freeny's Revenue Data                                          </td></tr>\n",
       "\t<tr><td>datasets</td><td>freeny.x (freeny)     </td><td>Freeny's Revenue Data                                          </td></tr>\n",
       "\t<tr><td>datasets</td><td>freeny.y (freeny)     </td><td>Freeny's Revenue Data                                          </td></tr>\n",
       "\t<tr><td>datasets</td><td>infert                </td><td>Infertility after Spontaneous and Induced Abortion             </td></tr>\n",
       "\t<tr><td>datasets</td><td>iris                  </td><td>Edgar Anderson's Iris Data                                     </td></tr>\n",
       "\t<tr><td>datasets</td><td>iris3                 </td><td>Edgar Anderson's Iris Data                                     </td></tr>\n",
       "\t<tr><td>datasets</td><td>islands               </td><td>Areas of the World's Major Landmasses                          </td></tr>\n",
       "\t<tr><td>datasets</td><td>ldeaths (UKLungDeaths)</td><td>Monthly Deaths from Lung Diseases in the UK                    </td></tr>\n",
       "\t<tr><td>datasets</td><td>lh                    </td><td>Luteinizing Hormone in Blood Samples                           </td></tr>\n",
       "\t<tr><td>datasets</td><td>longley               </td><td>Longley's Economic Regression Data                             </td></tr>\n",
       "\t<tr><td>datasets</td><td>lynx                  </td><td>Annual Canadian Lynx trappings 1821-1934                       </td></tr>\n",
       "\t<tr><td>datasets</td><td>mdeaths (UKLungDeaths)</td><td>Monthly Deaths from Lung Diseases in the UK                    </td></tr>\n",
       "\t<tr><td>datasets</td><td>morley                </td><td>Michelson Speed of Light Data                                  </td></tr>\n",
       "\t<tr><td>datasets</td><td>mtcars                </td><td>Motor Trend Car Road Tests                                     </td></tr>\n",
       "\t<tr><td>datasets</td><td>nhtemp                </td><td>Average Yearly Temperatures in New Haven                       </td></tr>\n",
       "\t<tr><td>datasets</td><td>nottem                </td><td>Average Monthly Temperatures at Nottingham, 1920-1939          </td></tr>\n",
       "\t<tr><td>datasets</td><td>npk                   </td><td>Classical N, P, K Factorial Experiment                         </td></tr>\n",
       "\t<tr><td>datasets</td><td>occupationalStatus    </td><td>Occupational Status of Fathers and their Sons                  </td></tr>\n",
       "\t<tr><td>datasets</td><td>precip                </td><td>Annual Precipitation in US Cities                              </td></tr>\n",
       "\t<tr><td>datasets</td><td>presidents            </td><td>Quarterly Approval Ratings of US Presidents                    </td></tr>\n",
       "\t<tr><td>datasets</td><td>pressure              </td><td>Vapor Pressure of Mercury as a Function of Temperature         </td></tr>\n",
       "\t<tr><td>datasets</td><td>quakes                </td><td>Locations of Earthquakes off Fiji                              </td></tr>\n",
       "\t<tr><td>datasets</td><td>randu                 </td><td>Random Numbers from Congruential Generator RANDU               </td></tr>\n",
       "\t<tr><td>datasets</td><td>rivers                </td><td>Lengths of Major North American Rivers                         </td></tr>\n",
       "\t<tr><td>datasets</td><td>rock                  </td><td>Measurements on Petroleum Rock Samples                         </td></tr>\n",
       "\t<tr><td>datasets</td><td>sleep                 </td><td>Student's Sleep Data                                           </td></tr>\n",
       "\t<tr><td>datasets</td><td>stack.loss (stackloss)</td><td>Brownlee's Stack Loss Plant Data                               </td></tr>\n",
       "\t<tr><td>datasets</td><td>stack.x (stackloss)   </td><td>Brownlee's Stack Loss Plant Data                               </td></tr>\n",
       "\t<tr><td>datasets</td><td>stackloss             </td><td>Brownlee's Stack Loss Plant Data                               </td></tr>\n",
       "\t<tr><td>datasets</td><td>state.abb (state)     </td><td>US State Facts and Figures                                     </td></tr>\n",
       "\t<tr><td>datasets</td><td>state.area (state)    </td><td>US State Facts and Figures                                     </td></tr>\n",
       "\t<tr><td>datasets</td><td>state.center (state)  </td><td>US State Facts and Figures                                     </td></tr>\n",
       "\t<tr><td>datasets</td><td>state.division (state)</td><td>US State Facts and Figures                                     </td></tr>\n",
       "\t<tr><td>datasets</td><td>state.name (state)    </td><td>US State Facts and Figures                                     </td></tr>\n",
       "\t<tr><td>datasets</td><td>state.region (state)  </td><td>US State Facts and Figures                                     </td></tr>\n",
       "\t<tr><td>datasets</td><td>state.x77 (state)     </td><td>US State Facts and Figures                                     </td></tr>\n",
       "\t<tr><td>datasets</td><td>sunspot.month         </td><td>Monthly Sunspot Data, from 1749 to \"Present\"                   </td></tr>\n",
       "\t<tr><td>datasets</td><td>sunspot.year          </td><td>Yearly Sunspot Data, 1700-1988                                 </td></tr>\n",
       "\t<tr><td>datasets</td><td>sunspots              </td><td>Monthly Sunspot Numbers, 1749-1983                             </td></tr>\n",
       "\t<tr><td>datasets</td><td>swiss                 </td><td>Swiss Fertility and Socioeconomic Indicators (1888) Data       </td></tr>\n",
       "\t<tr><td>datasets</td><td>treering              </td><td>Yearly Tree-Ring Data, -6000-1979                              </td></tr>\n",
       "\t<tr><td>datasets</td><td>trees                 </td><td>Diameter, Height and Volume for Black Cherry Trees             </td></tr>\n",
       "\t<tr><td>datasets</td><td>uspop                 </td><td>Populations Recorded by the US Census                          </td></tr>\n",
       "\t<tr><td>datasets</td><td>volcano               </td><td>Topographic Information on Auckland's Maunga Whau Volcano      </td></tr>\n",
       "\t<tr><td>datasets</td><td>warpbreaks            </td><td>The Number of Breaks in Yarn during Weaving                    </td></tr>\n",
       "\t<tr><td>datasets</td><td>women                 </td><td>Average Heights and Weights for American Women                 </td></tr>\n",
       "</tbody>\n",
       "</table>\n",
       "\n",
       "<p>Use ‘data(package = .packages(all.available = TRUE))’\n",
       "to list the data sets in all *available* packages.</p>"
      ],
      "text/plain": [
       "Data sets in package ‘datasets’:\n",
       "\n",
       "AirPassengers           Monthly Airline Passenger Numbers 1949-1960\n",
       "BJsales                 Sales Data with Leading Indicator\n",
       "BJsales.lead (BJsales)\n",
       "                        Sales Data with Leading Indicator\n",
       "BOD                     Biochemical Oxygen Demand\n",
       "CO2                     Carbon Dioxide Uptake in Grass Plants\n",
       "ChickWeight             Weight versus age of chicks on different diets\n",
       "DNase                   Elisa assay of DNase\n",
       "EuStockMarkets          Daily Closing Prices of Major European Stock\n",
       "                        Indices, 1991-1998\n",
       "Formaldehyde            Determination of Formaldehyde\n",
       "HairEyeColor            Hair and Eye Color of Statistics Students\n",
       "Harman23.cor            Harman Example 2.3\n",
       "Harman74.cor            Harman Example 7.4\n",
       "Indometh                Pharmacokinetics of Indomethacin\n",
       "InsectSprays            Effectiveness of Insect Sprays\n",
       "JohnsonJohnson          Quarterly Earnings per Johnson & Johnson Share\n",
       "LakeHuron               Level of Lake Huron 1875-1972\n",
       "LifeCycleSavings        Intercountry Life-Cycle Savings Data\n",
       "Loblolly                Growth of Loblolly Pine Trees\n",
       "Nile                    Flow of the River Nile\n",
       "Orange                  Growth of Orange Trees\n",
       "OrchardSprays           Potency of Orchard Sprays\n",
       "PlantGrowth             Results from an Experiment on Plant Growth\n",
       "Puromycin               Reaction Velocity of an Enzymatic Reaction\n",
       "Seatbelts               Road Casualties in Great Britain 1969-84\n",
       "Theoph                  Pharmacokinetics of Theophylline\n",
       "Titanic                 Survival of passengers on the Titanic\n",
       "ToothGrowth             The Effect of Vitamin C on Tooth Growth in\n",
       "                        Guinea Pigs\n",
       "UCBAdmissions           Student Admissions at UC Berkeley\n",
       "UKDriverDeaths          Road Casualties in Great Britain 1969-84\n",
       "UKgas                   UK Quarterly Gas Consumption\n",
       "USAccDeaths             Accidental Deaths in the US 1973-1978\n",
       "USArrests               Violent Crime Rates by US State\n",
       "USJudgeRatings          Lawyers' Ratings of State Judges in the US\n",
       "                        Superior Court\n",
       "USPersonalExpenditure   Personal Expenditure Data\n",
       "UScitiesD               Distances Between European Cities and Between\n",
       "                        US Cities\n",
       "VADeaths                Death Rates in Virginia (1940)\n",
       "WWWusage                Internet Usage per Minute\n",
       "WorldPhones             The World's Telephones\n",
       "ability.cov             Ability and Intelligence Tests\n",
       "airmiles                Passenger Miles on Commercial US Airlines,\n",
       "                        1937-1960\n",
       "airquality              New York Air Quality Measurements\n",
       "anscombe                Anscombe's Quartet of 'Identical' Simple Linear\n",
       "                        Regressions\n",
       "attenu                  The Joyner-Boore Attenuation Data\n",
       "attitude                The Chatterjee-Price Attitude Data\n",
       "austres                 Quarterly Time Series of the Number of\n",
       "                        Australian Residents\n",
       "beaver1 (beavers)       Body Temperature Series of Two Beavers\n",
       "beaver2 (beavers)       Body Temperature Series of Two Beavers\n",
       "cars                    Speed and Stopping Distances of Cars\n",
       "chickwts                Chicken Weights by Feed Type\n",
       "co2                     Mauna Loa Atmospheric CO2 Concentration\n",
       "crimtab                 Student's 3000 Criminals Data\n",
       "discoveries             Yearly Numbers of Important Discoveries\n",
       "esoph                   Smoking, Alcohol and (O)esophageal Cancer\n",
       "euro                    Conversion Rates of Euro Currencies\n",
       "euro.cross (euro)       Conversion Rates of Euro Currencies\n",
       "eurodist                Distances Between European Cities and Between\n",
       "                        US Cities\n",
       "faithful                Old Faithful Geyser Data\n",
       "fdeaths (UKLungDeaths)\n",
       "                        Monthly Deaths from Lung Diseases in the UK\n",
       "freeny                  Freeny's Revenue Data\n",
       "freeny.x (freeny)       Freeny's Revenue Data\n",
       "freeny.y (freeny)       Freeny's Revenue Data\n",
       "infert                  Infertility after Spontaneous and Induced\n",
       "                        Abortion\n",
       "iris                    Edgar Anderson's Iris Data\n",
       "iris3                   Edgar Anderson's Iris Data\n",
       "islands                 Areas of the World's Major Landmasses\n",
       "ldeaths (UKLungDeaths)\n",
       "                        Monthly Deaths from Lung Diseases in the UK\n",
       "lh                      Luteinizing Hormone in Blood Samples\n",
       "longley                 Longley's Economic Regression Data\n",
       "lynx                    Annual Canadian Lynx trappings 1821-1934\n",
       "mdeaths (UKLungDeaths)\n",
       "                        Monthly Deaths from Lung Diseases in the UK\n",
       "morley                  Michelson Speed of Light Data\n",
       "mtcars                  Motor Trend Car Road Tests\n",
       "nhtemp                  Average Yearly Temperatures in New Haven\n",
       "nottem                  Average Monthly Temperatures at Nottingham,\n",
       "                        1920-1939\n",
       "npk                     Classical N, P, K Factorial Experiment\n",
       "occupationalStatus      Occupational Status of Fathers and their Sons\n",
       "precip                  Annual Precipitation in US Cities\n",
       "presidents              Quarterly Approval Ratings of US Presidents\n",
       "pressure                Vapor Pressure of Mercury as a Function of\n",
       "                        Temperature\n",
       "quakes                  Locations of Earthquakes off Fiji\n",
       "randu                   Random Numbers from Congruential Generator\n",
       "                        RANDU\n",
       "rivers                  Lengths of Major North American Rivers\n",
       "rock                    Measurements on Petroleum Rock Samples\n",
       "sleep                   Student's Sleep Data\n",
       "stack.loss (stackloss)\n",
       "                        Brownlee's Stack Loss Plant Data\n",
       "stack.x (stackloss)     Brownlee's Stack Loss Plant Data\n",
       "stackloss               Brownlee's Stack Loss Plant Data\n",
       "state.abb (state)       US State Facts and Figures\n",
       "state.area (state)      US State Facts and Figures\n",
       "state.center (state)    US State Facts and Figures\n",
       "state.division (state)\n",
       "                        US State Facts and Figures\n",
       "state.name (state)      US State Facts and Figures\n",
       "state.region (state)    US State Facts and Figures\n",
       "state.x77 (state)       US State Facts and Figures\n",
       "sunspot.month           Monthly Sunspot Data, from 1749 to \"Present\"\n",
       "sunspot.year            Yearly Sunspot Data, 1700-1988\n",
       "sunspots                Monthly Sunspot Numbers, 1749-1983\n",
       "swiss                   Swiss Fertility and Socioeconomic Indicators\n",
       "                        (1888) Data\n",
       "treering                Yearly Tree-Ring Data, -6000-1979\n",
       "trees                   Diameter, Height and Volume for Black Cherry\n",
       "                        Trees\n",
       "uspop                   Populations Recorded by the US Census\n",
       "volcano                 Topographic Information on Auckland's Maunga\n",
       "                        Whau Volcano\n",
       "warpbreaks              The Number of Breaks in Yarn during Weaving\n",
       "women                   Average Heights and Weights for American Women\n",
       "\n",
       "Use ‘data(package = .packages(all.available = TRUE))’\n",
       "to list the data sets in all *available* packages."
      ]
     },
     "metadata": {},
     "output_type": "display_data"
    }
   ],
   "source": [
    "# Comments start with hash signs, also known as number symbols (#).\n",
    "\n",
    "# You can't make multi-line comments,\n",
    "# but you can stack multiple comments like so.\n",
    "\n",
    "# in Windows you can use CTRL-ENTER to execute a line.\n",
    "# on Mac it is COMMAND-ENTER\n",
    "\n",
    "\n",
    "\n",
    "#############################################################################\n",
    "# Stuff you can do without understanding anything about programming\n",
    "#############################################################################\n",
    "\n",
    "# In this section, we show off some of the cool stuff you can do in\n",
    "# R without understanding anything about programming. Do not worry\n",
    "# about understanding everything the code does. Just enjoy!\n",
    "\n",
    "data()          # browse pre-loaded data sets"
   ]
  },
  {
   "cell_type": "markdown",
   "id": "63d3db2c-6fd4-4123-a26e-a822a226706f",
   "metadata": {},
   "source": [
    "## Datasets"
   ]
  },
  {
   "cell_type": "code",
   "execution_count": 75,
   "id": "aaa65d19-49ae-4a46-8dd2-1ecbdb9ca567",
   "metadata": {},
   "outputs": [
    {
     "data": {
      "text/html": [
       "<style>\n",
       ".list-inline {list-style: none; margin:0; padding: 0}\n",
       ".list-inline>li {display: inline-block}\n",
       ".list-inline>li:not(:last-child)::after {content: \"\\00b7\"; padding: 0 .5ex}\n",
       "</style>\n",
       "<ol class=list-inline><li>735</li><li>320</li><li>325</li><li>392</li><li>524</li><li>450</li><li>1459</li><li>135</li><li>465</li><li>600</li><li>330</li><li>336</li><li>280</li><li>315</li><li>870</li><li>906</li><li>202</li><li>329</li><li>290</li><li>1000</li><li>600</li><li>505</li><li>1450</li><li>840</li><li>1243</li><li>890</li><li>350</li><li>407</li><li>286</li><li>280</li><li>525</li><li>720</li><li>390</li><li>250</li><li>327</li><li>230</li><li>265</li><li>850</li><li>210</li><li>630</li><li>260</li><li>230</li><li>360</li><li>730</li><li>600</li><li>306</li><li>390</li><li>420</li><li>291</li><li>710</li><li>340</li><li>217</li><li>281</li><li>352</li><li>259</li><li>250</li><li>470</li><li>680</li><li>570</li><li>350</li><li>300</li><li>560</li><li>900</li><li>625</li><li>332</li><li>2348</li><li>1171</li><li>3710</li><li>2315</li><li>2533</li><li>780</li><li>280</li><li>410</li><li>460</li><li>260</li><li>255</li><li>431</li><li>350</li><li>760</li><li>618</li><li>338</li><li>981</li><li>1306</li><li>500</li><li>696</li><li>605</li><li>250</li><li>411</li><li>1054</li><li>735</li><li>233</li><li>435</li><li>490</li><li>310</li><li>460</li><li>383</li><li>375</li><li>1270</li><li>545</li><li>445</li><li>1885</li><li>380</li><li>300</li><li>380</li><li>377</li><li>425</li><li>276</li><li>210</li><li>800</li><li>420</li><li>350</li><li>360</li><li>538</li><li>1100</li><li>1205</li><li>314</li><li>237</li><li>610</li><li>360</li><li>540</li><li>1038</li><li>424</li><li>310</li><li>300</li><li>444</li><li>301</li><li>268</li><li>620</li><li>215</li><li>652</li><li>900</li><li>525</li><li>246</li><li>360</li><li>529</li><li>500</li><li>720</li><li>270</li><li>430</li><li>671</li><li>1770</li></ol>\n"
      ],
      "text/latex": [
       "\\begin{enumerate*}\n",
       "\\item 735\n",
       "\\item 320\n",
       "\\item 325\n",
       "\\item 392\n",
       "\\item 524\n",
       "\\item 450\n",
       "\\item 1459\n",
       "\\item 135\n",
       "\\item 465\n",
       "\\item 600\n",
       "\\item 330\n",
       "\\item 336\n",
       "\\item 280\n",
       "\\item 315\n",
       "\\item 870\n",
       "\\item 906\n",
       "\\item 202\n",
       "\\item 329\n",
       "\\item 290\n",
       "\\item 1000\n",
       "\\item 600\n",
       "\\item 505\n",
       "\\item 1450\n",
       "\\item 840\n",
       "\\item 1243\n",
       "\\item 890\n",
       "\\item 350\n",
       "\\item 407\n",
       "\\item 286\n",
       "\\item 280\n",
       "\\item 525\n",
       "\\item 720\n",
       "\\item 390\n",
       "\\item 250\n",
       "\\item 327\n",
       "\\item 230\n",
       "\\item 265\n",
       "\\item 850\n",
       "\\item 210\n",
       "\\item 630\n",
       "\\item 260\n",
       "\\item 230\n",
       "\\item 360\n",
       "\\item 730\n",
       "\\item 600\n",
       "\\item 306\n",
       "\\item 390\n",
       "\\item 420\n",
       "\\item 291\n",
       "\\item 710\n",
       "\\item 340\n",
       "\\item 217\n",
       "\\item 281\n",
       "\\item 352\n",
       "\\item 259\n",
       "\\item 250\n",
       "\\item 470\n",
       "\\item 680\n",
       "\\item 570\n",
       "\\item 350\n",
       "\\item 300\n",
       "\\item 560\n",
       "\\item 900\n",
       "\\item 625\n",
       "\\item 332\n",
       "\\item 2348\n",
       "\\item 1171\n",
       "\\item 3710\n",
       "\\item 2315\n",
       "\\item 2533\n",
       "\\item 780\n",
       "\\item 280\n",
       "\\item 410\n",
       "\\item 460\n",
       "\\item 260\n",
       "\\item 255\n",
       "\\item 431\n",
       "\\item 350\n",
       "\\item 760\n",
       "\\item 618\n",
       "\\item 338\n",
       "\\item 981\n",
       "\\item 1306\n",
       "\\item 500\n",
       "\\item 696\n",
       "\\item 605\n",
       "\\item 250\n",
       "\\item 411\n",
       "\\item 1054\n",
       "\\item 735\n",
       "\\item 233\n",
       "\\item 435\n",
       "\\item 490\n",
       "\\item 310\n",
       "\\item 460\n",
       "\\item 383\n",
       "\\item 375\n",
       "\\item 1270\n",
       "\\item 545\n",
       "\\item 445\n",
       "\\item 1885\n",
       "\\item 380\n",
       "\\item 300\n",
       "\\item 380\n",
       "\\item 377\n",
       "\\item 425\n",
       "\\item 276\n",
       "\\item 210\n",
       "\\item 800\n",
       "\\item 420\n",
       "\\item 350\n",
       "\\item 360\n",
       "\\item 538\n",
       "\\item 1100\n",
       "\\item 1205\n",
       "\\item 314\n",
       "\\item 237\n",
       "\\item 610\n",
       "\\item 360\n",
       "\\item 540\n",
       "\\item 1038\n",
       "\\item 424\n",
       "\\item 310\n",
       "\\item 300\n",
       "\\item 444\n",
       "\\item 301\n",
       "\\item 268\n",
       "\\item 620\n",
       "\\item 215\n",
       "\\item 652\n",
       "\\item 900\n",
       "\\item 525\n",
       "\\item 246\n",
       "\\item 360\n",
       "\\item 529\n",
       "\\item 500\n",
       "\\item 720\n",
       "\\item 270\n",
       "\\item 430\n",
       "\\item 671\n",
       "\\item 1770\n",
       "\\end{enumerate*}\n"
      ],
      "text/markdown": [
       "1. 735\n",
       "2. 320\n",
       "3. 325\n",
       "4. 392\n",
       "5. 524\n",
       "6. 450\n",
       "7. 1459\n",
       "8. 135\n",
       "9. 465\n",
       "10. 600\n",
       "11. 330\n",
       "12. 336\n",
       "13. 280\n",
       "14. 315\n",
       "15. 870\n",
       "16. 906\n",
       "17. 202\n",
       "18. 329\n",
       "19. 290\n",
       "20. 1000\n",
       "21. 600\n",
       "22. 505\n",
       "23. 1450\n",
       "24. 840\n",
       "25. 1243\n",
       "26. 890\n",
       "27. 350\n",
       "28. 407\n",
       "29. 286\n",
       "30. 280\n",
       "31. 525\n",
       "32. 720\n",
       "33. 390\n",
       "34. 250\n",
       "35. 327\n",
       "36. 230\n",
       "37. 265\n",
       "38. 850\n",
       "39. 210\n",
       "40. 630\n",
       "41. 260\n",
       "42. 230\n",
       "43. 360\n",
       "44. 730\n",
       "45. 600\n",
       "46. 306\n",
       "47. 390\n",
       "48. 420\n",
       "49. 291\n",
       "50. 710\n",
       "51. 340\n",
       "52. 217\n",
       "53. 281\n",
       "54. 352\n",
       "55. 259\n",
       "56. 250\n",
       "57. 470\n",
       "58. 680\n",
       "59. 570\n",
       "60. 350\n",
       "61. 300\n",
       "62. 560\n",
       "63. 900\n",
       "64. 625\n",
       "65. 332\n",
       "66. 2348\n",
       "67. 1171\n",
       "68. 3710\n",
       "69. 2315\n",
       "70. 2533\n",
       "71. 780\n",
       "72. 280\n",
       "73. 410\n",
       "74. 460\n",
       "75. 260\n",
       "76. 255\n",
       "77. 431\n",
       "78. 350\n",
       "79. 760\n",
       "80. 618\n",
       "81. 338\n",
       "82. 981\n",
       "83. 1306\n",
       "84. 500\n",
       "85. 696\n",
       "86. 605\n",
       "87. 250\n",
       "88. 411\n",
       "89. 1054\n",
       "90. 735\n",
       "91. 233\n",
       "92. 435\n",
       "93. 490\n",
       "94. 310\n",
       "95. 460\n",
       "96. 383\n",
       "97. 375\n",
       "98. 1270\n",
       "99. 545\n",
       "100. 445\n",
       "101. 1885\n",
       "102. 380\n",
       "103. 300\n",
       "104. 380\n",
       "105. 377\n",
       "106. 425\n",
       "107. 276\n",
       "108. 210\n",
       "109. 800\n",
       "110. 420\n",
       "111. 350\n",
       "112. 360\n",
       "113. 538\n",
       "114. 1100\n",
       "115. 1205\n",
       "116. 314\n",
       "117. 237\n",
       "118. 610\n",
       "119. 360\n",
       "120. 540\n",
       "121. 1038\n",
       "122. 424\n",
       "123. 310\n",
       "124. 300\n",
       "125. 444\n",
       "126. 301\n",
       "127. 268\n",
       "128. 620\n",
       "129. 215\n",
       "130. 652\n",
       "131. 900\n",
       "132. 525\n",
       "133. 246\n",
       "134. 360\n",
       "135. 529\n",
       "136. 500\n",
       "137. 720\n",
       "138. 270\n",
       "139. 430\n",
       "140. 671\n",
       "141. 1770\n",
       "\n",
       "\n"
      ],
      "text/plain": [
       "  [1]  735  320  325  392  524  450 1459  135  465  600  330  336  280  315  870\n",
       " [16]  906  202  329  290 1000  600  505 1450  840 1243  890  350  407  286  280\n",
       " [31]  525  720  390  250  327  230  265  850  210  630  260  230  360  730  600\n",
       " [46]  306  390  420  291  710  340  217  281  352  259  250  470  680  570  350\n",
       " [61]  300  560  900  625  332 2348 1171 3710 2315 2533  780  280  410  460  260\n",
       " [76]  255  431  350  760  618  338  981 1306  500  696  605  250  411 1054  735\n",
       " [91]  233  435  490  310  460  383  375 1270  545  445 1885  380  300  380  377\n",
       "[106]  425  276  210  800  420  350  360  538 1100 1205  314  237  610  360  540\n",
       "[121] 1038  424  310  300  444  301  268  620  215  652  900  525  246  360  529\n",
       "[136]  500  720  270  430  671 1770"
      ]
     },
     "metadata": {},
     "output_type": "display_data"
    }
   ],
   "source": [
    "data(rivers)    # get this one: \"Lengths of Major North American Rivers\"\n",
    "rivers"
   ]
  },
  {
   "cell_type": "code",
   "execution_count": 76,
   "id": "48adbadd-d23d-4744-ae83-c26c9cd6d723",
   "metadata": {},
   "outputs": [
    {
     "data": {
      "text/html": [
       "<style>\n",
       ".list-inline {list-style: none; margin:0; padding: 0}\n",
       ".list-inline>li {display: inline-block}\n",
       ".list-inline>li:not(:last-child)::after {content: \"\\00b7\"; padding: 0 .5ex}\n",
       "</style>\n",
       "<ol class=list-inline><li>735</li><li>320</li><li>325</li><li>392</li><li>524</li><li>450</li><li>1459</li><li>135</li><li>465</li><li>600</li><li>330</li><li>336</li><li>280</li><li>315</li><li>870</li><li>906</li><li>202</li><li>329</li><li>290</li><li>1000</li><li>600</li><li>505</li><li>1450</li><li>840</li><li>1243</li><li>890</li><li>350</li><li>407</li><li>286</li><li>280</li><li>525</li><li>720</li><li>390</li><li>250</li><li>327</li><li>230</li><li>265</li><li>850</li><li>210</li><li>630</li><li>260</li><li>230</li><li>360</li><li>730</li><li>600</li><li>306</li><li>390</li><li>420</li><li>291</li><li>710</li><li>340</li><li>217</li><li>281</li><li>352</li><li>259</li><li>250</li><li>470</li><li>680</li><li>570</li><li>350</li><li>300</li><li>560</li><li>900</li><li>625</li><li>332</li><li>2348</li><li>1171</li><li>3710</li><li>2315</li><li>2533</li><li>780</li><li>280</li><li>410</li><li>460</li><li>260</li><li>255</li><li>431</li><li>350</li><li>760</li><li>618</li><li>338</li><li>981</li><li>1306</li><li>500</li><li>696</li><li>605</li><li>250</li><li>411</li><li>1054</li><li>735</li><li>233</li><li>435</li><li>490</li><li>310</li><li>460</li><li>383</li><li>375</li><li>1270</li><li>545</li><li>445</li><li>1885</li><li>380</li><li>300</li><li>380</li><li>377</li><li>425</li><li>276</li><li>210</li><li>800</li><li>420</li><li>350</li><li>360</li><li>538</li><li>1100</li><li>1205</li><li>314</li><li>237</li><li>610</li><li>360</li><li>540</li><li>1038</li><li>424</li><li>310</li><li>300</li><li>444</li><li>301</li><li>268</li><li>620</li><li>215</li><li>652</li><li>900</li><li>525</li><li>246</li><li>360</li><li>529</li><li>500</li><li>720</li><li>270</li><li>430</li><li>671</li><li>1770</li></ol>\n"
      ],
      "text/latex": [
       "\\begin{enumerate*}\n",
       "\\item 735\n",
       "\\item 320\n",
       "\\item 325\n",
       "\\item 392\n",
       "\\item 524\n",
       "\\item 450\n",
       "\\item 1459\n",
       "\\item 135\n",
       "\\item 465\n",
       "\\item 600\n",
       "\\item 330\n",
       "\\item 336\n",
       "\\item 280\n",
       "\\item 315\n",
       "\\item 870\n",
       "\\item 906\n",
       "\\item 202\n",
       "\\item 329\n",
       "\\item 290\n",
       "\\item 1000\n",
       "\\item 600\n",
       "\\item 505\n",
       "\\item 1450\n",
       "\\item 840\n",
       "\\item 1243\n",
       "\\item 890\n",
       "\\item 350\n",
       "\\item 407\n",
       "\\item 286\n",
       "\\item 280\n",
       "\\item 525\n",
       "\\item 720\n",
       "\\item 390\n",
       "\\item 250\n",
       "\\item 327\n",
       "\\item 230\n",
       "\\item 265\n",
       "\\item 850\n",
       "\\item 210\n",
       "\\item 630\n",
       "\\item 260\n",
       "\\item 230\n",
       "\\item 360\n",
       "\\item 730\n",
       "\\item 600\n",
       "\\item 306\n",
       "\\item 390\n",
       "\\item 420\n",
       "\\item 291\n",
       "\\item 710\n",
       "\\item 340\n",
       "\\item 217\n",
       "\\item 281\n",
       "\\item 352\n",
       "\\item 259\n",
       "\\item 250\n",
       "\\item 470\n",
       "\\item 680\n",
       "\\item 570\n",
       "\\item 350\n",
       "\\item 300\n",
       "\\item 560\n",
       "\\item 900\n",
       "\\item 625\n",
       "\\item 332\n",
       "\\item 2348\n",
       "\\item 1171\n",
       "\\item 3710\n",
       "\\item 2315\n",
       "\\item 2533\n",
       "\\item 780\n",
       "\\item 280\n",
       "\\item 410\n",
       "\\item 460\n",
       "\\item 260\n",
       "\\item 255\n",
       "\\item 431\n",
       "\\item 350\n",
       "\\item 760\n",
       "\\item 618\n",
       "\\item 338\n",
       "\\item 981\n",
       "\\item 1306\n",
       "\\item 500\n",
       "\\item 696\n",
       "\\item 605\n",
       "\\item 250\n",
       "\\item 411\n",
       "\\item 1054\n",
       "\\item 735\n",
       "\\item 233\n",
       "\\item 435\n",
       "\\item 490\n",
       "\\item 310\n",
       "\\item 460\n",
       "\\item 383\n",
       "\\item 375\n",
       "\\item 1270\n",
       "\\item 545\n",
       "\\item 445\n",
       "\\item 1885\n",
       "\\item 380\n",
       "\\item 300\n",
       "\\item 380\n",
       "\\item 377\n",
       "\\item 425\n",
       "\\item 276\n",
       "\\item 210\n",
       "\\item 800\n",
       "\\item 420\n",
       "\\item 350\n",
       "\\item 360\n",
       "\\item 538\n",
       "\\item 1100\n",
       "\\item 1205\n",
       "\\item 314\n",
       "\\item 237\n",
       "\\item 610\n",
       "\\item 360\n",
       "\\item 540\n",
       "\\item 1038\n",
       "\\item 424\n",
       "\\item 310\n",
       "\\item 300\n",
       "\\item 444\n",
       "\\item 301\n",
       "\\item 268\n",
       "\\item 620\n",
       "\\item 215\n",
       "\\item 652\n",
       "\\item 900\n",
       "\\item 525\n",
       "\\item 246\n",
       "\\item 360\n",
       "\\item 529\n",
       "\\item 500\n",
       "\\item 720\n",
       "\\item 270\n",
       "\\item 430\n",
       "\\item 671\n",
       "\\item 1770\n",
       "\\end{enumerate*}\n"
      ],
      "text/markdown": [
       "1. 735\n",
       "2. 320\n",
       "3. 325\n",
       "4. 392\n",
       "5. 524\n",
       "6. 450\n",
       "7. 1459\n",
       "8. 135\n",
       "9. 465\n",
       "10. 600\n",
       "11. 330\n",
       "12. 336\n",
       "13. 280\n",
       "14. 315\n",
       "15. 870\n",
       "16. 906\n",
       "17. 202\n",
       "18. 329\n",
       "19. 290\n",
       "20. 1000\n",
       "21. 600\n",
       "22. 505\n",
       "23. 1450\n",
       "24. 840\n",
       "25. 1243\n",
       "26. 890\n",
       "27. 350\n",
       "28. 407\n",
       "29. 286\n",
       "30. 280\n",
       "31. 525\n",
       "32. 720\n",
       "33. 390\n",
       "34. 250\n",
       "35. 327\n",
       "36. 230\n",
       "37. 265\n",
       "38. 850\n",
       "39. 210\n",
       "40. 630\n",
       "41. 260\n",
       "42. 230\n",
       "43. 360\n",
       "44. 730\n",
       "45. 600\n",
       "46. 306\n",
       "47. 390\n",
       "48. 420\n",
       "49. 291\n",
       "50. 710\n",
       "51. 340\n",
       "52. 217\n",
       "53. 281\n",
       "54. 352\n",
       "55. 259\n",
       "56. 250\n",
       "57. 470\n",
       "58. 680\n",
       "59. 570\n",
       "60. 350\n",
       "61. 300\n",
       "62. 560\n",
       "63. 900\n",
       "64. 625\n",
       "65. 332\n",
       "66. 2348\n",
       "67. 1171\n",
       "68. 3710\n",
       "69. 2315\n",
       "70. 2533\n",
       "71. 780\n",
       "72. 280\n",
       "73. 410\n",
       "74. 460\n",
       "75. 260\n",
       "76. 255\n",
       "77. 431\n",
       "78. 350\n",
       "79. 760\n",
       "80. 618\n",
       "81. 338\n",
       "82. 981\n",
       "83. 1306\n",
       "84. 500\n",
       "85. 696\n",
       "86. 605\n",
       "87. 250\n",
       "88. 411\n",
       "89. 1054\n",
       "90. 735\n",
       "91. 233\n",
       "92. 435\n",
       "93. 490\n",
       "94. 310\n",
       "95. 460\n",
       "96. 383\n",
       "97. 375\n",
       "98. 1270\n",
       "99. 545\n",
       "100. 445\n",
       "101. 1885\n",
       "102. 380\n",
       "103. 300\n",
       "104. 380\n",
       "105. 377\n",
       "106. 425\n",
       "107. 276\n",
       "108. 210\n",
       "109. 800\n",
       "110. 420\n",
       "111. 350\n",
       "112. 360\n",
       "113. 538\n",
       "114. 1100\n",
       "115. 1205\n",
       "116. 314\n",
       "117. 237\n",
       "118. 610\n",
       "119. 360\n",
       "120. 540\n",
       "121. 1038\n",
       "122. 424\n",
       "123. 310\n",
       "124. 300\n",
       "125. 444\n",
       "126. 301\n",
       "127. 268\n",
       "128. 620\n",
       "129. 215\n",
       "130. 652\n",
       "131. 900\n",
       "132. 525\n",
       "133. 246\n",
       "134. 360\n",
       "135. 529\n",
       "136. 500\n",
       "137. 720\n",
       "138. 270\n",
       "139. 430\n",
       "140. 671\n",
       "141. 1770\n",
       "\n",
       "\n"
      ],
      "text/plain": [
       "  [1]  735  320  325  392  524  450 1459  135  465  600  330  336  280  315  870\n",
       " [16]  906  202  329  290 1000  600  505 1450  840 1243  890  350  407  286  280\n",
       " [31]  525  720  390  250  327  230  265  850  210  630  260  230  360  730  600\n",
       " [46]  306  390  420  291  710  340  217  281  352  259  250  470  680  570  350\n",
       " [61]  300  560  900  625  332 2348 1171 3710 2315 2533  780  280  410  460  260\n",
       " [76]  255  431  350  760  618  338  981 1306  500  696  605  250  411 1054  735\n",
       " [91]  233  435  490  310  460  383  375 1270  545  445 1885  380  300  380  377\n",
       "[106]  425  276  210  800  420  350  360  538 1100 1205  314  237  610  360  540\n",
       "[121] 1038  424  310  300  444  301  268  620  215  652  900  525  246  360  529\n",
       "[136]  500  720  270  430  671 1770"
      ]
     },
     "metadata": {},
     "output_type": "display_data"
    }
   ],
   "source": [
    "rivers"
   ]
  },
  {
   "cell_type": "code",
   "execution_count": 77,
   "id": "3f211efe-637c-47f9-85e2-dd12583201bb",
   "metadata": {},
   "outputs": [
    {
     "data": {
      "text/html": [
       "<style>\n",
       ".list-inline {list-style: none; margin:0; padding: 0}\n",
       ".list-inline>li {display: inline-block}\n",
       ".list-inline>li:not(:last-child)::after {content: \"\\00b7\"; padding: 0 .5ex}\n",
       "</style>\n",
       "<ol class=list-inline><li>'a'</li><li>'discoveries'</li><li>'i'</li><li>'infert'</li><li>'jiggle'</li><li>'ll'</li><li>'mat'</li><li>'mat2'</li><li>'mat3'</li><li>'parakeet'</li><li>'rivers'</li><li>'students'</li><li>'vec'</li><li>'x'</li><li>'y'</li><li>'z'</li></ol>\n"
      ],
      "text/latex": [
       "\\begin{enumerate*}\n",
       "\\item 'a'\n",
       "\\item 'discoveries'\n",
       "\\item 'i'\n",
       "\\item 'infert'\n",
       "\\item 'jiggle'\n",
       "\\item 'll'\n",
       "\\item 'mat'\n",
       "\\item 'mat2'\n",
       "\\item 'mat3'\n",
       "\\item 'parakeet'\n",
       "\\item 'rivers'\n",
       "\\item 'students'\n",
       "\\item 'vec'\n",
       "\\item 'x'\n",
       "\\item 'y'\n",
       "\\item 'z'\n",
       "\\end{enumerate*}\n"
      ],
      "text/markdown": [
       "1. 'a'\n",
       "2. 'discoveries'\n",
       "3. 'i'\n",
       "4. 'infert'\n",
       "5. 'jiggle'\n",
       "6. 'll'\n",
       "7. 'mat'\n",
       "8. 'mat2'\n",
       "9. 'mat3'\n",
       "10. 'parakeet'\n",
       "11. 'rivers'\n",
       "12. 'students'\n",
       "13. 'vec'\n",
       "14. 'x'\n",
       "15. 'y'\n",
       "16. 'z'\n",
       "\n",
       "\n"
      ],
      "text/plain": [
       " [1] \"a\"           \"discoveries\" \"i\"           \"infert\"      \"jiggle\"     \n",
       " [6] \"ll\"          \"mat\"         \"mat2\"        \"mat3\"        \"parakeet\"   \n",
       "[11] \"rivers\"      \"students\"    \"vec\"         \"x\"           \"y\"          \n",
       "[16] \"z\"          "
      ]
     },
     "metadata": {},
     "output_type": "display_data"
    }
   ],
   "source": [
    "ls()            # notice that \"rivers\" now appears in the workspace"
   ]
  },
  {
   "cell_type": "code",
   "execution_count": 78,
   "id": "1cf44e02-7479-4384-ace1-31a5ec4c677e",
   "metadata": {},
   "outputs": [
    {
     "data": {
      "text/html": [
       "<style>\n",
       ".list-inline {list-style: none; margin:0; padding: 0}\n",
       ".list-inline>li {display: inline-block}\n",
       ".list-inline>li:not(:last-child)::after {content: \"\\00b7\"; padding: 0 .5ex}\n",
       "</style>\n",
       "<ol class=list-inline><li>735</li><li>320</li><li>325</li><li>392</li><li>524</li><li>450</li></ol>\n"
      ],
      "text/latex": [
       "\\begin{enumerate*}\n",
       "\\item 735\n",
       "\\item 320\n",
       "\\item 325\n",
       "\\item 392\n",
       "\\item 524\n",
       "\\item 450\n",
       "\\end{enumerate*}\n"
      ],
      "text/markdown": [
       "1. 735\n",
       "2. 320\n",
       "3. 325\n",
       "4. 392\n",
       "5. 524\n",
       "6. 450\n",
       "\n",
       "\n"
      ],
      "text/plain": [
       "[1] 735 320 325 392 524 450"
      ]
     },
     "metadata": {},
     "output_type": "display_data"
    }
   ],
   "source": [
    "head(rivers)    # peek at the data set\n",
    "# 735 320 325 392 524 450"
   ]
  },
  {
   "cell_type": "code",
   "execution_count": 79,
   "id": "58cb9c32-b6d9-4a53-ab8f-ac7533766ac1",
   "metadata": {},
   "outputs": [
    {
     "data": {
      "text/html": [
       "141"
      ],
      "text/latex": [
       "141"
      ],
      "text/markdown": [
       "141"
      ],
      "text/plain": [
       "[1] 141"
      ]
     },
     "metadata": {},
     "output_type": "display_data"
    }
   ],
   "source": [
    "length(rivers)  # how many rivers were measured?\n",
    "# 141"
   ]
  },
  {
   "cell_type": "code",
   "execution_count": 80,
   "id": "d2de387f-3f09-4450-b4a5-6934af20100d",
   "metadata": {},
   "outputs": [
    {
     "data": {
      "text/plain": [
       "   Min. 1st Qu.  Median    Mean 3rd Qu.    Max. \n",
       "  135.0   310.0   425.0   591.2   680.0  3710.0 "
      ]
     },
     "metadata": {},
     "output_type": "display_data"
    }
   ],
   "source": [
    "summary(rivers) # what are some summary statistics?\n",
    "#   Min. 1st Qu.  Median    Mean 3rd Qu.    Max.\n",
    "#  135.0   310.0   425.0   591.2   680.0  3710.0"
   ]
  },
  {
   "cell_type": "code",
   "execution_count": 81,
   "id": "4ea5a802-ada3-4b3d-ad40-509c23b443e7",
   "metadata": {},
   "outputs": [
    {
     "name": "stdout",
     "output_type": "stream",
     "text": [
      "\n",
      "  The decimal point is 2 digit(s) to the right of the |\n",
      "\n",
      "   0 | 4\n",
      "   2 | 011223334555566667778888899900001111223333344455555666688888999\n",
      "   4 | 111222333445566779001233344567\n",
      "   6 | 000112233578012234468\n",
      "   8 | 045790018\n",
      "  10 | 04507\n",
      "  12 | 1471\n",
      "  14 | 56\n",
      "  16 | 7\n",
      "  18 | 9\n",
      "  20 | \n",
      "  22 | 25\n",
      "  24 | 3\n",
      "  26 | \n",
      "  28 | \n",
      "  30 | \n",
      "  32 | \n",
      "  34 | \n",
      "  36 | 1\n",
      "\n"
     ]
    }
   ],
   "source": [
    "# make a stem-and-leaf plot (a histogram-like data visualization)\n",
    "stem(rivers)"
   ]
  },
  {
   "cell_type": "code",
   "execution_count": 82,
   "id": "13ddab38-2e59-4a0c-8837-597dcdb1af4d",
   "metadata": {},
   "outputs": [
    {
     "name": "stdout",
     "output_type": "stream",
     "text": [
      "\n",
      "  The decimal point is 1 digit(s) to the left of the |\n",
      "\n",
      "  48 | 1\n",
      "  50 | \n",
      "  52 | 15578\n",
      "  54 | 44571222466689\n",
      "  56 | 023334677000124455789\n",
      "  58 | 00122366666999933445777\n",
      "  60 | 122445567800133459\n",
      "  62 | 112666799035\n",
      "  64 | 00011334581257889\n",
      "  66 | 003683579\n",
      "  68 | 0019156\n",
      "  70 | 079357\n",
      "  72 | 89\n",
      "  74 | 84\n",
      "  76 | 56\n",
      "  78 | 4\n",
      "  80 | \n",
      "  82 | 2\n",
      "\n"
     ]
    }
   ],
   "source": [
    "#  The decimal point is 2 digit(s) to the right of the |\n",
    "#\n",
    "#   0 | 4\n",
    "#   2 | 011223334555566667778888899900001111223333344455555666688888999\n",
    "#   4 | 111222333445566779001233344567\n",
    "#   6 | 000112233578012234468\n",
    "#   8 | 045790018\n",
    "#  10 | 04507\n",
    "#  12 | 1471\n",
    "#  14 | 56\n",
    "#  16 | 7\n",
    "#  18 | 9\n",
    "#  20 |\n",
    "#  22 | 25\n",
    "#  24 | 3\n",
    "#  26 |\n",
    "#  28 |\n",
    "#  30 |\n",
    "#  32 |\n",
    "#  34 |\n",
    "#  36 | 1\n",
    "\n",
    "stem(log(rivers)) # Notice that the data are neither normal nor log-normal!\n",
    "# Take that, Bell curve fundamentalists.\n",
    "\n",
    "#  The decimal point is 1 digit(s) to the left of the |\n",
    "#\n",
    "#  48 | 1\n",
    "#  50 |\n",
    "#  52 | 15578\n",
    "#  54 | 44571222466689\n",
    "#  56 | 023334677000124455789\n",
    "#  58 | 00122366666999933445777\n",
    "#  60 | 122445567800133459\n",
    "#  62 | 112666799035\n",
    "#  64 | 00011334581257889\n",
    "#  66 | 003683579\n",
    "#  68 | 0019156\n",
    "#  70 | 079357\n",
    "#  72 | 89\n",
    "#  74 | 84\n",
    "#  76 | 56\n",
    "#  78 | 4\n",
    "#  80 |\n",
    "#  82 | 2"
   ]
  },
  {
   "cell_type": "markdown",
   "id": "248ded22-3a67-4a53-9a34-5bed0f0dea8d",
   "metadata": {},
   "source": [
    "## Plotting datasets"
   ]
  },
  {
   "cell_type": "code",
   "execution_count": 83,
   "id": "8728170b-6303-49df-8b8e-250238cec8b8",
   "metadata": {},
   "outputs": [
    {
     "data": {
      "image/png": "[encoded data removed]",
      "text/plain": [
       "Plot with title “Histogram of rivers”"
      ]
     },
     "metadata": {
      "image/png": {
       "height": 420,
       "width": 420
      }
     },
     "output_type": "display_data"
    }
   ],
   "source": [
    "# make a histogram:\n",
    "hist(rivers, col = \"red\", border = \"black\", breaks = 25, angle=0, freq=TRUE)"
   ]
  },
  {
   "cell_type": "code",
   "execution_count": 84,
   "id": "a4e77f54-a40c-4fb1-92db-f90947cdfb78",
   "metadata": {},
   "outputs": [
    {
     "data": {
      "image/png": "[encoded data removed]",
      "text/plain": [
       "Plot with title “Histogram of log(rivers)”"
      ]
     },
     "metadata": {
      "image/png": {
       "height": 420,
       "width": 420
      }
     },
     "output_type": "display_data"
    }
   ],
   "source": [
    "hist(log(rivers), col = \"#333333\", border = \"white\", breaks = 25)\n",
    "# play around with these parameters, you'll do more plotting later"
   ]
  },
  {
   "cell_type": "code",
   "execution_count": 85,
   "id": "dd7ef14c-b888-4221-b5b6-2f7ac209c9f4",
   "metadata": {},
   "outputs": [
    {
     "name": "stdout",
     "output_type": "stream",
     "text": [
      " Time-Series [1:100] from 1860 to 1959: 5 3 0 2 0 3 2 3 6 1 ...\n"
     ]
    }
   ],
   "source": [
    "# Here's another neat data set that comes pre-loaded. R has tons of these.\n",
    "data(discoveries)# Here's another neat data set that comes pre-loaded. R has tons of these.\n",
    "str(discoveries)"
   ]
  },
  {
   "cell_type": "code",
   "execution_count": 86,
   "id": "eafee712-1933-415b-b795-f46de44f9109",
   "metadata": {},
   "outputs": [
    {
     "data": {
      "image/png": "[encoded data removed]",
      "text/plain": [
       "Plot with title “Number of important discoveries per year”"
      ]
     },
     "metadata": {
      "image/png": {
       "height": 420,
       "width": 420
      }
     },
     "output_type": "display_data"
    },
    {
     "data": {
      "image/png": "[encoded data removed]",
      "text/plain": [
       "Plot with title “Number of important discoveries per year”"
      ]
     },
     "metadata": {
      "image/png": {
       "height": 420,
       "width": 420
      }
     },
     "output_type": "display_data"
    }
   ],
   "source": [
    "plot(discoveries, col = \"#333333\", lwd = 2, xlab = \"Year\", type = \"p\",\n",
    "     main=\"Number of important discoveries per year\")\n",
    "plot(discoveries, col = \"#333333\", lwd = 2, xlab = \"Year\", type = \"b\",\n",
    "     main=\"Number of important discoveries per year\")\n",
    "# lwd: linewidth\n",
    "# xlab: xlabel"
   ]
  },
  {
   "cell_type": "code",
   "execution_count": 87,
   "id": "beaa6387-56b5-4bfe-a41d-eb8808a518d3",
   "metadata": {},
   "outputs": [
    {
     "data": {
      "image/png": "[encoded data removed]",
      "text/plain": [
       "Plot with title “Number of important discoveries per year”"
      ]
     },
     "metadata": {
      "image/png": {
       "height": 420,
       "width": 420
      }
     },
     "output_type": "display_data"
    }
   ],
   "source": [
    "plot(discoveries, col = \"#333333\", lwd = 3, type = \"h\", xlab = \"Year\",\n",
    "     main=\"Number of important discoveries per year\")"
   ]
  },
  {
   "cell_type": "code",
   "execution_count": 88,
   "id": "c279feb8-1770-4589-8e84-c135d33025ed",
   "metadata": {},
   "outputs": [
    {
     "data": {
      "text/html": [
       "<style>\n",
       ".list-inline {list-style: none; margin:0; padding: 0}\n",
       ".list-inline>li {display: inline-block}\n",
       ".list-inline>li:not(:last-child)::after {content: \"\\00b7\"; padding: 0 .5ex}\n",
       "</style>\n",
       "<ol class=list-inline><li>0</li><li>0</li><li>0</li><li>0</li><li>0</li><li>0</li><li>0</li><li>0</li><li>0</li><li>1</li><li>1</li><li>1</li><li>1</li><li>1</li><li>1</li><li>1</li><li>1</li><li>1</li><li>1</li><li>1</li><li>1</li><li>2</li><li>2</li><li>2</li><li>2</li><li>2</li><li>2</li><li>2</li><li>2</li><li>2</li><li>2</li><li>2</li><li>2</li><li>2</li><li>2</li><li>2</li><li>2</li><li>2</li><li>2</li><li>2</li><li>2</li><li>2</li><li>2</li><li>2</li><li>2</li><li>2</li><li>2</li><li>3</li><li>3</li><li>3</li><li>3</li><li>3</li><li>3</li><li>3</li><li>3</li><li>3</li><li>3</li><li>3</li><li>3</li><li>3</li><li>3</li><li>3</li><li>3</li><li>3</li><li>3</li><li>3</li><li>3</li><li>4</li><li>4</li><li>4</li><li>4</li><li>4</li><li>4</li><li>4</li><li>4</li><li>4</li><li>4</li><li>4</li><li>4</li><li>5</li><li>5</li><li>5</li><li>5</li><li>5</li><li>5</li><li>5</li><li>6</li><li>6</li><li>6</li><li>6</li><li>6</li><li>6</li><li>7</li><li>7</li><li>7</li><li>7</li><li>8</li><li>9</li><li>10</li><li>12</li></ol>\n"
      ],
      "text/latex": [
       "\\begin{enumerate*}\n",
       "\\item 0\n",
       "\\item 0\n",
       "\\item 0\n",
       "\\item 0\n",
       "\\item 0\n",
       "\\item 0\n",
       "\\item 0\n",
       "\\item 0\n",
       "\\item 0\n",
       "\\item 1\n",
       "\\item 1\n",
       "\\item 1\n",
       "\\item 1\n",
       "\\item 1\n",
       "\\item 1\n",
       "\\item 1\n",
       "\\item 1\n",
       "\\item 1\n",
       "\\item 1\n",
       "\\item 1\n",
       "\\item 1\n",
       "\\item 2\n",
       "\\item 2\n",
       "\\item 2\n",
       "\\item 2\n",
       "\\item 2\n",
       "\\item 2\n",
       "\\item 2\n",
       "\\item 2\n",
       "\\item 2\n",
       "\\item 2\n",
       "\\item 2\n",
       "\\item 2\n",
       "\\item 2\n",
       "\\item 2\n",
       "\\item 2\n",
       "\\item 2\n",
       "\\item 2\n",
       "\\item 2\n",
       "\\item 2\n",
       "\\item 2\n",
       "\\item 2\n",
       "\\item 2\n",
       "\\item 2\n",
       "\\item 2\n",
       "\\item 2\n",
       "\\item 2\n",
       "\\item 3\n",
       "\\item 3\n",
       "\\item 3\n",
       "\\item 3\n",
       "\\item 3\n",
       "\\item 3\n",
       "\\item 3\n",
       "\\item 3\n",
       "\\item 3\n",
       "\\item 3\n",
       "\\item 3\n",
       "\\item 3\n",
       "\\item 3\n",
       "\\item 3\n",
       "\\item 3\n",
       "\\item 3\n",
       "\\item 3\n",
       "\\item 3\n",
       "\\item 3\n",
       "\\item 3\n",
       "\\item 4\n",
       "\\item 4\n",
       "\\item 4\n",
       "\\item 4\n",
       "\\item 4\n",
       "\\item 4\n",
       "\\item 4\n",
       "\\item 4\n",
       "\\item 4\n",
       "\\item 4\n",
       "\\item 4\n",
       "\\item 4\n",
       "\\item 5\n",
       "\\item 5\n",
       "\\item 5\n",
       "\\item 5\n",
       "\\item 5\n",
       "\\item 5\n",
       "\\item 5\n",
       "\\item 6\n",
       "\\item 6\n",
       "\\item 6\n",
       "\\item 6\n",
       "\\item 6\n",
       "\\item 6\n",
       "\\item 7\n",
       "\\item 7\n",
       "\\item 7\n",
       "\\item 7\n",
       "\\item 8\n",
       "\\item 9\n",
       "\\item 10\n",
       "\\item 12\n",
       "\\end{enumerate*}\n"
      ],
      "text/markdown": [
       "1. 0\n",
       "2. 0\n",
       "3. 0\n",
       "4. 0\n",
       "5. 0\n",
       "6. 0\n",
       "7. 0\n",
       "8. 0\n",
       "9. 0\n",
       "10. 1\n",
       "11. 1\n",
       "12. 1\n",
       "13. 1\n",
       "14. 1\n",
       "15. 1\n",
       "16. 1\n",
       "17. 1\n",
       "18. 1\n",
       "19. 1\n",
       "20. 1\n",
       "21. 1\n",
       "22. 2\n",
       "23. 2\n",
       "24. 2\n",
       "25. 2\n",
       "26. 2\n",
       "27. 2\n",
       "28. 2\n",
       "29. 2\n",
       "30. 2\n",
       "31. 2\n",
       "32. 2\n",
       "33. 2\n",
       "34. 2\n",
       "35. 2\n",
       "36. 2\n",
       "37. 2\n",
       "38. 2\n",
       "39. 2\n",
       "40. 2\n",
       "41. 2\n",
       "42. 2\n",
       "43. 2\n",
       "44. 2\n",
       "45. 2\n",
       "46. 2\n",
       "47. 2\n",
       "48. 3\n",
       "49. 3\n",
       "50. 3\n",
       "51. 3\n",
       "52. 3\n",
       "53. 3\n",
       "54. 3\n",
       "55. 3\n",
       "56. 3\n",
       "57. 3\n",
       "58. 3\n",
       "59. 3\n",
       "60. 3\n",
       "61. 3\n",
       "62. 3\n",
       "63. 3\n",
       "64. 3\n",
       "65. 3\n",
       "66. 3\n",
       "67. 3\n",
       "68. 4\n",
       "69. 4\n",
       "70. 4\n",
       "71. 4\n",
       "72. 4\n",
       "73. 4\n",
       "74. 4\n",
       "75. 4\n",
       "76. 4\n",
       "77. 4\n",
       "78. 4\n",
       "79. 4\n",
       "80. 5\n",
       "81. 5\n",
       "82. 5\n",
       "83. 5\n",
       "84. 5\n",
       "85. 5\n",
       "86. 5\n",
       "87. 6\n",
       "88. 6\n",
       "89. 6\n",
       "90. 6\n",
       "91. 6\n",
       "92. 6\n",
       "93. 7\n",
       "94. 7\n",
       "95. 7\n",
       "96. 7\n",
       "97. 8\n",
       "98. 9\n",
       "99. 10\n",
       "100. 12\n",
       "\n",
       "\n"
      ],
      "text/plain": [
       "  [1]  0  0  0  0  0  0  0  0  0  1  1  1  1  1  1  1  1  1  1  1  1  2  2  2  2\n",
       " [26]  2  2  2  2  2  2  2  2  2  2  2  2  2  2  2  2  2  2  2  2  2  2  3  3  3\n",
       " [51]  3  3  3  3  3  3  3  3  3  3  3  3  3  3  3  3  3  4  4  4  4  4  4  4  4\n",
       " [76]  4  4  4  4  5  5  5  5  5  5  5  6  6  6  6  6  6  7  7  7  7  8  9 10 12"
      ]
     },
     "metadata": {},
     "output_type": "display_data"
    }
   ],
   "source": [
    "# Rather than leaving the default ordering (by year),\n",
    "# we could also sort to see what's typical:\n",
    "sort(discoveries)\n",
    "#  [1]  0  0  0  0  0  0  0  0  0  1  1  1  1  1  1  1  1  1  1  1  1  2  2  2  2\n",
    "# [26]  2  2  2  2  2  2  2  2  2  2  2  2  2  2  2  2  2  2  2  2  2  2  3  3  3\n",
    "# [51]  3  3  3  3  3  3  3  3  3  3  3  3  3  3  3  3  3  4  4  4  4  4  4  4  4\n",
    "# [76]  4  4  4  4  5  5  5  5  5  5  5  6  6  6  6  6  6  7  7  7  7  8  9 10 12"
   ]
  },
  {
   "cell_type": "code",
   "execution_count": 89,
   "id": "b202402e-0e05-4f32-8218-6aa133c9dc0b",
   "metadata": {},
   "outputs": [
    {
     "name": "stdout",
     "output_type": "stream",
     "text": [
      "\n",
      "  The decimal point is at the |\n",
      "\n",
      "   0 | 000000000\n",
      "   1 | 000000000000\n",
      "   2 | 00000000000000000000000000\n",
      "   3 | 00000000000000000000\n",
      "   4 | 000000000000\n",
      "   5 | 0000000\n",
      "   6 | 000000\n",
      "   7 | 0000\n",
      "   8 | 0\n",
      "   9 | 0\n",
      "  10 | 0\n",
      "  11 | \n",
      "  12 | 0\n",
      "\n"
     ]
    }
   ],
   "source": [
    "stem(discoveries, scale = 2)\n",
    "#\n",
    "#  The decimal point is at the |\n",
    "#\n",
    "#   0 | 000000000\n",
    "#   1 | 000000000000\n",
    "#   2 | 00000000000000000000000000\n",
    "#   3 | 00000000000000000000\n",
    "#   4 | 000000000000\n",
    "#   5 | 0000000\n",
    "#   6 | 000000\n",
    "#   7 | 0000\n",
    "#   8 | 0\n",
    "#   9 | 0\n",
    "#  10 | 0\n",
    "#  11 |\n",
    "#  12 | 0"
   ]
  },
  {
   "cell_type": "code",
   "execution_count": 90,
   "id": "0ffd186a-fd70-4ba8-88d3-dee78571fae8",
   "metadata": {},
   "outputs": [
    {
     "data": {
      "text/html": [
       "12"
      ],
      "text/latex": [
       "12"
      ],
      "text/markdown": [
       "12"
      ],
      "text/plain": [
       "[1] 12"
      ]
     },
     "metadata": {},
     "output_type": "display_data"
    }
   ],
   "source": [
    "max(discoveries)\n",
    "# 12"
   ]
  },
  {
   "cell_type": "code",
   "execution_count": 91,
   "id": "b09e94ac-e4bd-4f46-a026-f145a21f4d0c",
   "metadata": {},
   "outputs": [
    {
     "data": {
      "text/plain": [
       "   Min. 1st Qu.  Median    Mean 3rd Qu.    Max. \n",
       "    0.0     2.0     3.0     3.1     4.0    12.0 "
      ]
     },
     "metadata": {},
     "output_type": "display_data"
    }
   ],
   "source": [
    "summary(discoveries)\n",
    "#   Min. 1st Qu.  Median    Mean 3rd Qu.    Max.\n",
    "#    0.0     2.0     3.0     3.1     4.0    12.0"
   ]
  },
  {
   "cell_type": "markdown",
   "id": "0d8cf34b-2313-47b3-93a0-937c57521a29",
   "metadata": {},
   "source": [
    "## Random simulations"
   ]
  },
  {
   "cell_type": "code",
   "execution_count": 92,
   "id": "38653df9-0470-485a-a1f9-ebf0cbd0b6a6",
   "metadata": {},
   "outputs": [
    {
     "data": {
      "text/html": [
       "<style>\n",
       ".list-inline {list-style: none; margin:0; padding: 0}\n",
       ".list-inline>li {display: inline-block}\n",
       ".list-inline>li:not(:last-child)::after {content: \"\\00b7\"; padding: 0 .5ex}\n",
       "</style>\n",
       "<ol class=list-inline><li>2</li><li>1</li><li>1</li><li>3</li><li>5</li><li>1</li><li>3</li></ol>\n"
      ],
      "text/latex": [
       "\\begin{enumerate*}\n",
       "\\item 2\n",
       "\\item 1\n",
       "\\item 1\n",
       "\\item 3\n",
       "\\item 5\n",
       "\\item 1\n",
       "\\item 3\n",
       "\\end{enumerate*}\n"
      ],
      "text/markdown": [
       "1. 2\n",
       "2. 1\n",
       "3. 1\n",
       "4. 3\n",
       "5. 5\n",
       "6. 1\n",
       "7. 3\n",
       "\n",
       "\n"
      ],
      "text/plain": [
       "[1] 2 1 1 3 5 1 3"
      ]
     },
     "metadata": {},
     "output_type": "display_data"
    }
   ],
   "source": [
    "# Roll a die a few times: umiform function, 7 times.\n",
    "round(runif(7, min = .5, max = 6.5))\n",
    "# 1 4 6 1 4 6 4\n",
    "# Your numbers will differ from mine unless we set the same random.seed(31337)"
   ]
  },
  {
   "cell_type": "code",
   "execution_count": 93,
   "id": "cd0ed256-128d-46a0-a8c0-7a33e04c2c79",
   "metadata": {},
   "outputs": [
    {
     "data": {
      "text/html": [
       "<style>\n",
       ".list-inline {list-style: none; margin:0; padding: 0}\n",
       ".list-inline>li {display: inline-block}\n",
       ".list-inline>li:not(:last-child)::after {content: \"\\00b7\"; padding: 0 .5ex}\n",
       "</style>\n",
       "<ol class=list-inline><li>-0.691333320182321</li><li>-0.822263086085662</li><li>2.05847163942903</li><li>-1.11493603471322</li><li>0.118023654291074</li><li>0.743768600893519</li><li>0.316110224657898</li><li>0.393553249509529</li><li>-0.217115979219551</li></ol>\n"
      ],
      "text/latex": [
       "\\begin{enumerate*}\n",
       "\\item -0.691333320182321\n",
       "\\item -0.822263086085662\n",
       "\\item 2.05847163942903\n",
       "\\item -1.11493603471322\n",
       "\\item 0.118023654291074\n",
       "\\item 0.743768600893519\n",
       "\\item 0.316110224657898\n",
       "\\item 0.393553249509529\n",
       "\\item -0.217115979219551\n",
       "\\end{enumerate*}\n"
      ],
      "text/markdown": [
       "1. -0.691333320182321\n",
       "2. -0.822263086085662\n",
       "3. 2.05847163942903\n",
       "4. -1.11493603471322\n",
       "5. 0.118023654291074\n",
       "6. 0.743768600893519\n",
       "7. 0.316110224657898\n",
       "8. 0.393553249509529\n",
       "9. -0.217115979219551\n",
       "\n",
       "\n"
      ],
      "text/plain": [
       "[1] -0.6913333 -0.8222631  2.0584716 -1.1149360  0.1180237  0.7437686  0.3161102\n",
       "[8]  0.3935532 -0.2171160"
      ]
     },
     "metadata": {},
     "output_type": "display_data"
    }
   ],
   "source": [
    "# Draw from a standard Gaussian 9 times\n",
    "rnorm(9, mean=0, sd=1)\n",
    "# [1]  0.07528471  1.03499859  1.34809556 -0.82356087  0.61638975 -1.88757271\n",
    "# [7] -0.59975593  0.57629164  1.08455362"
   ]
  },
  {
   "cell_type": "markdown",
   "id": "e967c839-e0b7-4932-bcb9-c226f14269e6",
   "metadata": {},
   "source": [
    "## Data types and arithmetic"
   ]
  },
  {
   "cell_type": "markdown",
   "id": "8fceeed8-99eb-45cb-9c92-24f6d6b31f7e",
   "metadata": {},
   "source": [
    "### Integers"
   ]
  },
  {
   "cell_type": "code",
   "execution_count": 94,
   "id": "2e96f7cb-2ca5-4d31-8dc8-a92975902a0f",
   "metadata": {},
   "outputs": [
    {
     "data": {
      "text/html": [
       "5"
      ],
      "text/latex": [
       "5"
      ],
      "text/markdown": [
       "5"
      ],
      "text/plain": [
       "[1] 5"
      ]
     },
     "metadata": {},
     "output_type": "display_data"
    },
    {
     "data": {
      "text/html": [
       "'integer'"
      ],
      "text/latex": [
       "'integer'"
      ],
      "text/markdown": [
       "'integer'"
      ],
      "text/plain": [
       "[1] \"integer\""
      ]
     },
     "metadata": {},
     "output_type": "display_data"
    }
   ],
   "source": [
    "##################################################\n",
    "# Data types and basic arithmetic\n",
    "##################################################\n",
    "\n",
    "# Now for the programming-oriented part of the tutorial.\n",
    "# In this section you will meet the important data types of R:\n",
    "# integers, numerics, characters, logicals, and factors.\n",
    "# There are others, but these are the bare minimum you need to\n",
    "# get started.\n",
    "\n",
    "# INTEGERS\n",
    "# Long-storage integers are written with L\n",
    "5L          # 5\n",
    "class(5L)   # \"integer\""
   ]
  },
  {
   "cell_type": "code",
   "execution_count": 95,
   "id": "76e9e728-790d-455e-97b3-85e1c2b53582",
   "metadata": {},
   "outputs": [
    {
     "data": {
      "text/html": [
       "1"
      ],
      "text/latex": [
       "1"
      ],
      "text/markdown": [
       "1"
      ],
      "text/plain": [
       "[1] 1"
      ]
     },
     "metadata": {},
     "output_type": "display_data"
    }
   ],
   "source": [
    "# (Try ?class for more information on the class() function.)\n",
    "# In R, every single value, like 5L, is considered a vector of length 1\n",
    "length(5L)  # 1"
   ]
  },
  {
   "cell_type": "code",
   "execution_count": 96,
   "id": "56ef89dd-2e7a-4b7a-b77f-f1fc34ec8265",
   "metadata": {},
   "outputs": [
    {
     "data": {
      "text/html": [
       "<style>\n",
       ".list-inline {list-style: none; margin:0; padding: 0}\n",
       ".list-inline>li {display: inline-block}\n",
       ".list-inline>li:not(:last-child)::after {content: \"\\00b7\"; padding: 0 .5ex}\n",
       "</style>\n",
       "<ol class=list-inline><li>4</li><li>5</li><li>8</li><li>3</li></ol>\n"
      ],
      "text/latex": [
       "\\begin{enumerate*}\n",
       "\\item 4\n",
       "\\item 5\n",
       "\\item 8\n",
       "\\item 3\n",
       "\\end{enumerate*}\n"
      ],
      "text/markdown": [
       "1. 4\n",
       "2. 5\n",
       "3. 8\n",
       "4. 3\n",
       "\n",
       "\n"
      ],
      "text/plain": [
       "[1] 4 5 8 3"
      ]
     },
     "metadata": {},
     "output_type": "display_data"
    },
    {
     "data": {
      "text/html": [
       "4"
      ],
      "text/latex": [
       "4"
      ],
      "text/markdown": [
       "4"
      ],
      "text/plain": [
       "[1] 4"
      ]
     },
     "metadata": {},
     "output_type": "display_data"
    },
    {
     "data": {
      "text/html": [
       "'integer'"
      ],
      "text/latex": [
       "'integer'"
      ],
      "text/markdown": [
       "'integer'"
      ],
      "text/plain": [
       "[1] \"integer\""
      ]
     },
     "metadata": {},
     "output_type": "display_data"
    }
   ],
   "source": [
    "# You can have an integer vector with length > 1 too:\n",
    "c(4L, 5L, 8L, 3L)          # 4 5 8 3\n",
    "length(c(4L, 5L, 8L, 3L))  # 4\n",
    "class(c(4L, 5L, 8L, 3L))   # \"integer\""
   ]
  },
  {
   "cell_type": "code",
   "execution_count": 97,
   "id": "c0a06e44-b7f5-4a0e-a4b8-5033f7e1eebb",
   "metadata": {},
   "outputs": [
    {
     "data": {
      "text/html": [
       "'numeric'"
      ],
      "text/latex": [
       "'numeric'"
      ],
      "text/markdown": [
       "'numeric'"
      ],
      "text/plain": [
       "[1] \"numeric\""
      ]
     },
     "metadata": {},
     "output_type": "display_data"
    },
    {
     "data": {
      "text/html": [
       "'character'"
      ],
      "text/latex": [
       "'character'"
      ],
      "text/markdown": [
       "'character'"
      ],
      "text/plain": [
       "[1] \"character\""
      ]
     },
     "metadata": {},
     "output_type": "display_data"
    }
   ],
   "source": [
    "class(c(4L, 5L, 8L, 3))   # \"numeric\"\n",
    "class(c(4L, 5L, 's', 3))   # \"numeric\""
   ]
  },
  {
   "cell_type": "markdown",
   "id": "58ffb0de-a6d9-489e-b5fb-adba708674b8",
   "metadata": {},
   "source": [
    "### Numerics"
   ]
  },
  {
   "cell_type": "code",
   "execution_count": 98,
   "id": "a905d5d1-8b43-497b-a0ba-0250f9f203e1",
   "metadata": {},
   "outputs": [
    {
     "data": {
      "text/html": [
       "5"
      ],
      "text/latex": [
       "5"
      ],
      "text/markdown": [
       "5"
      ],
      "text/plain": [
       "[1] 5"
      ]
     },
     "metadata": {},
     "output_type": "display_data"
    },
    {
     "data": {
      "text/html": [
       "'numeric'"
      ],
      "text/latex": [
       "'numeric'"
      ],
      "text/markdown": [
       "'numeric'"
      ],
      "text/plain": [
       "[1] \"numeric\""
      ]
     },
     "metadata": {},
     "output_type": "display_data"
    }
   ],
   "source": [
    "# NUMERICS\n",
    "# A \"numeric\" is a double-precision floating-point number\n",
    "5           # 5\n",
    "class(5)    # \"numeric\""
   ]
  },
  {
   "cell_type": "markdown",
   "id": "20de3b03-fa2b-4cbb-8d16-e5e92c5e5abe",
   "metadata": {},
   "source": [
    "### Vectors: Everything is a vector"
   ]
  },
  {
   "cell_type": "code",
   "execution_count": 99,
   "id": "870d94f6-9b12-4cca-ac25-360edf6b53e3",
   "metadata": {},
   "outputs": [
    {
     "data": {
      "text/html": [
       "<style>\n",
       ".list-inline {list-style: none; margin:0; padding: 0}\n",
       ".list-inline>li {display: inline-block}\n",
       ".list-inline>li:not(:last-child)::after {content: \"\\00b7\"; padding: 0 .5ex}\n",
       "</style>\n",
       "<ol class=list-inline><li>3</li><li>3</li><li>3</li><li>2</li><li>2</li><li>1</li></ol>\n"
      ],
      "text/latex": [
       "\\begin{enumerate*}\n",
       "\\item 3\n",
       "\\item 3\n",
       "\\item 3\n",
       "\\item 2\n",
       "\\item 2\n",
       "\\item 1\n",
       "\\end{enumerate*}\n"
      ],
      "text/markdown": [
       "1. 3\n",
       "2. 3\n",
       "3. 3\n",
       "4. 2\n",
       "5. 2\n",
       "6. 1\n",
       "\n",
       "\n"
      ],
      "text/plain": [
       "[1] 3 3 3 2 2 1"
      ]
     },
     "metadata": {},
     "output_type": "display_data"
    }
   ],
   "source": [
    "# Again, everything in R is a vector;\n",
    "# you can make a numeric vector with more than one element\n",
    "c(3, 3, 3, 2, 2, 1) # 3 3 3 2 2 1"
   ]
  },
  {
   "cell_type": "code",
   "execution_count": 100,
   "id": "ab272241-36af-462f-a1e3-74011580d252",
   "metadata": {},
   "outputs": [
    {
     "data": {
      "text/html": [
       "<style>\n",
       ".list-inline {list-style: none; margin:0; padding: 0}\n",
       ".list-inline>li {display: inline-block}\n",
       ".list-inline>li:not(:last-child)::after {content: \"\\00b7\"; padding: 0 .5ex}\n",
       "</style>\n",
       "<ol class=list-inline><li>1</li><li>7</li><li>8</li><li>9</li></ol>\n"
      ],
      "text/latex": [
       "\\begin{enumerate*}\n",
       "\\item 1\n",
       "\\item 7\n",
       "\\item 8\n",
       "\\item 9\n",
       "\\end{enumerate*}\n"
      ],
      "text/markdown": [
       "1. 1\n",
       "2. 7\n",
       "3. 8\n",
       "4. 9\n",
       "\n",
       "\n"
      ],
      "text/plain": [
       "[1] 1 7 8 9"
      ]
     },
     "metadata": {},
     "output_type": "display_data"
    }
   ],
   "source": [
    "c(1, 7:9)"
   ]
  },
  {
   "cell_type": "code",
   "execution_count": 101,
   "id": "43e0af6f-0b33-4801-be9a-edefaf0c1f08",
   "metadata": {},
   "outputs": [
    {
     "data": {
      "text/html": [
       "<style>\n",
       ".list-inline {list-style: none; margin:0; padding: 0}\n",
       ".list-inline>li {display: inline-block}\n",
       ".list-inline>li:not(:last-child)::after {content: \"\\00b7\"; padding: 0 .5ex}\n",
       "</style>\n",
       "<ol class=list-inline><li>1</li><li>2</li><li>3</li><li>4</li></ol>\n"
      ],
      "text/latex": [
       "\\begin{enumerate*}\n",
       "\\item 1\n",
       "\\item 2\n",
       "\\item 3\n",
       "\\item 4\n",
       "\\end{enumerate*}\n"
      ],
      "text/markdown": [
       "1. 1\n",
       "2. 2\n",
       "3. 3\n",
       "4. 4\n",
       "\n",
       "\n"
      ],
      "text/plain": [
       "[1] 1 2 3 4"
      ]
     },
     "metadata": {},
     "output_type": "display_data"
    },
    {
     "data": {
      "text/html": [
       "<style>\n",
       ".dl-inline {width: auto; margin:0; padding: 0}\n",
       ".dl-inline>dt, .dl-inline>dd {float: none; width: auto; display: inline-block}\n",
       ".dl-inline>dt::after {content: \":\\0020\"; padding-right: .5ex}\n",
       ".dl-inline>dt:not(:first-of-type) {padding-left: .5ex}\n",
       "</style><dl class=dl-inline><dt>a</dt><dd>1</dd><dt>b</dt><dd>2</dd><dt>c</dt><dd>3</dd><dt>d</dt><dd>4</dd></dl>\n"
      ],
      "text/latex": [
       "\\begin{description*}\n",
       "\\item[a] 1\n",
       "\\item[b] 2\n",
       "\\item[c] 3\n",
       "\\item[d] 4\n",
       "\\end{description*}\n"
      ],
      "text/markdown": [
       "a\n",
       ":   1b\n",
       ":   2c\n",
       ":   3d\n",
       ":   4\n",
       "\n"
      ],
      "text/plain": [
       "a b c d \n",
       "1 2 3 4 "
      ]
     },
     "metadata": {},
     "output_type": "display_data"
    },
    {
     "data": {
      "text/html": [
       "<style>\n",
       ".dl-inline {width: auto; margin:0; padding: 0}\n",
       ".dl-inline>dt, .dl-inline>dd {float: none; width: auto; display: inline-block}\n",
       ".dl-inline>dt::after {content: \":\\0020\"; padding-right: .5ex}\n",
       ".dl-inline>dt:not(:first-of-type) {padding-left: .5ex}\n",
       "</style><dl class=dl-inline><dt>a</dt><dd>1</dd><dt>b</dt><dd>2</dd><dt>c</dt><dd>3</dd><dt>d</dt><dd>4</dd></dl>\n"
      ],
      "text/latex": [
       "\\begin{description*}\n",
       "\\item[a] 1\n",
       "\\item[b] 2\n",
       "\\item[c] 3\n",
       "\\item[d] 4\n",
       "\\end{description*}\n"
      ],
      "text/markdown": [
       "a\n",
       ":   1b\n",
       ":   2c\n",
       ":   3d\n",
       ":   4\n",
       "\n"
      ],
      "text/plain": [
       "a b c d \n",
       "1 2 3 4 "
      ]
     },
     "metadata": {},
     "output_type": "display_data"
    },
    {
     "data": {
      "text/html": [
       "'integer'"
      ],
      "text/latex": [
       "'integer'"
      ],
      "text/markdown": [
       "'integer'"
      ],
      "text/plain": [
       "[1] \"integer\""
      ]
     },
     "metadata": {},
     "output_type": "display_data"
    },
    {
     "data": {
      "text/html": [
       "<style>\n",
       ".list-inline {list-style: none; margin:0; padding: 0}\n",
       ".list-inline>li {display: inline-block}\n",
       ".list-inline>li:not(:last-child)::after {content: \"\\00b7\"; padding: 0 .5ex}\n",
       "</style>\n",
       "<ol class=list-inline><li>1</li><li>2</li><li>3</li><li>4</li></ol>\n"
      ],
      "text/latex": [
       "\\begin{enumerate*}\n",
       "\\item 1\n",
       "\\item 2\n",
       "\\item 3\n",
       "\\item 4\n",
       "\\end{enumerate*}\n"
      ],
      "text/markdown": [
       "1. 1\n",
       "2. 2\n",
       "3. 3\n",
       "4. 4\n",
       "\n",
       "\n"
      ],
      "text/plain": [
       "[1] 1 2 3 4"
      ]
     },
     "metadata": {},
     "output_type": "display_data"
    },
    {
     "data": {
      "text/html": [
       "'integer'"
      ],
      "text/latex": [
       "'integer'"
      ],
      "text/markdown": [
       "'integer'"
      ],
      "text/plain": [
       "[1] \"integer\""
      ]
     },
     "metadata": {},
     "output_type": "display_data"
    }
   ],
   "source": [
    "x <- 1:4\n",
    "x\n",
    "names(x) <- letters[1:4]\n",
    "c(x)\n",
    "x\n",
    "class(x)\n",
    "as.vector(x)\n",
    "class(as.vector(x))"
   ]
  },
  {
   "cell_type": "code",
   "execution_count": 102,
   "id": "f30984bd-8b53-4a5b-ae90-b5494a12c36a",
   "metadata": {},
   "outputs": [
    {
     "data": {
      "text/html": [
       "<dl>\n",
       "\t<dt>$A</dt>\n",
       "\t\t<dd>1</dd>\n",
       "\t<dt>$c</dt>\n",
       "\t\t<dd>'C'</dd>\n",
       "</dl>\n"
      ],
      "text/latex": [
       "\\begin{description}\n",
       "\\item[\\$A] 1\n",
       "\\item[\\$c] 'C'\n",
       "\\end{description}\n"
      ],
      "text/markdown": [
       "$A\n",
       ":   1\n",
       "$c\n",
       ":   'C'\n",
       "\n",
       "\n"
      ],
      "text/plain": [
       "$A\n",
       "[1] 1\n",
       "\n",
       "$c\n",
       "[1] \"C\"\n"
      ]
     },
     "metadata": {},
     "output_type": "display_data"
    }
   ],
   "source": [
    "## append to a list:\n",
    "ll <- list(A = 1, c = \"C\")\n",
    "ll"
   ]
  },
  {
   "cell_type": "code",
   "execution_count": 103,
   "id": "409b40b4-0349-4670-af3b-371f67cfb335",
   "metadata": {},
   "outputs": [
    {
     "data": {
      "text/html": [
       "<dl>\n",
       "\t<dt>$A</dt>\n",
       "\t\t<dd>1</dd>\n",
       "\t<dt>$c</dt>\n",
       "\t\t<dd>'C'</dd>\n",
       "\t<dt>$d1</dt>\n",
       "\t\t<dd>1</dd>\n",
       "\t<dt>$d2</dt>\n",
       "\t\t<dd>2</dd>\n",
       "\t<dt>$d3</dt>\n",
       "\t\t<dd>3</dd>\n",
       "</dl>\n"
      ],
      "text/latex": [
       "\\begin{description}\n",
       "\\item[\\$A] 1\n",
       "\\item[\\$c] 'C'\n",
       "\\item[\\$d1] 1\n",
       "\\item[\\$d2] 2\n",
       "\\item[\\$d3] 3\n",
       "\\end{description}\n"
      ],
      "text/markdown": [
       "$A\n",
       ":   1\n",
       "$c\n",
       ":   'C'\n",
       "$d1\n",
       ":   1\n",
       "$d2\n",
       ":   2\n",
       "$d3\n",
       ":   3\n",
       "\n",
       "\n"
      ],
      "text/plain": [
       "$A\n",
       "[1] 1\n",
       "\n",
       "$c\n",
       "[1] \"C\"\n",
       "\n",
       "$d1\n",
       "[1] 1\n",
       "\n",
       "$d2\n",
       "[1] 2\n",
       "\n",
       "$d3\n",
       "[1] 3\n"
      ]
     },
     "metadata": {},
     "output_type": "display_data"
    }
   ],
   "source": [
    "## do *not* use\n",
    "c(ll, d = 1:3) # which is == c(ll, as.list(c(d = 1:3)))"
   ]
  },
  {
   "cell_type": "code",
   "execution_count": 104,
   "id": "f584b0d8-95de-494e-87b8-009e289a433f",
   "metadata": {},
   "outputs": [
    {
     "data": {
      "text/html": [
       "<dl>\n",
       "\t<dt>$A</dt>\n",
       "\t\t<dd>1</dd>\n",
       "\t<dt>$c</dt>\n",
       "\t\t<dd>'C'</dd>\n",
       "\t<dt>$d</dt>\n",
       "\t\t<dd><style>\n",
       ".list-inline {list-style: none; margin:0; padding: 0}\n",
       ".list-inline>li {display: inline-block}\n",
       ".list-inline>li:not(:last-child)::after {content: \"\\00b7\"; padding: 0 .5ex}\n",
       "</style>\n",
       "<ol class=list-inline><li>1</li><li>2</li><li>3</li></ol>\n",
       "</dd>\n",
       "</dl>\n"
      ],
      "text/latex": [
       "\\begin{description}\n",
       "\\item[\\$A] 1\n",
       "\\item[\\$c] 'C'\n",
       "\\item[\\$d] \\begin{enumerate*}\n",
       "\\item 1\n",
       "\\item 2\n",
       "\\item 3\n",
       "\\end{enumerate*}\n",
       "\n",
       "\\end{description}\n"
      ],
      "text/markdown": [
       "$A\n",
       ":   1\n",
       "$c\n",
       ":   'C'\n",
       "$d\n",
       ":   1. 1\n",
       "2. 2\n",
       "3. 3\n",
       "\n",
       "\n",
       "\n",
       "\n",
       "\n"
      ],
      "text/plain": [
       "$A\n",
       "[1] 1\n",
       "\n",
       "$c\n",
       "[1] \"C\"\n",
       "\n",
       "$d\n",
       "[1] 1 2 3\n"
      ]
     },
     "metadata": {},
     "output_type": "display_data"
    }
   ],
   "source": [
    "## but rather\n",
    "c(ll, d = list(1:3))  # c() combining two lists"
   ]
  },
  {
   "cell_type": "code",
   "execution_count": 105,
   "id": "98d0b18d-a23e-4cbf-b3d5-7830be11461f",
   "metadata": {},
   "outputs": [
    {
     "data": {
      "text/html": [
       "50000"
      ],
      "text/latex": [
       "50000"
      ],
      "text/markdown": [
       "50000"
      ],
      "text/plain": [
       "[1] 50000"
      ]
     },
     "metadata": {},
     "output_type": "display_data"
    },
    {
     "data": {
      "text/html": [
       "6.02e+23"
      ],
      "text/latex": [
       "6.02e+23"
      ],
      "text/markdown": [
       "6.02e+23"
      ],
      "text/plain": [
       "[1] 6.02e+23"
      ]
     },
     "metadata": {},
     "output_type": "display_data"
    },
    {
     "data": {
      "text/html": [
       "1.6e-35"
      ],
      "text/latex": [
       "1.6e-35"
      ],
      "text/markdown": [
       "1.6e-35"
      ],
      "text/plain": [
       "[1] 1.6e-35"
      ]
     },
     "metadata": {},
     "output_type": "display_data"
    },
    {
     "data": {
      "text/html": [
       "'numeric'"
      ],
      "text/latex": [
       "'numeric'"
      ],
      "text/markdown": [
       "'numeric'"
      ],
      "text/plain": [
       "[1] \"numeric\""
      ]
     },
     "metadata": {},
     "output_type": "display_data"
    },
    {
     "data": {
      "text/html": [
       "'numeric'"
      ],
      "text/latex": [
       "'numeric'"
      ],
      "text/markdown": [
       "'numeric'"
      ],
      "text/plain": [
       "[1] \"numeric\""
      ]
     },
     "metadata": {},
     "output_type": "display_data"
    }
   ],
   "source": [
    "# You can use scientific notation too\n",
    "5e4         # 50000\n",
    "6.02e23     # Avogadro's number\n",
    "1.6e-35     # Planck length\n",
    "# You can also have infinitely large or small numbers\n",
    "class(Inf)  # \"numeric\"\n",
    "class(-Inf) # \"numeric\"\n",
    "# You might use \"Inf\", for example, in integrate(dnorm, 3, Inf);\n",
    "# this obviates Z-score tables."
   ]
  },
  {
   "cell_type": "markdown",
   "id": "a036d0aa-e1ce-4497-98b5-4c55970b82b2",
   "metadata": {},
   "source": [
    "### Basic Arithmetic"
   ]
  },
  {
   "cell_type": "code",
   "execution_count": 106,
   "id": "1ac39b30-80fd-4e86-a88a-381a1cf47e9d",
   "metadata": {},
   "outputs": [
    {
     "data": {
      "text/html": [
       "76"
      ],
      "text/latex": [
       "76"
      ],
      "text/markdown": [
       "76"
      ],
      "text/plain": [
       "[1] 76"
      ]
     },
     "metadata": {},
     "output_type": "display_data"
    },
    {
     "data": {
      "text/html": [
       "49.2"
      ],
      "text/latex": [
       "49.2"
      ],
      "text/markdown": [
       "49.2"
      ],
      "text/plain": [
       "[1] 49.2"
      ]
     },
     "metadata": {},
     "output_type": "display_data"
    },
    {
     "data": {
      "text/html": [
       "4"
      ],
      "text/latex": [
       "4"
      ],
      "text/markdown": [
       "4"
      ],
      "text/plain": [
       "[1] 4"
      ]
     },
     "metadata": {},
     "output_type": "display_data"
    },
    {
     "data": {
      "text/html": [
       "0.75"
      ],
      "text/latex": [
       "0.75"
      ],
      "text/markdown": [
       "0.75"
      ],
      "text/plain": [
       "[1] 0.75"
      ]
     },
     "metadata": {},
     "output_type": "display_data"
    },
    {
     "data": {
      "text/html": [
       "1"
      ],
      "text/latex": [
       "1"
      ],
      "text/markdown": [
       "1"
      ],
      "text/plain": [
       "[1] 1"
      ]
     },
     "metadata": {},
     "output_type": "display_data"
    },
    {
     "data": {
      "text/html": [
       "NaN"
      ],
      "text/latex": [
       "NaN"
      ],
      "text/markdown": [
       "NaN"
      ],
      "text/plain": [
       "[1] NaN"
      ]
     },
     "metadata": {},
     "output_type": "display_data"
    },
    {
     "data": {
      "text/html": [
       "'numeric'"
      ],
      "text/latex": [
       "'numeric'"
      ],
      "text/markdown": [
       "'numeric'"
      ],
      "text/plain": [
       "[1] \"numeric\""
      ]
     },
     "metadata": {},
     "output_type": "display_data"
    }
   ],
   "source": [
    "# BASIC ARITHMETIC\n",
    "# You can do arithmetic with numbers\n",
    "# Doing arithmetic on a mix of integers and numerics gives you another numeric\n",
    "10L + 66L   # 76    # integer plus integer gives integer\n",
    "53.2 - 4    # 49.2  # numeric minus numeric gives numeric\n",
    "2.0 * 2L    # 4     # numeric times integer gives numeric\n",
    "3L / 4      # 0.75  # integer over numeric gives numeric\n",
    "3 %% 2      # 1     # the remainder of two numerics is another numeric\n",
    "# Illegal arithmetic yields you a \"not-a-number\":\n",
    "0 / 0       # NaN\n",
    "class(NaN)  # \"numeric\""
   ]
  },
  {
   "cell_type": "code",
   "execution_count": 107,
   "id": "8717b2ee-8150-4ddf-a60d-6f394a96523a",
   "metadata": {},
   "outputs": [
    {
     "data": {
      "text/html": [
       "<style>\n",
       ".list-inline {list-style: none; margin:0; padding: 0}\n",
       ".list-inline>li {display: inline-block}\n",
       ".list-inline>li:not(:last-child)::after {content: \"\\00b7\"; padding: 0 .5ex}\n",
       "</style>\n",
       "<ol class=list-inline><li>2</li><li>4</li><li>6</li></ol>\n"
      ],
      "text/latex": [
       "\\begin{enumerate*}\n",
       "\\item 2\n",
       "\\item 4\n",
       "\\item 6\n",
       "\\end{enumerate*}\n"
      ],
      "text/markdown": [
       "1. 2\n",
       "2. 4\n",
       "3. 6\n",
       "\n",
       "\n"
      ],
      "text/plain": [
       "[1] 2 4 6"
      ]
     },
     "metadata": {},
     "output_type": "display_data"
    },
    {
     "data": {
      "text/html": [
       "<style>\n",
       ".list-inline {list-style: none; margin:0; padding: 0}\n",
       ".list-inline>li {display: inline-block}\n",
       ".list-inline>li:not(:last-child)::after {content: \"\\00b7\"; padding: 0 .5ex}\n",
       "</style>\n",
       "<ol class=list-inline><li>1</li><li>3</li><li>5</li></ol>\n"
      ],
      "text/latex": [
       "\\begin{enumerate*}\n",
       "\\item 1\n",
       "\\item 3\n",
       "\\item 5\n",
       "\\end{enumerate*}\n"
      ],
      "text/markdown": [
       "1. 1\n",
       "2. 3\n",
       "3. 5\n",
       "\n",
       "\n"
      ],
      "text/plain": [
       "[1] 1 3 5"
      ]
     },
     "metadata": {},
     "output_type": "display_data"
    }
   ],
   "source": [
    "# You can do arithmetic on two vectors with length greater than 1,\n",
    "# so long as the larger vector's length is an integer multiple of the smaller\n",
    "c(1, 2, 3) + c(1, 2, 3)     # 2 4 6\n",
    "# Since a single number is a vector of length one, scalars are applied \n",
    "# elementwise to vectors\n",
    "(4 * c(1, 2, 3) - 2) / 2    # 1 3 5"
   ]
  },
  {
   "cell_type": "code",
   "execution_count": 108,
   "id": "4b4a6d92-1583-4da4-82ee-b565f4117041",
   "metadata": {},
   "outputs": [
    {
     "data": {
      "text/html": [
       "<style>\n",
       ".list-inline {list-style: none; margin:0; padding: 0}\n",
       ".list-inline>li {display: inline-block}\n",
       ".list-inline>li:not(:last-child)::after {content: \"\\00b7\"; padding: 0 .5ex}\n",
       "</style>\n",
       "<ol class=list-inline><li>1</li><li>4</li><li>3</li><li>2</li><li>2</li><li>6</li></ol>\n"
      ],
      "text/latex": [
       "\\begin{enumerate*}\n",
       "\\item 1\n",
       "\\item 4\n",
       "\\item 3\n",
       "\\item 2\n",
       "\\item 2\n",
       "\\item 6\n",
       "\\end{enumerate*}\n"
      ],
      "text/markdown": [
       "1. 1\n",
       "2. 4\n",
       "3. 3\n",
       "4. 2\n",
       "5. 2\n",
       "6. 6\n",
       "\n",
       "\n"
      ],
      "text/plain": [
       "[1] 1 4 3 2 2 6"
      ]
     },
     "metadata": {},
     "output_type": "display_data"
    },
    {
     "data": {
      "text/html": [
       "<style>\n",
       ".list-inline {list-style: none; margin:0; padding: 0}\n",
       ".list-inline>li {display: inline-block}\n",
       ".list-inline>li:not(:last-child)::after {content: \"\\00b7\"; padding: 0 .5ex}\n",
       "</style>\n",
       "<ol class=list-inline><li>1</li><li>4</li><li>3</li><li>2</li><li>2</li><li>6</li></ol>\n"
      ],
      "text/latex": [
       "\\begin{enumerate*}\n",
       "\\item 1\n",
       "\\item 4\n",
       "\\item 3\n",
       "\\item 2\n",
       "\\item 2\n",
       "\\item 6\n",
       "\\end{enumerate*}\n"
      ],
      "text/markdown": [
       "1. 1\n",
       "2. 4\n",
       "3. 3\n",
       "4. 2\n",
       "5. 2\n",
       "6. 6\n",
       "\n",
       "\n"
      ],
      "text/plain": [
       "[1] 1 4 3 2 2 6"
      ]
     },
     "metadata": {},
     "output_type": "display_data"
    }
   ],
   "source": [
    "# Except for scalars, use caution when performing arithmetic on vectors with \n",
    "# different lengths. Although it can be done, \n",
    "c(1, 2, 3, 1, 2, 3) * c(1, 2)               # 1 4 3 2 2 6\n",
    "# Matching lengths is better practice and easier to read most times\n",
    "c(1, 2, 3, 1, 2, 3) * c(1, 2, 1, 2, 1, 2)   # 1 4 3 2 2 6"
   ]
  },
  {
   "cell_type": "markdown",
   "id": "fb098555-753d-4741-bc06-9d93867a271a",
   "metadata": {},
   "source": [
    "### Characters"
   ]
  },
  {
   "cell_type": "code",
   "execution_count": 109,
   "id": "82913caf-f917-4346-adcc-a2671d625cd3",
   "metadata": {},
   "outputs": [
    {
     "data": {
      "text/html": [
       "'Horatio'"
      ],
      "text/latex": [
       "'Horatio'"
      ],
      "text/markdown": [
       "'Horatio'"
      ],
      "text/plain": [
       "[1] \"Horatio\""
      ]
     },
     "metadata": {},
     "output_type": "display_data"
    },
    {
     "data": {
      "text/html": [
       "'character'"
      ],
      "text/latex": [
       "'character'"
      ],
      "text/markdown": [
       "'character'"
      ],
      "text/plain": [
       "[1] \"character\""
      ]
     },
     "metadata": {},
     "output_type": "display_data"
    },
    {
     "data": {
      "text/html": [
       "'character'"
      ],
      "text/latex": [
       "'character'"
      ],
      "text/markdown": [
       "'character'"
      ],
      "text/plain": [
       "[1] \"character\""
      ]
     },
     "metadata": {},
     "output_type": "display_data"
    },
    {
     "data": {
      "text/html": [
       "1"
      ],
      "text/latex": [
       "1"
      ],
      "text/markdown": [
       "1"
      ],
      "text/plain": [
       "[1] 1"
      ]
     },
     "metadata": {},
     "output_type": "display_data"
    },
    {
     "data": {
      "text/html": [
       "1"
      ],
      "text/latex": [
       "1"
      ],
      "text/markdown": [
       "1"
      ],
      "text/plain": [
       "[1] 1"
      ]
     },
     "metadata": {},
     "output_type": "display_data"
    }
   ],
   "source": [
    "# CHARACTERS\n",
    "# There's no difference between strings and characters in R\n",
    "\"Horatio\"           # \"Horatio\"\n",
    "class(\"Horatio\")    # \"character\"\n",
    "class(\"H\")          # \"character\"\n",
    "# Those were both character vectors of length 1\n",
    "length(\"Horatio\")\n",
    "length(\"H\")"
   ]
  },
  {
   "cell_type": "code",
   "execution_count": 110,
   "id": "caf6351f-b1dc-407f-905b-e5a9a700c42c",
   "metadata": {},
   "outputs": [
    {
     "data": {
      "text/html": [
       "<style>\n",
       ".list-inline {list-style: none; margin:0; padding: 0}\n",
       ".list-inline>li {display: inline-block}\n",
       ".list-inline>li:not(:last-child)::after {content: \"\\00b7\"; padding: 0 .5ex}\n",
       "</style>\n",
       "<ol class=list-inline><li>'alef'</li><li>'bet'</li><li>'gimmel'</li><li>'dalet'</li><li>'he'</li></ol>\n"
      ],
      "text/latex": [
       "\\begin{enumerate*}\n",
       "\\item 'alef'\n",
       "\\item 'bet'\n",
       "\\item 'gimmel'\n",
       "\\item 'dalet'\n",
       "\\item 'he'\n",
       "\\end{enumerate*}\n"
      ],
      "text/markdown": [
       "1. 'alef'\n",
       "2. 'bet'\n",
       "3. 'gimmel'\n",
       "4. 'dalet'\n",
       "5. 'he'\n",
       "\n",
       "\n"
      ],
      "text/plain": [
       "[1] \"alef\"   \"bet\"    \"gimmel\" \"dalet\"  \"he\"    "
      ]
     },
     "metadata": {},
     "output_type": "display_data"
    },
    {
     "data": {
      "text/html": [
       "3"
      ],
      "text/latex": [
       "3"
      ],
      "text/markdown": [
       "3"
      ],
      "text/plain": [
       "[1] 3"
      ]
     },
     "metadata": {},
     "output_type": "display_data"
    }
   ],
   "source": [
    "# Here is a longer one:\n",
    "c(\"alef\", \"bet\", \"gimmel\", \"dalet\", \"he\")\n",
    "# => \"alef\"   \"bet\"    \"gimmel\" \"dalet\"  \"he\"\n",
    "length(c(\"Call\",\"me\",\"Ishmael\")) # 3"
   ]
  },
  {
   "cell_type": "code",
   "execution_count": 111,
   "id": "08e6bf0d-f2a8-42aa-8bda-1da4493f8176",
   "metadata": {},
   "outputs": [
    {
     "data": {
      "text/html": [
       "'multis '"
      ],
      "text/latex": [
       "'multis '"
      ],
      "text/markdown": [
       "'multis '"
      ],
      "text/plain": [
       "[1] \"multis \""
      ]
     },
     "metadata": {},
     "output_type": "display_data"
    },
    {
     "data": {
      "text/html": [
       "'Fortøna møltis dat nimis, nølli satis.'"
      ],
      "text/latex": [
       "'Fortøna møltis dat nimis, nølli satis.'"
      ],
      "text/markdown": [
       "'Fortøna møltis dat nimis, nølli satis.'"
      ],
      "text/plain": [
       "[1] \"Fortøna møltis dat nimis, nølli satis.\""
      ]
     },
     "metadata": {},
     "output_type": "display_data"
    }
   ],
   "source": [
    "# You can do regex operations on character vectors:\n",
    "substr(\"Fortuna multis dat nimis, nulli satis.\", 9, 15)  # \"multis \"\n",
    "gsub('u', 'ø', \"Fortuna multis dat nimis, nulli satis.\") # \"Fortøna møltis dat nimis, nølli satis.\""
   ]
  },
  {
   "cell_type": "code",
   "execution_count": 112,
   "id": "30b9efb9-2c94-4b32-9ca1-0faa6cc03664",
   "metadata": {},
   "outputs": [
    {
     "data": {
      "text/html": [
       "<style>\n",
       ".list-inline {list-style: none; margin:0; padding: 0}\n",
       ".list-inline>li {display: inline-block}\n",
       ".list-inline>li:not(:last-child)::after {content: \"\\00b7\"; padding: 0 .5ex}\n",
       "</style>\n",
       "<ol class=list-inline><li>'a'</li><li>'b'</li><li>'c'</li><li>'d'</li><li>'e'</li><li>'f'</li><li>'g'</li><li>'h'</li><li>'i'</li><li>'j'</li><li>'k'</li><li>'l'</li><li>'m'</li><li>'n'</li><li>'o'</li><li>'p'</li><li>'q'</li><li>'r'</li><li>'s'</li><li>'t'</li><li>'u'</li><li>'v'</li><li>'w'</li><li>'x'</li><li>'y'</li><li>'z'</li></ol>\n"
      ],
      "text/latex": [
       "\\begin{enumerate*}\n",
       "\\item 'a'\n",
       "\\item 'b'\n",
       "\\item 'c'\n",
       "\\item 'd'\n",
       "\\item 'e'\n",
       "\\item 'f'\n",
       "\\item 'g'\n",
       "\\item 'h'\n",
       "\\item 'i'\n",
       "\\item 'j'\n",
       "\\item 'k'\n",
       "\\item 'l'\n",
       "\\item 'm'\n",
       "\\item 'n'\n",
       "\\item 'o'\n",
       "\\item 'p'\n",
       "\\item 'q'\n",
       "\\item 'r'\n",
       "\\item 's'\n",
       "\\item 't'\n",
       "\\item 'u'\n",
       "\\item 'v'\n",
       "\\item 'w'\n",
       "\\item 'x'\n",
       "\\item 'y'\n",
       "\\item 'z'\n",
       "\\end{enumerate*}\n"
      ],
      "text/markdown": [
       "1. 'a'\n",
       "2. 'b'\n",
       "3. 'c'\n",
       "4. 'd'\n",
       "5. 'e'\n",
       "6. 'f'\n",
       "7. 'g'\n",
       "8. 'h'\n",
       "9. 'i'\n",
       "10. 'j'\n",
       "11. 'k'\n",
       "12. 'l'\n",
       "13. 'm'\n",
       "14. 'n'\n",
       "15. 'o'\n",
       "16. 'p'\n",
       "17. 'q'\n",
       "18. 'r'\n",
       "19. 's'\n",
       "20. 't'\n",
       "21. 'u'\n",
       "22. 'v'\n",
       "23. 'w'\n",
       "24. 'x'\n",
       "25. 'y'\n",
       "26. 'z'\n",
       "\n",
       "\n"
      ],
      "text/plain": [
       " [1] \"a\" \"b\" \"c\" \"d\" \"e\" \"f\" \"g\" \"h\" \"i\" \"j\" \"k\" \"l\" \"m\" \"n\" \"o\" \"p\" \"q\" \"r\" \"s\"\n",
       "[20] \"t\" \"u\" \"v\" \"w\" \"x\" \"y\" \"z\""
      ]
     },
     "metadata": {},
     "output_type": "display_data"
    },
    {
     "data": {
      "text/html": [
       "<style>\n",
       ".list-inline {list-style: none; margin:0; padding: 0}\n",
       ".list-inline>li {display: inline-block}\n",
       ".list-inline>li:not(:last-child)::after {content: \"\\00b7\"; padding: 0 .5ex}\n",
       "</style>\n",
       "<ol class=list-inline><li>'Jan'</li><li>'Feb'</li><li>'Mar'</li><li>'Apr'</li><li>'May'</li><li>'Jun'</li><li>'Jul'</li><li>'Aug'</li><li>'Sep'</li><li>'Oct'</li><li>'Nov'</li><li>'Dec'</li></ol>\n"
      ],
      "text/latex": [
       "\\begin{enumerate*}\n",
       "\\item 'Jan'\n",
       "\\item 'Feb'\n",
       "\\item 'Mar'\n",
       "\\item 'Apr'\n",
       "\\item 'May'\n",
       "\\item 'Jun'\n",
       "\\item 'Jul'\n",
       "\\item 'Aug'\n",
       "\\item 'Sep'\n",
       "\\item 'Oct'\n",
       "\\item 'Nov'\n",
       "\\item 'Dec'\n",
       "\\end{enumerate*}\n"
      ],
      "text/markdown": [
       "1. 'Jan'\n",
       "2. 'Feb'\n",
       "3. 'Mar'\n",
       "4. 'Apr'\n",
       "5. 'May'\n",
       "6. 'Jun'\n",
       "7. 'Jul'\n",
       "8. 'Aug'\n",
       "9. 'Sep'\n",
       "10. 'Oct'\n",
       "11. 'Nov'\n",
       "12. 'Dec'\n",
       "\n",
       "\n"
      ],
      "text/plain": [
       " [1] \"Jan\" \"Feb\" \"Mar\" \"Apr\" \"May\" \"Jun\" \"Jul\" \"Aug\" \"Sep\" \"Oct\" \"Nov\" \"Dec\""
      ]
     },
     "metadata": {},
     "output_type": "display_data"
    },
    {
     "data": {
      "text/html": [
       "<style>\n",
       ".list-inline {list-style: none; margin:0; padding: 0}\n",
       ".list-inline>li {display: inline-block}\n",
       ".list-inline>li:not(:last-child)::after {content: \"\\00b7\"; padding: 0 .5ex}\n",
       "</style>\n",
       "<ol class=list-inline><li>'January'</li><li>'February'</li><li>'March'</li><li>'April'</li><li>'May'</li><li>'June'</li><li>'July'</li><li>'August'</li><li>'September'</li><li>'October'</li><li>'November'</li><li>'December'</li></ol>\n"
      ],
      "text/latex": [
       "\\begin{enumerate*}\n",
       "\\item 'January'\n",
       "\\item 'February'\n",
       "\\item 'March'\n",
       "\\item 'April'\n",
       "\\item 'May'\n",
       "\\item 'June'\n",
       "\\item 'July'\n",
       "\\item 'August'\n",
       "\\item 'September'\n",
       "\\item 'October'\n",
       "\\item 'November'\n",
       "\\item 'December'\n",
       "\\end{enumerate*}\n"
      ],
      "text/markdown": [
       "1. 'January'\n",
       "2. 'February'\n",
       "3. 'March'\n",
       "4. 'April'\n",
       "5. 'May'\n",
       "6. 'June'\n",
       "7. 'July'\n",
       "8. 'August'\n",
       "9. 'September'\n",
       "10. 'October'\n",
       "11. 'November'\n",
       "12. 'December'\n",
       "\n",
       "\n"
      ],
      "text/plain": [
       " [1] \"January\"   \"February\"  \"March\"     \"April\"     \"May\"       \"June\"     \n",
       " [7] \"July\"      \"August\"    \"September\" \"October\"   \"November\"  \"December\" "
      ]
     },
     "metadata": {},
     "output_type": "display_data"
    },
    {
     "data": {
      "text/html": [
       "3.14159265358979"
      ],
      "text/latex": [
       "3.14159265358979"
      ],
      "text/markdown": [
       "3.14159265358979"
      ],
      "text/plain": [
       "[1] 3.141593"
      ]
     },
     "metadata": {},
     "output_type": "display_data"
    }
   ],
   "source": [
    "# R has several built-in character vectors:\n",
    "letters\n",
    "# =>\n",
    "#  [1] \"a\" \"b\" \"c\" \"d\" \"e\" \"f\" \"g\" \"h\" \"i\" \"j\" \"k\" \"l\" \"m\" \"n\" \"o\" \"p\" \"q\" \"r\" \"s\"\n",
    "# [20] \"t\" \"u\" \"v\" \"w\" \"x\" \"y\" \"z\"\n",
    "month.abb # \"Jan\" \"Feb\" \"Mar\" \"Apr\" \"May\" \"Jun\" \"Jul\" \"Aug\" \"Sep\" \"Oct\" \"Nov\" \"Dec\"\n",
    "month.name\n",
    "pi"
   ]
  },
  {
   "cell_type": "markdown",
   "id": "0ed54da3-a9d1-473b-8e0a-0967361cead9",
   "metadata": {},
   "source": [
    "### Logicals"
   ]
  },
  {
   "cell_type": "code",
   "execution_count": 113,
   "id": "c23da13b-044d-4e56-a68f-9e7c21e9229a",
   "metadata": {},
   "outputs": [
    {
     "data": {
      "text/html": [
       "'logical'"
      ],
      "text/latex": [
       "'logical'"
      ],
      "text/markdown": [
       "'logical'"
      ],
      "text/plain": [
       "[1] \"logical\""
      ]
     },
     "metadata": {},
     "output_type": "display_data"
    },
    {
     "data": {
      "text/html": [
       "'logical'"
      ],
      "text/latex": [
       "'logical'"
      ],
      "text/markdown": [
       "'logical'"
      ],
      "text/plain": [
       "[1] \"logical\""
      ]
     },
     "metadata": {},
     "output_type": "display_data"
    },
    {
     "data": {
      "text/html": [
       "TRUE"
      ],
      "text/latex": [
       "TRUE"
      ],
      "text/markdown": [
       "TRUE"
      ],
      "text/plain": [
       "[1] TRUE"
      ]
     },
     "metadata": {},
     "output_type": "display_data"
    },
    {
     "data": {
      "text/html": [
       "FALSE"
      ],
      "text/latex": [
       "FALSE"
      ],
      "text/markdown": [
       "FALSE"
      ],
      "text/plain": [
       "[1] FALSE"
      ]
     },
     "metadata": {},
     "output_type": "display_data"
    },
    {
     "data": {
      "text/html": [
       "FALSE"
      ],
      "text/latex": [
       "FALSE"
      ],
      "text/markdown": [
       "FALSE"
      ],
      "text/plain": [
       "[1] FALSE"
      ]
     },
     "metadata": {},
     "output_type": "display_data"
    },
    {
     "data": {
      "text/html": [
       "TRUE"
      ],
      "text/latex": [
       "TRUE"
      ],
      "text/markdown": [
       "TRUE"
      ],
      "text/plain": [
       "[1] TRUE"
      ]
     },
     "metadata": {},
     "output_type": "display_data"
    },
    {
     "data": {
      "text/html": [
       "'logical'"
      ],
      "text/latex": [
       "'logical'"
      ],
      "text/markdown": [
       "'logical'"
      ],
      "text/plain": [
       "[1] \"logical\""
      ]
     },
     "metadata": {},
     "output_type": "display_data"
    },
    {
     "data": {
      "text/html": [
       "TRUE"
      ],
      "text/latex": [
       "TRUE"
      ],
      "text/markdown": [
       "TRUE"
      ],
      "text/plain": [
       "[1] TRUE"
      ]
     },
     "metadata": {},
     "output_type": "display_data"
    },
    {
     "data": {
      "text/html": [
       "FALSE"
      ],
      "text/latex": [
       "FALSE"
      ],
      "text/markdown": [
       "FALSE"
      ],
      "text/plain": [
       "[1] FALSE"
      ]
     },
     "metadata": {},
     "output_type": "display_data"
    },
    {
     "data": {
      "text/html": [
       "<style>\n",
       ".list-inline {list-style: none; margin:0; padding: 0}\n",
       ".list-inline>li {display: inline-block}\n",
       ".list-inline>li:not(:last-child)::after {content: \"\\00b7\"; padding: 0 .5ex}\n",
       "</style>\n",
       "<ol class=list-inline><li>TRUE</li><li>TRUE</li><li>FALSE</li></ol>\n"
      ],
      "text/latex": [
       "\\begin{enumerate*}\n",
       "\\item TRUE\n",
       "\\item TRUE\n",
       "\\item FALSE\n",
       "\\end{enumerate*}\n"
      ],
      "text/markdown": [
       "1. TRUE\n",
       "2. TRUE\n",
       "3. FALSE\n",
       "\n",
       "\n"
      ],
      "text/plain": [
       "[1]  TRUE  TRUE FALSE"
      ]
     },
     "metadata": {},
     "output_type": "display_data"
    },
    {
     "data": {
      "text/html": [
       "<style>\n",
       ".list-inline {list-style: none; margin:0; padding: 0}\n",
       ".list-inline>li {display: inline-block}\n",
       ".list-inline>li:not(:last-child)::after {content: \"\\00b7\"; padding: 0 .5ex}\n",
       "</style>\n",
       "<ol class=list-inline><li>FALSE</li><li>FALSE</li><li>TRUE</li></ol>\n"
      ],
      "text/latex": [
       "\\begin{enumerate*}\n",
       "\\item FALSE\n",
       "\\item FALSE\n",
       "\\item TRUE\n",
       "\\end{enumerate*}\n"
      ],
      "text/markdown": [
       "1. FALSE\n",
       "2. FALSE\n",
       "3. TRUE\n",
       "\n",
       "\n"
      ],
      "text/plain": [
       "[1] FALSE FALSE  TRUE"
      ]
     },
     "metadata": {},
     "output_type": "display_data"
    },
    {
     "data": {
      "text/html": [
       "TRUE"
      ],
      "text/latex": [
       "TRUE"
      ],
      "text/markdown": [
       "TRUE"
      ],
      "text/plain": [
       "[1] TRUE"
      ]
     },
     "metadata": {},
     "output_type": "display_data"
    },
    {
     "data": {
      "text/html": [
       "<style>\n",
       ".list-inline {list-style: none; margin:0; padding: 0}\n",
       ".list-inline>li {display: inline-block}\n",
       ".list-inline>li:not(:last-child)::after {content: \"\\00b7\"; padding: 0 .5ex}\n",
       "</style>\n",
       "<ol class=list-inline><li>FALSE</li><li>FALSE</li><li>FALSE</li><li>FALSE</li><li>FALSE</li></ol>\n"
      ],
      "text/latex": [
       "\\begin{enumerate*}\n",
       "\\item FALSE\n",
       "\\item FALSE\n",
       "\\item FALSE\n",
       "\\item FALSE\n",
       "\\item FALSE\n",
       "\\end{enumerate*}\n"
      ],
      "text/markdown": [
       "1. FALSE\n",
       "2. FALSE\n",
       "3. FALSE\n",
       "4. FALSE\n",
       "5. FALSE\n",
       "\n",
       "\n"
      ],
      "text/plain": [
       "[1] FALSE FALSE FALSE FALSE FALSE"
      ]
     },
     "metadata": {},
     "output_type": "display_data"
    },
    {
     "data": {
      "text/html": [
       "<style>\n",
       ".list-inline {list-style: none; margin:0; padding: 0}\n",
       ".list-inline>li {display: inline-block}\n",
       ".list-inline>li:not(:last-child)::after {content: \"\\00b7\"; padding: 0 .5ex}\n",
       "</style>\n",
       "<ol class=list-inline><li>TRUE</li><li>FALSE</li><li>FALSE</li><li>FALSE</li><li>FALSE</li></ol>\n"
      ],
      "text/latex": [
       "\\begin{enumerate*}\n",
       "\\item TRUE\n",
       "\\item FALSE\n",
       "\\item FALSE\n",
       "\\item FALSE\n",
       "\\item FALSE\n",
       "\\end{enumerate*}\n"
      ],
      "text/markdown": [
       "1. TRUE\n",
       "2. FALSE\n",
       "3. FALSE\n",
       "4. FALSE\n",
       "5. FALSE\n",
       "\n",
       "\n"
      ],
      "text/plain": [
       "[1]  TRUE FALSE FALSE FALSE FALSE"
      ]
     },
     "metadata": {},
     "output_type": "display_data"
    }
   ],
   "source": [
    "# LOGICALS\n",
    "# In R, a \"logical\" is a boolean\n",
    "\n",
    "class(TRUE)     # \"logical\"\n",
    "class(FALSE)    # \"logical\"\n",
    "# Their behavior is normal\n",
    "TRUE == TRUE    # TRUE\n",
    "TRUE == FALSE   # FALSE\n",
    "FALSE != FALSE  # FALSE\n",
    "FALSE != TRUE   # TRUE\n",
    "# Missing data (NA) is logical, too\n",
    "class(NA)       # \"logical\"\n",
    "# Use | and & for logic operations.\n",
    "# OR\n",
    "TRUE | FALSE    # TRUE\n",
    "# AND\n",
    "TRUE & FALSE    # FALSE\n",
    "# Applying | and & to vectors returns elementwise logic operations\n",
    "c(TRUE, FALSE, FALSE) | c(FALSE, TRUE, FALSE)   # TRUE TRUE FALSE\n",
    "c(TRUE, FALSE, TRUE) & c(FALSE, TRUE, TRUE)     # FALSE FALSE TRUE\n",
    "# You can test if x is TRUE\n",
    "isTRUE(TRUE)    # TRUE\n",
    "# Here we get a logical vector with many elements:\n",
    "c(\"Z\", \"o\", \"r\", \"r\", \"o\") == \"Zorro\"   # FALSE FALSE FALSE FALSE FALSE\n",
    "c(\"Z\", \"o\", \"r\", \"r\", \"o\") == \"Z\"       # TRUE FALSE FALSE FALSE FALSE"
   ]
  },
  {
   "cell_type": "markdown",
   "id": "5dfe6d80-a618-437a-8098-739fec062328",
   "metadata": {},
   "source": [
    "### Factors and levels: Categorical data"
   ]
  },
  {
   "cell_type": "code",
   "execution_count": 114,
   "id": "9f9a6fbc-f193-4fb0-b9ae-35c689e0e679",
   "metadata": {},
   "outputs": [
    {
     "data": {
      "text/html": [
       "<style>\n",
       ".list-inline {list-style: none; margin:0; padding: 0}\n",
       ".list-inline>li {display: inline-block}\n",
       ".list-inline>li:not(:last-child)::after {content: \"\\00b7\"; padding: 0 .5ex}\n",
       "</style>\n",
       "<ol class=list-inline><li>blue</li><li>blue</li><li>green</li><li>&lt;NA&gt;</li><li>blue</li></ol>\n",
       "\n",
       "<details>\n",
       "\t<summary style=display:list-item;cursor:pointer>\n",
       "\t\t<strong>Levels</strong>:\n",
       "\t</summary>\n",
       "\t<style>\n",
       "\t.list-inline {list-style: none; margin:0; padding: 0}\n",
       "\t.list-inline>li {display: inline-block}\n",
       "\t.list-inline>li:not(:last-child)::after {content: \"\\00b7\"; padding: 0 .5ex}\n",
       "\t</style>\n",
       "\t<ol class=list-inline><li>'blue'</li><li>'green'</li></ol>\n",
       "</details>"
      ],
      "text/latex": [
       "\\begin{enumerate*}\n",
       "\\item blue\n",
       "\\item blue\n",
       "\\item green\n",
       "\\item <NA>\n",
       "\\item blue\n",
       "\\end{enumerate*}\n",
       "\n",
       "\\emph{Levels}: \\begin{enumerate*}\n",
       "\\item 'blue'\n",
       "\\item 'green'\n",
       "\\end{enumerate*}\n"
      ],
      "text/markdown": [
       "1. blue\n",
       "2. blue\n",
       "3. green\n",
       "4. &lt;NA&gt;\n",
       "5. blue\n",
       "\n",
       "\n",
       "\n",
       "**Levels**: 1. 'blue'\n",
       "2. 'green'\n",
       "\n",
       "\n"
      ],
      "text/plain": [
       "[1] blue  blue  green <NA>  blue \n",
       "Levels: blue green"
      ]
     },
     "metadata": {},
     "output_type": "display_data"
    }
   ],
   "source": [
    "# FACTORS\n",
    "# The factor class is for categorical data\n",
    "# Factors can be ordered (like grade levels) or unordered (like colors)\n",
    "factor(c(\"blue\", \"blue\", \"green\", NA, \"blue\"))\n",
    "#  blue blue green   <NA>   blue"
   ]
  },
  {
   "cell_type": "code",
   "execution_count": 115,
   "id": "97e77c15-6fee-4646-a269-3599ad420d03",
   "metadata": {},
   "outputs": [
    {
     "data": {
      "text/html": [
       "<style>\n",
       ".list-inline {list-style: none; margin:0; padding: 0}\n",
       ".list-inline>li {display: inline-block}\n",
       ".list-inline>li:not(:last-child)::after {content: \"\\00b7\"; padding: 0 .5ex}\n",
       "</style>\n",
       "<ol class=list-inline><li>'blue'</li><li>'green'</li></ol>\n"
      ],
      "text/latex": [
       "\\begin{enumerate*}\n",
       "\\item 'blue'\n",
       "\\item 'green'\n",
       "\\end{enumerate*}\n"
      ],
      "text/markdown": [
       "1. 'blue'\n",
       "2. 'green'\n",
       "\n",
       "\n"
      ],
      "text/plain": [
       "[1] \"blue\"  \"green\""
      ]
     },
     "metadata": {},
     "output_type": "display_data"
    }
   ],
   "source": [
    "# Levels: blue green\n",
    "# The \"levels\" are the values the categorical data can take\n",
    "# Note that missing data does not enter the levels\n",
    "levels(factor(c(\"green\", \"green\", \"blue\", NA, \"blue\"))) # \"blue\" \"green\""
   ]
  },
  {
   "cell_type": "code",
   "execution_count": 116,
   "id": "86fc916a-149b-475c-9d8a-e4d632e1fcdb",
   "metadata": {},
   "outputs": [
    {
     "data": {
      "text/html": [
       "1"
      ],
      "text/latex": [
       "1"
      ],
      "text/markdown": [
       "1"
      ],
      "text/plain": [
       "[1] 1"
      ]
     },
     "metadata": {},
     "output_type": "display_data"
    },
    {
     "data": {
      "text/html": [
       "1"
      ],
      "text/latex": [
       "1"
      ],
      "text/markdown": [
       "1"
      ],
      "text/plain": [
       "[1] 1"
      ]
     },
     "metadata": {},
     "output_type": "display_data"
    }
   ],
   "source": [
    "# If a factor vector has length 1, its levels will have length 1, too\n",
    "length(factor(\"green\"))         # 1\n",
    "length(levels(factor(\"green\"))) # 1"
   ]
  },
  {
   "cell_type": "code",
   "execution_count": 117,
   "id": "bd9e38e8-2713-4a21-9bd2-e9510124aca1",
   "metadata": {},
   "outputs": [
    {
     "data": {
      "text/html": [
       "<table class=\"dataframe\">\n",
       "<caption>A data.frame: 248 × 8</caption>\n",
       "<thead>\n",
       "\t<tr><th scope=col>education</th><th scope=col>age</th><th scope=col>parity</th><th scope=col>induced</th><th scope=col>case</th><th scope=col>spontaneous</th><th scope=col>stratum</th><th scope=col>pooled.stratum</th></tr>\n",
       "\t<tr><th scope=col>&lt;fct&gt;</th><th scope=col>&lt;dbl&gt;</th><th scope=col>&lt;dbl&gt;</th><th scope=col>&lt;dbl&gt;</th><th scope=col>&lt;dbl&gt;</th><th scope=col>&lt;dbl&gt;</th><th scope=col>&lt;int&gt;</th><th scope=col>&lt;dbl&gt;</th></tr>\n",
       "</thead>\n",
       "<tbody>\n",
       "\t<tr><td>0-5yrs </td><td>26</td><td>6</td><td>1</td><td>1</td><td>2</td><td> 1</td><td> 3</td></tr>\n",
       "\t<tr><td>0-5yrs </td><td>42</td><td>1</td><td>1</td><td>1</td><td>0</td><td> 2</td><td> 1</td></tr>\n",
       "\t<tr><td>0-5yrs </td><td>39</td><td>6</td><td>2</td><td>1</td><td>0</td><td> 3</td><td> 4</td></tr>\n",
       "\t<tr><td>0-5yrs </td><td>34</td><td>4</td><td>2</td><td>1</td><td>0</td><td> 4</td><td> 2</td></tr>\n",
       "\t<tr><td>6-11yrs</td><td>35</td><td>3</td><td>1</td><td>1</td><td>1</td><td> 5</td><td>32</td></tr>\n",
       "\t<tr><td>6-11yrs</td><td>36</td><td>4</td><td>2</td><td>1</td><td>1</td><td> 6</td><td>36</td></tr>\n",
       "\t<tr><td>6-11yrs</td><td>23</td><td>1</td><td>0</td><td>1</td><td>0</td><td> 7</td><td> 6</td></tr>\n",
       "\t<tr><td>6-11yrs</td><td>32</td><td>2</td><td>0</td><td>1</td><td>0</td><td> 8</td><td>22</td></tr>\n",
       "\t<tr><td>6-11yrs</td><td>21</td><td>1</td><td>0</td><td>1</td><td>1</td><td> 9</td><td> 5</td></tr>\n",
       "\t<tr><td>6-11yrs</td><td>28</td><td>2</td><td>0</td><td>1</td><td>0</td><td>10</td><td>19</td></tr>\n",
       "\t<tr><td>6-11yrs</td><td>29</td><td>2</td><td>1</td><td>1</td><td>0</td><td>11</td><td>20</td></tr>\n",
       "\t<tr><td>6-11yrs</td><td>37</td><td>4</td><td>2</td><td>1</td><td>1</td><td>12</td><td>37</td></tr>\n",
       "\t<tr><td>6-11yrs</td><td>31</td><td>1</td><td>1</td><td>1</td><td>0</td><td>13</td><td> 9</td></tr>\n",
       "\t<tr><td>6-11yrs</td><td>29</td><td>3</td><td>2</td><td>1</td><td>0</td><td>14</td><td>29</td></tr>\n",
       "\t<tr><td>6-11yrs</td><td>31</td><td>2</td><td>1</td><td>1</td><td>1</td><td>15</td><td>21</td></tr>\n",
       "\t<tr><td>6-11yrs</td><td>27</td><td>2</td><td>2</td><td>1</td><td>0</td><td>16</td><td>18</td></tr>\n",
       "\t<tr><td>6-11yrs</td><td>30</td><td>5</td><td>2</td><td>1</td><td>1</td><td>17</td><td>38</td></tr>\n",
       "\t<tr><td>6-11yrs</td><td>26</td><td>1</td><td>0</td><td>1</td><td>1</td><td>18</td><td> 7</td></tr>\n",
       "\t<tr><td>6-11yrs</td><td>25</td><td>3</td><td>2</td><td>1</td><td>1</td><td>19</td><td>28</td></tr>\n",
       "\t<tr><td>6-11yrs</td><td>44</td><td>1</td><td>0</td><td>1</td><td>1</td><td>20</td><td>17</td></tr>\n",
       "\t<tr><td>6-11yrs</td><td>40</td><td>1</td><td>0</td><td>1</td><td>1</td><td>21</td><td>14</td></tr>\n",
       "\t<tr><td>6-11yrs</td><td>35</td><td>2</td><td>2</td><td>1</td><td>0</td><td>22</td><td>24</td></tr>\n",
       "\t<tr><td>6-11yrs</td><td>28</td><td>2</td><td>0</td><td>1</td><td>2</td><td>23</td><td>19</td></tr>\n",
       "\t<tr><td>6-11yrs</td><td>36</td><td>1</td><td>0</td><td>1</td><td>1</td><td>24</td><td>12</td></tr>\n",
       "\t<tr><td>6-11yrs</td><td>27</td><td>2</td><td>1</td><td>1</td><td>1</td><td>25</td><td>18</td></tr>\n",
       "\t<tr><td>6-11yrs</td><td>40</td><td>2</td><td>0</td><td>1</td><td>2</td><td>26</td><td>27</td></tr>\n",
       "\t<tr><td>6-11yrs</td><td>38</td><td>2</td><td>0</td><td>1</td><td>2</td><td>27</td><td>26</td></tr>\n",
       "\t<tr><td>6-11yrs</td><td>34</td><td>3</td><td>0</td><td>1</td><td>2</td><td>28</td><td>31</td></tr>\n",
       "\t<tr><td>6-11yrs</td><td>28</td><td>4</td><td>1</td><td>1</td><td>2</td><td>29</td><td>34</td></tr>\n",
       "\t<tr><td>6-11yrs</td><td>30</td><td>4</td><td>2</td><td>1</td><td>0</td><td>30</td><td>35</td></tr>\n",
       "\t<tr><td>⋮</td><td>⋮</td><td>⋮</td><td>⋮</td><td>⋮</td><td>⋮</td><td>⋮</td><td>⋮</td></tr>\n",
       "\t<tr><td>12+ yrs</td><td>28</td><td>1</td><td>0</td><td>0</td><td>1</td><td>54</td><td>42</td></tr>\n",
       "\t<tr><td>12+ yrs</td><td>29</td><td>2</td><td>1</td><td>0</td><td>1</td><td>55</td><td>52</td></tr>\n",
       "\t<tr><td>12+ yrs</td><td>36</td><td>2</td><td>0</td><td>0</td><td>1</td><td>56</td><td>55</td></tr>\n",
       "\t<tr><td>12+ yrs</td><td>28</td><td>2</td><td>2</td><td>0</td><td>0</td><td>57</td><td>51</td></tr>\n",
       "\t<tr><td>12+ yrs</td><td>28</td><td>2</td><td>1</td><td>0</td><td>0</td><td>58</td><td>51</td></tr>\n",
       "\t<tr><td>12+ yrs</td><td>28</td><td>1</td><td>0</td><td>0</td><td>0</td><td>59</td><td>42</td></tr>\n",
       "\t<tr><td>12+ yrs</td><td>27</td><td>2</td><td>1</td><td>0</td><td>0</td><td>60</td><td>50</td></tr>\n",
       "\t<tr><td>12+ yrs</td><td>35</td><td>2</td><td>1</td><td>0</td><td>0</td><td>61</td><td>54</td></tr>\n",
       "\t<tr><td>12+ yrs</td><td>25</td><td>1</td><td>1</td><td>0</td><td>0</td><td>62</td><td>41</td></tr>\n",
       "\t<tr><td>12+ yrs</td><td>34</td><td>1</td><td>0</td><td>0</td><td>0</td><td>63</td><td>47</td></tr>\n",
       "\t<tr><td>12+ yrs</td><td>31</td><td>2</td><td>1</td><td>0</td><td>0</td><td>64</td><td>53</td></tr>\n",
       "\t<tr><td>12+ yrs</td><td>26</td><td>2</td><td>0</td><td>0</td><td>2</td><td>65</td><td>49</td></tr>\n",
       "\t<tr><td>12+ yrs</td><td>32</td><td>1</td><td>1</td><td>0</td><td>0</td><td>66</td><td>46</td></tr>\n",
       "\t<tr><td>12+ yrs</td><td>21</td><td>1</td><td>0</td><td>0</td><td>0</td><td>67</td><td>39</td></tr>\n",
       "\t<tr><td>12+ yrs</td><td>28</td><td>3</td><td>2</td><td>0</td><td>0</td><td>68</td><td>58</td></tr>\n",
       "\t<tr><td>12+ yrs</td><td>37</td><td>3</td><td>0</td><td>0</td><td>2</td><td>69</td><td>59</td></tr>\n",
       "\t<tr><td>12+ yrs</td><td>25</td><td>1</td><td>1</td><td>0</td><td>0</td><td>70</td><td>41</td></tr>\n",
       "\t<tr><td>12+ yrs</td><td>32</td><td>1</td><td>0</td><td>0</td><td>0</td><td>71</td><td>46</td></tr>\n",
       "\t<tr><td>12+ yrs</td><td>25</td><td>1</td><td>1</td><td>0</td><td>0</td><td>72</td><td>41</td></tr>\n",
       "\t<tr><td>12+ yrs</td><td>31</td><td>1</td><td>0</td><td>0</td><td>0</td><td>73</td><td>45</td></tr>\n",
       "\t<tr><td>12+ yrs</td><td>38</td><td>6</td><td>0</td><td>0</td><td>2</td><td>74</td><td>63</td></tr>\n",
       "\t<tr><td>12+ yrs</td><td>26</td><td>2</td><td>1</td><td>0</td><td>1</td><td>75</td><td>49</td></tr>\n",
       "\t<tr><td>12+ yrs</td><td>31</td><td>1</td><td>1</td><td>0</td><td>0</td><td>76</td><td>45</td></tr>\n",
       "\t<tr><td>12+ yrs</td><td>31</td><td>2</td><td>0</td><td>0</td><td>1</td><td>77</td><td>53</td></tr>\n",
       "\t<tr><td>12+ yrs</td><td>25</td><td>1</td><td>0</td><td>0</td><td>1</td><td>78</td><td>41</td></tr>\n",
       "\t<tr><td>12+ yrs</td><td>31</td><td>1</td><td>0</td><td>0</td><td>1</td><td>79</td><td>45</td></tr>\n",
       "\t<tr><td>12+ yrs</td><td>34</td><td>1</td><td>0</td><td>0</td><td>0</td><td>80</td><td>47</td></tr>\n",
       "\t<tr><td>12+ yrs</td><td>35</td><td>2</td><td>2</td><td>0</td><td>0</td><td>81</td><td>54</td></tr>\n",
       "\t<tr><td>12+ yrs</td><td>29</td><td>1</td><td>0</td><td>0</td><td>1</td><td>82</td><td>43</td></tr>\n",
       "\t<tr><td>12+ yrs</td><td>23</td><td>1</td><td>0</td><td>0</td><td>1</td><td>83</td><td>40</td></tr>\n",
       "</tbody>\n",
       "</table>\n"
      ],
      "text/latex": [
       "A data.frame: 248 × 8\n",
       "\\begin{tabular}{llllllll}\n",
       " education & age & parity & induced & case & spontaneous & stratum & pooled.stratum\\\\\n",
       " <fct> & <dbl> & <dbl> & <dbl> & <dbl> & <dbl> & <int> & <dbl>\\\\\n",
       "\\hline\n",
       "\t 0-5yrs  & 26 & 6 & 1 & 1 & 2 &  1 &  3\\\\\n",
       "\t 0-5yrs  & 42 & 1 & 1 & 1 & 0 &  2 &  1\\\\\n",
       "\t 0-5yrs  & 39 & 6 & 2 & 1 & 0 &  3 &  4\\\\\n",
       "\t 0-5yrs  & 34 & 4 & 2 & 1 & 0 &  4 &  2\\\\\n",
       "\t 6-11yrs & 35 & 3 & 1 & 1 & 1 &  5 & 32\\\\\n",
       "\t 6-11yrs & 36 & 4 & 2 & 1 & 1 &  6 & 36\\\\\n",
       "\t 6-11yrs & 23 & 1 & 0 & 1 & 0 &  7 &  6\\\\\n",
       "\t 6-11yrs & 32 & 2 & 0 & 1 & 0 &  8 & 22\\\\\n",
       "\t 6-11yrs & 21 & 1 & 0 & 1 & 1 &  9 &  5\\\\\n",
       "\t 6-11yrs & 28 & 2 & 0 & 1 & 0 & 10 & 19\\\\\n",
       "\t 6-11yrs & 29 & 2 & 1 & 1 & 0 & 11 & 20\\\\\n",
       "\t 6-11yrs & 37 & 4 & 2 & 1 & 1 & 12 & 37\\\\\n",
       "\t 6-11yrs & 31 & 1 & 1 & 1 & 0 & 13 &  9\\\\\n",
       "\t 6-11yrs & 29 & 3 & 2 & 1 & 0 & 14 & 29\\\\\n",
       "\t 6-11yrs & 31 & 2 & 1 & 1 & 1 & 15 & 21\\\\\n",
       "\t 6-11yrs & 27 & 2 & 2 & 1 & 0 & 16 & 18\\\\\n",
       "\t 6-11yrs & 30 & 5 & 2 & 1 & 1 & 17 & 38\\\\\n",
       "\t 6-11yrs & 26 & 1 & 0 & 1 & 1 & 18 &  7\\\\\n",
       "\t 6-11yrs & 25 & 3 & 2 & 1 & 1 & 19 & 28\\\\\n",
       "\t 6-11yrs & 44 & 1 & 0 & 1 & 1 & 20 & 17\\\\\n",
       "\t 6-11yrs & 40 & 1 & 0 & 1 & 1 & 21 & 14\\\\\n",
       "\t 6-11yrs & 35 & 2 & 2 & 1 & 0 & 22 & 24\\\\\n",
       "\t 6-11yrs & 28 & 2 & 0 & 1 & 2 & 23 & 19\\\\\n",
       "\t 6-11yrs & 36 & 1 & 0 & 1 & 1 & 24 & 12\\\\\n",
       "\t 6-11yrs & 27 & 2 & 1 & 1 & 1 & 25 & 18\\\\\n",
       "\t 6-11yrs & 40 & 2 & 0 & 1 & 2 & 26 & 27\\\\\n",
       "\t 6-11yrs & 38 & 2 & 0 & 1 & 2 & 27 & 26\\\\\n",
       "\t 6-11yrs & 34 & 3 & 0 & 1 & 2 & 28 & 31\\\\\n",
       "\t 6-11yrs & 28 & 4 & 1 & 1 & 2 & 29 & 34\\\\\n",
       "\t 6-11yrs & 30 & 4 & 2 & 1 & 0 & 30 & 35\\\\\n",
       "\t ⋮ & ⋮ & ⋮ & ⋮ & ⋮ & ⋮ & ⋮ & ⋮\\\\\n",
       "\t 12+ yrs & 28 & 1 & 0 & 0 & 1 & 54 & 42\\\\\n",
       "\t 12+ yrs & 29 & 2 & 1 & 0 & 1 & 55 & 52\\\\\n",
       "\t 12+ yrs & 36 & 2 & 0 & 0 & 1 & 56 & 55\\\\\n",
       "\t 12+ yrs & 28 & 2 & 2 & 0 & 0 & 57 & 51\\\\\n",
       "\t 12+ yrs & 28 & 2 & 1 & 0 & 0 & 58 & 51\\\\\n",
       "\t 12+ yrs & 28 & 1 & 0 & 0 & 0 & 59 & 42\\\\\n",
       "\t 12+ yrs & 27 & 2 & 1 & 0 & 0 & 60 & 50\\\\\n",
       "\t 12+ yrs & 35 & 2 & 1 & 0 & 0 & 61 & 54\\\\\n",
       "\t 12+ yrs & 25 & 1 & 1 & 0 & 0 & 62 & 41\\\\\n",
       "\t 12+ yrs & 34 & 1 & 0 & 0 & 0 & 63 & 47\\\\\n",
       "\t 12+ yrs & 31 & 2 & 1 & 0 & 0 & 64 & 53\\\\\n",
       "\t 12+ yrs & 26 & 2 & 0 & 0 & 2 & 65 & 49\\\\\n",
       "\t 12+ yrs & 32 & 1 & 1 & 0 & 0 & 66 & 46\\\\\n",
       "\t 12+ yrs & 21 & 1 & 0 & 0 & 0 & 67 & 39\\\\\n",
       "\t 12+ yrs & 28 & 3 & 2 & 0 & 0 & 68 & 58\\\\\n",
       "\t 12+ yrs & 37 & 3 & 0 & 0 & 2 & 69 & 59\\\\\n",
       "\t 12+ yrs & 25 & 1 & 1 & 0 & 0 & 70 & 41\\\\\n",
       "\t 12+ yrs & 32 & 1 & 0 & 0 & 0 & 71 & 46\\\\\n",
       "\t 12+ yrs & 25 & 1 & 1 & 0 & 0 & 72 & 41\\\\\n",
       "\t 12+ yrs & 31 & 1 & 0 & 0 & 0 & 73 & 45\\\\\n",
       "\t 12+ yrs & 38 & 6 & 0 & 0 & 2 & 74 & 63\\\\\n",
       "\t 12+ yrs & 26 & 2 & 1 & 0 & 1 & 75 & 49\\\\\n",
       "\t 12+ yrs & 31 & 1 & 1 & 0 & 0 & 76 & 45\\\\\n",
       "\t 12+ yrs & 31 & 2 & 0 & 0 & 1 & 77 & 53\\\\\n",
       "\t 12+ yrs & 25 & 1 & 0 & 0 & 1 & 78 & 41\\\\\n",
       "\t 12+ yrs & 31 & 1 & 0 & 0 & 1 & 79 & 45\\\\\n",
       "\t 12+ yrs & 34 & 1 & 0 & 0 & 0 & 80 & 47\\\\\n",
       "\t 12+ yrs & 35 & 2 & 2 & 0 & 0 & 81 & 54\\\\\n",
       "\t 12+ yrs & 29 & 1 & 0 & 0 & 1 & 82 & 43\\\\\n",
       "\t 12+ yrs & 23 & 1 & 0 & 0 & 1 & 83 & 40\\\\\n",
       "\\end{tabular}\n"
      ],
      "text/markdown": [
       "\n",
       "A data.frame: 248 × 8\n",
       "\n",
       "| education &lt;fct&gt; | age &lt;dbl&gt; | parity &lt;dbl&gt; | induced &lt;dbl&gt; | case &lt;dbl&gt; | spontaneous &lt;dbl&gt; | stratum &lt;int&gt; | pooled.stratum &lt;dbl&gt; |\n",
       "|---|---|---|---|---|---|---|---|\n",
       "| 0-5yrs  | 26 | 6 | 1 | 1 | 2 |  1 |  3 |\n",
       "| 0-5yrs  | 42 | 1 | 1 | 1 | 0 |  2 |  1 |\n",
       "| 0-5yrs  | 39 | 6 | 2 | 1 | 0 |  3 |  4 |\n",
       "| 0-5yrs  | 34 | 4 | 2 | 1 | 0 |  4 |  2 |\n",
       "| 6-11yrs | 35 | 3 | 1 | 1 | 1 |  5 | 32 |\n",
       "| 6-11yrs | 36 | 4 | 2 | 1 | 1 |  6 | 36 |\n",
       "| 6-11yrs | 23 | 1 | 0 | 1 | 0 |  7 |  6 |\n",
       "| 6-11yrs | 32 | 2 | 0 | 1 | 0 |  8 | 22 |\n",
       "| 6-11yrs | 21 | 1 | 0 | 1 | 1 |  9 |  5 |\n",
       "| 6-11yrs | 28 | 2 | 0 | 1 | 0 | 10 | 19 |\n",
       "| 6-11yrs | 29 | 2 | 1 | 1 | 0 | 11 | 20 |\n",
       "| 6-11yrs | 37 | 4 | 2 | 1 | 1 | 12 | 37 |\n",
       "| 6-11yrs | 31 | 1 | 1 | 1 | 0 | 13 |  9 |\n",
       "| 6-11yrs | 29 | 3 | 2 | 1 | 0 | 14 | 29 |\n",
       "| 6-11yrs | 31 | 2 | 1 | 1 | 1 | 15 | 21 |\n",
       "| 6-11yrs | 27 | 2 | 2 | 1 | 0 | 16 | 18 |\n",
       "| 6-11yrs | 30 | 5 | 2 | 1 | 1 | 17 | 38 |\n",
       "| 6-11yrs | 26 | 1 | 0 | 1 | 1 | 18 |  7 |\n",
       "| 6-11yrs | 25 | 3 | 2 | 1 | 1 | 19 | 28 |\n",
       "| 6-11yrs | 44 | 1 | 0 | 1 | 1 | 20 | 17 |\n",
       "| 6-11yrs | 40 | 1 | 0 | 1 | 1 | 21 | 14 |\n",
       "| 6-11yrs | 35 | 2 | 2 | 1 | 0 | 22 | 24 |\n",
       "| 6-11yrs | 28 | 2 | 0 | 1 | 2 | 23 | 19 |\n",
       "| 6-11yrs | 36 | 1 | 0 | 1 | 1 | 24 | 12 |\n",
       "| 6-11yrs | 27 | 2 | 1 | 1 | 1 | 25 | 18 |\n",
       "| 6-11yrs | 40 | 2 | 0 | 1 | 2 | 26 | 27 |\n",
       "| 6-11yrs | 38 | 2 | 0 | 1 | 2 | 27 | 26 |\n",
       "| 6-11yrs | 34 | 3 | 0 | 1 | 2 | 28 | 31 |\n",
       "| 6-11yrs | 28 | 4 | 1 | 1 | 2 | 29 | 34 |\n",
       "| 6-11yrs | 30 | 4 | 2 | 1 | 0 | 30 | 35 |\n",
       "| ⋮ | ⋮ | ⋮ | ⋮ | ⋮ | ⋮ | ⋮ | ⋮ |\n",
       "| 12+ yrs | 28 | 1 | 0 | 0 | 1 | 54 | 42 |\n",
       "| 12+ yrs | 29 | 2 | 1 | 0 | 1 | 55 | 52 |\n",
       "| 12+ yrs | 36 | 2 | 0 | 0 | 1 | 56 | 55 |\n",
       "| 12+ yrs | 28 | 2 | 2 | 0 | 0 | 57 | 51 |\n",
       "| 12+ yrs | 28 | 2 | 1 | 0 | 0 | 58 | 51 |\n",
       "| 12+ yrs | 28 | 1 | 0 | 0 | 0 | 59 | 42 |\n",
       "| 12+ yrs | 27 | 2 | 1 | 0 | 0 | 60 | 50 |\n",
       "| 12+ yrs | 35 | 2 | 1 | 0 | 0 | 61 | 54 |\n",
       "| 12+ yrs | 25 | 1 | 1 | 0 | 0 | 62 | 41 |\n",
       "| 12+ yrs | 34 | 1 | 0 | 0 | 0 | 63 | 47 |\n",
       "| 12+ yrs | 31 | 2 | 1 | 0 | 0 | 64 | 53 |\n",
       "| 12+ yrs | 26 | 2 | 0 | 0 | 2 | 65 | 49 |\n",
       "| 12+ yrs | 32 | 1 | 1 | 0 | 0 | 66 | 46 |\n",
       "| 12+ yrs | 21 | 1 | 0 | 0 | 0 | 67 | 39 |\n",
       "| 12+ yrs | 28 | 3 | 2 | 0 | 0 | 68 | 58 |\n",
       "| 12+ yrs | 37 | 3 | 0 | 0 | 2 | 69 | 59 |\n",
       "| 12+ yrs | 25 | 1 | 1 | 0 | 0 | 70 | 41 |\n",
       "| 12+ yrs | 32 | 1 | 0 | 0 | 0 | 71 | 46 |\n",
       "| 12+ yrs | 25 | 1 | 1 | 0 | 0 | 72 | 41 |\n",
       "| 12+ yrs | 31 | 1 | 0 | 0 | 0 | 73 | 45 |\n",
       "| 12+ yrs | 38 | 6 | 0 | 0 | 2 | 74 | 63 |\n",
       "| 12+ yrs | 26 | 2 | 1 | 0 | 1 | 75 | 49 |\n",
       "| 12+ yrs | 31 | 1 | 1 | 0 | 0 | 76 | 45 |\n",
       "| 12+ yrs | 31 | 2 | 0 | 0 | 1 | 77 | 53 |\n",
       "| 12+ yrs | 25 | 1 | 0 | 0 | 1 | 78 | 41 |\n",
       "| 12+ yrs | 31 | 1 | 0 | 0 | 1 | 79 | 45 |\n",
       "| 12+ yrs | 34 | 1 | 0 | 0 | 0 | 80 | 47 |\n",
       "| 12+ yrs | 35 | 2 | 2 | 0 | 0 | 81 | 54 |\n",
       "| 12+ yrs | 29 | 1 | 0 | 0 | 1 | 82 | 43 |\n",
       "| 12+ yrs | 23 | 1 | 0 | 0 | 1 | 83 | 40 |\n",
       "\n"
      ],
      "text/plain": [
       "    education age parity induced case spontaneous stratum pooled.stratum\n",
       "1   0-5yrs    26  6      1       1    2            1       3            \n",
       "2   0-5yrs    42  1      1       1    0            2       1            \n",
       "3   0-5yrs    39  6      2       1    0            3       4            \n",
       "4   0-5yrs    34  4      2       1    0            4       2            \n",
       "5   6-11yrs   35  3      1       1    1            5      32            \n",
       "6   6-11yrs   36  4      2       1    1            6      36            \n",
       "7   6-11yrs   23  1      0       1    0            7       6            \n",
       "8   6-11yrs   32  2      0       1    0            8      22            \n",
       "9   6-11yrs   21  1      0       1    1            9       5            \n",
       "10  6-11yrs   28  2      0       1    0           10      19            \n",
       "11  6-11yrs   29  2      1       1    0           11      20            \n",
       "12  6-11yrs   37  4      2       1    1           12      37            \n",
       "13  6-11yrs   31  1      1       1    0           13       9            \n",
       "14  6-11yrs   29  3      2       1    0           14      29            \n",
       "15  6-11yrs   31  2      1       1    1           15      21            \n",
       "16  6-11yrs   27  2      2       1    0           16      18            \n",
       "17  6-11yrs   30  5      2       1    1           17      38            \n",
       "18  6-11yrs   26  1      0       1    1           18       7            \n",
       "19  6-11yrs   25  3      2       1    1           19      28            \n",
       "20  6-11yrs   44  1      0       1    1           20      17            \n",
       "21  6-11yrs   40  1      0       1    1           21      14            \n",
       "22  6-11yrs   35  2      2       1    0           22      24            \n",
       "23  6-11yrs   28  2      0       1    2           23      19            \n",
       "24  6-11yrs   36  1      0       1    1           24      12            \n",
       "25  6-11yrs   27  2      1       1    1           25      18            \n",
       "26  6-11yrs   40  2      0       1    2           26      27            \n",
       "27  6-11yrs   38  2      0       1    2           27      26            \n",
       "28  6-11yrs   34  3      0       1    2           28      31            \n",
       "29  6-11yrs   28  4      1       1    2           29      34            \n",
       "30  6-11yrs   30  4      2       1    0           30      35            \n",
       "⋮   ⋮         ⋮   ⋮      ⋮       ⋮    ⋮           ⋮       ⋮             \n",
       "219 12+ yrs   28  1      0       0    1           54      42            \n",
       "220 12+ yrs   29  2      1       0    1           55      52            \n",
       "221 12+ yrs   36  2      0       0    1           56      55            \n",
       "222 12+ yrs   28  2      2       0    0           57      51            \n",
       "223 12+ yrs   28  2      1       0    0           58      51            \n",
       "224 12+ yrs   28  1      0       0    0           59      42            \n",
       "225 12+ yrs   27  2      1       0    0           60      50            \n",
       "226 12+ yrs   35  2      1       0    0           61      54            \n",
       "227 12+ yrs   25  1      1       0    0           62      41            \n",
       "228 12+ yrs   34  1      0       0    0           63      47            \n",
       "229 12+ yrs   31  2      1       0    0           64      53            \n",
       "230 12+ yrs   26  2      0       0    2           65      49            \n",
       "231 12+ yrs   32  1      1       0    0           66      46            \n",
       "232 12+ yrs   21  1      0       0    0           67      39            \n",
       "233 12+ yrs   28  3      2       0    0           68      58            \n",
       "234 12+ yrs   37  3      0       0    2           69      59            \n",
       "235 12+ yrs   25  1      1       0    0           70      41            \n",
       "236 12+ yrs   32  1      0       0    0           71      46            \n",
       "237 12+ yrs   25  1      1       0    0           72      41            \n",
       "238 12+ yrs   31  1      0       0    0           73      45            \n",
       "239 12+ yrs   38  6      0       0    2           74      63            \n",
       "240 12+ yrs   26  2      1       0    1           75      49            \n",
       "241 12+ yrs   31  1      1       0    0           76      45            \n",
       "242 12+ yrs   31  2      0       0    1           77      53            \n",
       "243 12+ yrs   25  1      0       0    1           78      41            \n",
       "244 12+ yrs   31  1      0       0    1           79      45            \n",
       "245 12+ yrs   34  1      0       0    0           80      47            \n",
       "246 12+ yrs   35  2      2       0    0           81      54            \n",
       "247 12+ yrs   29  1      0       0    1           82      43            \n",
       "248 12+ yrs   23  1      0       0    1           83      40            "
      ]
     },
     "metadata": {},
     "output_type": "display_data"
    },
    {
     "data": {
      "text/html": [
       "<style>\n",
       ".list-inline {list-style: none; margin:0; padding: 0}\n",
       ".list-inline>li {display: inline-block}\n",
       ".list-inline>li:not(:last-child)::after {content: \"\\00b7\"; padding: 0 .5ex}\n",
       "</style>\n",
       "<ol class=list-inline><li>0-5yrs</li><li>0-5yrs</li><li>0-5yrs</li><li>0-5yrs</li><li>6-11yrs</li><li>6-11yrs</li><li>6-11yrs</li><li>6-11yrs</li><li>6-11yrs</li><li>6-11yrs</li><li>6-11yrs</li><li>6-11yrs</li><li>6-11yrs</li><li>6-11yrs</li><li>6-11yrs</li><li>6-11yrs</li><li>6-11yrs</li><li>6-11yrs</li><li>6-11yrs</li><li>6-11yrs</li><li>6-11yrs</li><li>6-11yrs</li><li>6-11yrs</li><li>6-11yrs</li><li>6-11yrs</li><li>6-11yrs</li><li>6-11yrs</li><li>6-11yrs</li><li>6-11yrs</li><li>6-11yrs</li><li>6-11yrs</li><li>6-11yrs</li><li>6-11yrs</li><li>6-11yrs</li><li>6-11yrs</li><li>6-11yrs</li><li>6-11yrs</li><li>6-11yrs</li><li>6-11yrs</li><li>6-11yrs</li><li>6-11yrs</li><li>6-11yrs</li><li>6-11yrs</li><li>6-11yrs</li><li>12+ yrs</li><li>12+ yrs</li><li>12+ yrs</li><li>12+ yrs</li><li>12+ yrs</li><li>12+ yrs</li><li>12+ yrs</li><li>12+ yrs</li><li>12+ yrs</li><li>12+ yrs</li><li>12+ yrs</li><li>12+ yrs</li><li>12+ yrs</li><li>12+ yrs</li><li>12+ yrs</li><li>12+ yrs</li><li>12+ yrs</li><li>12+ yrs</li><li>12+ yrs</li><li>12+ yrs</li><li>12+ yrs</li><li>12+ yrs</li><li>12+ yrs</li><li>12+ yrs</li><li>12+ yrs</li><li>12+ yrs</li><li>12+ yrs</li><li>12+ yrs</li><li>12+ yrs</li><li>12+ yrs</li><li>12+ yrs</li><li>12+ yrs</li><li>12+ yrs</li><li>12+ yrs</li><li>12+ yrs</li><li>12+ yrs</li><li>12+ yrs</li><li>12+ yrs</li><li>12+ yrs</li><li>0-5yrs</li><li>0-5yrs</li><li>0-5yrs</li><li>0-5yrs</li><li>6-11yrs</li><li>6-11yrs</li><li>6-11yrs</li><li>6-11yrs</li><li>6-11yrs</li><li>6-11yrs</li><li>6-11yrs</li><li>6-11yrs</li><li>6-11yrs</li><li>6-11yrs</li><li>6-11yrs</li><li>6-11yrs</li><li>6-11yrs</li><li>6-11yrs</li><li>6-11yrs</li><li>6-11yrs</li><li>6-11yrs</li><li>6-11yrs</li><li>6-11yrs</li><li>6-11yrs</li><li>6-11yrs</li><li>6-11yrs</li><li>6-11yrs</li><li>6-11yrs</li><li>6-11yrs</li><li>6-11yrs</li><li>6-11yrs</li><li>6-11yrs</li><li>6-11yrs</li><li>6-11yrs</li><li>6-11yrs</li><li>6-11yrs</li><li>6-11yrs</li><li>6-11yrs</li><li>6-11yrs</li><li>6-11yrs</li><li>6-11yrs</li><li>6-11yrs</li><li>6-11yrs</li><li>6-11yrs</li><li>12+ yrs</li><li>12+ yrs</li><li>12+ yrs</li><li>12+ yrs</li><li>12+ yrs</li><li>12+ yrs</li><li>12+ yrs</li><li>12+ yrs</li><li>12+ yrs</li><li>12+ yrs</li><li>12+ yrs</li><li>12+ yrs</li><li>12+ yrs</li><li>12+ yrs</li><li>12+ yrs</li><li>12+ yrs</li><li>12+ yrs</li><li>12+ yrs</li><li>12+ yrs</li><li>12+ yrs</li><li>12+ yrs</li><li>12+ yrs</li><li>12+ yrs</li><li>12+ yrs</li><li>12+ yrs</li><li>12+ yrs</li><li>12+ yrs</li><li>12+ yrs</li><li>12+ yrs</li><li>12+ yrs</li><li>12+ yrs</li><li>12+ yrs</li><li>12+ yrs</li><li>12+ yrs</li><li>12+ yrs</li><li>12+ yrs</li><li>12+ yrs</li><li>12+ yrs</li><li>0-5yrs</li><li>0-5yrs</li><li>0-5yrs</li><li>0-5yrs</li><li>6-11yrs</li><li>6-11yrs</li><li>6-11yrs</li><li>6-11yrs</li><li>6-11yrs</li><li>6-11yrs</li><li>6-11yrs</li><li>6-11yrs</li><li>6-11yrs</li><li>6-11yrs</li><li>6-11yrs</li><li>6-11yrs</li><li>6-11yrs</li><li>6-11yrs</li><li>6-11yrs</li><li>6-11yrs</li><li>6-11yrs</li><li>6-11yrs</li><li>6-11yrs</li><li>6-11yrs</li><li>6-11yrs</li><li>6-11yrs</li><li>6-11yrs</li><li>6-11yrs</li><li>6-11yrs</li><li>6-11yrs</li><li>6-11yrs</li><li>6-11yrs</li><li>6-11yrs</li><li>6-11yrs</li><li>6-11yrs</li><li>6-11yrs</li><li>6-11yrs</li><li>6-11yrs</li><li>6-11yrs</li><li>6-11yrs</li><li>6-11yrs</li><li>6-11yrs</li><li>6-11yrs</li><li>6-11yrs</li><li>12+ yrs</li><li>12+ yrs</li><li>12+ yrs</li><li>12+ yrs</li><li>12+ yrs</li><li>12+ yrs</li><li>12+ yrs</li><li>12+ yrs</li><li>12+ yrs</li><li>12+ yrs</li><li>12+ yrs</li><li>12+ yrs</li><li>12+ yrs</li><li>12+ yrs</li><li>12+ yrs</li><li>12+ yrs</li><li>12+ yrs</li><li>12+ yrs</li><li>12+ yrs</li><li>12+ yrs</li><li>12+ yrs</li><li>12+ yrs</li><li>12+ yrs</li><li>12+ yrs</li><li>12+ yrs</li><li>12+ yrs</li><li>12+ yrs</li><li>12+ yrs</li><li>12+ yrs</li><li>12+ yrs</li><li>12+ yrs</li><li>12+ yrs</li><li>12+ yrs</li><li>12+ yrs</li><li>12+ yrs</li><li>12+ yrs</li><li>12+ yrs</li><li>12+ yrs</li><li>12+ yrs</li></ol>\n",
       "\n",
       "<details>\n",
       "\t<summary style=display:list-item;cursor:pointer>\n",
       "\t\t<strong>Levels</strong>:\n",
       "\t</summary>\n",
       "\t<style>\n",
       "\t.list-inline {list-style: none; margin:0; padding: 0}\n",
       "\t.list-inline>li {display: inline-block}\n",
       "\t.list-inline>li:not(:last-child)::after {content: \"\\00b7\"; padding: 0 .5ex}\n",
       "\t</style>\n",
       "\t<ol class=list-inline><li>'0-5yrs'</li><li>'6-11yrs'</li><li>'12+ yrs'</li></ol>\n",
       "</details>"
      ],
      "text/latex": [
       "\\begin{enumerate*}\n",
       "\\item 0-5yrs\n",
       "\\item 0-5yrs\n",
       "\\item 0-5yrs\n",
       "\\item 0-5yrs\n",
       "\\item 6-11yrs\n",
       "\\item 6-11yrs\n",
       "\\item 6-11yrs\n",
       "\\item 6-11yrs\n",
       "\\item 6-11yrs\n",
       "\\item 6-11yrs\n",
       "\\item 6-11yrs\n",
       "\\item 6-11yrs\n",
       "\\item 6-11yrs\n",
       "\\item 6-11yrs\n",
       "\\item 6-11yrs\n",
       "\\item 6-11yrs\n",
       "\\item 6-11yrs\n",
       "\\item 6-11yrs\n",
       "\\item 6-11yrs\n",
       "\\item 6-11yrs\n",
       "\\item 6-11yrs\n",
       "\\item 6-11yrs\n",
       "\\item 6-11yrs\n",
       "\\item 6-11yrs\n",
       "\\item 6-11yrs\n",
       "\\item 6-11yrs\n",
       "\\item 6-11yrs\n",
       "\\item 6-11yrs\n",
       "\\item 6-11yrs\n",
       "\\item 6-11yrs\n",
       "\\item 6-11yrs\n",
       "\\item 6-11yrs\n",
       "\\item 6-11yrs\n",
       "\\item 6-11yrs\n",
       "\\item 6-11yrs\n",
       "\\item 6-11yrs\n",
       "\\item 6-11yrs\n",
       "\\item 6-11yrs\n",
       "\\item 6-11yrs\n",
       "\\item 6-11yrs\n",
       "\\item 6-11yrs\n",
       "\\item 6-11yrs\n",
       "\\item 6-11yrs\n",
       "\\item 6-11yrs\n",
       "\\item 12+ yrs\n",
       "\\item 12+ yrs\n",
       "\\item 12+ yrs\n",
       "\\item 12+ yrs\n",
       "\\item 12+ yrs\n",
       "\\item 12+ yrs\n",
       "\\item 12+ yrs\n",
       "\\item 12+ yrs\n",
       "\\item 12+ yrs\n",
       "\\item 12+ yrs\n",
       "\\item 12+ yrs\n",
       "\\item 12+ yrs\n",
       "\\item 12+ yrs\n",
       "\\item 12+ yrs\n",
       "\\item 12+ yrs\n",
       "\\item 12+ yrs\n",
       "\\item 12+ yrs\n",
       "\\item 12+ yrs\n",
       "\\item 12+ yrs\n",
       "\\item 12+ yrs\n",
       "\\item 12+ yrs\n",
       "\\item 12+ yrs\n",
       "\\item 12+ yrs\n",
       "\\item 12+ yrs\n",
       "\\item 12+ yrs\n",
       "\\item 12+ yrs\n",
       "\\item 12+ yrs\n",
       "\\item 12+ yrs\n",
       "\\item 12+ yrs\n",
       "\\item 12+ yrs\n",
       "\\item 12+ yrs\n",
       "\\item 12+ yrs\n",
       "\\item 12+ yrs\n",
       "\\item 12+ yrs\n",
       "\\item 12+ yrs\n",
       "\\item 12+ yrs\n",
       "\\item 12+ yrs\n",
       "\\item 12+ yrs\n",
       "\\item 12+ yrs\n",
       "\\item 0-5yrs\n",
       "\\item 0-5yrs\n",
       "\\item 0-5yrs\n",
       "\\item 0-5yrs\n",
       "\\item 6-11yrs\n",
       "\\item 6-11yrs\n",
       "\\item 6-11yrs\n",
       "\\item 6-11yrs\n",
       "\\item 6-11yrs\n",
       "\\item 6-11yrs\n",
       "\\item 6-11yrs\n",
       "\\item 6-11yrs\n",
       "\\item 6-11yrs\n",
       "\\item 6-11yrs\n",
       "\\item 6-11yrs\n",
       "\\item 6-11yrs\n",
       "\\item 6-11yrs\n",
       "\\item 6-11yrs\n",
       "\\item 6-11yrs\n",
       "\\item 6-11yrs\n",
       "\\item 6-11yrs\n",
       "\\item 6-11yrs\n",
       "\\item 6-11yrs\n",
       "\\item 6-11yrs\n",
       "\\item 6-11yrs\n",
       "\\item 6-11yrs\n",
       "\\item 6-11yrs\n",
       "\\item 6-11yrs\n",
       "\\item 6-11yrs\n",
       "\\item 6-11yrs\n",
       "\\item 6-11yrs\n",
       "\\item 6-11yrs\n",
       "\\item 6-11yrs\n",
       "\\item 6-11yrs\n",
       "\\item 6-11yrs\n",
       "\\item 6-11yrs\n",
       "\\item 6-11yrs\n",
       "\\item 6-11yrs\n",
       "\\item 6-11yrs\n",
       "\\item 6-11yrs\n",
       "\\item 6-11yrs\n",
       "\\item 6-11yrs\n",
       "\\item 6-11yrs\n",
       "\\item 6-11yrs\n",
       "\\item 12+ yrs\n",
       "\\item 12+ yrs\n",
       "\\item 12+ yrs\n",
       "\\item 12+ yrs\n",
       "\\item 12+ yrs\n",
       "\\item 12+ yrs\n",
       "\\item 12+ yrs\n",
       "\\item 12+ yrs\n",
       "\\item 12+ yrs\n",
       "\\item 12+ yrs\n",
       "\\item 12+ yrs\n",
       "\\item 12+ yrs\n",
       "\\item 12+ yrs\n",
       "\\item 12+ yrs\n",
       "\\item 12+ yrs\n",
       "\\item 12+ yrs\n",
       "\\item 12+ yrs\n",
       "\\item 12+ yrs\n",
       "\\item 12+ yrs\n",
       "\\item 12+ yrs\n",
       "\\item 12+ yrs\n",
       "\\item 12+ yrs\n",
       "\\item 12+ yrs\n",
       "\\item 12+ yrs\n",
       "\\item 12+ yrs\n",
       "\\item 12+ yrs\n",
       "\\item 12+ yrs\n",
       "\\item 12+ yrs\n",
       "\\item 12+ yrs\n",
       "\\item 12+ yrs\n",
       "\\item 12+ yrs\n",
       "\\item 12+ yrs\n",
       "\\item 12+ yrs\n",
       "\\item 12+ yrs\n",
       "\\item 12+ yrs\n",
       "\\item 12+ yrs\n",
       "\\item 12+ yrs\n",
       "\\item 12+ yrs\n",
       "\\item 0-5yrs\n",
       "\\item 0-5yrs\n",
       "\\item 0-5yrs\n",
       "\\item 0-5yrs\n",
       "\\item 6-11yrs\n",
       "\\item 6-11yrs\n",
       "\\item 6-11yrs\n",
       "\\item 6-11yrs\n",
       "\\item 6-11yrs\n",
       "\\item 6-11yrs\n",
       "\\item 6-11yrs\n",
       "\\item 6-11yrs\n",
       "\\item 6-11yrs\n",
       "\\item 6-11yrs\n",
       "\\item 6-11yrs\n",
       "\\item 6-11yrs\n",
       "\\item 6-11yrs\n",
       "\\item 6-11yrs\n",
       "\\item 6-11yrs\n",
       "\\item 6-11yrs\n",
       "\\item 6-11yrs\n",
       "\\item 6-11yrs\n",
       "\\item 6-11yrs\n",
       "\\item 6-11yrs\n",
       "\\item 6-11yrs\n",
       "\\item 6-11yrs\n",
       "\\item 6-11yrs\n",
       "\\item 6-11yrs\n",
       "\\item 6-11yrs\n",
       "\\item 6-11yrs\n",
       "\\item 6-11yrs\n",
       "\\item 6-11yrs\n",
       "\\item 6-11yrs\n",
       "\\item 6-11yrs\n",
       "\\item 6-11yrs\n",
       "\\item 6-11yrs\n",
       "\\item 6-11yrs\n",
       "\\item 6-11yrs\n",
       "\\item 6-11yrs\n",
       "\\item 6-11yrs\n",
       "\\item 6-11yrs\n",
       "\\item 6-11yrs\n",
       "\\item 6-11yrs\n",
       "\\item 6-11yrs\n",
       "\\item 12+ yrs\n",
       "\\item 12+ yrs\n",
       "\\item 12+ yrs\n",
       "\\item 12+ yrs\n",
       "\\item 12+ yrs\n",
       "\\item 12+ yrs\n",
       "\\item 12+ yrs\n",
       "\\item 12+ yrs\n",
       "\\item 12+ yrs\n",
       "\\item 12+ yrs\n",
       "\\item 12+ yrs\n",
       "\\item 12+ yrs\n",
       "\\item 12+ yrs\n",
       "\\item 12+ yrs\n",
       "\\item 12+ yrs\n",
       "\\item 12+ yrs\n",
       "\\item 12+ yrs\n",
       "\\item 12+ yrs\n",
       "\\item 12+ yrs\n",
       "\\item 12+ yrs\n",
       "\\item 12+ yrs\n",
       "\\item 12+ yrs\n",
       "\\item 12+ yrs\n",
       "\\item 12+ yrs\n",
       "\\item 12+ yrs\n",
       "\\item 12+ yrs\n",
       "\\item 12+ yrs\n",
       "\\item 12+ yrs\n",
       "\\item 12+ yrs\n",
       "\\item 12+ yrs\n",
       "\\item 12+ yrs\n",
       "\\item 12+ yrs\n",
       "\\item 12+ yrs\n",
       "\\item 12+ yrs\n",
       "\\item 12+ yrs\n",
       "\\item 12+ yrs\n",
       "\\item 12+ yrs\n",
       "\\item 12+ yrs\n",
       "\\item 12+ yrs\n",
       "\\end{enumerate*}\n",
       "\n",
       "\\emph{Levels}: \\begin{enumerate*}\n",
       "\\item '0-5yrs'\n",
       "\\item '6-11yrs'\n",
       "\\item '12+ yrs'\n",
       "\\end{enumerate*}\n"
      ],
      "text/markdown": [
       "1. 0-5yrs\n",
       "2. 0-5yrs\n",
       "3. 0-5yrs\n",
       "4. 0-5yrs\n",
       "5. 6-11yrs\n",
       "6. 6-11yrs\n",
       "7. 6-11yrs\n",
       "8. 6-11yrs\n",
       "9. 6-11yrs\n",
       "10. 6-11yrs\n",
       "11. 6-11yrs\n",
       "12. 6-11yrs\n",
       "13. 6-11yrs\n",
       "14. 6-11yrs\n",
       "15. 6-11yrs\n",
       "16. 6-11yrs\n",
       "17. 6-11yrs\n",
       "18. 6-11yrs\n",
       "19. 6-11yrs\n",
       "20. 6-11yrs\n",
       "21. 6-11yrs\n",
       "22. 6-11yrs\n",
       "23. 6-11yrs\n",
       "24. 6-11yrs\n",
       "25. 6-11yrs\n",
       "26. 6-11yrs\n",
       "27. 6-11yrs\n",
       "28. 6-11yrs\n",
       "29. 6-11yrs\n",
       "30. 6-11yrs\n",
       "31. 6-11yrs\n",
       "32. 6-11yrs\n",
       "33. 6-11yrs\n",
       "34. 6-11yrs\n",
       "35. 6-11yrs\n",
       "36. 6-11yrs\n",
       "37. 6-11yrs\n",
       "38. 6-11yrs\n",
       "39. 6-11yrs\n",
       "40. 6-11yrs\n",
       "41. 6-11yrs\n",
       "42. 6-11yrs\n",
       "43. 6-11yrs\n",
       "44. 6-11yrs\n",
       "45. 12+ yrs\n",
       "46. 12+ yrs\n",
       "47. 12+ yrs\n",
       "48. 12+ yrs\n",
       "49. 12+ yrs\n",
       "50. 12+ yrs\n",
       "51. 12+ yrs\n",
       "52. 12+ yrs\n",
       "53. 12+ yrs\n",
       "54. 12+ yrs\n",
       "55. 12+ yrs\n",
       "56. 12+ yrs\n",
       "57. 12+ yrs\n",
       "58. 12+ yrs\n",
       "59. 12+ yrs\n",
       "60. 12+ yrs\n",
       "61. 12+ yrs\n",
       "62. 12+ yrs\n",
       "63. 12+ yrs\n",
       "64. 12+ yrs\n",
       "65. 12+ yrs\n",
       "66. 12+ yrs\n",
       "67. 12+ yrs\n",
       "68. 12+ yrs\n",
       "69. 12+ yrs\n",
       "70. 12+ yrs\n",
       "71. 12+ yrs\n",
       "72. 12+ yrs\n",
       "73. 12+ yrs\n",
       "74. 12+ yrs\n",
       "75. 12+ yrs\n",
       "76. 12+ yrs\n",
       "77. 12+ yrs\n",
       "78. 12+ yrs\n",
       "79. 12+ yrs\n",
       "80. 12+ yrs\n",
       "81. 12+ yrs\n",
       "82. 12+ yrs\n",
       "83. 12+ yrs\n",
       "84. 0-5yrs\n",
       "85. 0-5yrs\n",
       "86. 0-5yrs\n",
       "87. 0-5yrs\n",
       "88. 6-11yrs\n",
       "89. 6-11yrs\n",
       "90. 6-11yrs\n",
       "91. 6-11yrs\n",
       "92. 6-11yrs\n",
       "93. 6-11yrs\n",
       "94. 6-11yrs\n",
       "95. 6-11yrs\n",
       "96. 6-11yrs\n",
       "97. 6-11yrs\n",
       "98. 6-11yrs\n",
       "99. 6-11yrs\n",
       "100. 6-11yrs\n",
       "101. 6-11yrs\n",
       "102. 6-11yrs\n",
       "103. 6-11yrs\n",
       "104. 6-11yrs\n",
       "105. 6-11yrs\n",
       "106. 6-11yrs\n",
       "107. 6-11yrs\n",
       "108. 6-11yrs\n",
       "109. 6-11yrs\n",
       "110. 6-11yrs\n",
       "111. 6-11yrs\n",
       "112. 6-11yrs\n",
       "113. 6-11yrs\n",
       "114. 6-11yrs\n",
       "115. 6-11yrs\n",
       "116. 6-11yrs\n",
       "117. 6-11yrs\n",
       "118. 6-11yrs\n",
       "119. 6-11yrs\n",
       "120. 6-11yrs\n",
       "121. 6-11yrs\n",
       "122. 6-11yrs\n",
       "123. 6-11yrs\n",
       "124. 6-11yrs\n",
       "125. 6-11yrs\n",
       "126. 6-11yrs\n",
       "127. 6-11yrs\n",
       "128. 12+ yrs\n",
       "129. 12+ yrs\n",
       "130. 12+ yrs\n",
       "131. 12+ yrs\n",
       "132. 12+ yrs\n",
       "133. 12+ yrs\n",
       "134. 12+ yrs\n",
       "135. 12+ yrs\n",
       "136. 12+ yrs\n",
       "137. 12+ yrs\n",
       "138. 12+ yrs\n",
       "139. 12+ yrs\n",
       "140. 12+ yrs\n",
       "141. 12+ yrs\n",
       "142. 12+ yrs\n",
       "143. 12+ yrs\n",
       "144. 12+ yrs\n",
       "145. 12+ yrs\n",
       "146. 12+ yrs\n",
       "147. 12+ yrs\n",
       "148. 12+ yrs\n",
       "149. 12+ yrs\n",
       "150. 12+ yrs\n",
       "151. 12+ yrs\n",
       "152. 12+ yrs\n",
       "153. 12+ yrs\n",
       "154. 12+ yrs\n",
       "155. 12+ yrs\n",
       "156. 12+ yrs\n",
       "157. 12+ yrs\n",
       "158. 12+ yrs\n",
       "159. 12+ yrs\n",
       "160. 12+ yrs\n",
       "161. 12+ yrs\n",
       "162. 12+ yrs\n",
       "163. 12+ yrs\n",
       "164. 12+ yrs\n",
       "165. 12+ yrs\n",
       "166. 0-5yrs\n",
       "167. 0-5yrs\n",
       "168. 0-5yrs\n",
       "169. 0-5yrs\n",
       "170. 6-11yrs\n",
       "171. 6-11yrs\n",
       "172. 6-11yrs\n",
       "173. 6-11yrs\n",
       "174. 6-11yrs\n",
       "175. 6-11yrs\n",
       "176. 6-11yrs\n",
       "177. 6-11yrs\n",
       "178. 6-11yrs\n",
       "179. 6-11yrs\n",
       "180. 6-11yrs\n",
       "181. 6-11yrs\n",
       "182. 6-11yrs\n",
       "183. 6-11yrs\n",
       "184. 6-11yrs\n",
       "185. 6-11yrs\n",
       "186. 6-11yrs\n",
       "187. 6-11yrs\n",
       "188. 6-11yrs\n",
       "189. 6-11yrs\n",
       "190. 6-11yrs\n",
       "191. 6-11yrs\n",
       "192. 6-11yrs\n",
       "193. 6-11yrs\n",
       "194. 6-11yrs\n",
       "195. 6-11yrs\n",
       "196. 6-11yrs\n",
       "197. 6-11yrs\n",
       "198. 6-11yrs\n",
       "199. 6-11yrs\n",
       "200. 6-11yrs\n",
       "201. 6-11yrs\n",
       "202. 6-11yrs\n",
       "203. 6-11yrs\n",
       "204. 6-11yrs\n",
       "205. 6-11yrs\n",
       "206. 6-11yrs\n",
       "207. 6-11yrs\n",
       "208. 6-11yrs\n",
       "209. 6-11yrs\n",
       "210. 12+ yrs\n",
       "211. 12+ yrs\n",
       "212. 12+ yrs\n",
       "213. 12+ yrs\n",
       "214. 12+ yrs\n",
       "215. 12+ yrs\n",
       "216. 12+ yrs\n",
       "217. 12+ yrs\n",
       "218. 12+ yrs\n",
       "219. 12+ yrs\n",
       "220. 12+ yrs\n",
       "221. 12+ yrs\n",
       "222. 12+ yrs\n",
       "223. 12+ yrs\n",
       "224. 12+ yrs\n",
       "225. 12+ yrs\n",
       "226. 12+ yrs\n",
       "227. 12+ yrs\n",
       "228. 12+ yrs\n",
       "229. 12+ yrs\n",
       "230. 12+ yrs\n",
       "231. 12+ yrs\n",
       "232. 12+ yrs\n",
       "233. 12+ yrs\n",
       "234. 12+ yrs\n",
       "235. 12+ yrs\n",
       "236. 12+ yrs\n",
       "237. 12+ yrs\n",
       "238. 12+ yrs\n",
       "239. 12+ yrs\n",
       "240. 12+ yrs\n",
       "241. 12+ yrs\n",
       "242. 12+ yrs\n",
       "243. 12+ yrs\n",
       "244. 12+ yrs\n",
       "245. 12+ yrs\n",
       "246. 12+ yrs\n",
       "247. 12+ yrs\n",
       "248. 12+ yrs\n",
       "\n",
       "\n",
       "\n",
       "**Levels**: 1. '0-5yrs'\n",
       "2. '6-11yrs'\n",
       "3. '12+ yrs'\n",
       "\n",
       "\n"
      ],
      "text/plain": [
       "  [1] 0-5yrs  0-5yrs  0-5yrs  0-5yrs  6-11yrs 6-11yrs 6-11yrs 6-11yrs 6-11yrs\n",
       " [10] 6-11yrs 6-11yrs 6-11yrs 6-11yrs 6-11yrs 6-11yrs 6-11yrs 6-11yrs 6-11yrs\n",
       " [19] 6-11yrs 6-11yrs 6-11yrs 6-11yrs 6-11yrs 6-11yrs 6-11yrs 6-11yrs 6-11yrs\n",
       " [28] 6-11yrs 6-11yrs 6-11yrs 6-11yrs 6-11yrs 6-11yrs 6-11yrs 6-11yrs 6-11yrs\n",
       " [37] 6-11yrs 6-11yrs 6-11yrs 6-11yrs 6-11yrs 6-11yrs 6-11yrs 6-11yrs 12+ yrs\n",
       " [46] 12+ yrs 12+ yrs 12+ yrs 12+ yrs 12+ yrs 12+ yrs 12+ yrs 12+ yrs 12+ yrs\n",
       " [55] 12+ yrs 12+ yrs 12+ yrs 12+ yrs 12+ yrs 12+ yrs 12+ yrs 12+ yrs 12+ yrs\n",
       " [64] 12+ yrs 12+ yrs 12+ yrs 12+ yrs 12+ yrs 12+ yrs 12+ yrs 12+ yrs 12+ yrs\n",
       " [73] 12+ yrs 12+ yrs 12+ yrs 12+ yrs 12+ yrs 12+ yrs 12+ yrs 12+ yrs 12+ yrs\n",
       " [82] 12+ yrs 12+ yrs 0-5yrs  0-5yrs  0-5yrs  0-5yrs  6-11yrs 6-11yrs 6-11yrs\n",
       " [91] 6-11yrs 6-11yrs 6-11yrs 6-11yrs 6-11yrs 6-11yrs 6-11yrs 6-11yrs 6-11yrs\n",
       "[100] 6-11yrs 6-11yrs 6-11yrs 6-11yrs 6-11yrs 6-11yrs 6-11yrs 6-11yrs 6-11yrs\n",
       "[109] 6-11yrs 6-11yrs 6-11yrs 6-11yrs 6-11yrs 6-11yrs 6-11yrs 6-11yrs 6-11yrs\n",
       "[118] 6-11yrs 6-11yrs 6-11yrs 6-11yrs 6-11yrs 6-11yrs 6-11yrs 6-11yrs 6-11yrs\n",
       "[127] 6-11yrs 12+ yrs 12+ yrs 12+ yrs 12+ yrs 12+ yrs 12+ yrs 12+ yrs 12+ yrs\n",
       "[136] 12+ yrs 12+ yrs 12+ yrs 12+ yrs 12+ yrs 12+ yrs 12+ yrs 12+ yrs 12+ yrs\n",
       "[145] 12+ yrs 12+ yrs 12+ yrs 12+ yrs 12+ yrs 12+ yrs 12+ yrs 12+ yrs 12+ yrs\n",
       "[154] 12+ yrs 12+ yrs 12+ yrs 12+ yrs 12+ yrs 12+ yrs 12+ yrs 12+ yrs 12+ yrs\n",
       "[163] 12+ yrs 12+ yrs 12+ yrs 0-5yrs  0-5yrs  0-5yrs  0-5yrs  6-11yrs 6-11yrs\n",
       "[172] 6-11yrs 6-11yrs 6-11yrs 6-11yrs 6-11yrs 6-11yrs 6-11yrs 6-11yrs 6-11yrs\n",
       "[181] 6-11yrs 6-11yrs 6-11yrs 6-11yrs 6-11yrs 6-11yrs 6-11yrs 6-11yrs 6-11yrs\n",
       "[190] 6-11yrs 6-11yrs 6-11yrs 6-11yrs 6-11yrs 6-11yrs 6-11yrs 6-11yrs 6-11yrs\n",
       "[199] 6-11yrs 6-11yrs 6-11yrs 6-11yrs 6-11yrs 6-11yrs 6-11yrs 6-11yrs 6-11yrs\n",
       "[208] 6-11yrs 6-11yrs 12+ yrs 12+ yrs 12+ yrs 12+ yrs 12+ yrs 12+ yrs 12+ yrs\n",
       "[217] 12+ yrs 12+ yrs 12+ yrs 12+ yrs 12+ yrs 12+ yrs 12+ yrs 12+ yrs 12+ yrs\n",
       "[226] 12+ yrs 12+ yrs 12+ yrs 12+ yrs 12+ yrs 12+ yrs 12+ yrs 12+ yrs 12+ yrs\n",
       "[235] 12+ yrs 12+ yrs 12+ yrs 12+ yrs 12+ yrs 12+ yrs 12+ yrs 12+ yrs 12+ yrs\n",
       "[244] 12+ yrs 12+ yrs 12+ yrs 12+ yrs 12+ yrs\n",
       "Levels: 0-5yrs 6-11yrs 12+ yrs"
      ]
     },
     "metadata": {},
     "output_type": "display_data"
    },
    {
     "data": {
      "text/html": [
       "<style>\n",
       ".list-inline {list-style: none; margin:0; padding: 0}\n",
       ".list-inline>li {display: inline-block}\n",
       ".list-inline>li:not(:last-child)::after {content: \"\\00b7\"; padding: 0 .5ex}\n",
       "</style>\n",
       "<ol class=list-inline><li>'0-5yrs'</li><li>'6-11yrs'</li><li>'12+ yrs'</li></ol>\n"
      ],
      "text/latex": [
       "\\begin{enumerate*}\n",
       "\\item '0-5yrs'\n",
       "\\item '6-11yrs'\n",
       "\\item '12+ yrs'\n",
       "\\end{enumerate*}\n"
      ],
      "text/markdown": [
       "1. '0-5yrs'\n",
       "2. '6-11yrs'\n",
       "3. '12+ yrs'\n",
       "\n",
       "\n"
      ],
      "text/plain": [
       "[1] \"0-5yrs\"  \"6-11yrs\" \"12+ yrs\""
      ]
     },
     "metadata": {},
     "output_type": "display_data"
    }
   ],
   "source": [
    "# Factors are commonly seen in data frames, a data structure we will cover later\n",
    "data(infert)             # \"Infertility after Spontaneous and Induced Abortion\"\n",
    "infert\n",
    "infert$education\n",
    "levels(infert$education) # \"0-5yrs\"  \"6-11yrs\" \"12+ yrs\""
   ]
  },
  {
   "cell_type": "code",
   "execution_count": 118,
   "id": "e70caeb3-8c26-4bc5-aad0-074aca9e7af9",
   "metadata": {},
   "outputs": [
    {
     "data": {
      "text/html": [
       "'NULL'"
      ],
      "text/latex": [
       "'NULL'"
      ],
      "text/markdown": [
       "'NULL'"
      ],
      "text/plain": [
       "[1] \"NULL\""
      ]
     },
     "metadata": {},
     "output_type": "display_data"
    },
    {
     "data": {
      "text/html": [
       "<style>\n",
       ".list-inline {list-style: none; margin:0; padding: 0}\n",
       ".list-inline>li {display: inline-block}\n",
       ".list-inline>li:not(:last-child)::after {content: \"\\00b7\"; padding: 0 .5ex}\n",
       "</style>\n",
       "<ol class=list-inline><li>'beak'</li><li>'feathers'</li><li>'wings'</li><li>'eyes'</li></ol>\n"
      ],
      "text/latex": [
       "\\begin{enumerate*}\n",
       "\\item 'beak'\n",
       "\\item 'feathers'\n",
       "\\item 'wings'\n",
       "\\item 'eyes'\n",
       "\\end{enumerate*}\n"
      ],
      "text/markdown": [
       "1. 'beak'\n",
       "2. 'feathers'\n",
       "3. 'wings'\n",
       "4. 'eyes'\n",
       "\n",
       "\n"
      ],
      "text/plain": [
       "[1] \"beak\"     \"feathers\" \"wings\"    \"eyes\"    "
      ]
     },
     "metadata": {},
     "output_type": "display_data"
    }
   ],
   "source": [
    "# NULL\n",
    "# \"NULL\" is a weird one; use it to \"blank out\" a vector\n",
    "class(NULL) # NULL\n",
    "parakeet = c(\"beak\", \"feathers\", \"wings\", \"eyes\")\n",
    "parakeet # \"beak\"     \"feathers\" \"wings\"    \"eyes\""
   ]
  },
  {
   "cell_type": "code",
   "execution_count": 119,
   "id": "91af29ed-60af-4a69-b4b1-a541963a1f66",
   "metadata": {},
   "outputs": [
    {
     "data": {
      "text/plain": [
       "NULL"
      ]
     },
     "metadata": {},
     "output_type": "display_data"
    }
   ],
   "source": [
    "parakeet <- NULL\n",
    "parakeet # NULL"
   ]
  },
  {
   "cell_type": "markdown",
   "id": "8a0ce092-b844-4bef-8f97-53d410cac71f",
   "metadata": {},
   "source": [
    "### Type coercion"
   ]
  },
  {
   "cell_type": "code",
   "execution_count": 120,
   "id": "bdb58c72-2d42-4639-a800-59c144e48d77",
   "metadata": {},
   "outputs": [
    {
     "data": {
      "text/html": [
       "<style>\n",
       ".list-inline {list-style: none; margin:0; padding: 0}\n",
       ".list-inline>li {display: inline-block}\n",
       ".list-inline>li:not(:last-child)::after {content: \"\\00b7\"; padding: 0 .5ex}\n",
       "</style>\n",
       "<ol class=list-inline><li>6</li><li>8</li></ol>\n"
      ],
      "text/latex": [
       "\\begin{enumerate*}\n",
       "\\item 6\n",
       "\\item 8\n",
       "\\end{enumerate*}\n"
      ],
      "text/markdown": [
       "1. 6\n",
       "2. 8\n",
       "\n",
       "\n"
      ],
      "text/plain": [
       "[1] 6 8"
      ]
     },
     "metadata": {},
     "output_type": "display_data"
    },
    {
     "data": {
      "text/html": [
       "<style>\n",
       ".list-inline {list-style: none; margin:0; padding: 0}\n",
       ".list-inline>li {display: inline-block}\n",
       ".list-inline>li:not(:last-child)::after {content: \"\\00b7\"; padding: 0 .5ex}\n",
       "</style>\n",
       "<ol class=list-inline><li>'6'</li><li>'8'</li></ol>\n"
      ],
      "text/latex": [
       "\\begin{enumerate*}\n",
       "\\item '6'\n",
       "\\item '8'\n",
       "\\end{enumerate*}\n"
      ],
      "text/markdown": [
       "1. '6'\n",
       "2. '8'\n",
       "\n",
       "\n"
      ],
      "text/plain": [
       "[1] \"6\" \"8\""
      ]
     },
     "metadata": {},
     "output_type": "display_data"
    }
   ],
   "source": [
    "# TYPE COERCION\n",
    "# Type-coercion is when you force a value to take on a different type\n",
    "c(6,8)\n",
    "as.character(c(6, 8))   # \"6\" \"8\""
   ]
  },
  {
   "cell_type": "code",
   "execution_count": 121,
   "id": "30facb78-2f95-4803-ad85-7793e5667e1e",
   "metadata": {},
   "outputs": [
    {
     "data": {
      "text/html": [
       "<style>\n",
       ".list-inline {list-style: none; margin:0; padding: 0}\n",
       ".list-inline>li {display: inline-block}\n",
       ".list-inline>li:not(:last-child)::after {content: \"\\00b7\"; padding: 0 .5ex}\n",
       "</style>\n",
       "<ol class=list-inline><li>TRUE</li><li>FALSE</li><li>TRUE</li><li>TRUE</li></ol>\n"
      ],
      "text/latex": [
       "\\begin{enumerate*}\n",
       "\\item TRUE\n",
       "\\item FALSE\n",
       "\\item TRUE\n",
       "\\item TRUE\n",
       "\\end{enumerate*}\n"
      ],
      "text/markdown": [
       "1. TRUE\n",
       "2. FALSE\n",
       "3. TRUE\n",
       "4. TRUE\n",
       "\n",
       "\n"
      ],
      "text/plain": [
       "[1]  TRUE FALSE  TRUE  TRUE"
      ]
     },
     "metadata": {},
     "output_type": "display_data"
    }
   ],
   "source": [
    "as.logical(c(1,0,1,1))  # TRUE FALSE  TRUE  TRUE"
   ]
  },
  {
   "cell_type": "code",
   "execution_count": 122,
   "id": "4d2236ad-06f0-4bfc-9efe-d509b1e91207",
   "metadata": {},
   "outputs": [
    {
     "data": {
      "text/html": [
       "<style>\n",
       ".list-inline {list-style: none; margin:0; padding: 0}\n",
       ".list-inline>li {display: inline-block}\n",
       ".list-inline>li:not(:last-child)::after {content: \"\\00b7\"; padding: 0 .5ex}\n",
       "</style>\n",
       "<ol class=list-inline><li>1</li><li>4</li></ol>\n"
      ],
      "text/latex": [
       "\\begin{enumerate*}\n",
       "\\item 1\n",
       "\\item 4\n",
       "\\end{enumerate*}\n"
      ],
      "text/markdown": [
       "1. 1\n",
       "2. 4\n",
       "\n",
       "\n"
      ],
      "text/plain": [
       "[1] 1 4"
      ]
     },
     "metadata": {},
     "output_type": "display_data"
    },
    {
     "data": {
      "text/html": [
       "<style>\n",
       ".list-inline {list-style: none; margin:0; padding: 0}\n",
       ".list-inline>li {display: inline-block}\n",
       ".list-inline>li:not(:last-child)::after {content: \"\\00b7\"; padding: 0 .5ex}\n",
       "</style>\n",
       "<ol class=list-inline><li>'dog'</li><li>'TRUE'</li><li>'4'</li></ol>\n"
      ],
      "text/latex": [
       "\\begin{enumerate*}\n",
       "\\item 'dog'\n",
       "\\item 'TRUE'\n",
       "\\item '4'\n",
       "\\end{enumerate*}\n"
      ],
      "text/markdown": [
       "1. 'dog'\n",
       "2. 'TRUE'\n",
       "3. '4'\n",
       "\n",
       "\n"
      ],
      "text/plain": [
       "[1] \"dog\"  \"TRUE\" \"4\"   "
      ]
     },
     "metadata": {},
     "output_type": "display_data"
    },
    {
     "name": "stderr",
     "output_type": "stream",
     "text": [
      "Warning message in eval(expr, envir, enclos):\n",
      "“NAs introduced by coercion”\n"
     ]
    },
    {
     "data": {
      "text/html": [
       "&lt;NA&gt;"
      ],
      "text/latex": [
       "<NA>"
      ],
      "text/markdown": [
       "&lt;NA&gt;"
      ],
      "text/plain": [
       "[1] NA"
      ]
     },
     "metadata": {},
     "output_type": "display_data"
    }
   ],
   "source": [
    "# If you put elements of different types into a vector, weird coercions happen:\n",
    "c(TRUE, 4)          # 1 4\n",
    "c(\"dog\", TRUE, 4)   # \"dog\"  \"TRUE\" \"4\", everything becomes a character\n",
    "as.numeric(\"Bilbo\")\n",
    "# =>\n",
    "# [1] NA\n",
    "# Warning message:\n",
    "# NAs introduced by coercion\n",
    "\n",
    "# Also note: those were just the basic data types\n",
    "# There are many more data types, such as for dates, time series, etc."
   ]
  },
  {
   "cell_type": "markdown",
   "id": "f50ac66a-72b1-4044-ab45-3c939d80f558",
   "metadata": {},
   "source": [
    "## Control structures"
   ]
  },
  {
   "cell_type": "markdown",
   "id": "4e27ac7e-176d-4950-9a4d-0acc528707ce",
   "metadata": {},
   "source": [
    "### Variables"
   ]
  },
  {
   "cell_type": "code",
   "execution_count": 123,
   "id": "7413766c-eb9b-4bdb-85ff-aa9182ef9a35",
   "metadata": {},
   "outputs": [],
   "source": [
    "##################################################\n",
    "# Variables, loops, if/else\n",
    "##################################################\n",
    "\n",
    "# A variable is like a box you store a value in for later use.\n",
    "# We call this \"assigning\" the value to the variable.\n",
    "# Having variables lets us write loops, functions, and if/else statements\n",
    "\n",
    "# VARIABLES\n",
    "# Lots of way to assign stuff:\n",
    "x = 5       # this is possible\n",
    "y <- \"1\"    # this is preferred traditionally\n",
    "TRUE -> z   # this works but is weird\n",
    "# Refer to the Internet for the behaviors and preferences about them."
   ]
  },
  {
   "cell_type": "markdown",
   "id": "217efbca-7e00-4ec4-9669-3749c2cc4e5c",
   "metadata": {},
   "source": [
    "### Loops"
   ]
  },
  {
   "cell_type": "code",
   "execution_count": 124,
   "id": "97e51c5e-52ba-4682-8afc-01f770f59fa2",
   "metadata": {},
   "outputs": [
    {
     "name": "stdout",
     "output_type": "stream",
     "text": [
      "[1] 1\n",
      "[1] 2\n",
      "[1] 3\n",
      "[1] 4\n"
     ]
    },
    {
     "data": {
      "text/html": [
       "1"
      ],
      "text/latex": [
       "1"
      ],
      "text/markdown": [
       "1"
      ],
      "text/plain": [
       "[1] 1"
      ]
     },
     "metadata": {},
     "output_type": "display_data"
    }
   ],
   "source": [
    "# LOOPS\n",
    "# We've got for loops\n",
    "for (i in 1:4) {\n",
    "    print(i)\n",
    "}\n",
    "c(1)"
   ]
  },
  {
   "cell_type": "code",
   "execution_count": 125,
   "id": "080187a4-2a37-4517-83a8-ab04f12f849b",
   "metadata": {},
   "outputs": [
    {
     "name": "stdout",
     "output_type": "stream",
     "text": [
      "10...9...8...7...6...5..."
     ]
    }
   ],
   "source": [
    "# We've got while loops\n",
    "a <- 10\n",
    "while (a > 4) {\n",
    "    cat(a, \"...\", sep = \"\") # Concatenate and print\n",
    "    a <- a - 1\n",
    "}\n",
    "# Keep in mind that for and while loops run slowly in R\n",
    "# Operations on entire vectors (i.e. a whole row, a whole column)\n",
    "# or apply()-type functions (we'll discuss later) are preferred"
   ]
  },
  {
   "cell_type": "markdown",
   "id": "7535e2f4-be99-41bb-b193-f80714dcf10e",
   "metadata": {},
   "source": [
    "### If/else"
   ]
  },
  {
   "cell_type": "code",
   "execution_count": 126,
   "id": "15c66da4-a535-40fb-9eae-1330cdaa5384",
   "metadata": {},
   "outputs": [
    {
     "name": "stdout",
     "output_type": "stream",
     "text": [
      "[1] \"4 is greater than 3\"\n"
     ]
    }
   ],
   "source": [
    "# IF/ELSE\n",
    "# Again, pretty standard\n",
    "if (4 > 3) {\n",
    "    print(\"4 is greater than 3\")\n",
    "} else {\n",
    "    print(\"4 is not greater than 3\")\n",
    "}\n",
    "# =>\n",
    "# [1] \"4 is greater than 3\""
   ]
  },
  {
   "cell_type": "markdown",
   "id": "a6d02f6a-e23f-4d23-9c9f-7e2b68d561ea",
   "metadata": {},
   "source": [
    "## Functions"
   ]
  },
  {
   "cell_type": "code",
   "execution_count": 127,
   "id": "90ea35b6-7c82-43e6-8088-b9311881ee7e",
   "metadata": {},
   "outputs": [
    {
     "data": {
      "text/html": [
       "5.96869683661544"
      ],
      "text/latex": [
       "5.96869683661544"
      ],
      "text/markdown": [
       "5.96869683661544"
      ],
      "text/plain": [
       "[1] 5.968697"
      ]
     },
     "metadata": {},
     "output_type": "display_data"
    }
   ],
   "source": [
    "# FUNCTIONS\n",
    "# Defined like so:\n",
    "jiggle <- function(x,mu) {\n",
    "    x = x + rnorm(1, mean=mu, sd=.1) # add in a bit of (controlled) noise\n",
    "    return(x)\n",
    "}\n",
    "# Called like any other R function:\n",
    "jiggle(5,1)   # 5±ε. After set.seed(2716057), jiggle(5)==5.005043"
   ]
  },
  {
   "cell_type": "code",
   "execution_count": 206,
   "id": "fa76805b-9e1c-4fa3-83b7-6cc9ce073c64",
   "metadata": {},
   "outputs": [
    {
     "data": {
      "text/html": [
       "5.96339922553762"
      ],
      "text/latex": [
       "5.96339922553762"
      ],
      "text/markdown": [
       "5.96339922553762"
      ],
      "text/plain": [
       "[1] 5.963399"
      ]
     },
     "metadata": {},
     "output_type": "display_data"
    }
   ],
   "source": [
    "# FUNCTIONS\n",
    "# Defined like so:\n",
    "jiggle_1arg <- function(x) {\n",
    "    x = x + rnorm(1, mean=1, sd=.1) # add in a bit of (controlled) noise\n",
    "    return(x)\n",
    "}\n",
    "# Called like any other R function:\n",
    "jiggle_1arg(5)   # 5±ε. After set.seed(2716057), jiggle(5)==5.005043"
   ]
  },
  {
   "cell_type": "markdown",
   "id": "d3a3423f-8075-49ae-8071-c75fdc6efd7c",
   "metadata": {},
   "source": [
    "## Data Structures"
   ]
  },
  {
   "cell_type": "markdown",
   "id": "5582d4b7-4265-4a48-a7ac-8542e41117c7",
   "metadata": {},
   "source": [
    "### Vectors"
   ]
  },
  {
   "cell_type": "code",
   "execution_count": 128,
   "id": "2059f93a-76a6-429f-8923-75d8c3e6a73e",
   "metadata": {},
   "outputs": [
    {
     "data": {
      "text/html": [
       "<style>\n",
       ".list-inline {list-style: none; margin:0; padding: 0}\n",
       ".list-inline>li {display: inline-block}\n",
       ".list-inline>li:not(:last-child)::after {content: \"\\00b7\"; padding: 0 .5ex}\n",
       "</style>\n",
       "<ol class=list-inline><li>8</li><li>9</li><li>10</li><li>11</li></ol>\n"
      ],
      "text/latex": [
       "\\begin{enumerate*}\n",
       "\\item 8\n",
       "\\item 9\n",
       "\\item 10\n",
       "\\item 11\n",
       "\\end{enumerate*}\n"
      ],
      "text/markdown": [
       "1. 8\n",
       "2. 9\n",
       "3. 10\n",
       "4. 11\n",
       "\n",
       "\n"
      ],
      "text/plain": [
       "[1]  8  9 10 11"
      ]
     },
     "metadata": {},
     "output_type": "display_data"
    },
    {
     "data": {
      "text/html": [
       "8"
      ],
      "text/latex": [
       "8"
      ],
      "text/markdown": [
       "8"
      ],
      "text/plain": [
       "[1] 8"
      ]
     },
     "metadata": {},
     "output_type": "display_data"
    },
    {
     "data": {
      "text/html": [
       "'r'"
      ],
      "text/latex": [
       "'r'"
      ],
      "text/markdown": [
       "'r'"
      ],
      "text/plain": [
       "[1] \"r\""
      ]
     },
     "metadata": {},
     "output_type": "display_data"
    },
    {
     "data": {
      "text/html": [
       "'M'"
      ],
      "text/latex": [
       "'M'"
      ],
      "text/markdown": [
       "'M'"
      ],
      "text/plain": [
       "[1] \"M\""
      ]
     },
     "metadata": {},
     "output_type": "display_data"
    },
    {
     "data": {
      "text/html": [
       "'September'"
      ],
      "text/latex": [
       "'September'"
      ],
      "text/markdown": [
       "'September'"
      ],
      "text/plain": [
       "[1] \"September\""
      ]
     },
     "metadata": {},
     "output_type": "display_data"
    },
    {
     "data": {
      "text/html": [
       "7"
      ],
      "text/latex": [
       "7"
      ],
      "text/markdown": [
       "7"
      ],
      "text/plain": [
       "[1] 7"
      ]
     },
     "metadata": {},
     "output_type": "display_data"
    }
   ],
   "source": [
    "###########################################################################\n",
    "# Data structures: Vectors, matrices, data frames, and arrays\n",
    "###########################################################################\n",
    "\n",
    "# ONE-DIMENSIONAL\n",
    "\n",
    "# Let's start from the very beginning, and with something you already know: vectors.\n",
    "vec <- c(8, 9, 10, 11)\n",
    "vec     #  8  9 10 11\n",
    "# We ask for specific elements by subsetting with square brackets\n",
    "# (Note that R starts counting from 1)\n",
    "vec[1]          # 8\n",
    "letters[18]     # \"r\"\n",
    "LETTERS[13]     # \"M\"\n",
    "month.name[9]   # \"September\"\n",
    "c(6, 8, 7, 5, 3, 0, 9)[3] # 7"
   ]
  },
  {
   "cell_type": "code",
   "execution_count": 129,
   "id": "619db488-a518-44b5-943f-660aea6e0db8",
   "metadata": {},
   "outputs": [
    {
     "data": {
      "text/html": [
       "<style>\n",
       ".list-inline {list-style: none; margin:0; padding: 0}\n",
       ".list-inline>li {display: inline-block}\n",
       ".list-inline>li:not(:last-child)::after {content: \"\\00b7\"; padding: 0 .5ex}\n",
       "</style>\n",
       "<ol class=list-inline><li>1</li><li>3</li></ol>\n"
      ],
      "text/latex": [
       "\\begin{enumerate*}\n",
       "\\item 1\n",
       "\\item 3\n",
       "\\end{enumerate*}\n"
      ],
      "text/markdown": [
       "1. 1\n",
       "2. 3\n",
       "\n",
       "\n"
      ],
      "text/plain": [
       "[1] 1 3"
      ]
     },
     "metadata": {},
     "output_type": "display_data"
    }
   ],
   "source": [
    "# We can also search for the indices of specific components,\n",
    "which(vec %% 2 == 0) # 1 3"
   ]
  },
  {
   "cell_type": "code",
   "execution_count": 130,
   "id": "7cf1cb52-fe16-410d-9b44-0b2a63f0c6ab",
   "metadata": {},
   "outputs": [
    {
     "data": {
      "text/html": [
       "8"
      ],
      "text/latex": [
       "8"
      ],
      "text/markdown": [
       "8"
      ],
      "text/plain": [
       "[1] 8"
      ]
     },
     "metadata": {},
     "output_type": "display_data"
    },
    {
     "data": {
      "text/html": [
       "<style>\n",
       ".list-inline {list-style: none; margin:0; padding: 0}\n",
       ".list-inline>li {display: inline-block}\n",
       ".list-inline>li:not(:last-child)::after {content: \"\\00b7\"; padding: 0 .5ex}\n",
       "</style>\n",
       "<ol class=list-inline><li>10</li><li>11</li></ol>\n"
      ],
      "text/latex": [
       "\\begin{enumerate*}\n",
       "\\item 10\n",
       "\\item 11\n",
       "\\end{enumerate*}\n"
      ],
      "text/markdown": [
       "1. 10\n",
       "2. 11\n",
       "\n",
       "\n"
      ],
      "text/plain": [
       "[1] 10 11"
      ]
     },
     "metadata": {},
     "output_type": "display_data"
    },
    {
     "data": {
      "text/html": [
       "TRUE"
      ],
      "text/latex": [
       "TRUE"
      ],
      "text/markdown": [
       "TRUE"
      ],
      "text/plain": [
       "[1] TRUE"
      ]
     },
     "metadata": {},
     "output_type": "display_data"
    },
    {
     "data": {
      "text/html": [
       "&lt;NA&gt;"
      ],
      "text/latex": [
       "<NA>"
      ],
      "text/markdown": [
       "&lt;NA&gt;"
      ],
      "text/plain": [
       "[1] NA"
      ]
     },
     "metadata": {},
     "output_type": "display_data"
    },
    {
     "data": {
      "text/html": [
       "4"
      ],
      "text/latex": [
       "4"
      ],
      "text/markdown": [
       "4"
      ],
      "text/plain": [
       "[1] 4"
      ]
     },
     "metadata": {},
     "output_type": "display_data"
    }
   ],
   "source": [
    "# grab just the first or last few entries in the vector,\n",
    "head(vec, 1)    # 8\n",
    "tail(vec, 2)    # 10 11\n",
    "# or figure out if a certain value is in the vector\n",
    "any(vec == 10)  # TRUE\n",
    "# If an index \"goes over\" you'll get NA:\n",
    "vec[6]      # NA\n",
    "# You can find the length of your vector with length()\n",
    "length(vec) # 4"
   ]
  },
  {
   "cell_type": "code",
   "execution_count": 131,
   "id": "c3b30512-f601-48f8-a4a5-f7f1c547a7f2",
   "metadata": {},
   "outputs": [
    {
     "data": {
      "text/html": [
       "<style>\n",
       ".list-inline {list-style: none; margin:0; padding: 0}\n",
       ".list-inline>li {display: inline-block}\n",
       ".list-inline>li:not(:last-child)::after {content: \"\\00b7\"; padding: 0 .5ex}\n",
       "</style>\n",
       "<ol class=list-inline><li>32</li><li>36</li><li>40</li><li>44</li></ol>\n"
      ],
      "text/latex": [
       "\\begin{enumerate*}\n",
       "\\item 32\n",
       "\\item 36\n",
       "\\item 40\n",
       "\\item 44\n",
       "\\end{enumerate*}\n"
      ],
      "text/markdown": [
       "1. 32\n",
       "2. 36\n",
       "3. 40\n",
       "4. 44\n",
       "\n",
       "\n"
      ],
      "text/plain": [
       "[1] 32 36 40 44"
      ]
     },
     "metadata": {},
     "output_type": "display_data"
    },
    {
     "data": {
      "text/html": [
       "<style>\n",
       ".list-inline {list-style: none; margin:0; padding: 0}\n",
       ".list-inline>li {display: inline-block}\n",
       ".list-inline>li:not(:last-child)::after {content: \"\\00b7\"; padding: 0 .5ex}\n",
       "</style>\n",
       "<ol class=list-inline><li>45</li><li>50</li></ol>\n"
      ],
      "text/latex": [
       "\\begin{enumerate*}\n",
       "\\item 45\n",
       "\\item 50\n",
       "\\end{enumerate*}\n"
      ],
      "text/markdown": [
       "1. 45\n",
       "2. 50\n",
       "\n",
       "\n"
      ],
      "text/plain": [
       "[1] 45 50"
      ]
     },
     "metadata": {},
     "output_type": "display_data"
    },
    {
     "data": {
      "text/html": [
       "FALSE"
      ],
      "text/latex": [
       "FALSE"
      ],
      "text/markdown": [
       "FALSE"
      ],
      "text/plain": [
       "[1] FALSE"
      ]
     },
     "metadata": {},
     "output_type": "display_data"
    }
   ],
   "source": [
    "# You can perform operations on entire vectors or subsets of vectors\n",
    "vec * 4             # 32 36 40 44\n",
    "vec[2:3] * 5        # 45 50\n",
    "any(vec[2:3] == 8)  # FALSE"
   ]
  },
  {
   "cell_type": "code",
   "execution_count": 132,
   "id": "fd7b1a02-2580-462a-8ab7-dc9a7d2a9442",
   "metadata": {},
   "outputs": [
    {
     "data": {
      "text/html": [
       "9.5"
      ],
      "text/latex": [
       "9.5"
      ],
      "text/markdown": [
       "9.5"
      ],
      "text/plain": [
       "[1] 9.5"
      ]
     },
     "metadata": {},
     "output_type": "display_data"
    },
    {
     "data": {
      "text/html": [
       "1.66666666666667"
      ],
      "text/latex": [
       "1.66666666666667"
      ],
      "text/markdown": [
       "1.66666666666667"
      ],
      "text/plain": [
       "[1] 1.666667"
      ]
     },
     "metadata": {},
     "output_type": "display_data"
    },
    {
     "data": {
      "text/html": [
       "1.29099444873581"
      ],
      "text/latex": [
       "1.29099444873581"
      ],
      "text/markdown": [
       "1.29099444873581"
      ],
      "text/plain": [
       "[1] 1.290994"
      ]
     },
     "metadata": {},
     "output_type": "display_data"
    },
    {
     "data": {
      "text/html": [
       "11"
      ],
      "text/latex": [
       "11"
      ],
      "text/markdown": [
       "11"
      ],
      "text/plain": [
       "[1] 11"
      ]
     },
     "metadata": {},
     "output_type": "display_data"
    },
    {
     "data": {
      "text/html": [
       "8"
      ],
      "text/latex": [
       "8"
      ],
      "text/markdown": [
       "8"
      ],
      "text/plain": [
       "[1] 8"
      ]
     },
     "metadata": {},
     "output_type": "display_data"
    },
    {
     "data": {
      "text/html": [
       "38"
      ],
      "text/latex": [
       "38"
      ],
      "text/markdown": [
       "38"
      ],
      "text/plain": [
       "[1] 38"
      ]
     },
     "metadata": {},
     "output_type": "display_data"
    }
   ],
   "source": [
    "# and R has many built-in functions to summarize vectors\n",
    "mean(vec)   # 9.5\n",
    "var(vec)    # 1.666667\n",
    "sd(vec)     # 1.290994\n",
    "max(vec)    # 11\n",
    "min(vec)    # 8\n",
    "sum(vec)    # 38"
   ]
  },
  {
   "cell_type": "code",
   "execution_count": 133,
   "id": "589f5347-0821-4166-bedc-8cd588182067",
   "metadata": {},
   "outputs": [
    {
     "data": {
      "text/html": [
       "<style>\n",
       ".list-inline {list-style: none; margin:0; padding: 0}\n",
       ".list-inline>li {display: inline-block}\n",
       ".list-inline>li:not(:last-child)::after {content: \"\\00b7\"; padding: 0 .5ex}\n",
       "</style>\n",
       "<ol class=list-inline><li>5</li><li>6</li><li>7</li><li>8</li><li>9</li><li>10</li><li>11</li><li>12</li><li>13</li><li>14</li><li>15</li></ol>\n"
      ],
      "text/latex": [
       "\\begin{enumerate*}\n",
       "\\item 5\n",
       "\\item 6\n",
       "\\item 7\n",
       "\\item 8\n",
       "\\item 9\n",
       "\\item 10\n",
       "\\item 11\n",
       "\\item 12\n",
       "\\item 13\n",
       "\\item 14\n",
       "\\item 15\n",
       "\\end{enumerate*}\n"
      ],
      "text/markdown": [
       "1. 5\n",
       "2. 6\n",
       "3. 7\n",
       "4. 8\n",
       "5. 9\n",
       "6. 10\n",
       "7. 11\n",
       "8. 12\n",
       "9. 13\n",
       "10. 14\n",
       "11. 15\n",
       "\n",
       "\n"
      ],
      "text/plain": [
       " [1]  5  6  7  8  9 10 11 12 13 14 15"
      ]
     },
     "metadata": {},
     "output_type": "display_data"
    },
    {
     "data": {
      "text/html": [
       "<style>\n",
       ".list-inline {list-style: none; margin:0; padding: 0}\n",
       ".list-inline>li {display: inline-block}\n",
       ".list-inline>li:not(:last-child)::after {content: \"\\00b7\"; padding: 0 .5ex}\n",
       "</style>\n",
       "<ol class=list-inline><li>0</li><li>1337</li><li>2674</li><li>4011</li><li>5348</li><li>6685</li><li>8022</li><li>9359</li><li>10696</li><li>12033</li><li>13370</li><li>14707</li><li>16044</li><li>17381</li><li>18718</li><li>20055</li><li>21392</li><li>22729</li><li>24066</li><li>25403</li><li>26740</li><li>28077</li><li>29414</li><li>30751</li></ol>\n"
      ],
      "text/latex": [
       "\\begin{enumerate*}\n",
       "\\item 0\n",
       "\\item 1337\n",
       "\\item 2674\n",
       "\\item 4011\n",
       "\\item 5348\n",
       "\\item 6685\n",
       "\\item 8022\n",
       "\\item 9359\n",
       "\\item 10696\n",
       "\\item 12033\n",
       "\\item 13370\n",
       "\\item 14707\n",
       "\\item 16044\n",
       "\\item 17381\n",
       "\\item 18718\n",
       "\\item 20055\n",
       "\\item 21392\n",
       "\\item 22729\n",
       "\\item 24066\n",
       "\\item 25403\n",
       "\\item 26740\n",
       "\\item 28077\n",
       "\\item 29414\n",
       "\\item 30751\n",
       "\\end{enumerate*}\n"
      ],
      "text/markdown": [
       "1. 0\n",
       "2. 1337\n",
       "3. 2674\n",
       "4. 4011\n",
       "5. 5348\n",
       "6. 6685\n",
       "7. 8022\n",
       "8. 9359\n",
       "9. 10696\n",
       "10. 12033\n",
       "11. 13370\n",
       "12. 14707\n",
       "13. 16044\n",
       "14. 17381\n",
       "15. 18718\n",
       "16. 20055\n",
       "17. 21392\n",
       "18. 22729\n",
       "19. 24066\n",
       "20. 25403\n",
       "21. 26740\n",
       "22. 28077\n",
       "23. 29414\n",
       "24. 30751\n",
       "\n",
       "\n"
      ],
      "text/plain": [
       " [1]     0  1337  2674  4011  5348  6685  8022  9359 10696 12033 13370 14707\n",
       "[13] 16044 17381 18718 20055 21392 22729 24066 25403 26740 28077 29414 30751"
      ]
     },
     "metadata": {},
     "output_type": "display_data"
    }
   ],
   "source": [
    "# Some more nice built-ins:\n",
    "5:15        # 5  6  7  8  9 10 11 12 13 14 15\n",
    "seq(from = 0, to = 31337, by = 1337)\n",
    "# =>\n",
    "#  [1]     0  1337  2674  4011  5348  6685  8022  9359 10696 12033 13370 14707\n",
    "# [13] 16044 17381 18718 20055 21392 22729 24066 25403 26740 28077 29414 30751"
   ]
  },
  {
   "cell_type": "markdown",
   "id": "4bd2e25e-33a7-4c99-864e-4f23c91a4fee",
   "metadata": {},
   "source": [
    "### Matrices"
   ]
  },
  {
   "cell_type": "code",
   "execution_count": 134,
   "id": "63b22fbe-275f-4246-abf3-bdfd4a094e32",
   "metadata": {},
   "outputs": [
    {
     "data": {
      "text/html": [
       "<table class=\"dataframe\">\n",
       "<caption>A matrix: 3 × 2 of type dbl</caption>\n",
       "<tbody>\n",
       "\t<tr><td>1</td><td>4</td></tr>\n",
       "\t<tr><td>2</td><td>5</td></tr>\n",
       "\t<tr><td>3</td><td>6</td></tr>\n",
       "</tbody>\n",
       "</table>\n"
      ],
      "text/latex": [
       "A matrix: 3 × 2 of type dbl\n",
       "\\begin{tabular}{ll}\n",
       "\t 1 & 4\\\\\n",
       "\t 2 & 5\\\\\n",
       "\t 3 & 6\\\\\n",
       "\\end{tabular}\n"
      ],
      "text/markdown": [
       "\n",
       "A matrix: 3 × 2 of type dbl\n",
       "\n",
       "| 1 | 4 |\n",
       "| 2 | 5 |\n",
       "| 3 | 6 |\n",
       "\n"
      ],
      "text/plain": [
       "     [,1] [,2]\n",
       "[1,] 1    4   \n",
       "[2,] 2    5   \n",
       "[3,] 3    6   "
      ]
     },
     "metadata": {},
     "output_type": "display_data"
    },
    {
     "data": {
      "text/html": [
       "<style>\n",
       ".list-inline {list-style: none; margin:0; padding: 0}\n",
       ".list-inline>li {display: inline-block}\n",
       ".list-inline>li:not(:last-child)::after {content: \"\\00b7\"; padding: 0 .5ex}\n",
       "</style>\n",
       "<ol class=list-inline><li>'matrix'</li><li>'array'</li></ol>\n"
      ],
      "text/latex": [
       "\\begin{enumerate*}\n",
       "\\item 'matrix'\n",
       "\\item 'array'\n",
       "\\end{enumerate*}\n"
      ],
      "text/markdown": [
       "1. 'matrix'\n",
       "2. 'array'\n",
       "\n",
       "\n"
      ],
      "text/plain": [
       "[1] \"matrix\" \"array\" "
      ]
     },
     "metadata": {},
     "output_type": "display_data"
    }
   ],
   "source": [
    "# TWO-DIMENSIONAL (ALL ONE CLASS)\n",
    "\n",
    "# You can make a matrix out of entries all of the same type like so:\n",
    "mat <- matrix(nrow = 3, ncol = 2, c(1, 2, 3, 4, 5, 6))\n",
    "mat\n",
    "# =>\n",
    "#      [,1] [,2]\n",
    "# [1,]    1    4\n",
    "# [2,]    2    5\n",
    "# [3,]    3    6\n",
    "# Unlike a vector, the class of a matrix is \"matrix\", no matter what's in it\n",
    "class(mat)      # \"matrix\" \"array\""
   ]
  },
  {
   "cell_type": "code",
   "execution_count": 135,
   "id": "be9e5849-36ae-466d-9036-0cb5db0aa4ec",
   "metadata": {},
   "outputs": [
    {
     "data": {
      "text/html": [
       "<style>\n",
       ".list-inline {list-style: none; margin:0; padding: 0}\n",
       ".list-inline>li {display: inline-block}\n",
       ".list-inline>li:not(:last-child)::after {content: \"\\00b7\"; padding: 0 .5ex}\n",
       "</style>\n",
       "<ol class=list-inline><li>1</li><li>4</li></ol>\n"
      ],
      "text/latex": [
       "\\begin{enumerate*}\n",
       "\\item 1\n",
       "\\item 4\n",
       "\\end{enumerate*}\n"
      ],
      "text/markdown": [
       "1. 1\n",
       "2. 4\n",
       "\n",
       "\n"
      ],
      "text/plain": [
       "[1] 1 4"
      ]
     },
     "metadata": {},
     "output_type": "display_data"
    }
   ],
   "source": [
    "# Ask for the first row\n",
    "mat[1, ]        # 1 4"
   ]
  },
  {
   "cell_type": "code",
   "execution_count": 136,
   "id": "58bc8247-904e-4290-a591-bf9c900d3502",
   "metadata": {},
   "outputs": [
    {
     "data": {
      "text/html": [
       "<style>\n",
       ".list-inline {list-style: none; margin:0; padding: 0}\n",
       ".list-inline>li {display: inline-block}\n",
       ".list-inline>li:not(:last-child)::after {content: \"\\00b7\"; padding: 0 .5ex}\n",
       "</style>\n",
       "<ol class=list-inline><li>3</li><li>6</li><li>9</li></ol>\n"
      ],
      "text/latex": [
       "\\begin{enumerate*}\n",
       "\\item 3\n",
       "\\item 6\n",
       "\\item 9\n",
       "\\end{enumerate*}\n"
      ],
      "text/markdown": [
       "1. 3\n",
       "2. 6\n",
       "3. 9\n",
       "\n",
       "\n"
      ],
      "text/plain": [
       "[1] 3 6 9"
      ]
     },
     "metadata": {},
     "output_type": "display_data"
    }
   ],
   "source": [
    "# Perform operation on the first column\n",
    "3 * mat[, 1]    # 3 6 9"
   ]
  },
  {
   "cell_type": "code",
   "execution_count": 137,
   "id": "b32b3d3f-e8d1-4c1d-aa53-2b0dd7a6d80d",
   "metadata": {},
   "outputs": [
    {
     "data": {
      "text/html": [
       "6"
      ],
      "text/latex": [
       "6"
      ],
      "text/markdown": [
       "6"
      ],
      "text/plain": [
       "[1] 6"
      ]
     },
     "metadata": {},
     "output_type": "display_data"
    }
   ],
   "source": [
    "# Ask for a specific cell\n",
    "mat[3, 2]       # 6"
   ]
  },
  {
   "cell_type": "code",
   "execution_count": 138,
   "id": "c4f6b0d0-c555-49eb-bbb9-380c540d6a36",
   "metadata": {},
   "outputs": [
    {
     "data": {
      "text/html": [
       "<table class=\"dataframe\">\n",
       "<caption>A matrix: 2 × 3 of type dbl</caption>\n",
       "<tbody>\n",
       "\t<tr><td>1</td><td>2</td><td>3</td></tr>\n",
       "\t<tr><td>4</td><td>5</td><td>6</td></tr>\n",
       "</tbody>\n",
       "</table>\n"
      ],
      "text/latex": [
       "A matrix: 2 × 3 of type dbl\n",
       "\\begin{tabular}{lll}\n",
       "\t 1 & 2 & 3\\\\\n",
       "\t 4 & 5 & 6\\\\\n",
       "\\end{tabular}\n"
      ],
      "text/markdown": [
       "\n",
       "A matrix: 2 × 3 of type dbl\n",
       "\n",
       "| 1 | 2 | 3 |\n",
       "| 4 | 5 | 6 |\n",
       "\n"
      ],
      "text/plain": [
       "     [,1] [,2] [,3]\n",
       "[1,] 1    2    3   \n",
       "[2,] 4    5    6   "
      ]
     },
     "metadata": {},
     "output_type": "display_data"
    }
   ],
   "source": [
    "# Transpose the whole matrix\n",
    "t(mat)\n",
    "# =>\n",
    "#      [,1] [,2] [,3]\n",
    "# [1,]    1    2    3\n",
    "# [2,]    4    5    6"
   ]
  },
  {
   "cell_type": "code",
   "execution_count": 139,
   "id": "bc41bfe8-825b-46a3-8135-0437048548b6",
   "metadata": {},
   "outputs": [
    {
     "data": {
      "text/html": [
       "<table class=\"dataframe\">\n",
       "<caption>A matrix: 3 × 3 of type dbl</caption>\n",
       "<tbody>\n",
       "\t<tr><td>17</td><td>22</td><td>27</td></tr>\n",
       "\t<tr><td>22</td><td>29</td><td>36</td></tr>\n",
       "\t<tr><td>27</td><td>36</td><td>45</td></tr>\n",
       "</tbody>\n",
       "</table>\n"
      ],
      "text/latex": [
       "A matrix: 3 × 3 of type dbl\n",
       "\\begin{tabular}{lll}\n",
       "\t 17 & 22 & 27\\\\\n",
       "\t 22 & 29 & 36\\\\\n",
       "\t 27 & 36 & 45\\\\\n",
       "\\end{tabular}\n"
      ],
      "text/markdown": [
       "\n",
       "A matrix: 3 × 3 of type dbl\n",
       "\n",
       "| 17 | 22 | 27 |\n",
       "| 22 | 29 | 36 |\n",
       "| 27 | 36 | 45 |\n",
       "\n"
      ],
      "text/plain": [
       "     [,1] [,2] [,3]\n",
       "[1,] 17   22   27  \n",
       "[2,] 22   29   36  \n",
       "[3,] 27   36   45  "
      ]
     },
     "metadata": {},
     "output_type": "display_data"
    }
   ],
   "source": [
    "# Matrix multiplication\n",
    "mat %*% t(mat)\n",
    "# =>\n",
    "#      [,1] [,2] [,3]\n",
    "# [1,]   17   22   27\n",
    "# [2,]   22   29   36\n",
    "# [3,]   27   36   45"
   ]
  },
  {
   "cell_type": "code",
   "execution_count": 140,
   "id": "c57b9dec-9261-4f96-a298-9f2a19043c6c",
   "metadata": {},
   "outputs": [
    {
     "data": {
      "text/html": [
       "<table class=\"dataframe\">\n",
       "<caption>A matrix: 4 × 2 of type chr</caption>\n",
       "<tbody>\n",
       "\t<tr><td>1</td><td>dog </td></tr>\n",
       "\t<tr><td>2</td><td>cat </td></tr>\n",
       "\t<tr><td>3</td><td>bird</td></tr>\n",
       "\t<tr><td>4</td><td>dog </td></tr>\n",
       "</tbody>\n",
       "</table>\n"
      ],
      "text/latex": [
       "A matrix: 4 × 2 of type chr\n",
       "\\begin{tabular}{ll}\n",
       "\t 1 & dog \\\\\n",
       "\t 2 & cat \\\\\n",
       "\t 3 & bird\\\\\n",
       "\t 4 & dog \\\\\n",
       "\\end{tabular}\n"
      ],
      "text/markdown": [
       "\n",
       "A matrix: 4 × 2 of type chr\n",
       "\n",
       "| 1 | dog  |\n",
       "| 2 | cat  |\n",
       "| 3 | bird |\n",
       "| 4 | dog  |\n",
       "\n"
      ],
      "text/plain": [
       "     [,1] [,2]\n",
       "[1,] 1    dog \n",
       "[2,] 2    cat \n",
       "[3,] 3    bird\n",
       "[4,] 4    dog "
      ]
     },
     "metadata": {},
     "output_type": "display_data"
    },
    {
     "data": {
      "text/html": [
       "<style>\n",
       ".list-inline {list-style: none; margin:0; padding: 0}\n",
       ".list-inline>li {display: inline-block}\n",
       ".list-inline>li:not(:last-child)::after {content: \"\\00b7\"; padding: 0 .5ex}\n",
       "</style>\n",
       "<ol class=list-inline><li>'matrix'</li><li>'array'</li></ol>\n"
      ],
      "text/latex": [
       "\\begin{enumerate*}\n",
       "\\item 'matrix'\n",
       "\\item 'array'\n",
       "\\end{enumerate*}\n"
      ],
      "text/markdown": [
       "1. 'matrix'\n",
       "2. 'array'\n",
       "\n",
       "\n"
      ],
      "text/plain": [
       "[1] \"matrix\" \"array\" "
      ]
     },
     "metadata": {},
     "output_type": "display_data"
    }
   ],
   "source": [
    "# cbind() sticks vectors together column-wise to make a matrix\n",
    "mat2 <- cbind(1:4, c(\"dog\", \"cat\", \"bird\", \"dog\"))\n",
    "mat2\n",
    "# =>\n",
    "#      [,1] [,2]\n",
    "# [1,] \"1\"  \"dog\"\n",
    "# [2,] \"2\"  \"cat\"\n",
    "# [3,] \"3\"  \"bird\"\n",
    "# [4,] \"4\"  \"dog\"\n",
    "class(mat2) # matrix\n"
   ]
  },
  {
   "cell_type": "code",
   "execution_count": 161,
   "id": "0792dfc1-4b48-41c9-a8b7-f6be30314e63",
   "metadata": {},
   "outputs": [
    {
     "data": {
      "text/html": [
       "<style>\n",
       ".list-inline {list-style: none; margin:0; padding: 0}\n",
       ".list-inline>li {display: inline-block}\n",
       ".list-inline>li:not(:last-child)::after {content: \"\\00b7\"; padding: 0 .5ex}\n",
       "</style>\n",
       "<ol class=list-inline><li>'character'</li><li>'character'</li></ol>\n"
      ],
      "text/latex": [
       "\\begin{enumerate*}\n",
       "\\item 'character'\n",
       "\\item 'character'\n",
       "\\end{enumerate*}\n"
      ],
      "text/markdown": [
       "1. 'character'\n",
       "2. 'character'\n",
       "\n",
       "\n"
      ],
      "text/plain": [
       "[1] \"character\" \"character\""
      ]
     },
     "metadata": {},
     "output_type": "display_data"
    },
    {
     "data": {
      "text/html": [
       "<table class=\"dataframe\">\n",
       "<caption>A matrix: 2 × 4 of type dbl</caption>\n",
       "<tbody>\n",
       "\t<tr><td>1</td><td>2</td><td>4</td><td>5</td></tr>\n",
       "\t<tr><td>6</td><td>7</td><td>0</td><td>4</td></tr>\n",
       "</tbody>\n",
       "</table>\n"
      ],
      "text/latex": [
       "A matrix: 2 × 4 of type dbl\n",
       "\\begin{tabular}{llll}\n",
       "\t 1 & 2 & 4 & 5\\\\\n",
       "\t 6 & 7 & 0 & 4\\\\\n",
       "\\end{tabular}\n"
      ],
      "text/markdown": [
       "\n",
       "A matrix: 2 × 4 of type dbl\n",
       "\n",
       "| 1 | 2 | 4 | 5 |\n",
       "| 6 | 7 | 0 | 4 |\n",
       "\n"
      ],
      "text/plain": [
       "     [,1] [,2] [,3] [,4]\n",
       "[1,] 1    2    4    5   \n",
       "[2,] 6    7    0    4   "
      ]
     },
     "metadata": {},
     "output_type": "display_data"
    }
   ],
   "source": [
    "# Again, note what happened!\n",
    "# Because matrices must contain entries all of the same class,\n",
    "# everything got converted to the character class\n",
    "c(class(mat2[, 1]), class(mat2[, 2]))\n",
    "\n",
    "# rbind() sticks vectors together row-wise to make a matrix\n",
    "mat3 <- rbind(c(1, 2, 4, 5), c(6, 7, 0, 4))\n",
    "mat3\n",
    "# =>\n",
    "#      [,1] [,2] [,3] [,4]\n",
    "# [1,]    1    2    4    5\n",
    "# [2,]    6    7    0    4\n",
    "# Ah, everything of the same class. No coercions. Much better."
   ]
  },
  {
   "cell_type": "markdown",
   "id": "265bdf96-45e9-4aeb-9457-f48d5acfd96a",
   "metadata": {},
   "source": [
    "### DataFrames"
   ]
  },
  {
   "cell_type": "code",
   "execution_count": 162,
   "id": "46abbdd7-4f04-49b5-97e0-0aa47c4c4cfe",
   "metadata": {},
   "outputs": [
    {
     "data": {
      "text/html": [
       "<table class=\"dataframe\">\n",
       "<caption>A data.frame: 6 × 3</caption>\n",
       "<thead>\n",
       "\t<tr><th scope=col>c..Cedric....Fred....George....Cho....Draco....Ginny..</th><th scope=col>c.3..2..2..1..0...1.</th><th scope=col>c..H....G....G....R....S....G..</th></tr>\n",
       "\t<tr><th scope=col>&lt;chr&gt;</th><th scope=col>&lt;dbl&gt;</th><th scope=col>&lt;chr&gt;</th></tr>\n",
       "</thead>\n",
       "<tbody>\n",
       "\t<tr><td>Cedric</td><td> 3</td><td>H</td></tr>\n",
       "\t<tr><td>Fred  </td><td> 2</td><td>G</td></tr>\n",
       "\t<tr><td>George</td><td> 2</td><td>G</td></tr>\n",
       "\t<tr><td>Cho   </td><td> 1</td><td>R</td></tr>\n",
       "\t<tr><td>Draco </td><td> 0</td><td>S</td></tr>\n",
       "\t<tr><td>Ginny </td><td>-1</td><td>G</td></tr>\n",
       "</tbody>\n",
       "</table>\n"
      ],
      "text/latex": [
       "A data.frame: 6 × 3\n",
       "\\begin{tabular}{lll}\n",
       " c..Cedric....Fred....George....Cho....Draco....Ginny.. & c.3..2..2..1..0...1. & c..H....G....G....R....S....G..\\\\\n",
       " <chr> & <dbl> & <chr>\\\\\n",
       "\\hline\n",
       "\t Cedric &  3 & H\\\\\n",
       "\t Fred   &  2 & G\\\\\n",
       "\t George &  2 & G\\\\\n",
       "\t Cho    &  1 & R\\\\\n",
       "\t Draco  &  0 & S\\\\\n",
       "\t Ginny  & -1 & G\\\\\n",
       "\\end{tabular}\n"
      ],
      "text/markdown": [
       "\n",
       "A data.frame: 6 × 3\n",
       "\n",
       "| c..Cedric....Fred....George....Cho....Draco....Ginny.. &lt;chr&gt; | c.3..2..2..1..0...1. &lt;dbl&gt; | c..H....G....G....R....S....G.. &lt;chr&gt; |\n",
       "|---|---|---|\n",
       "| Cedric |  3 | H |\n",
       "| Fred   |  2 | G |\n",
       "| George |  2 | G |\n",
       "| Cho    |  1 | R |\n",
       "| Draco  |  0 | S |\n",
       "| Ginny  | -1 | G |\n",
       "\n"
      ],
      "text/plain": [
       "  c..Cedric....Fred....George....Cho....Draco....Ginny.. c.3..2..2..1..0...1.\n",
       "1 Cedric                                                  3                  \n",
       "2 Fred                                                    2                  \n",
       "3 George                                                  2                  \n",
       "4 Cho                                                     1                  \n",
       "5 Draco                                                   0                  \n",
       "6 Ginny                                                  -1                  \n",
       "  c..H....G....G....R....S....G..\n",
       "1 H                              \n",
       "2 G                              \n",
       "3 G                              \n",
       "4 R                              \n",
       "5 S                              \n",
       "6 G                              "
      ]
     },
     "metadata": {},
     "output_type": "display_data"
    }
   ],
   "source": [
    "# TWO-DIMENSIONAL (DIFFERENT CLASSES)\n",
    "\n",
    "# For columns of different types, use a data frame\n",
    "# This data structure* is so useful for statistical programming,\n",
    "# a version of it was added to Python in the package \"pandas\".\n",
    "\n",
    "students <- data.frame(c(\"Cedric\", \"Fred\", \"George\", \"Cho\", \"Draco\", \"Ginny\"),\n",
    "                       c(       3,      2,        2,     1,       0,      -1),\n",
    "                       c(     \"H\",    \"G\",      \"G\",   \"R\",     \"S\",     \"G\"))\n",
    "students\n",
    "# Names are weird."
   ]
  },
  {
   "cell_type": "code",
   "execution_count": 163,
   "id": "50807d0d-e66c-45da-8c0e-d31d9cd41c3f",
   "metadata": {},
   "outputs": [
    {
     "data": {
      "text/html": [
       "'data.frame'"
      ],
      "text/latex": [
       "'data.frame'"
      ],
      "text/markdown": [
       "'data.frame'"
      ],
      "text/plain": [
       "[1] \"data.frame\""
      ]
     },
     "metadata": {},
     "output_type": "display_data"
    },
    {
     "data": {
      "text/html": [
       "<table class=\"dataframe\">\n",
       "<caption>A data.frame: 6 × 3</caption>\n",
       "<thead>\n",
       "\t<tr><th scope=col>name</th><th scope=col>year</th><th scope=col>house</th></tr>\n",
       "\t<tr><th scope=col>&lt;chr&gt;</th><th scope=col>&lt;dbl&gt;</th><th scope=col>&lt;chr&gt;</th></tr>\n",
       "</thead>\n",
       "<tbody>\n",
       "\t<tr><td>Cedric</td><td> 3</td><td>H</td></tr>\n",
       "\t<tr><td>Fred  </td><td> 2</td><td>G</td></tr>\n",
       "\t<tr><td>George</td><td> 2</td><td>G</td></tr>\n",
       "\t<tr><td>Cho   </td><td> 1</td><td>R</td></tr>\n",
       "\t<tr><td>Draco </td><td> 0</td><td>S</td></tr>\n",
       "\t<tr><td>Ginny </td><td>-1</td><td>G</td></tr>\n",
       "</tbody>\n",
       "</table>\n"
      ],
      "text/latex": [
       "A data.frame: 6 × 3\n",
       "\\begin{tabular}{lll}\n",
       " name & year & house\\\\\n",
       " <chr> & <dbl> & <chr>\\\\\n",
       "\\hline\n",
       "\t Cedric &  3 & H\\\\\n",
       "\t Fred   &  2 & G\\\\\n",
       "\t George &  2 & G\\\\\n",
       "\t Cho    &  1 & R\\\\\n",
       "\t Draco  &  0 & S\\\\\n",
       "\t Ginny  & -1 & G\\\\\n",
       "\\end{tabular}\n"
      ],
      "text/markdown": [
       "\n",
       "A data.frame: 6 × 3\n",
       "\n",
       "| name &lt;chr&gt; | year &lt;dbl&gt; | house &lt;chr&gt; |\n",
       "|---|---|---|\n",
       "| Cedric |  3 | H |\n",
       "| Fred   |  2 | G |\n",
       "| George |  2 | G |\n",
       "| Cho    |  1 | R |\n",
       "| Draco  |  0 | S |\n",
       "| Ginny  | -1 | G |\n",
       "\n"
      ],
      "text/plain": [
       "  name   year house\n",
       "1 Cedric  3   H    \n",
       "2 Fred    2   G    \n",
       "3 George  2   G    \n",
       "4 Cho     1   R    \n",
       "5 Draco   0   S    \n",
       "6 Ginny  -1   G    "
      ]
     },
     "metadata": {},
     "output_type": "display_data"
    }
   ],
   "source": [
    "names(students) <- c(\"name\", \"year\", \"house\") # name the columns\n",
    "class(students) # \"data.frame\"\n",
    "students\n",
    "# =>\n",
    "#     name year house\n",
    "# 1 Cedric    3     H\n",
    "# 2   Fred    2     G\n",
    "# 3 George    2     G\n",
    "# 4    Cho    1     R\n",
    "# 5  Draco    0     S\n",
    "# 6  Ginny   -1     G"
   ]
  },
  {
   "cell_type": "code",
   "execution_count": 165,
   "id": "e1ceb888-98f1-4777-8634-94ac9e9e9fce",
   "metadata": {},
   "outputs": [
    {
     "data": {
      "text/html": [
       "'numeric'"
      ],
      "text/latex": [
       "'numeric'"
      ],
      "text/markdown": [
       "'numeric'"
      ],
      "text/plain": [
       "[1] \"numeric\""
      ]
     },
     "metadata": {},
     "output_type": "display_data"
    },
    {
     "data": {
      "text/html": [
       "'character'"
      ],
      "text/latex": [
       "'character'"
      ],
      "text/markdown": [
       "'character'"
      ],
      "text/plain": [
       "[1] \"character\""
      ]
     },
     "metadata": {},
     "output_type": "display_data"
    },
    {
     "data": {
      "text/html": [
       "6"
      ],
      "text/latex": [
       "6"
      ],
      "text/markdown": [
       "6"
      ],
      "text/plain": [
       "[1] 6"
      ]
     },
     "metadata": {},
     "output_type": "display_data"
    },
    {
     "data": {
      "text/html": [
       "3"
      ],
      "text/latex": [
       "3"
      ],
      "text/markdown": [
       "3"
      ],
      "text/plain": [
       "[1] 3"
      ]
     },
     "metadata": {},
     "output_type": "display_data"
    },
    {
     "data": {
      "text/html": [
       "<style>\n",
       ".list-inline {list-style: none; margin:0; padding: 0}\n",
       ".list-inline>li {display: inline-block}\n",
       ".list-inline>li:not(:last-child)::after {content: \"\\00b7\"; padding: 0 .5ex}\n",
       "</style>\n",
       "<ol class=list-inline><li>6</li><li>3</li></ol>\n"
      ],
      "text/latex": [
       "\\begin{enumerate*}\n",
       "\\item 6\n",
       "\\item 3\n",
       "\\end{enumerate*}\n"
      ],
      "text/markdown": [
       "1. 6\n",
       "2. 3\n",
       "\n",
       "\n"
      ],
      "text/plain": [
       "[1] 6 3"
      ]
     },
     "metadata": {},
     "output_type": "display_data"
    }
   ],
   "source": [
    "class(students$year)    # \"numeric\"\n",
    "class(students[,3])     # \"factor\"\n",
    "# find the dimensions\n",
    "nrow(students)  # 6\n",
    "ncol(students)  # 3\n",
    "dim(students)   # 6 3\n",
    "# The data.frame() function used to convert character vectors to factor\n",
    "# vectors by default; This has changed in R 4.0.0. If your R version is\n",
    "# older, turn this off by setting stringsAsFactors = FALSE when you\n",
    "# create the data.frame"
   ]
  },
  {
   "cell_type": "code",
   "execution_count": 166,
   "id": "be7a4fc4-fb45-4bfc-a076-e060d6b57bf1",
   "metadata": {},
   "outputs": [
    {
     "data": {
      "text/html": [
       "<style>\n",
       ".list-inline {list-style: none; margin:0; padding: 0}\n",
       ".list-inline>li {display: inline-block}\n",
       ".list-inline>li:not(:last-child)::after {content: \"\\00b7\"; padding: 0 .5ex}\n",
       "</style>\n",
       "<ol class=list-inline><li>3</li><li>2</li><li>2</li><li>1</li><li>0</li><li>-1</li></ol>\n"
      ],
      "text/latex": [
       "\\begin{enumerate*}\n",
       "\\item 3\n",
       "\\item 2\n",
       "\\item 2\n",
       "\\item 1\n",
       "\\item 0\n",
       "\\item -1\n",
       "\\end{enumerate*}\n"
      ],
      "text/markdown": [
       "1. 3\n",
       "2. 2\n",
       "3. 2\n",
       "4. 1\n",
       "5. 0\n",
       "6. -1\n",
       "\n",
       "\n"
      ],
      "text/plain": [
       "[1]  3  2  2  1  0 -1"
      ]
     },
     "metadata": {},
     "output_type": "display_data"
    },
    {
     "data": {
      "text/html": [
       "<style>\n",
       ".list-inline {list-style: none; margin:0; padding: 0}\n",
       ".list-inline>li {display: inline-block}\n",
       ".list-inline>li:not(:last-child)::after {content: \"\\00b7\"; padding: 0 .5ex}\n",
       "</style>\n",
       "<ol class=list-inline><li>3</li><li>2</li><li>2</li><li>1</li><li>0</li><li>-1</li></ol>\n"
      ],
      "text/latex": [
       "\\begin{enumerate*}\n",
       "\\item 3\n",
       "\\item 2\n",
       "\\item 2\n",
       "\\item 1\n",
       "\\item 0\n",
       "\\item -1\n",
       "\\end{enumerate*}\n"
      ],
      "text/markdown": [
       "1. 3\n",
       "2. 2\n",
       "3. 2\n",
       "4. 1\n",
       "5. 0\n",
       "6. -1\n",
       "\n",
       "\n"
      ],
      "text/plain": [
       "[1]  3  2  2  1  0 -1"
      ]
     },
     "metadata": {},
     "output_type": "display_data"
    },
    {
     "data": {
      "text/html": [
       "<style>\n",
       ".list-inline {list-style: none; margin:0; padding: 0}\n",
       ".list-inline>li {display: inline-block}\n",
       ".list-inline>li:not(:last-child)::after {content: \"\\00b7\"; padding: 0 .5ex}\n",
       "</style>\n",
       "<ol class=list-inline><li>3</li><li>2</li><li>2</li><li>1</li><li>0</li><li>-1</li></ol>\n"
      ],
      "text/latex": [
       "\\begin{enumerate*}\n",
       "\\item 3\n",
       "\\item 2\n",
       "\\item 2\n",
       "\\item 1\n",
       "\\item 0\n",
       "\\item -1\n",
       "\\end{enumerate*}\n"
      ],
      "text/markdown": [
       "1. 3\n",
       "2. 2\n",
       "3. 2\n",
       "4. 1\n",
       "5. 0\n",
       "6. -1\n",
       "\n",
       "\n"
      ],
      "text/plain": [
       "[1]  3  2  2  1  0 -1"
      ]
     },
     "metadata": {},
     "output_type": "display_data"
    }
   ],
   "source": [
    "# There are many twisty ways to subset data frames, all subtly unalike\n",
    "students$year       # 3  2  2  1  0 -1\n",
    "students[, 2]       # 3  2  2  1  0 -1\n",
    "students[,\"year\"]  # 3  2  2  1  0 -1"
   ]
  },
  {
   "cell_type": "markdown",
   "id": "de72b853-adbd-414d-ba96-e0cd43ad7ba9",
   "metadata": {},
   "source": [
    "### data.table"
   ]
  },
  {
   "cell_type": "code",
   "execution_count": 146,
   "id": "8bb2b2b4-ebd5-42ce-a6b5-dc5150033f0d",
   "metadata": {},
   "outputs": [
    {
     "name": "stderr",
     "output_type": "stream",
     "text": [
      "Installing package into ‘/usr/local/lib/R/site-library’\n",
      "(as ‘lib’ is unspecified)\n",
      "\n"
     ]
    }
   ],
   "source": [
    "# An augmented version of the data.frame structure is the data.table\n",
    "# If you're working with huge or panel data, or need to merge a few data\n",
    "# sets, data.table can be a good choice. Here's a whirlwind tour:\n",
    "install.packages(\"data.table\") # download the package from CRAN"
   ]
  },
  {
   "cell_type": "code",
   "execution_count": 147,
   "id": "b6100fb7-c509-4af4-b0c8-057e42de8acc",
   "metadata": {},
   "outputs": [],
   "source": [
    "require(data.table) # load it"
   ]
  },
  {
   "cell_type": "code",
   "execution_count": 167,
   "id": "61b44dae-0577-4573-b877-2e37c6897d59",
   "metadata": {},
   "outputs": [
    {
     "data": {
      "text/html": [
       "<table class=\"dataframe\">\n",
       "<caption>A data.frame: 6 × 3</caption>\n",
       "<thead>\n",
       "\t<tr><th scope=col>name</th><th scope=col>year</th><th scope=col>house</th></tr>\n",
       "\t<tr><th scope=col>&lt;chr&gt;</th><th scope=col>&lt;dbl&gt;</th><th scope=col>&lt;chr&gt;</th></tr>\n",
       "</thead>\n",
       "<tbody>\n",
       "\t<tr><td>Cedric</td><td> 3</td><td>H</td></tr>\n",
       "\t<tr><td>Fred  </td><td> 2</td><td>G</td></tr>\n",
       "\t<tr><td>George</td><td> 2</td><td>G</td></tr>\n",
       "\t<tr><td>Cho   </td><td> 1</td><td>R</td></tr>\n",
       "\t<tr><td>Draco </td><td> 0</td><td>S</td></tr>\n",
       "\t<tr><td>Ginny </td><td>-1</td><td>G</td></tr>\n",
       "</tbody>\n",
       "</table>\n"
      ],
      "text/latex": [
       "A data.frame: 6 × 3\n",
       "\\begin{tabular}{lll}\n",
       " name & year & house\\\\\n",
       " <chr> & <dbl> & <chr>\\\\\n",
       "\\hline\n",
       "\t Cedric &  3 & H\\\\\n",
       "\t Fred   &  2 & G\\\\\n",
       "\t George &  2 & G\\\\\n",
       "\t Cho    &  1 & R\\\\\n",
       "\t Draco  &  0 & S\\\\\n",
       "\t Ginny  & -1 & G\\\\\n",
       "\\end{tabular}\n"
      ],
      "text/markdown": [
       "\n",
       "A data.frame: 6 × 3\n",
       "\n",
       "| name &lt;chr&gt; | year &lt;dbl&gt; | house &lt;chr&gt; |\n",
       "|---|---|---|\n",
       "| Cedric |  3 | H |\n",
       "| Fred   |  2 | G |\n",
       "| George |  2 | G |\n",
       "| Cho    |  1 | R |\n",
       "| Draco  |  0 | S |\n",
       "| Ginny  | -1 | G |\n",
       "\n"
      ],
      "text/plain": [
       "  name   year house\n",
       "1 Cedric  3   H    \n",
       "2 Fred    2   G    \n",
       "3 George  2   G    \n",
       "4 Cho     1   R    \n",
       "5 Draco   0   S    \n",
       "6 Ginny  -1   G    "
      ]
     },
     "metadata": {},
     "output_type": "display_data"
    },
    {
     "data": {
      "text/html": [
       "<table class=\"dataframe\">\n",
       "<caption>A data.table: 6 × 3</caption>\n",
       "<thead>\n",
       "\t<tr><th scope=col>name</th><th scope=col>year</th><th scope=col>house</th></tr>\n",
       "\t<tr><th scope=col>&lt;chr&gt;</th><th scope=col>&lt;dbl&gt;</th><th scope=col>&lt;chr&gt;</th></tr>\n",
       "</thead>\n",
       "<tbody>\n",
       "\t<tr><td>Cedric</td><td> 3</td><td>H</td></tr>\n",
       "\t<tr><td>Fred  </td><td> 2</td><td>G</td></tr>\n",
       "\t<tr><td>George</td><td> 2</td><td>G</td></tr>\n",
       "\t<tr><td>Cho   </td><td> 1</td><td>R</td></tr>\n",
       "\t<tr><td>Draco </td><td> 0</td><td>S</td></tr>\n",
       "\t<tr><td>Ginny </td><td>-1</td><td>G</td></tr>\n",
       "</tbody>\n",
       "</table>\n"
      ],
      "text/latex": [
       "A data.table: 6 × 3\n",
       "\\begin{tabular}{lll}\n",
       " name & year & house\\\\\n",
       " <chr> & <dbl> & <chr>\\\\\n",
       "\\hline\n",
       "\t Cedric &  3 & H\\\\\n",
       "\t Fred   &  2 & G\\\\\n",
       "\t George &  2 & G\\\\\n",
       "\t Cho    &  1 & R\\\\\n",
       "\t Draco  &  0 & S\\\\\n",
       "\t Ginny  & -1 & G\\\\\n",
       "\\end{tabular}\n"
      ],
      "text/markdown": [
       "\n",
       "A data.table: 6 × 3\n",
       "\n",
       "| name &lt;chr&gt; | year &lt;dbl&gt; | house &lt;chr&gt; |\n",
       "|---|---|---|\n",
       "| Cedric |  3 | H |\n",
       "| Fred   |  2 | G |\n",
       "| George |  2 | G |\n",
       "| Cho    |  1 | R |\n",
       "| Draco  |  0 | S |\n",
       "| Ginny  | -1 | G |\n",
       "\n"
      ],
      "text/plain": [
       "  name   year house\n",
       "1 Cedric  3   H    \n",
       "2 Fred    2   G    \n",
       "3 George  2   G    \n",
       "4 Cho     1   R    \n",
       "5 Draco   0   S    \n",
       "6 Ginny  -1   G    "
      ]
     },
     "metadata": {},
     "output_type": "display_data"
    }
   ],
   "source": [
    "students <- as.data.frame(students)\n",
    "students\n",
    "students_dt <- as.data.table(students)\n",
    "students_dt # note the slightly different print-out\n",
    "# =>\n",
    "#      name year house\n",
    "# 1: Cedric    3     H\n",
    "# 2:   Fred    2     G\n",
    "# 3: George    2     G\n",
    "# 4:    Cho    1     R\n",
    "# 5:  Draco    0     S\n",
    "# 6:  Ginny   -1     G\n"
   ]
  },
  {
   "cell_type": "code",
   "execution_count": 175,
   "id": "32ac3e37-6f51-46af-a4b2-7ce2c573f07e",
   "metadata": {},
   "outputs": [
    {
     "data": {
      "text/html": [
       "<table class=\"dataframe\">\n",
       "<caption>A data.frame: 1 × 3</caption>\n",
       "<thead>\n",
       "\t<tr><th></th><th scope=col>name</th><th scope=col>year</th><th scope=col>house</th></tr>\n",
       "\t<tr><th></th><th scope=col>&lt;chr&gt;</th><th scope=col>&lt;dbl&gt;</th><th scope=col>&lt;chr&gt;</th></tr>\n",
       "</thead>\n",
       "<tbody>\n",
       "\t<tr><th scope=row>6</th><td>Ginny</td><td>-1</td><td>G</td></tr>\n",
       "</tbody>\n",
       "</table>\n"
      ],
      "text/latex": [
       "A data.frame: 1 × 3\n",
       "\\begin{tabular}{r|lll}\n",
       "  & name & year & house\\\\\n",
       "  & <chr> & <dbl> & <chr>\\\\\n",
       "\\hline\n",
       "\t6 & Ginny & -1 & G\\\\\n",
       "\\end{tabular}\n"
      ],
      "text/markdown": [
       "\n",
       "A data.frame: 1 × 3\n",
       "\n",
       "| <!--/--> | name &lt;chr&gt; | year &lt;dbl&gt; | house &lt;chr&gt; |\n",
       "|---|---|---|---|\n",
       "| 6 | Ginny | -1 | G |\n",
       "\n"
      ],
      "text/plain": [
       "  name  year house\n",
       "6 Ginny -1   G    "
      ]
     },
     "metadata": {},
     "output_type": "display_data"
    },
    {
     "data": {
      "text/html": [
       "<table class=\"dataframe\">\n",
       "<caption>A data.frame: 2 × 3</caption>\n",
       "<thead>\n",
       "\t<tr><th></th><th scope=col>name</th><th scope=col>year</th><th scope=col>house</th></tr>\n",
       "\t<tr><th></th><th scope=col>&lt;chr&gt;</th><th scope=col>&lt;dbl&gt;</th><th scope=col>&lt;chr&gt;</th></tr>\n",
       "</thead>\n",
       "<tbody>\n",
       "\t<tr><th scope=row>2</th><td>Fred  </td><td>2</td><td>G</td></tr>\n",
       "\t<tr><th scope=row>3</th><td>George</td><td>2</td><td>G</td></tr>\n",
       "</tbody>\n",
       "</table>\n"
      ],
      "text/latex": [
       "A data.frame: 2 × 3\n",
       "\\begin{tabular}{r|lll}\n",
       "  & name & year & house\\\\\n",
       "  & <chr> & <dbl> & <chr>\\\\\n",
       "\\hline\n",
       "\t2 & Fred   & 2 & G\\\\\n",
       "\t3 & George & 2 & G\\\\\n",
       "\\end{tabular}\n"
      ],
      "text/markdown": [
       "\n",
       "A data.frame: 2 × 3\n",
       "\n",
       "| <!--/--> | name &lt;chr&gt; | year &lt;dbl&gt; | house &lt;chr&gt; |\n",
       "|---|---|---|---|\n",
       "| 2 | Fred   | 2 | G |\n",
       "| 3 | George | 2 | G |\n",
       "\n"
      ],
      "text/plain": [
       "  name   year house\n",
       "2 Fred   2    G    \n",
       "3 George 2    G    "
      ]
     },
     "metadata": {},
     "output_type": "display_data"
    }
   ],
   "source": [
    "students[students['name'] == \"Ginny\",] # get rows with name == \"Ginny\"\n",
    "# =>\n",
    "#     name year house\n",
    "# 1: Ginny   -1     G\n",
    "students[students['year'] == 2, ] # get rows with year == 2\n",
    "# =>\n",
    "#      name year house\n",
    "# 1:   Fred    2     G"
   ]
  },
  {
   "cell_type": "code",
   "execution_count": 177,
   "id": "36d0b4a5-9819-477b-8607-bcaf4209fa85",
   "metadata": {},
   "outputs": [
    {
     "data": {
      "text/html": [
       "<table class=\"dataframe\">\n",
       "<caption>A data.table: 1 × 3</caption>\n",
       "<thead>\n",
       "\t<tr><th scope=col>name</th><th scope=col>year</th><th scope=col>house</th></tr>\n",
       "\t<tr><th scope=col>&lt;chr&gt;</th><th scope=col>&lt;dbl&gt;</th><th scope=col>&lt;chr&gt;</th></tr>\n",
       "</thead>\n",
       "<tbody>\n",
       "\t<tr><td>Ginny</td><td>-1</td><td>G</td></tr>\n",
       "</tbody>\n",
       "</table>\n"
      ],
      "text/latex": [
       "A data.table: 1 × 3\n",
       "\\begin{tabular}{lll}\n",
       " name & year & house\\\\\n",
       " <chr> & <dbl> & <chr>\\\\\n",
       "\\hline\n",
       "\t Ginny & -1 & G\\\\\n",
       "\\end{tabular}\n"
      ],
      "text/markdown": [
       "\n",
       "A data.table: 1 × 3\n",
       "\n",
       "| name &lt;chr&gt; | year &lt;dbl&gt; | house &lt;chr&gt; |\n",
       "|---|---|---|\n",
       "| Ginny | -1 | G |\n",
       "\n"
      ],
      "text/plain": [
       "  name  year house\n",
       "1 Ginny -1   G    "
      ]
     },
     "metadata": {},
     "output_type": "display_data"
    },
    {
     "data": {
      "text/html": [
       "<table class=\"dataframe\">\n",
       "<caption>A data.table: 2 × 3</caption>\n",
       "<thead>\n",
       "\t<tr><th scope=col>name</th><th scope=col>year</th><th scope=col>house</th></tr>\n",
       "\t<tr><th scope=col>&lt;chr&gt;</th><th scope=col>&lt;dbl&gt;</th><th scope=col>&lt;chr&gt;</th></tr>\n",
       "</thead>\n",
       "<tbody>\n",
       "\t<tr><td>Fred  </td><td>2</td><td>G</td></tr>\n",
       "\t<tr><td>George</td><td>2</td><td>G</td></tr>\n",
       "</tbody>\n",
       "</table>\n"
      ],
      "text/latex": [
       "A data.table: 2 × 3\n",
       "\\begin{tabular}{lll}\n",
       " name & year & house\\\\\n",
       " <chr> & <dbl> & <chr>\\\\\n",
       "\\hline\n",
       "\t Fred   & 2 & G\\\\\n",
       "\t George & 2 & G\\\\\n",
       "\\end{tabular}\n"
      ],
      "text/markdown": [
       "\n",
       "A data.table: 2 × 3\n",
       "\n",
       "| name &lt;chr&gt; | year &lt;dbl&gt; | house &lt;chr&gt; |\n",
       "|---|---|---|\n",
       "| Fred   | 2 | G |\n",
       "| George | 2 | G |\n",
       "\n"
      ],
      "text/plain": [
       "  name   year house\n",
       "1 Fred   2    G    \n",
       "2 George 2    G    "
      ]
     },
     "metadata": {},
     "output_type": "display_data"
    }
   ],
   "source": [
    "# Con datatable es más fácil filtrar!\n",
    "students_dt[name == \"Ginny\"] # get rows with name == \"Ginny\"\n",
    "# =>\n",
    "#     name year house\n",
    "# 1: Ginny   -1     G\n",
    "students_dt[year == 2] # get rows with year == 2\n",
    "# =>\n",
    "#      name year house\n",
    "# 1:   Fred    2     G\n",
    "# 2: George    2     G\n"
   ]
  },
  {
   "cell_type": "code",
   "execution_count": 178,
   "id": "7cbdeb61-dcfe-4611-bbb4-8be3299d8f7b",
   "metadata": {},
   "outputs": [
    {
     "data": {
      "text/html": [
       "<table class=\"dataframe\">\n",
       "<caption>A data.table: 4 × 2</caption>\n",
       "<thead>\n",
       "\t<tr><th scope=col>house</th><th scope=col>founder</th></tr>\n",
       "\t<tr><th scope=col>&lt;chr&gt;</th><th scope=col>&lt;chr&gt;</th></tr>\n",
       "</thead>\n",
       "<tbody>\n",
       "\t<tr><td>G</td><td>Godric </td></tr>\n",
       "\t<tr><td>H</td><td>Helga  </td></tr>\n",
       "\t<tr><td>R</td><td>Rowena </td></tr>\n",
       "\t<tr><td>S</td><td>Salazar</td></tr>\n",
       "</tbody>\n",
       "</table>\n"
      ],
      "text/latex": [
       "A data.table: 4 × 2\n",
       "\\begin{tabular}{ll}\n",
       " house & founder\\\\\n",
       " <chr> & <chr>\\\\\n",
       "\\hline\n",
       "\t G & Godric \\\\\n",
       "\t H & Helga  \\\\\n",
       "\t R & Rowena \\\\\n",
       "\t S & Salazar\\\\\n",
       "\\end{tabular}\n"
      ],
      "text/markdown": [
       "\n",
       "A data.table: 4 × 2\n",
       "\n",
       "| house &lt;chr&gt; | founder &lt;chr&gt; |\n",
       "|---|---|\n",
       "| G | Godric  |\n",
       "| H | Helga   |\n",
       "| R | Rowena  |\n",
       "| S | Salazar |\n",
       "\n"
      ],
      "text/plain": [
       "  house founder\n",
       "1 G     Godric \n",
       "2 H     Helga  \n",
       "3 R     Rowena \n",
       "4 S     Salazar"
      ]
     },
     "metadata": {},
     "output_type": "display_data"
    }
   ],
   "source": [
    "# data.table makes merging two data sets easy\n",
    "# let's make another data.table to merge with students\n",
    "# Nombre columna = datos\n",
    "founders <- data.table(house   = c(\"G\"     , \"H\"    , \"R\"     , \"S\"),\n",
    "                       founder = c(\"Godric\", \"Helga\", \"Rowena\", \"Salazar\"))\n",
    "founders\n",
    "# =>\n",
    "#    house founder\n",
    "# 1:     G  Godric\n",
    "# 2:     H   Helga\n",
    "# 3:     R  Rowena\n",
    "# 4:     S Salazar"
   ]
  },
  {
   "cell_type": "code",
   "execution_count": 181,
   "id": "21411498-527a-4de6-a47d-7900e5d21efc",
   "metadata": {},
   "outputs": [
    {
     "data": {
      "text/html": [
       "<table class=\"dataframe\">\n",
       "<caption>A data.table: 6 × 4</caption>\n",
       "<thead>\n",
       "\t<tr><th scope=col>house</th><th scope=col>founder</th><th scope=col>name</th><th scope=col>year</th></tr>\n",
       "\t<tr><th scope=col>&lt;chr&gt;</th><th scope=col>&lt;chr&gt;</th><th scope=col>&lt;chr&gt;</th><th scope=col>&lt;dbl&gt;</th></tr>\n",
       "</thead>\n",
       "<tbody>\n",
       "\t<tr><td>G</td><td>Godric </td><td>Fred  </td><td> 2</td></tr>\n",
       "\t<tr><td>G</td><td>Godric </td><td>George</td><td> 2</td></tr>\n",
       "\t<tr><td>G</td><td>Godric </td><td>Ginny </td><td>-1</td></tr>\n",
       "\t<tr><td>H</td><td>Helga  </td><td>Cedric</td><td> 3</td></tr>\n",
       "\t<tr><td>R</td><td>Rowena </td><td>Cho   </td><td> 1</td></tr>\n",
       "\t<tr><td>S</td><td>Salazar</td><td>Draco </td><td> 0</td></tr>\n",
       "</tbody>\n",
       "</table>\n"
      ],
      "text/latex": [
       "A data.table: 6 × 4\n",
       "\\begin{tabular}{llll}\n",
       " house & founder & name & year\\\\\n",
       " <chr> & <chr> & <chr> & <dbl>\\\\\n",
       "\\hline\n",
       "\t G & Godric  & Fred   &  2\\\\\n",
       "\t G & Godric  & George &  2\\\\\n",
       "\t G & Godric  & Ginny  & -1\\\\\n",
       "\t H & Helga   & Cedric &  3\\\\\n",
       "\t R & Rowena  & Cho    &  1\\\\\n",
       "\t S & Salazar & Draco  &  0\\\\\n",
       "\\end{tabular}\n"
      ],
      "text/markdown": [
       "\n",
       "A data.table: 6 × 4\n",
       "\n",
       "| house &lt;chr&gt; | founder &lt;chr&gt; | name &lt;chr&gt; | year &lt;dbl&gt; |\n",
       "|---|---|---|---|\n",
       "| G | Godric  | Fred   |  2 |\n",
       "| G | Godric  | George |  2 |\n",
       "| G | Godric  | Ginny  | -1 |\n",
       "| H | Helga   | Cedric |  3 |\n",
       "| R | Rowena  | Cho    |  1 |\n",
       "| S | Salazar | Draco  |  0 |\n",
       "\n"
      ],
      "text/plain": [
       "  house founder name   year\n",
       "1 G     Godric  Fred    2  \n",
       "2 G     Godric  George  2  \n",
       "3 G     Godric  Ginny  -1  \n",
       "4 H     Helga   Cedric  3  \n",
       "5 R     Rowena  Cho     1  \n",
       "6 S     Salazar Draco   0  "
      ]
     },
     "metadata": {},
     "output_type": "display_data"
    }
   ],
   "source": [
    "setkey(students_dt, house)\n",
    "setkey(founders, house)\n",
    "students_dt <- founders[students_dt] # merge the two data sets by matching \"house\"\n",
    "students_dt"
   ]
  },
  {
   "cell_type": "code",
   "execution_count": 182,
   "id": "4ce18589-07f4-4d85-a88a-7b9306e167ec",
   "metadata": {},
   "outputs": [
    {
     "data": {
      "text/html": [
       "<table class=\"dataframe\">\n",
       "<caption>A data.table: 6 × 4</caption>\n",
       "<thead>\n",
       "\t<tr><th scope=col>studentName</th><th scope=col>year</th><th scope=col>house</th><th scope=col>houseFounderName</th></tr>\n",
       "\t<tr><th scope=col>&lt;chr&gt;</th><th scope=col>&lt;dbl&gt;</th><th scope=col>&lt;chr&gt;</th><th scope=col>&lt;chr&gt;</th></tr>\n",
       "</thead>\n",
       "<tbody>\n",
       "\t<tr><td>Fred  </td><td> 2</td><td>G</td><td>Godric </td></tr>\n",
       "\t<tr><td>George</td><td> 2</td><td>G</td><td>Godric </td></tr>\n",
       "\t<tr><td>Ginny </td><td>-1</td><td>G</td><td>Godric </td></tr>\n",
       "\t<tr><td>Cedric</td><td> 3</td><td>H</td><td>Helga  </td></tr>\n",
       "\t<tr><td>Cho   </td><td> 1</td><td>R</td><td>Rowena </td></tr>\n",
       "\t<tr><td>Draco </td><td> 0</td><td>S</td><td>Salazar</td></tr>\n",
       "</tbody>\n",
       "</table>\n"
      ],
      "text/latex": [
       "A data.table: 6 × 4\n",
       "\\begin{tabular}{llll}\n",
       " studentName & year & house & houseFounderName\\\\\n",
       " <chr> & <dbl> & <chr> & <chr>\\\\\n",
       "\\hline\n",
       "\t Fred   &  2 & G & Godric \\\\\n",
       "\t George &  2 & G & Godric \\\\\n",
       "\t Ginny  & -1 & G & Godric \\\\\n",
       "\t Cedric &  3 & H & Helga  \\\\\n",
       "\t Cho    &  1 & R & Rowena \\\\\n",
       "\t Draco  &  0 & S & Salazar\\\\\n",
       "\\end{tabular}\n"
      ],
      "text/markdown": [
       "\n",
       "A data.table: 6 × 4\n",
       "\n",
       "| studentName &lt;chr&gt; | year &lt;dbl&gt; | house &lt;chr&gt; | houseFounderName &lt;chr&gt; |\n",
       "|---|---|---|---|\n",
       "| Fred   |  2 | G | Godric  |\n",
       "| George |  2 | G | Godric  |\n",
       "| Ginny  | -1 | G | Godric  |\n",
       "| Cedric |  3 | H | Helga   |\n",
       "| Cho    |  1 | R | Rowena  |\n",
       "| Draco  |  0 | S | Salazar |\n",
       "\n"
      ],
      "text/plain": [
       "  studentName year house houseFounderName\n",
       "1 Fred         2   G     Godric          \n",
       "2 George       2   G     Godric          \n",
       "3 Ginny       -1   G     Godric          \n",
       "4 Cedric       3   H     Helga           \n",
       "5 Cho          1   R     Rowena          \n",
       "6 Draco        0   S     Salazar         "
      ]
     },
     "metadata": {},
     "output_type": "display_data"
    }
   ],
   "source": [
    "setnames(students_dt, c(\"house\", \"houseFounderName\", \"studentName\", \"year\"))\n",
    "students_dt[, order(c(\"name\", \"year\", \"house\", \"houseFounderName\")), with = F]\n",
    "# =>\n",
    "#    studentName year house houseFounderName\n",
    "# 1:        Fred    2     G           Godric\n",
    "# 2:      George    2     G           Godric\n",
    "# 3:       Ginny   -1     G           Godric\n",
    "# 4:      Cedric    3     H            Helga\n",
    "# 5:         Cho    1     R           Rowena\n",
    "# 6:       Draco    0     S          Salazar"
   ]
  },
  {
   "cell_type": "code",
   "execution_count": 188,
   "id": "c40ad2b6-0030-4260-a2c4-051820e935b5",
   "metadata": {},
   "outputs": [
    {
     "data": {
      "text/html": [
       "7"
      ],
      "text/latex": [
       "7"
      ],
      "text/markdown": [
       "7"
      ],
      "text/plain": [
       "[1] 7"
      ]
     },
     "metadata": {},
     "output_type": "display_data"
    }
   ],
   "source": [
    "students_dt[, sum(year)]"
   ]
  },
  {
   "cell_type": "code",
   "execution_count": 191,
   "id": "c4ff7f2d-e4da-479e-b9ef-23db6a96af40",
   "metadata": {},
   "outputs": [
    {
     "data": {
      "text/html": [
       "<table class=\"dataframe\">\n",
       "<caption>A data.table: 4 × 2</caption>\n",
       "<thead>\n",
       "\t<tr><th scope=col>house</th><th scope=col>V1</th></tr>\n",
       "\t<tr><th scope=col>&lt;chr&gt;</th><th scope=col>&lt;dbl&gt;</th></tr>\n",
       "</thead>\n",
       "<tbody>\n",
       "\t<tr><td>G</td><td>3</td></tr>\n",
       "\t<tr><td>H</td><td>3</td></tr>\n",
       "\t<tr><td>R</td><td>1</td></tr>\n",
       "\t<tr><td>S</td><td>0</td></tr>\n",
       "</tbody>\n",
       "</table>\n"
      ],
      "text/latex": [
       "A data.table: 4 × 2\n",
       "\\begin{tabular}{ll}\n",
       " house & V1\\\\\n",
       " <chr> & <dbl>\\\\\n",
       "\\hline\n",
       "\t G & 3\\\\\n",
       "\t H & 3\\\\\n",
       "\t R & 1\\\\\n",
       "\t S & 0\\\\\n",
       "\\end{tabular}\n"
      ],
      "text/markdown": [
       "\n",
       "A data.table: 4 × 2\n",
       "\n",
       "| house &lt;chr&gt; | V1 &lt;dbl&gt; |\n",
       "|---|---|\n",
       "| G | 3 |\n",
       "| H | 3 |\n",
       "| R | 1 |\n",
       "| S | 0 |\n",
       "\n"
      ],
      "text/plain": [
       "  house V1\n",
       "1 G     3 \n",
       "2 H     3 \n",
       "3 R     1 \n",
       "4 S     0 "
      ]
     },
     "metadata": {},
     "output_type": "display_data"
    }
   ],
   "source": [
    "# data.table makes summary tables easy\n",
    "students_dt[, sum(year), by = house]\n",
    "# =>\n",
    "#    house V1\n",
    "# 1:     G  3\n",
    "# 2:     H  3\n",
    "# 3:     R  1\n",
    "# 4:     S  0"
   ]
  },
  {
   "cell_type": "code",
   "execution_count": 192,
   "id": "f14784e6-7104-43f8-8072-d701bd2370a6",
   "metadata": {},
   "outputs": [
    {
     "data": {
      "text/html": [
       "<table class=\"dataframe\">\n",
       "<caption>A data.table: 6 × 3</caption>\n",
       "<thead>\n",
       "\t<tr><th scope=col>house</th><th scope=col>studentName</th><th scope=col>year</th></tr>\n",
       "\t<tr><th scope=col>&lt;chr&gt;</th><th scope=col>&lt;chr&gt;</th><th scope=col>&lt;dbl&gt;</th></tr>\n",
       "</thead>\n",
       "<tbody>\n",
       "\t<tr><td>G</td><td>Fred  </td><td> 2</td></tr>\n",
       "\t<tr><td>G</td><td>George</td><td> 2</td></tr>\n",
       "\t<tr><td>G</td><td>Ginny </td><td>-1</td></tr>\n",
       "\t<tr><td>H</td><td>Cedric</td><td> 3</td></tr>\n",
       "\t<tr><td>R</td><td>Cho   </td><td> 1</td></tr>\n",
       "\t<tr><td>S</td><td>Draco </td><td> 0</td></tr>\n",
       "</tbody>\n",
       "</table>\n"
      ],
      "text/latex": [
       "A data.table: 6 × 3\n",
       "\\begin{tabular}{lll}\n",
       " house & studentName & year\\\\\n",
       " <chr> & <chr> & <dbl>\\\\\n",
       "\\hline\n",
       "\t G & Fred   &  2\\\\\n",
       "\t G & George &  2\\\\\n",
       "\t G & Ginny  & -1\\\\\n",
       "\t H & Cedric &  3\\\\\n",
       "\t R & Cho    &  1\\\\\n",
       "\t S & Draco  &  0\\\\\n",
       "\\end{tabular}\n"
      ],
      "text/markdown": [
       "\n",
       "A data.table: 6 × 3\n",
       "\n",
       "| house &lt;chr&gt; | studentName &lt;chr&gt; | year &lt;dbl&gt; |\n",
       "|---|---|---|\n",
       "| G | Fred   |  2 |\n",
       "| G | George |  2 |\n",
       "| G | Ginny  | -1 |\n",
       "| H | Cedric |  3 |\n",
       "| R | Cho    |  1 |\n",
       "| S | Draco  |  0 |\n",
       "\n"
      ],
      "text/plain": [
       "  house studentName year\n",
       "1 G     Fred         2  \n",
       "2 G     George       2  \n",
       "3 G     Ginny       -1  \n",
       "4 H     Cedric       3  \n",
       "5 R     Cho          1  \n",
       "6 S     Draco        0  "
      ]
     },
     "metadata": {},
     "output_type": "display_data"
    }
   ],
   "source": [
    "# To drop a column from a data.frame or data.table,\n",
    "# assign it the NULL value\n",
    "students_dt$houseFounderName <- NULL\n",
    "students_dt\n",
    "# =>\n",
    "#    studentName year house\n",
    "# 1:        Fred    2     G\n",
    "# 2:      George    2     G\n",
    "# 3:       Ginny   -1     G\n",
    "# 4:      Cedric    3     H\n",
    "# 5:         Cho    1     R\n",
    "# 6:       Draco    0     S"
   ]
  },
  {
   "cell_type": "code",
   "execution_count": 194,
   "id": "e205a5fa-969d-454b-b317-70db397999b3",
   "metadata": {},
   "outputs": [
    {
     "data": {
      "text/html": [
       "<table class=\"dataframe\">\n",
       "<caption>A data.table: 5 × 3</caption>\n",
       "<thead>\n",
       "\t<tr><th scope=col>house</th><th scope=col>studentName</th><th scope=col>year</th></tr>\n",
       "\t<tr><th scope=col>&lt;chr&gt;</th><th scope=col>&lt;chr&gt;</th><th scope=col>&lt;dbl&gt;</th></tr>\n",
       "</thead>\n",
       "<tbody>\n",
       "\t<tr><td>G</td><td>Fred  </td><td> 2</td></tr>\n",
       "\t<tr><td>G</td><td>George</td><td> 2</td></tr>\n",
       "\t<tr><td>G</td><td>Ginny </td><td>-1</td></tr>\n",
       "\t<tr><td>H</td><td>Cedric</td><td> 3</td></tr>\n",
       "\t<tr><td>R</td><td>Cho   </td><td> 1</td></tr>\n",
       "</tbody>\n",
       "</table>\n"
      ],
      "text/latex": [
       "A data.table: 5 × 3\n",
       "\\begin{tabular}{lll}\n",
       " house & studentName & year\\\\\n",
       " <chr> & <chr> & <dbl>\\\\\n",
       "\\hline\n",
       "\t G & Fred   &  2\\\\\n",
       "\t G & George &  2\\\\\n",
       "\t G & Ginny  & -1\\\\\n",
       "\t H & Cedric &  3\\\\\n",
       "\t R & Cho    &  1\\\\\n",
       "\\end{tabular}\n"
      ],
      "text/markdown": [
       "\n",
       "A data.table: 5 × 3\n",
       "\n",
       "| house &lt;chr&gt; | studentName &lt;chr&gt; | year &lt;dbl&gt; |\n",
       "|---|---|---|\n",
       "| G | Fred   |  2 |\n",
       "| G | George |  2 |\n",
       "| G | Ginny  | -1 |\n",
       "| H | Cedric |  3 |\n",
       "| R | Cho    |  1 |\n",
       "\n"
      ],
      "text/plain": [
       "  house studentName year\n",
       "1 G     Fred         2  \n",
       "2 G     George       2  \n",
       "3 G     Ginny       -1  \n",
       "4 H     Cedric       3  \n",
       "5 R     Cho          1  "
      ]
     },
     "metadata": {},
     "output_type": "display_data"
    },
    {
     "data": {
      "text/html": [
       "<table class=\"dataframe\">\n",
       "<caption>A data.frame: 3 × 3</caption>\n",
       "<thead>\n",
       "\t<tr><th></th><th scope=col>house</th><th scope=col>studentName</th><th scope=col>year</th></tr>\n",
       "\t<tr><th></th><th scope=col>&lt;chr&gt;</th><th scope=col>&lt;chr&gt;</th><th scope=col>&lt;dbl&gt;</th></tr>\n",
       "</thead>\n",
       "<tbody>\n",
       "\t<tr><th scope=row>4</th><td>H</td><td>Cedric</td><td>3</td></tr>\n",
       "\t<tr><th scope=row>5</th><td>R</td><td>Cho   </td><td>1</td></tr>\n",
       "\t<tr><th scope=row>6</th><td>S</td><td>Draco </td><td>0</td></tr>\n",
       "</tbody>\n",
       "</table>\n"
      ],
      "text/latex": [
       "A data.frame: 3 × 3\n",
       "\\begin{tabular}{r|lll}\n",
       "  & house & studentName & year\\\\\n",
       "  & <chr> & <chr> & <dbl>\\\\\n",
       "\\hline\n",
       "\t4 & H & Cedric & 3\\\\\n",
       "\t5 & R & Cho    & 1\\\\\n",
       "\t6 & S & Draco  & 0\\\\\n",
       "\\end{tabular}\n"
      ],
      "text/markdown": [
       "\n",
       "A data.frame: 3 × 3\n",
       "\n",
       "| <!--/--> | house &lt;chr&gt; | studentName &lt;chr&gt; | year &lt;dbl&gt; |\n",
       "|---|---|---|---|\n",
       "| 4 | H | Cedric | 3 |\n",
       "| 5 | R | Cho    | 1 |\n",
       "| 6 | S | Draco  | 0 |\n",
       "\n"
      ],
      "text/plain": [
       "  house studentName year\n",
       "4 H     Cedric      3   \n",
       "5 R     Cho         1   \n",
       "6 S     Draco       0   "
      ]
     },
     "metadata": {},
     "output_type": "display_data"
    }
   ],
   "source": [
    "# Drop a row by subsetting\n",
    "# Using data.table:\n",
    "students_dt[studentName != \"Draco\"]\n",
    "# =>\n",
    "#    house studentName year\n",
    "# 1:     G        Fred    2\n",
    "# 2:     G      George    2\n",
    "# 3:     G       Ginny   -1\n",
    "# 4:     H      Cedric    3\n",
    "# 5:     R         Cho    1\n",
    "# Using data.frame:\n",
    "students_dt <- as.data.frame(students_dt)\n",
    "students_dt[students_dt$house != \"G\", ]\n",
    "# =>\n",
    "#   house houseFounderName studentName year\n",
    "# 4     H            Helga      Cedric    3\n",
    "# 5     R           Rowena         Cho    1\n",
    "# 6     S          Salazar       Draco    0"
   ]
  },
  {
   "cell_type": "markdown",
   "id": "5ca3de18-2712-4a5a-b7e5-999b4672c91e",
   "metadata": {},
   "source": [
    "### Arrays (multi-dimensional)"
   ]
  },
  {
   "cell_type": "code",
   "execution_count": null,
   "id": "5956dd4d-0406-4d85-92cc-04ecf8a4b905",
   "metadata": {},
   "outputs": [],
   "source": [
    "# MULTI-DIMENSIONAL (ALL ELEMENTS OF ONE TYPE)\n",
    "\n",
    "# Arrays creates n-dimensional tables\n",
    "# All elements must be of the same type\n",
    "# You can make a two-dimensional table (sort of like a matrix)\n",
    "array(c(c(1, 2, 4, 5), c(8, 9, 3, 6)), dim = c(2, 4))\n",
    "# =>\n",
    "#      [,1] [,2] [,3] [,4]\n",
    "# [1,]    1    4    8    3\n",
    "# [2,]    2    5    9    6\n",
    "# You can use array to make three-dimensional matrices too\n",
    "array(c(c(c(2, 300, 4), c(8, 9, 0)), c(c(5, 60, 0), c(66, 7, 847))), dim = c(3, 2, 2))\n",
    "# =>\n",
    "# , , 1\n",
    "#\n",
    "#      [,1] [,2]\n",
    "# [1,]    2    8\n",
    "# [2,]  300    9\n",
    "# [3,]    4    0\n",
    "#\n",
    "# , , 2\n",
    "#\n",
    "#      [,1] [,2]\n",
    "# [1,]    5   66\n",
    "# [2,]   60    7\n",
    "# [3,]    0  847"
   ]
  },
  {
   "cell_type": "markdown",
   "id": "2eec7c57-c903-439f-83f6-7bb9090d35af",
   "metadata": {},
   "source": [
    "### Lists (of vectors)"
   ]
  },
  {
   "cell_type": "code",
   "execution_count": 198,
   "id": "29b0bf40-fed3-4d7b-b1c0-a5d5a362921f",
   "metadata": {},
   "outputs": [
    {
     "data": {
      "text/html": [
       "<style>\n",
       ".list-inline {list-style: none; margin:0; padding: 0}\n",
       ".list-inline>li {display: inline-block}\n",
       ".list-inline>li:not(:last-child)::after {content: \"\\00b7\"; padding: 0 .5ex}\n",
       "</style>\n",
       "<ol class=list-inline><li>1</li><li>2</li><li>3</li><li>4</li><li>5</li><li>6</li><li>7</li><li>8</li><li>9</li><li>10</li><li>11</li><li>12</li><li>13</li><li>14</li><li>15</li><li>16</li><li>17</li><li>18</li><li>19</li><li>20</li><li>21</li><li>22</li><li>23</li><li>24</li><li>25</li><li>26</li><li>27</li><li>28</li><li>29</li><li>30</li><li>31</li><li>32</li><li>33</li><li>34</li><li>35</li><li>36</li><li>37</li><li>38</li><li>39</li><li>40</li></ol>\n"
      ],
      "text/latex": [
       "\\begin{enumerate*}\n",
       "\\item 1\n",
       "\\item 2\n",
       "\\item 3\n",
       "\\item 4\n",
       "\\item 5\n",
       "\\item 6\n",
       "\\item 7\n",
       "\\item 8\n",
       "\\item 9\n",
       "\\item 10\n",
       "\\item 11\n",
       "\\item 12\n",
       "\\item 13\n",
       "\\item 14\n",
       "\\item 15\n",
       "\\item 16\n",
       "\\item 17\n",
       "\\item 18\n",
       "\\item 19\n",
       "\\item 20\n",
       "\\item 21\n",
       "\\item 22\n",
       "\\item 23\n",
       "\\item 24\n",
       "\\item 25\n",
       "\\item 26\n",
       "\\item 27\n",
       "\\item 28\n",
       "\\item 29\n",
       "\\item 30\n",
       "\\item 31\n",
       "\\item 32\n",
       "\\item 33\n",
       "\\item 34\n",
       "\\item 35\n",
       "\\item 36\n",
       "\\item 37\n",
       "\\item 38\n",
       "\\item 39\n",
       "\\item 40\n",
       "\\end{enumerate*}\n"
      ],
      "text/markdown": [
       "1. 1\n",
       "2. 2\n",
       "3. 3\n",
       "4. 4\n",
       "5. 5\n",
       "6. 6\n",
       "7. 7\n",
       "8. 8\n",
       "9. 9\n",
       "10. 10\n",
       "11. 11\n",
       "12. 12\n",
       "13. 13\n",
       "14. 14\n",
       "15. 15\n",
       "16. 16\n",
       "17. 17\n",
       "18. 18\n",
       "19. 19\n",
       "20. 20\n",
       "21. 21\n",
       "22. 22\n",
       "23. 23\n",
       "24. 24\n",
       "25. 25\n",
       "26. 26\n",
       "27. 27\n",
       "28. 28\n",
       "29. 29\n",
       "30. 30\n",
       "31. 31\n",
       "32. 32\n",
       "33. 33\n",
       "34. 34\n",
       "35. 35\n",
       "36. 36\n",
       "37. 37\n",
       "38. 38\n",
       "39. 39\n",
       "40. 40\n",
       "\n",
       "\n"
      ],
      "text/plain": [
       " [1]  1  2  3  4  5  6  7  8  9 10 11 12 13 14 15 16 17 18 19 20 21 22 23 24 25\n",
       "[26] 26 27 28 29 30 31 32 33 34 35 36 37 38 39 40"
      ]
     },
     "metadata": {},
     "output_type": "display_data"
    },
    {
     "data": {
      "text/html": [
       "<strong>$time</strong> = <style>\n",
       ".list-inline {list-style: none; margin:0; padding: 0}\n",
       ".list-inline>li {display: inline-block}\n",
       ".list-inline>li:not(:last-child)::after {content: \"\\00b7\"; padding: 0 .5ex}\n",
       "</style>\n",
       "<ol class=list-inline><li>1</li><li>2</li><li>3</li><li>4</li><li>5</li><li>6</li><li>7</li><li>8</li><li>9</li><li>10</li><li>11</li><li>12</li><li>13</li><li>14</li><li>15</li><li>16</li><li>17</li><li>18</li><li>19</li><li>20</li><li>21</li><li>22</li><li>23</li><li>24</li><li>25</li><li>26</li><li>27</li><li>28</li><li>29</li><li>30</li><li>31</li><li>32</li><li>33</li><li>34</li><li>35</li><li>36</li><li>37</li><li>38</li><li>39</li><li>40</li></ol>\n"
      ],
      "text/latex": [
       "\\textbf{\\$time} = \\begin{enumerate*}\n",
       "\\item 1\n",
       "\\item 2\n",
       "\\item 3\n",
       "\\item 4\n",
       "\\item 5\n",
       "\\item 6\n",
       "\\item 7\n",
       "\\item 8\n",
       "\\item 9\n",
       "\\item 10\n",
       "\\item 11\n",
       "\\item 12\n",
       "\\item 13\n",
       "\\item 14\n",
       "\\item 15\n",
       "\\item 16\n",
       "\\item 17\n",
       "\\item 18\n",
       "\\item 19\n",
       "\\item 20\n",
       "\\item 21\n",
       "\\item 22\n",
       "\\item 23\n",
       "\\item 24\n",
       "\\item 25\n",
       "\\item 26\n",
       "\\item 27\n",
       "\\item 28\n",
       "\\item 29\n",
       "\\item 30\n",
       "\\item 31\n",
       "\\item 32\n",
       "\\item 33\n",
       "\\item 34\n",
       "\\item 35\n",
       "\\item 36\n",
       "\\item 37\n",
       "\\item 38\n",
       "\\item 39\n",
       "\\item 40\n",
       "\\end{enumerate*}\n"
      ],
      "text/markdown": [
       "**$time** = 1. 1\n",
       "2. 2\n",
       "3. 3\n",
       "4. 4\n",
       "5. 5\n",
       "6. 6\n",
       "7. 7\n",
       "8. 8\n",
       "9. 9\n",
       "10. 10\n",
       "11. 11\n",
       "12. 12\n",
       "13. 13\n",
       "14. 14\n",
       "15. 15\n",
       "16. 16\n",
       "17. 17\n",
       "18. 18\n",
       "19. 19\n",
       "20. 20\n",
       "21. 21\n",
       "22. 22\n",
       "23. 23\n",
       "24. 24\n",
       "25. 25\n",
       "26. 26\n",
       "27. 27\n",
       "28. 28\n",
       "29. 29\n",
       "30. 30\n",
       "31. 31\n",
       "32. 32\n",
       "33. 33\n",
       "34. 34\n",
       "35. 35\n",
       "36. 36\n",
       "37. 37\n",
       "38. 38\n",
       "39. 39\n",
       "40. 40\n",
       "\n",
       "\n"
      ],
      "text/plain": [
       "$time\n",
       " [1]  1  2  3  4  5  6  7  8  9 10 11 12 13 14 15 16 17 18 19 20 21 22 23 24 25\n",
       "[26] 26 27 28 29 30 31 32 33 34 35 36 37 38 39 40\n"
      ]
     },
     "metadata": {},
     "output_type": "display_data"
    }
   ],
   "source": [
    "# LISTS (MULTI-DIMENSIONAL, POSSIBLY RAGGED, OF DIFFERENT TYPES)\n",
    "# Lists are not the most efficient data structure to work with in R;\n",
    "# unless you have a very good reason, you should stick to data.frames\n",
    "# Lists are often returned by functions that perform linear regressions\n",
    "# Finally, R has lists (of vectors)\n",
    "time = 1:40\n",
    "time\n",
    "list1 <- list(time = 1:40)\n",
    "list1"
   ]
  },
  {
   "cell_type": "code",
   "execution_count": 199,
   "id": "3f6f5068-88df-4ce1-97db-480d1ea392b0",
   "metadata": {},
   "outputs": [
    {
     "data": {
      "text/html": [
       "<dl>\n",
       "\t<dt>$time</dt>\n",
       "\t\t<dd><style>\n",
       ".list-inline {list-style: none; margin:0; padding: 0}\n",
       ".list-inline>li {display: inline-block}\n",
       ".list-inline>li:not(:last-child)::after {content: \"\\00b7\"; padding: 0 .5ex}\n",
       "</style>\n",
       "<ol class=list-inline><li>1</li><li>2</li><li>3</li><li>4</li><li>5</li><li>6</li><li>7</li><li>8</li><li>9</li><li>10</li><li>11</li><li>12</li><li>13</li><li>14</li><li>15</li><li>16</li><li>17</li><li>18</li><li>19</li><li>20</li><li>21</li><li>22</li><li>23</li><li>24</li><li>25</li><li>26</li><li>27</li><li>28</li><li>29</li><li>30</li><li>31</li><li>32</li><li>33</li><li>34</li><li>35</li><li>36</li><li>37</li><li>38</li><li>39</li><li>40</li></ol>\n",
       "</dd>\n",
       "\t<dt>$price</dt>\n",
       "\t\t<dd><style>\n",
       ".list-inline {list-style: none; margin:0; padding: 0}\n",
       ".list-inline>li {display: inline-block}\n",
       ".list-inline>li:not(:last-child)::after {content: \"\\00b7\"; padding: 0 .5ex}\n",
       "</style>\n",
       "<ol class=list-inline><li>-1.05705940811877</li><li>6.47680654240923</li><li>-0.644330349000541</li><li>5.37331226973417</li><li>1.97805351266509</li><li>-0.102144309757082</li><li>8.49091813287903</li><li>2.28417845039575</li><li>3.85055779352949</li><li>10.277308568037</li><li>10.8340521637812</li><li>-4.26906057043156</li><li>-0.0971616754501854</li><li>5.46517152382432</li><li>0.742231198532507</li><li>7.35364432198043</li><li>1.56288371476387</li><li>-0.357777358084835</li><li>6.60903525245682</li><li>3.35015461590253</li><li>12.5585624514284</li><li>17.6501867633971</li><li>12.5980861639784</li><li>11.7036203425288</li><li>15.6573666771859</li><li>17.579047282456</li><li>7.98310606351487</li><li>15.593552596502</li><li>15.2004665157863</li><li>12.7542078704195</li><li>27.1999914276938</li><li>19.7450830731987</li><li>18.3119996967685</li><li>19.8408906879923</li><li>23.4338591540765</li><li>16.1200430613201</li><li>12.1276642073757</li><li>17.7838458653388</li><li>19.2755270043108</li><li>16.3868082174852</li></ol>\n",
       "</dd>\n",
       "</dl>\n"
      ],
      "text/latex": [
       "\\begin{description}\n",
       "\\item[\\$time] \\begin{enumerate*}\n",
       "\\item 1\n",
       "\\item 2\n",
       "\\item 3\n",
       "\\item 4\n",
       "\\item 5\n",
       "\\item 6\n",
       "\\item 7\n",
       "\\item 8\n",
       "\\item 9\n",
       "\\item 10\n",
       "\\item 11\n",
       "\\item 12\n",
       "\\item 13\n",
       "\\item 14\n",
       "\\item 15\n",
       "\\item 16\n",
       "\\item 17\n",
       "\\item 18\n",
       "\\item 19\n",
       "\\item 20\n",
       "\\item 21\n",
       "\\item 22\n",
       "\\item 23\n",
       "\\item 24\n",
       "\\item 25\n",
       "\\item 26\n",
       "\\item 27\n",
       "\\item 28\n",
       "\\item 29\n",
       "\\item 30\n",
       "\\item 31\n",
       "\\item 32\n",
       "\\item 33\n",
       "\\item 34\n",
       "\\item 35\n",
       "\\item 36\n",
       "\\item 37\n",
       "\\item 38\n",
       "\\item 39\n",
       "\\item 40\n",
       "\\end{enumerate*}\n",
       "\n",
       "\\item[\\$price] \\begin{enumerate*}\n",
       "\\item -1.05705940811877\n",
       "\\item 6.47680654240923\n",
       "\\item -0.644330349000541\n",
       "\\item 5.37331226973417\n",
       "\\item 1.97805351266509\n",
       "\\item -0.102144309757082\n",
       "\\item 8.49091813287903\n",
       "\\item 2.28417845039575\n",
       "\\item 3.85055779352949\n",
       "\\item 10.277308568037\n",
       "\\item 10.8340521637812\n",
       "\\item -4.26906057043156\n",
       "\\item -0.0971616754501854\n",
       "\\item 5.46517152382432\n",
       "\\item 0.742231198532507\n",
       "\\item 7.35364432198043\n",
       "\\item 1.56288371476387\n",
       "\\item -0.357777358084835\n",
       "\\item 6.60903525245682\n",
       "\\item 3.35015461590253\n",
       "\\item 12.5585624514284\n",
       "\\item 17.6501867633971\n",
       "\\item 12.5980861639784\n",
       "\\item 11.7036203425288\n",
       "\\item 15.6573666771859\n",
       "\\item 17.579047282456\n",
       "\\item 7.98310606351487\n",
       "\\item 15.593552596502\n",
       "\\item 15.2004665157863\n",
       "\\item 12.7542078704195\n",
       "\\item 27.1999914276938\n",
       "\\item 19.7450830731987\n",
       "\\item 18.3119996967685\n",
       "\\item 19.8408906879923\n",
       "\\item 23.4338591540765\n",
       "\\item 16.1200430613201\n",
       "\\item 12.1276642073757\n",
       "\\item 17.7838458653388\n",
       "\\item 19.2755270043108\n",
       "\\item 16.3868082174852\n",
       "\\end{enumerate*}\n",
       "\n",
       "\\end{description}\n"
      ],
      "text/markdown": [
       "$time\n",
       ":   1. 1\n",
       "2. 2\n",
       "3. 3\n",
       "4. 4\n",
       "5. 5\n",
       "6. 6\n",
       "7. 7\n",
       "8. 8\n",
       "9. 9\n",
       "10. 10\n",
       "11. 11\n",
       "12. 12\n",
       "13. 13\n",
       "14. 14\n",
       "15. 15\n",
       "16. 16\n",
       "17. 17\n",
       "18. 18\n",
       "19. 19\n",
       "20. 20\n",
       "21. 21\n",
       "22. 22\n",
       "23. 23\n",
       "24. 24\n",
       "25. 25\n",
       "26. 26\n",
       "27. 27\n",
       "28. 28\n",
       "29. 29\n",
       "30. 30\n",
       "31. 31\n",
       "32. 32\n",
       "33. 33\n",
       "34. 34\n",
       "35. 35\n",
       "36. 36\n",
       "37. 37\n",
       "38. 38\n",
       "39. 39\n",
       "40. 40\n",
       "\n",
       "\n",
       "\n",
       "$price\n",
       ":   1. -1.05705940811877\n",
       "2. 6.47680654240923\n",
       "3. -0.644330349000541\n",
       "4. 5.37331226973417\n",
       "5. 1.97805351266509\n",
       "6. -0.102144309757082\n",
       "7. 8.49091813287903\n",
       "8. 2.28417845039575\n",
       "9. 3.85055779352949\n",
       "10. 10.277308568037\n",
       "11. 10.8340521637812\n",
       "12. -4.26906057043156\n",
       "13. -0.0971616754501854\n",
       "14. 5.46517152382432\n",
       "15. 0.742231198532507\n",
       "16. 7.35364432198043\n",
       "17. 1.56288371476387\n",
       "18. -0.357777358084835\n",
       "19. 6.60903525245682\n",
       "20. 3.35015461590253\n",
       "21. 12.5585624514284\n",
       "22. 17.6501867633971\n",
       "23. 12.5980861639784\n",
       "24. 11.7036203425288\n",
       "25. 15.6573666771859\n",
       "26. 17.579047282456\n",
       "27. 7.98310606351487\n",
       "28. 15.593552596502\n",
       "29. 15.2004665157863\n",
       "30. 12.7542078704195\n",
       "31. 27.1999914276938\n",
       "32. 19.7450830731987\n",
       "33. 18.3119996967685\n",
       "34. 19.8408906879923\n",
       "35. 23.4338591540765\n",
       "36. 16.1200430613201\n",
       "37. 12.1276642073757\n",
       "38. 17.7838458653388\n",
       "39. 19.2755270043108\n",
       "40. 16.3868082174852\n",
       "\n",
       "\n",
       "\n",
       "\n",
       "\n"
      ],
      "text/plain": [
       "$time\n",
       " [1]  1  2  3  4  5  6  7  8  9 10 11 12 13 14 15 16 17 18 19 20 21 22 23 24 25\n",
       "[26] 26 27 28 29 30 31 32 33 34 35 36 37 38 39 40\n",
       "\n",
       "$price\n",
       " [1] -1.05705941  6.47680654 -0.64433035  5.37331227  1.97805351 -0.10214431\n",
       " [7]  8.49091813  2.28417845  3.85055779 10.27730857 10.83405216 -4.26906057\n",
       "[13] -0.09716168  5.46517152  0.74223120  7.35364432  1.56288371 -0.35777736\n",
       "[19]  6.60903525  3.35015462 12.55856245 17.65018676 12.59808616 11.70362034\n",
       "[25] 15.65736668 17.57904728  7.98310606 15.59355260 15.20046652 12.75420787\n",
       "[31] 27.19999143 19.74508307 18.31199970 19.84089069 23.43385915 16.12004306\n",
       "[37] 12.12766421 17.78384587 19.27552700 16.38680822\n"
      ]
     },
     "metadata": {},
     "output_type": "display_data"
    }
   ],
   "source": [
    "list1$price = c(rnorm(40, .5*list1$time, 4)) # random\n",
    "list1"
   ]
  },
  {
   "cell_type": "code",
   "execution_count": 200,
   "id": "9857edd6-e460-4156-a7fe-0526e742a7b0",
   "metadata": {},
   "outputs": [
    {
     "data": {
      "text/html": [
       "<style>\n",
       ".list-inline {list-style: none; margin:0; padding: 0}\n",
       ".list-inline>li {display: inline-block}\n",
       ".list-inline>li:not(:last-child)::after {content: \"\\00b7\"; padding: 0 .5ex}\n",
       "</style>\n",
       "<ol class=list-inline><li>1</li><li>2</li><li>3</li><li>4</li><li>5</li><li>6</li><li>7</li><li>8</li><li>9</li><li>10</li><li>11</li><li>12</li><li>13</li><li>14</li><li>15</li><li>16</li><li>17</li><li>18</li><li>19</li><li>20</li><li>21</li><li>22</li><li>23</li><li>24</li><li>25</li><li>26</li><li>27</li><li>28</li><li>29</li><li>30</li><li>31</li><li>32</li><li>33</li><li>34</li><li>35</li><li>36</li><li>37</li><li>38</li><li>39</li><li>40</li></ol>\n"
      ],
      "text/latex": [
       "\\begin{enumerate*}\n",
       "\\item 1\n",
       "\\item 2\n",
       "\\item 3\n",
       "\\item 4\n",
       "\\item 5\n",
       "\\item 6\n",
       "\\item 7\n",
       "\\item 8\n",
       "\\item 9\n",
       "\\item 10\n",
       "\\item 11\n",
       "\\item 12\n",
       "\\item 13\n",
       "\\item 14\n",
       "\\item 15\n",
       "\\item 16\n",
       "\\item 17\n",
       "\\item 18\n",
       "\\item 19\n",
       "\\item 20\n",
       "\\item 21\n",
       "\\item 22\n",
       "\\item 23\n",
       "\\item 24\n",
       "\\item 25\n",
       "\\item 26\n",
       "\\item 27\n",
       "\\item 28\n",
       "\\item 29\n",
       "\\item 30\n",
       "\\item 31\n",
       "\\item 32\n",
       "\\item 33\n",
       "\\item 34\n",
       "\\item 35\n",
       "\\item 36\n",
       "\\item 37\n",
       "\\item 38\n",
       "\\item 39\n",
       "\\item 40\n",
       "\\end{enumerate*}\n"
      ],
      "text/markdown": [
       "1. 1\n",
       "2. 2\n",
       "3. 3\n",
       "4. 4\n",
       "5. 5\n",
       "6. 6\n",
       "7. 7\n",
       "8. 8\n",
       "9. 9\n",
       "10. 10\n",
       "11. 11\n",
       "12. 12\n",
       "13. 13\n",
       "14. 14\n",
       "15. 15\n",
       "16. 16\n",
       "17. 17\n",
       "18. 18\n",
       "19. 19\n",
       "20. 20\n",
       "21. 21\n",
       "22. 22\n",
       "23. 23\n",
       "24. 24\n",
       "25. 25\n",
       "26. 26\n",
       "27. 27\n",
       "28. 28\n",
       "29. 29\n",
       "30. 30\n",
       "31. 31\n",
       "32. 32\n",
       "33. 33\n",
       "34. 34\n",
       "35. 35\n",
       "36. 36\n",
       "37. 37\n",
       "38. 38\n",
       "39. 39\n",
       "40. 40\n",
       "\n",
       "\n"
      ],
      "text/plain": [
       " [1]  1  2  3  4  5  6  7  8  9 10 11 12 13 14 15 16 17 18 19 20 21 22 23 24 25\n",
       "[26] 26 27 28 29 30 31 32 33 34 35 36 37 38 39 40"
      ]
     },
     "metadata": {},
     "output_type": "display_data"
    },
    {
     "data": {
      "text/html": [
       "<style>\n",
       ".list-inline {list-style: none; margin:0; padding: 0}\n",
       ".list-inline>li {display: inline-block}\n",
       ".list-inline>li:not(:last-child)::after {content: \"\\00b7\"; padding: 0 .5ex}\n",
       "</style>\n",
       "<ol class=list-inline><li>1</li><li>2</li><li>3</li><li>4</li><li>5</li><li>6</li><li>7</li><li>8</li><li>9</li><li>10</li><li>11</li><li>12</li><li>13</li><li>14</li><li>15</li><li>16</li><li>17</li><li>18</li><li>19</li><li>20</li><li>21</li><li>22</li><li>23</li><li>24</li><li>25</li><li>26</li><li>27</li><li>28</li><li>29</li><li>30</li><li>31</li><li>32</li><li>33</li><li>34</li><li>35</li><li>36</li><li>37</li><li>38</li><li>39</li><li>40</li></ol>\n"
      ],
      "text/latex": [
       "\\begin{enumerate*}\n",
       "\\item 1\n",
       "\\item 2\n",
       "\\item 3\n",
       "\\item 4\n",
       "\\item 5\n",
       "\\item 6\n",
       "\\item 7\n",
       "\\item 8\n",
       "\\item 9\n",
       "\\item 10\n",
       "\\item 11\n",
       "\\item 12\n",
       "\\item 13\n",
       "\\item 14\n",
       "\\item 15\n",
       "\\item 16\n",
       "\\item 17\n",
       "\\item 18\n",
       "\\item 19\n",
       "\\item 20\n",
       "\\item 21\n",
       "\\item 22\n",
       "\\item 23\n",
       "\\item 24\n",
       "\\item 25\n",
       "\\item 26\n",
       "\\item 27\n",
       "\\item 28\n",
       "\\item 29\n",
       "\\item 30\n",
       "\\item 31\n",
       "\\item 32\n",
       "\\item 33\n",
       "\\item 34\n",
       "\\item 35\n",
       "\\item 36\n",
       "\\item 37\n",
       "\\item 38\n",
       "\\item 39\n",
       "\\item 40\n",
       "\\end{enumerate*}\n"
      ],
      "text/markdown": [
       "1. 1\n",
       "2. 2\n",
       "3. 3\n",
       "4. 4\n",
       "5. 5\n",
       "6. 6\n",
       "7. 7\n",
       "8. 8\n",
       "9. 9\n",
       "10. 10\n",
       "11. 11\n",
       "12. 12\n",
       "13. 13\n",
       "14. 14\n",
       "15. 15\n",
       "16. 16\n",
       "17. 17\n",
       "18. 18\n",
       "19. 19\n",
       "20. 20\n",
       "21. 21\n",
       "22. 22\n",
       "23. 23\n",
       "24. 24\n",
       "25. 25\n",
       "26. 26\n",
       "27. 27\n",
       "28. 28\n",
       "29. 29\n",
       "30. 30\n",
       "31. 31\n",
       "32. 32\n",
       "33. 33\n",
       "34. 34\n",
       "35. 35\n",
       "36. 36\n",
       "37. 37\n",
       "38. 38\n",
       "39. 39\n",
       "40. 40\n",
       "\n",
       "\n"
      ],
      "text/plain": [
       " [1]  1  2  3  4  5  6  7  8  9 10 11 12 13 14 15 16 17 18 19 20 21 22 23 24 25\n",
       "[26] 26 27 28 29 30 31 32 33 34 35 36 37 38 39 40"
      ]
     },
     "metadata": {},
     "output_type": "display_data"
    },
    {
     "data": {
      "text/html": [
       "<style>\n",
       ".list-inline {list-style: none; margin:0; padding: 0}\n",
       ".list-inline>li {display: inline-block}\n",
       ".list-inline>li:not(:last-child)::after {content: \"\\00b7\"; padding: 0 .5ex}\n",
       "</style>\n",
       "<ol class=list-inline><li>1</li><li>2</li><li>3</li><li>4</li><li>5</li><li>6</li><li>7</li><li>8</li><li>9</li><li>10</li><li>11</li><li>12</li><li>13</li><li>14</li><li>15</li><li>16</li><li>17</li><li>18</li><li>19</li><li>20</li><li>21</li><li>22</li><li>23</li><li>24</li><li>25</li><li>26</li><li>27</li><li>28</li><li>29</li><li>30</li><li>31</li><li>32</li><li>33</li><li>34</li><li>35</li><li>36</li><li>37</li><li>38</li><li>39</li><li>40</li></ol>\n"
      ],
      "text/latex": [
       "\\begin{enumerate*}\n",
       "\\item 1\n",
       "\\item 2\n",
       "\\item 3\n",
       "\\item 4\n",
       "\\item 5\n",
       "\\item 6\n",
       "\\item 7\n",
       "\\item 8\n",
       "\\item 9\n",
       "\\item 10\n",
       "\\item 11\n",
       "\\item 12\n",
       "\\item 13\n",
       "\\item 14\n",
       "\\item 15\n",
       "\\item 16\n",
       "\\item 17\n",
       "\\item 18\n",
       "\\item 19\n",
       "\\item 20\n",
       "\\item 21\n",
       "\\item 22\n",
       "\\item 23\n",
       "\\item 24\n",
       "\\item 25\n",
       "\\item 26\n",
       "\\item 27\n",
       "\\item 28\n",
       "\\item 29\n",
       "\\item 30\n",
       "\\item 31\n",
       "\\item 32\n",
       "\\item 33\n",
       "\\item 34\n",
       "\\item 35\n",
       "\\item 36\n",
       "\\item 37\n",
       "\\item 38\n",
       "\\item 39\n",
       "\\item 40\n",
       "\\end{enumerate*}\n"
      ],
      "text/markdown": [
       "1. 1\n",
       "2. 2\n",
       "3. 3\n",
       "4. 4\n",
       "5. 5\n",
       "6. 6\n",
       "7. 7\n",
       "8. 8\n",
       "9. 9\n",
       "10. 10\n",
       "11. 11\n",
       "12. 12\n",
       "13. 13\n",
       "14. 14\n",
       "15. 15\n",
       "16. 16\n",
       "17. 17\n",
       "18. 18\n",
       "19. 19\n",
       "20. 20\n",
       "21. 21\n",
       "22. 22\n",
       "23. 23\n",
       "24. 24\n",
       "25. 25\n",
       "26. 26\n",
       "27. 27\n",
       "28. 28\n",
       "29. 29\n",
       "30. 30\n",
       "31. 31\n",
       "32. 32\n",
       "33. 33\n",
       "34. 34\n",
       "35. 35\n",
       "36. 36\n",
       "37. 37\n",
       "38. 38\n",
       "39. 39\n",
       "40. 40\n",
       "\n",
       "\n"
      ],
      "text/plain": [
       " [1]  1  2  3  4  5  6  7  8  9 10 11 12 13 14 15 16 17 18 19 20 21 22 23 24 25\n",
       "[26] 26 27 28 29 30 31 32 33 34 35 36 37 38 39 40"
      ]
     },
     "metadata": {},
     "output_type": "display_data"
    }
   ],
   "source": [
    "# You can get items in the list like so\n",
    "list1$time # one way\n",
    "list1[[\"time\"]] # another way\n",
    "list1[[1]] # yet another way\n",
    "# =>\n",
    "#  [1]  1  2  3  4  5  6  7  8  9 10 11 12 13 14 15 16 17 18 19 20 21 22 23 24 25 26 27 28 29 30 31 32 33\n",
    "# [34] 34 35 36 37 38 39 40"
   ]
  },
  {
   "cell_type": "code",
   "execution_count": 201,
   "id": "f5a01f32-43ee-4713-95ce-11dee6216500",
   "metadata": {},
   "outputs": [
    {
     "data": {
      "text/html": [
       "5.37331226973417"
      ],
      "text/latex": [
       "5.37331226973417"
      ],
      "text/markdown": [
       "5.37331226973417"
      ],
      "text/plain": [
       "[1] 5.373312"
      ]
     },
     "metadata": {},
     "output_type": "display_data"
    }
   ],
   "source": [
    "# You can subset list items like any other vector\n",
    "list1$price[4]"
   ]
  },
  {
   "cell_type": "markdown",
   "id": "9ff08c18-6329-4074-a6d0-44c562af04d3",
   "metadata": {},
   "source": [
    "## apply() functions"
   ]
  },
  {
   "cell_type": "code",
   "execution_count": 209,
   "id": "4c24db67-4fa5-476a-b461-5a317a2caa55",
   "metadata": {},
   "outputs": [
    {
     "data": {
      "text/html": [
       "<table class=\"dataframe\">\n",
       "<caption>A matrix: 3 × 2 of type dbl</caption>\n",
       "<tbody>\n",
       "\t<tr><td>1</td><td>4</td></tr>\n",
       "\t<tr><td>2</td><td>5</td></tr>\n",
       "\t<tr><td>3</td><td>6</td></tr>\n",
       "</tbody>\n",
       "</table>\n"
      ],
      "text/latex": [
       "A matrix: 3 × 2 of type dbl\n",
       "\\begin{tabular}{ll}\n",
       "\t 1 & 4\\\\\n",
       "\t 2 & 5\\\\\n",
       "\t 3 & 6\\\\\n",
       "\\end{tabular}\n"
      ],
      "text/markdown": [
       "\n",
       "A matrix: 3 × 2 of type dbl\n",
       "\n",
       "| 1 | 4 |\n",
       "| 2 | 5 |\n",
       "| 3 | 6 |\n",
       "\n"
      ],
      "text/plain": [
       "     [,1] [,2]\n",
       "[1,] 1    4   \n",
       "[2,] 2    5   \n",
       "[3,] 3    6   "
      ]
     },
     "metadata": {},
     "output_type": "display_data"
    },
    {
     "data": {
      "text/html": [
       "<table class=\"dataframe\">\n",
       "<caption>A matrix: 3 × 2 of type dbl</caption>\n",
       "<tbody>\n",
       "\t<tr><td>2.126123</td><td>4.953467</td></tr>\n",
       "\t<tr><td>3.126123</td><td>5.953467</td></tr>\n",
       "\t<tr><td>4.126123</td><td>6.953467</td></tr>\n",
       "</tbody>\n",
       "</table>\n"
      ],
      "text/latex": [
       "A matrix: 3 × 2 of type dbl\n",
       "\\begin{tabular}{ll}\n",
       "\t 2.126123 & 4.953467\\\\\n",
       "\t 3.126123 & 5.953467\\\\\n",
       "\t 4.126123 & 6.953467\\\\\n",
       "\\end{tabular}\n"
      ],
      "text/markdown": [
       "\n",
       "A matrix: 3 × 2 of type dbl\n",
       "\n",
       "| 2.126123 | 4.953467 |\n",
       "| 3.126123 | 5.953467 |\n",
       "| 4.126123 | 6.953467 |\n",
       "\n"
      ],
      "text/plain": [
       "     [,1]     [,2]    \n",
       "[1,] 2.126123 4.953467\n",
       "[2,] 3.126123 5.953467\n",
       "[3,] 4.126123 6.953467"
      ]
     },
     "metadata": {},
     "output_type": "display_data"
    }
   ],
   "source": [
    "##################################################\n",
    "# The apply() family of functions\n",
    "##################################################\n",
    "\n",
    "# Remember mat?\n",
    "mat\n",
    "# =>\n",
    "#      [,1] [,2]\n",
    "# [1,]    1    4\n",
    "# [2,]    2    5\n",
    "# [3,]    3    6\n",
    "# Use apply(X, MARGIN, FUN) to apply function FUN to a matrix X\n",
    "# over rows (MAR = 1) or columns (MAR = 2)\n",
    "# That is, R does FUN to each row (or column) of X, much faster than a\n",
    "# for or while loop would do\n",
    "apply(mat, MAR = 2, jiggle_1arg) # single argument. Lambda would be needed for two args?\n",
    "# =>\n",
    "#      [,1] [,2]\n",
    "# [1,]    3   15\n",
    "# [2,]    7   19\n",
    "# [3,]   11   23\n",
    "# Other functions: ?lapply, ?sapply"
   ]
  },
  {
   "cell_type": "code",
   "execution_count": 211,
   "id": "f60f185f-d2f3-41db-9252-1b5c5acf7730",
   "metadata": {},
   "outputs": [
    {
     "name": "stderr",
     "output_type": "stream",
     "text": [
      "Installing package into ‘/usr/local/lib/R/site-library’\n",
      "(as ‘lib’ is unspecified)\n",
      "\n",
      "Warning message in install.packages(\"plyr\"):\n",
      "“installation of package ‘plyr’ had non-zero exit status”\n"
     ]
    }
   ],
   "source": [
    "# Don't feel too intimidated; everyone agrees they are rather confusing\n",
    "\n",
    "# The plyr package aims to replace (and improve upon!) the *apply() family.\n",
    "# install.packages(\"plyr\") # No need!"
   ]
  },
  {
   "cell_type": "code",
   "execution_count": 212,
   "id": "a378d8d2-5858-4b5c-b208-62dcd4e72cd1",
   "metadata": {},
   "outputs": [
    {
     "data": {
      "text/html": [
       "\n",
       "<table style=\"width: 100%;\"><tr><td>plyr {plyr}</td><td style=\"text-align: right;\">R Documentation</td></tr></table>\n",
       "\n",
       "<h2>plyr: the split-apply-combine paradigm for R.</h2>\n",
       "\n",
       "<h3>Description</h3>\n",
       "\n",
       "<p>The plyr package is a set of clean and consistent tools that implement the\n",
       "split-apply-combine pattern in R. This is an extremely common pattern in\n",
       "data analysis: you solve a complex problem by breaking it down into small\n",
       "pieces, doing something to each piece and then combining the results back\n",
       "together again.\n",
       "</p>\n",
       "\n",
       "\n",
       "<h3>Details</h3>\n",
       "\n",
       "<p>The plyr functions are named according to what sort of data structure they\n",
       "split up and what sort of data structure they return:\n",
       "</p>\n",
       "\n",
       "<dl>\n",
       "<dt>a</dt><dd><p>array</p>\n",
       "</dd>\n",
       "<dt>l</dt><dd><p>list</p>\n",
       "</dd>\n",
       "<dt>d</dt><dd><p>data.frame</p>\n",
       "</dd>\n",
       "<dt>m</dt><dd><p>multiple inputs</p>\n",
       "</dd>\n",
       "<dt>r</dt><dd><p>repeat multiple times</p>\n",
       "</dd>\n",
       "<dt>_</dt><dd><p>nothing</p>\n",
       "</dd>\n",
       "</dl>\n",
       "\n",
       "<p>So <code>ddply</code> takes a data frame as input and returns a data frame\n",
       "as output, and <code>l_ply</code> takes a list as input and returns nothing\n",
       "as output.\n",
       "</p>\n",
       "\n",
       "\n",
       "<h3>Row names</h3>\n",
       "\n",
       "<p>By design, no plyr function will preserve row names - in general it is too\n",
       "hard to know what should be done with them for many of the operations\n",
       "supported by plyr. If you want to preserve row names, use\n",
       "<code>name_rows</code> to convert them into an explicit column in your\n",
       "data frame, perform the plyr operations, and then use <code>name_rows</code>\n",
       "again to convert the column back into row names.\n",
       "</p>\n",
       "\n",
       "\n",
       "<h3>Helpers</h3>\n",
       "\n",
       "<p>Plyr also provides a set of helper functions for common data analysis\n",
       "problems:\n",
       "</p>\n",
       "\n",
       "<ul>\n",
       "<li> <p><code>arrange</code>: re-order the rows of a data frame by\n",
       "specifying the columns to order by\n",
       "</p>\n",
       "</li>\n",
       "<li> <p><code>mutate</code>: add new columns or modifying existing columns,\n",
       "like <code>transform</code>, but new columns can refer to other columns\n",
       "that you just created.\n",
       "</p>\n",
       "</li>\n",
       "<li> <p><code>summarise</code>: like <code>mutate</code> but create a\n",
       "new data frame, not preserving any columns in the old data frame.\n",
       "</p>\n",
       "</li>\n",
       "<li> <p><code>join</code>: an adapation of <code>merge</code> which is\n",
       "more similar to SQL, and has a much faster implementation if you only\n",
       "want to find the first match.\n",
       "</p>\n",
       "</li>\n",
       "<li> <p><code>match_df</code>: a version of <code>join</code> that instead\n",
       "of returning the two tables combined together, only returns the rows\n",
       "in the first table that match the second.\n",
       "</p>\n",
       "</li>\n",
       "<li> <p><code>colwise</code>: make any function work colwise on a dataframe\n",
       "</p>\n",
       "</li>\n",
       "<li> <p><code>rename</code>: easily rename columns in a data frame\n",
       "</p>\n",
       "</li>\n",
       "<li> <p><code>round_any</code>: round a number to any degree of precision\n",
       "</p>\n",
       "</li>\n",
       "<li> <p><code>count</code>: quickly count unique combinations and return\n",
       "return as a data frame.\n",
       "</p>\n",
       "</li></ul>\n",
       "\n",
       "\n",
       "<hr /><div style=\"text-align: center;\">[Package <em>plyr</em> version 1.8.9 ]</div></main>\n",
       "\n",
       "</div>"
      ],
      "text/latex": [
       "\\inputencoding{utf8}\n",
       "\\HeaderA{plyr}{plyr: the split-apply-combine paradigm for R.}{plyr}\n",
       "\\aliasA{plyr-package}{plyr}{plyr.Rdash.package}\n",
       "%\n",
       "\\begin{Description}\n",
       "The plyr package is a set of clean and consistent tools that implement the\n",
       "split-apply-combine pattern in R. This is an extremely common pattern in\n",
       "data analysis: you solve a complex problem by breaking it down into small\n",
       "pieces, doing something to each piece and then combining the results back\n",
       "together again.\n",
       "\\end{Description}\n",
       "%\n",
       "\\begin{Details}\n",
       "The plyr functions are named according to what sort of data structure they\n",
       "split up and what sort of data structure they return:\n",
       "\n",
       "\\begin{description}\n",
       "\n",
       "\\item[a] array\n",
       "\\item[l] list\n",
       "\\item[d] data.frame\n",
       "\\item[m] multiple inputs\n",
       "\\item[r] repeat multiple times\n",
       "\\item[\\_] nothing\n",
       "\n",
       "\\end{description}\n",
       "\n",
       "\n",
       "So \\code{\\LinkA{ddply}{ddply}} takes a data frame as input and returns a data frame\n",
       "as output, and \\code{\\LinkA{l\\_ply}{l.Rul.ply}} takes a list as input and returns nothing\n",
       "as output.\n",
       "\\end{Details}\n",
       "%\n",
       "\\begin{Section}{Row names}\n",
       "\n",
       "\n",
       "By design, no plyr function will preserve row names - in general it is too\n",
       "hard to know what should be done with them for many of the operations\n",
       "supported by plyr. If you want to preserve row names, use\n",
       "\\code{\\LinkA{name\\_rows}{name.Rul.rows}} to convert them into an explicit column in your\n",
       "data frame, perform the plyr operations, and then use \\code{\\LinkA{name\\_rows}{name.Rul.rows}}\n",
       "again to convert the column back into row names.\n",
       "\\end{Section}\n",
       "%\n",
       "\\begin{Section}{Helpers}\n",
       "\n",
       "\n",
       "Plyr also provides a set of helper functions for common data analysis\n",
       "problems:\n",
       "\n",
       "\\begin{itemize}\n",
       "\n",
       "\\item{} \\code{\\LinkA{arrange}{arrange}}: re-order the rows of a data frame by\n",
       "specifying the columns to order by\n",
       "\\item{} \\code{\\LinkA{mutate}{mutate}}: add new columns or modifying existing columns,\n",
       "like \\code{\\LinkA{transform}{transform}}, but new columns can refer to other columns\n",
       "that you just created.\n",
       "\\item{} \\code{\\LinkA{summarise}{summarise}}: like \\code{\\LinkA{mutate}{mutate}} but create a\n",
       "new data frame, not preserving any columns in the old data frame.\n",
       "\n",
       "\\item{} \\code{\\LinkA{join}{join}}: an adapation of \\code{\\LinkA{merge}{merge}} which is\n",
       "more similar to SQL, and has a much faster implementation if you only\n",
       "want to find the first match.\n",
       "\\item{} \\code{\\LinkA{match\\_df}{match.Rul.df}}: a version of \\code{\\LinkA{join}{join}} that instead\n",
       "of returning the two tables combined together, only returns the rows\n",
       "in the first table that match the second.\n",
       "\n",
       "\\item{} \\code{\\LinkA{colwise}{colwise}}: make any function work colwise on a dataframe\n",
       "\\item{} \\code{\\LinkA{rename}{rename}}: easily rename columns in a data frame\n",
       "\\item{} \\code{\\LinkA{round\\_any}{round.Rul.any}}: round a number to any degree of precision\n",
       "\\item{} \\code{\\LinkA{count}{count}}: quickly count unique combinations and return\n",
       "return as a data frame.\n",
       "\n",
       "\\end{itemize}\n",
       "\n",
       "\\end{Section}"
      ],
      "text/plain": [
       "plyr                   package:plyr                    R Documentation\n",
       "\n",
       "_\bp_\bl_\by_\br: _\bt_\bh_\be _\bs_\bp_\bl_\bi_\bt-_\ba_\bp_\bp_\bl_\by-_\bc_\bo_\bm_\bb_\bi_\bn_\be _\bp_\ba_\br_\ba_\bd_\bi_\bg_\bm _\bf_\bo_\br _\bR.\n",
       "\n",
       "_\bD_\be_\bs_\bc_\br_\bi_\bp_\bt_\bi_\bo_\bn:\n",
       "\n",
       "     The plyr package is a set of clean and consistent tools that\n",
       "     implement the split-apply-combine pattern in R. This is an\n",
       "     extremely common pattern in data analysis: you solve a complex\n",
       "     problem by breaking it down into small pieces, doing something to\n",
       "     each piece and then combining the results back together again.\n",
       "\n",
       "_\bD_\be_\bt_\ba_\bi_\bl_\bs:\n",
       "\n",
       "     The plyr functions are named according to what sort of data\n",
       "     structure they split up and what sort of data structure they\n",
       "     return:\n",
       "\n",
       "     a array\n",
       "\n",
       "     l list\n",
       "\n",
       "     d data.frame\n",
       "\n",
       "     m multiple inputs\n",
       "\n",
       "     r repeat multiple times\n",
       "\n",
       "     _ nothing\n",
       "\n",
       "     So ‘ddply’ takes a data frame as input and returns a data frame as\n",
       "     output, and ‘l_ply’ takes a list as input and returns nothing as\n",
       "     output.\n",
       "\n",
       "_\bR_\bo_\bw _\bn_\ba_\bm_\be_\bs:\n",
       "\n",
       "     By design, no plyr function will preserve row names - in general\n",
       "     it is too hard to know what should be done with them for many of\n",
       "     the operations supported by plyr. If you want to preserve row\n",
       "     names, use ‘name_rows’ to convert them into an explicit column in\n",
       "     your data frame, perform the plyr operations, and then use\n",
       "     ‘name_rows’ again to convert the column back into row names.\n",
       "\n",
       "_\bH_\be_\bl_\bp_\be_\br_\bs:\n",
       "\n",
       "     Plyr also provides a set of helper functions for common data\n",
       "     analysis problems:\n",
       "\n",
       "        • ‘arrange’: re-order the rows of a data frame by specifying\n",
       "          the columns to order by\n",
       "\n",
       "        • ‘mutate’: add new columns or modifying existing columns, like\n",
       "          ‘transform’, but new columns can refer to other columns that\n",
       "          you just created.\n",
       "\n",
       "        • ‘summarise’: like ‘mutate’ but create a new data frame, not\n",
       "          preserving any columns in the old data frame.\n",
       "\n",
       "        • ‘join’: an adapation of ‘merge’ which is more similar to SQL,\n",
       "          and has a much faster implementation if you only want to find\n",
       "          the first match.\n",
       "\n",
       "        • ‘match_df’: a version of ‘join’ that instead of returning the\n",
       "          two tables combined together, only returns the rows in the\n",
       "          first table that match the second.\n",
       "\n",
       "        • ‘colwise’: make any function work colwise on a dataframe\n",
       "\n",
       "        • ‘rename’: easily rename columns in a data frame\n",
       "\n",
       "        • ‘round_any’: round a number to any degree of precision\n",
       "\n",
       "        • ‘count’: quickly count unique combinations and return return\n",
       "          as a data frame.\n"
      ]
     },
     "metadata": {},
     "output_type": "display_data"
    }
   ],
   "source": [
    "require(plyr)\n",
    "?plyr"
   ]
  },
  {
   "cell_type": "markdown",
   "id": "0c0cb13e-8351-4e70-9b4d-9dc4cb4ac77c",
   "metadata": {},
   "source": [
    "## Data loading / CSV"
   ]
  },
  {
   "cell_type": "code",
   "execution_count": 214,
   "id": "7e1e134c-52cb-4f41-97df-4bb586053232",
   "metadata": {},
   "outputs": [
    {
     "name": "stderr",
     "output_type": "stream",
     "text": [
      "Installing package into ‘/usr/local/lib/R/site-library’\n",
      "(as ‘lib’ is unspecified)\n",
      "\n",
      "also installing the dependency ‘bitops’\n",
      "\n",
      "\n",
      "Loading required package: RCurl\n",
      "\n"
     ]
    },
    {
     "data": {
      "text/html": [
       "<table class=\"dataframe\">\n",
       "<caption>A data.frame: 3 × 4</caption>\n",
       "<thead>\n",
       "\t<tr><th scope=col>name</th><th scope=col>age</th><th scope=col>weight</th><th scope=col>species</th></tr>\n",
       "\t<tr><th scope=col>&lt;chr&gt;</th><th scope=col>&lt;int&gt;</th><th scope=col>&lt;int&gt;</th><th scope=col>&lt;chr&gt;</th></tr>\n",
       "</thead>\n",
       "<tbody>\n",
       "\t<tr><td>fluffy  </td><td>3</td><td>14</td><td>cat </td></tr>\n",
       "\t<tr><td>vesuvius</td><td>6</td><td>23</td><td>fish</td></tr>\n",
       "\t<tr><td>rex     </td><td>5</td><td>34</td><td>dog </td></tr>\n",
       "</tbody>\n",
       "</table>\n"
      ],
      "text/latex": [
       "A data.frame: 3 × 4\n",
       "\\begin{tabular}{llll}\n",
       " name & age & weight & species\\\\\n",
       " <chr> & <int> & <int> & <chr>\\\\\n",
       "\\hline\n",
       "\t fluffy   & 3 & 14 & cat \\\\\n",
       "\t vesuvius & 6 & 23 & fish\\\\\n",
       "\t rex      & 5 & 34 & dog \\\\\n",
       "\\end{tabular}\n"
      ],
      "text/markdown": [
       "\n",
       "A data.frame: 3 × 4\n",
       "\n",
       "| name &lt;chr&gt; | age &lt;int&gt; | weight &lt;int&gt; | species &lt;chr&gt; |\n",
       "|---|---|---|---|\n",
       "| fluffy   | 3 | 14 | cat  |\n",
       "| vesuvius | 6 | 23 | fish |\n",
       "| rex      | 5 | 34 | dog  |\n",
       "\n"
      ],
      "text/plain": [
       "  name     age weight species\n",
       "1 fluffy   3   14     cat    \n",
       "2 vesuvius 6   23     fish   \n",
       "3 rex      5   34     dog    "
      ]
     },
     "metadata": {},
     "output_type": "display_data"
    },
    {
     "data": {
      "text/html": [
       "<table class=\"dataframe\">\n",
       "<caption>A data.frame: 2 × 4</caption>\n",
       "<thead>\n",
       "\t<tr><th></th><th scope=col>name</th><th scope=col>age</th><th scope=col>weight</th><th scope=col>species</th></tr>\n",
       "\t<tr><th></th><th scope=col>&lt;chr&gt;</th><th scope=col>&lt;int&gt;</th><th scope=col>&lt;int&gt;</th><th scope=col>&lt;chr&gt;</th></tr>\n",
       "</thead>\n",
       "<tbody>\n",
       "\t<tr><th scope=row>1</th><td>fluffy  </td><td>3</td><td>14</td><td>cat </td></tr>\n",
       "\t<tr><th scope=row>2</th><td>vesuvius</td><td>6</td><td>23</td><td>fish</td></tr>\n",
       "</tbody>\n",
       "</table>\n"
      ],
      "text/latex": [
       "A data.frame: 2 × 4\n",
       "\\begin{tabular}{r|llll}\n",
       "  & name & age & weight & species\\\\\n",
       "  & <chr> & <int> & <int> & <chr>\\\\\n",
       "\\hline\n",
       "\t1 & fluffy   & 3 & 14 & cat \\\\\n",
       "\t2 & vesuvius & 6 & 23 & fish\\\\\n",
       "\\end{tabular}\n"
      ],
      "text/markdown": [
       "\n",
       "A data.frame: 2 × 4\n",
       "\n",
       "| <!--/--> | name &lt;chr&gt; | age &lt;int&gt; | weight &lt;int&gt; | species &lt;chr&gt; |\n",
       "|---|---|---|---|---|\n",
       "| 1 | fluffy   | 3 | 14 | cat  |\n",
       "| 2 | vesuvius | 6 | 23 | fish |\n",
       "\n"
      ],
      "text/plain": [
       "  name     age weight species\n",
       "1 fluffy   3   14     cat    \n",
       "2 vesuvius 6   23     fish   "
      ]
     },
     "metadata": {},
     "output_type": "display_data"
    },
    {
     "data": {
      "text/html": [
       "<table class=\"dataframe\">\n",
       "<caption>A data.frame: 1 × 4</caption>\n",
       "<thead>\n",
       "\t<tr><th></th><th scope=col>name</th><th scope=col>age</th><th scope=col>weight</th><th scope=col>species</th></tr>\n",
       "\t<tr><th></th><th scope=col>&lt;chr&gt;</th><th scope=col>&lt;int&gt;</th><th scope=col>&lt;int&gt;</th><th scope=col>&lt;chr&gt;</th></tr>\n",
       "</thead>\n",
       "<tbody>\n",
       "\t<tr><th scope=row>3</th><td>rex</td><td>5</td><td>34</td><td>dog</td></tr>\n",
       "</tbody>\n",
       "</table>\n"
      ],
      "text/latex": [
       "A data.frame: 1 × 4\n",
       "\\begin{tabular}{r|llll}\n",
       "  & name & age & weight & species\\\\\n",
       "  & <chr> & <int> & <int> & <chr>\\\\\n",
       "\\hline\n",
       "\t3 & rex & 5 & 34 & dog\\\\\n",
       "\\end{tabular}\n"
      ],
      "text/markdown": [
       "\n",
       "A data.frame: 1 × 4\n",
       "\n",
       "| <!--/--> | name &lt;chr&gt; | age &lt;int&gt; | weight &lt;int&gt; | species &lt;chr&gt; |\n",
       "|---|---|---|---|---|\n",
       "| 3 | rex | 5 | 34 | dog |\n",
       "\n"
      ],
      "text/plain": [
       "  name age weight species\n",
       "3 rex  5   34     dog    "
      ]
     },
     "metadata": {},
     "output_type": "display_data"
    }
   ],
   "source": [
    "#########################\n",
    "# Loading data\n",
    "#########################\n",
    "\n",
    "# \"pets.csv\" is a file on the internet\n",
    "# (but it could just as easily be a file on your own computer)\n",
    "install.packages(\"RCurl\")\n",
    "require(RCurl)\n",
    "pets <- read.csv(textConnection(getURL(\"https://learnxinyminutes.com/docs/pets.csv\")))\n",
    "pets\n",
    "head(pets, 2) # first two rows\n",
    "tail(pets, 1) # last row\n",
    "\n",
    "# To save a data frame or matrix as a .csv file\n",
    "write.csv(pets, \"pets2.csv\") # to make a new .csv file\n",
    "# set working directory with setwd(), look it up with getwd()\n",
    "\n",
    "# Try ?read.csv and ?write.csv for more information"
   ]
  },
  {
   "cell_type": "markdown",
   "id": "57877f84-7fff-4010-a6d7-c64c80008020",
   "metadata": {},
   "source": [
    "## Statistical Analysis"
   ]
  },
  {
   "cell_type": "code",
   "execution_count": 216,
   "id": "10eb11eb-26b1-4ee5-892e-ce809df3a6a7",
   "metadata": {},
   "outputs": [
    {
     "data": {
      "text/html": [
       "<style>\n",
       ".list-inline {list-style: none; margin:0; padding: 0}\n",
       ".list-inline>li {display: inline-block}\n",
       ".list-inline>li:not(:last-child)::after {content: \"\\00b7\"; padding: 0 .5ex}\n",
       "</style>\n",
       "<ol class=list-inline><li>1</li><li>2</li><li>3</li><li>4</li><li>5</li><li>6</li><li>7</li><li>8</li><li>9</li><li>10</li><li>11</li><li>12</li><li>13</li><li>14</li><li>15</li><li>16</li><li>17</li><li>18</li><li>19</li><li>20</li><li>21</li><li>22</li><li>23</li><li>24</li><li>25</li><li>26</li><li>27</li><li>28</li><li>29</li><li>30</li><li>31</li><li>32</li><li>33</li><li>34</li><li>35</li><li>36</li><li>37</li><li>38</li><li>39</li><li>40</li></ol>\n"
      ],
      "text/latex": [
       "\\begin{enumerate*}\n",
       "\\item 1\n",
       "\\item 2\n",
       "\\item 3\n",
       "\\item 4\n",
       "\\item 5\n",
       "\\item 6\n",
       "\\item 7\n",
       "\\item 8\n",
       "\\item 9\n",
       "\\item 10\n",
       "\\item 11\n",
       "\\item 12\n",
       "\\item 13\n",
       "\\item 14\n",
       "\\item 15\n",
       "\\item 16\n",
       "\\item 17\n",
       "\\item 18\n",
       "\\item 19\n",
       "\\item 20\n",
       "\\item 21\n",
       "\\item 22\n",
       "\\item 23\n",
       "\\item 24\n",
       "\\item 25\n",
       "\\item 26\n",
       "\\item 27\n",
       "\\item 28\n",
       "\\item 29\n",
       "\\item 30\n",
       "\\item 31\n",
       "\\item 32\n",
       "\\item 33\n",
       "\\item 34\n",
       "\\item 35\n",
       "\\item 36\n",
       "\\item 37\n",
       "\\item 38\n",
       "\\item 39\n",
       "\\item 40\n",
       "\\end{enumerate*}\n"
      ],
      "text/markdown": [
       "1. 1\n",
       "2. 2\n",
       "3. 3\n",
       "4. 4\n",
       "5. 5\n",
       "6. 6\n",
       "7. 7\n",
       "8. 8\n",
       "9. 9\n",
       "10. 10\n",
       "11. 11\n",
       "12. 12\n",
       "13. 13\n",
       "14. 14\n",
       "15. 15\n",
       "16. 16\n",
       "17. 17\n",
       "18. 18\n",
       "19. 19\n",
       "20. 20\n",
       "21. 21\n",
       "22. 22\n",
       "23. 23\n",
       "24. 24\n",
       "25. 25\n",
       "26. 26\n",
       "27. 27\n",
       "28. 28\n",
       "29. 29\n",
       "30. 30\n",
       "31. 31\n",
       "32. 32\n",
       "33. 33\n",
       "34. 34\n",
       "35. 35\n",
       "36. 36\n",
       "37. 37\n",
       "38. 38\n",
       "39. 39\n",
       "40. 40\n",
       "\n",
       "\n"
      ],
      "text/plain": [
       " [1]  1  2  3  4  5  6  7  8  9 10 11 12 13 14 15 16 17 18 19 20 21 22 23 24 25\n",
       "[26] 26 27 28 29 30 31 32 33 34 35 36 37 38 39 40"
      ]
     },
     "metadata": {},
     "output_type": "display_data"
    }
   ],
   "source": [
    "#########################\n",
    "# Statistical Analysis\n",
    "#########################\n",
    "time"
   ]
  },
  {
   "cell_type": "markdown",
   "id": "b907a54f-83dd-404c-bcd9-af8f3049fc9a",
   "metadata": {},
   "source": [
    "### Linear Regression"
   ]
  },
  {
   "cell_type": "code",
   "execution_count": 217,
   "id": "16f4f6b4-6e1f-4b9e-bf3e-cfb82cb1c7ff",
   "metadata": {},
   "outputs": [
    {
     "data": {
      "text/plain": [
       "\n",
       "Call:\n",
       "lm(formula = price ~ time, data = list1)\n",
       "\n",
       "Coefficients:\n",
       "(Intercept)         time  \n",
       "    -0.9140       0.5295  \n"
      ]
     },
     "metadata": {},
     "output_type": "display_data"
    }
   ],
   "source": [
    "# Linear regression!\n",
    "linearModel <- lm(price ~ time, data = list1)\n",
    "linearModel # outputs result of regression\n",
    "# =>\n",
    "# Call:\n",
    "# lm(formula = price ~ time, data = list1)\n",
    "# \n",
    "# Coefficients:\n",
    "# (Intercept)         time  \n",
    "#      0.1453       0.4943  "
   ]
  },
  {
   "cell_type": "code",
   "execution_count": 218,
   "id": "fcc76ab6-f855-4bbd-87b5-c1e095470b55",
   "metadata": {},
   "outputs": [
    {
     "data": {
      "text/plain": [
       "\n",
       "Call:\n",
       "lm(formula = price ~ time, data = list1)\n",
       "\n",
       "Residuals:\n",
       "    Min      1Q  Median      3Q     Max \n",
       "-9.7090 -2.4082 -0.1472  3.4294 11.6997 \n",
       "\n",
       "Coefficients:\n",
       "            Estimate Std. Error t value Pr(>|t|)    \n",
       "(Intercept) -0.91396    1.56436  -0.584    0.563    \n",
       "time         0.52949    0.06649   7.963 1.27e-09 ***\n",
       "---\n",
       "Signif. codes:  0 ‘***’ 0.001 ‘**’ 0.01 ‘*’ 0.05 ‘.’ 0.1 ‘ ’ 1\n",
       "\n",
       "Residual standard error: 4.854 on 38 degrees of freedom\n",
       "Multiple R-squared:  0.6253,\tAdjusted R-squared:  0.6154 \n",
       "F-statistic: 63.41 on 1 and 38 DF,  p-value: 1.274e-09\n"
      ]
     },
     "metadata": {},
     "output_type": "display_data"
    }
   ],
   "source": [
    "summary(linearModel) # more verbose output from the regression\n",
    "# =>\n",
    "# Call:\n",
    "# lm(formula = price ~ time, data = list1)\n",
    "#\n",
    "# Residuals:\n",
    "#     Min      1Q  Median      3Q     Max \n",
    "# -8.3134 -3.0131 -0.3606  2.8016 10.3992 \n",
    "#\n",
    "# Coefficients:\n",
    "#             Estimate Std. Error t value Pr(>|t|)    \n",
    "# (Intercept)  0.14527    1.50084   0.097    0.923    \n",
    "# time         0.49435    0.06379   7.749 2.44e-09 ***\n",
    "# ---\n",
    "# Signif. codes:  0 ‘***’ 0.001 ‘**’ 0.01 ‘*’ 0.05 ‘.’ 0.1 ‘ ’ 1\n",
    "#\n",
    "# Residual standard error: 4.657 on 38 degrees of freedom\n",
    "# Multiple R-squared:  0.6124,  Adjusted R-squared:  0.6022 \n",
    "# F-statistic: 60.05 on 1 and 38 DF,  p-value: 2.44e-09"
   ]
  },
  {
   "cell_type": "code",
   "execution_count": 219,
   "id": "658ce185-d85f-4cd7-9e61-04e077ca413d",
   "metadata": {},
   "outputs": [
    {
     "data": {
      "text/html": [
       "<style>\n",
       ".dl-inline {width: auto; margin:0; padding: 0}\n",
       ".dl-inline>dt, .dl-inline>dd {float: none; width: auto; display: inline-block}\n",
       ".dl-inline>dt::after {content: \":\\0020\"; padding-right: .5ex}\n",
       ".dl-inline>dt:not(:first-of-type) {padding-left: .5ex}\n",
       "</style><dl class=dl-inline><dt>(Intercept)</dt><dd>-0.91395557084353</dd><dt>time</dt><dd>0.52949135652018</dd></dl>\n"
      ],
      "text/latex": [
       "\\begin{description*}\n",
       "\\item[(Intercept)] -0.91395557084353\n",
       "\\item[time] 0.52949135652018\n",
       "\\end{description*}\n"
      ],
      "text/markdown": [
       "(Intercept)\n",
       ":   -0.91395557084353time\n",
       ":   0.52949135652018\n",
       "\n"
      ],
      "text/plain": [
       "(Intercept)        time \n",
       " -0.9139556   0.5294914 "
      ]
     },
     "metadata": {},
     "output_type": "display_data"
    }
   ],
   "source": [
    "coef(linearModel) # extract estimated parameters\n",
    "# =>\n",
    "# (Intercept)        time \n",
    "#   0.1452662   0.4943490 "
   ]
  },
  {
   "cell_type": "code",
   "execution_count": 220,
   "id": "14925b48-9c0b-40d0-a0a2-5850011c3210",
   "metadata": {},
   "outputs": [
    {
     "data": {
      "text/html": [
       "<table class=\"dataframe\">\n",
       "<caption>A matrix: 2 × 4 of type dbl</caption>\n",
       "<thead>\n",
       "\t<tr><th></th><th scope=col>Estimate</th><th scope=col>Std. Error</th><th scope=col>t value</th><th scope=col>Pr(&gt;|t|)</th></tr>\n",
       "</thead>\n",
       "<tbody>\n",
       "\t<tr><th scope=row>(Intercept)</th><td>-0.9139556</td><td>1.56435890</td><td>-0.5842365</td><td>5.625138e-01</td></tr>\n",
       "\t<tr><th scope=row>time</th><td> 0.5294914</td><td>0.06649325</td><td> 7.9630839</td><td>1.273965e-09</td></tr>\n",
       "</tbody>\n",
       "</table>\n"
      ],
      "text/latex": [
       "A matrix: 2 × 4 of type dbl\n",
       "\\begin{tabular}{r|llll}\n",
       "  & Estimate & Std. Error & t value & Pr(>\\textbar{}t\\textbar{})\\\\\n",
       "\\hline\n",
       "\t(Intercept) & -0.9139556 & 1.56435890 & -0.5842365 & 5.625138e-01\\\\\n",
       "\ttime &  0.5294914 & 0.06649325 &  7.9630839 & 1.273965e-09\\\\\n",
       "\\end{tabular}\n"
      ],
      "text/markdown": [
       "\n",
       "A matrix: 2 × 4 of type dbl\n",
       "\n",
       "| <!--/--> | Estimate | Std. Error | t value | Pr(&gt;|t|) |\n",
       "|---|---|---|---|---|\n",
       "| (Intercept) | -0.9139556 | 1.56435890 | -0.5842365 | 5.625138e-01 |\n",
       "| time |  0.5294914 | 0.06649325 |  7.9630839 | 1.273965e-09 |\n",
       "\n"
      ],
      "text/plain": [
       "            Estimate   Std. Error t value    Pr(>|t|)    \n",
       "(Intercept) -0.9139556 1.56435890 -0.5842365 5.625138e-01\n",
       "time         0.5294914 0.06649325  7.9630839 1.273965e-09"
      ]
     },
     "metadata": {},
     "output_type": "display_data"
    }
   ],
   "source": [
    "summary(linearModel)$coefficients # another way to extract results\n",
    "# =>\n",
    "#              Estimate Std. Error    t value     Pr(>|t|)\n",
    "# (Intercept) 0.1452662 1.50084246 0.09678975 9.234021e-01\n",
    "# time        0.4943490 0.06379348 7.74920901 2.440008e-09"
   ]
  },
  {
   "cell_type": "code",
   "execution_count": 221,
   "id": "07ca8578-e94d-4854-b7f9-a2b7d36b4cca",
   "metadata": {},
   "outputs": [
    {
     "data": {
      "text/html": [
       "<style>\n",
       ".dl-inline {width: auto; margin:0; padding: 0}\n",
       ".dl-inline>dt, .dl-inline>dd {float: none; width: auto; display: inline-block}\n",
       ".dl-inline>dt::after {content: \":\\0020\"; padding-right: .5ex}\n",
       ".dl-inline>dt:not(:first-of-type) {padding-left: .5ex}\n",
       "</style><dl class=dl-inline><dt>(Intercept)</dt><dd>0.562513796507177</dd><dt>time</dt><dd>1.27396463443591e-09</dd></dl>\n"
      ],
      "text/latex": [
       "\\begin{description*}\n",
       "\\item[(Intercept)] 0.562513796507177\n",
       "\\item[time] 1.27396463443591e-09\n",
       "\\end{description*}\n"
      ],
      "text/markdown": [
       "(Intercept)\n",
       ":   0.562513796507177time\n",
       ":   1.27396463443591e-09\n",
       "\n"
      ],
      "text/plain": [
       " (Intercept)         time \n",
       "5.625138e-01 1.273965e-09 "
      ]
     },
     "metadata": {},
     "output_type": "display_data"
    }
   ],
   "source": [
    "summary(linearModel)$coefficients[, 4] # the p-values \n",
    "# =>\n",
    "#  (Intercept)         time \n",
    "# 9.234021e-01 2.440008e-09 "
   ]
  },
  {
   "cell_type": "markdown",
   "id": "5e7bf008-5762-44f5-ac46-e9373614a732",
   "metadata": {},
   "source": [
    "### Logistic regression"
   ]
  },
  {
   "cell_type": "code",
   "execution_count": 223,
   "id": "2e844563-f903-4534-b7fa-0176b8513199",
   "metadata": {},
   "outputs": [
    {
     "data": {
      "text/plain": [
       "\n",
       "Call:  glm(formula = success ~ time, family = binomial(link = \"logit\"), \n",
       "    data = list1)\n",
       "\n",
       "Coefficients:\n",
       "(Intercept)         time  \n",
       "    0.17018     -0.01321  \n",
       "\n",
       "Degrees of Freedom: 39 Total (i.e. Null);  38 Residual\n",
       "Null Deviance:\t    55.35 \n",
       "Residual Deviance: 55.12 \tAIC: 59.12"
      ]
     },
     "metadata": {},
     "output_type": "display_data"
    },
    {
     "data": {
      "text/plain": [
       "\n",
       "Call:\n",
       "glm(formula = success ~ time, family = binomial(link = \"logit\"), \n",
       "    data = list1)\n",
       "\n",
       "Coefficients:\n",
       "            Estimate Std. Error z value Pr(>|z|)\n",
       "(Intercept)  0.17018    0.64621   0.263    0.792\n",
       "time        -0.01321    0.02757  -0.479    0.632\n",
       "\n",
       "(Dispersion parameter for binomial family taken to be 1)\n",
       "\n",
       "    Null deviance: 55.352  on 39  degrees of freedom\n",
       "Residual deviance: 55.121  on 38  degrees of freedom\n",
       "AIC: 59.121\n",
       "\n",
       "Number of Fisher Scoring iterations: 3\n"
      ]
     },
     "metadata": {},
     "output_type": "display_data"
    }
   ],
   "source": [
    "# GENERAL LINEAR MODELS\n",
    "# Logistic regression\n",
    "set.seed(1)\n",
    "list1$success = rbinom(length(list1$time), 1, .5) # random binary\n",
    "glModel <- glm(success  ~ time, data = list1, family=binomial(link=\"logit\"))\n",
    "glModel # outputs result of logistic regression\n",
    "# =>\n",
    "# Call:  glm(formula = success ~ time, \n",
    "#   family = binomial(link = \"logit\"), data = list1)\n",
    "#\n",
    "# Coefficients:\n",
    "# (Intercept)         time  \n",
    "#     0.17018     -0.01321  \n",
    "# \n",
    "# Degrees of Freedom: 39 Total (i.e. Null);  38 Residual\n",
    "# Null Deviance:        55.35 \n",
    "# Residual Deviance: 55.12   AIC: 59.12\n",
    "summary(glModel) # more verbose output from the regression\n",
    "# =>\n",
    "# Call:\n",
    "# glm(\n",
    "#   formula = success ~ time,\n",
    "#   family = binomial(link = \"logit\"),\n",
    "#   data = list1)\n",
    "\n",
    "# Deviance Residuals: \n",
    "#    Min      1Q  Median      3Q     Max  \n",
    "# -1.245  -1.118  -1.035   1.202   1.327  \n",
    "# \n",
    "# Coefficients:\n",
    "#             Estimate Std. Error z value Pr(>|z|)\n",
    "# (Intercept)  0.17018    0.64621   0.263    0.792\n",
    "# time        -0.01321    0.02757  -0.479    0.632\n",
    "# \n",
    "# (Dispersion parameter for binomial family taken to be 1)\n",
    "#\n",
    "#     Null deviance: 55.352  on 39  degrees of freedom\n",
    "# Residual deviance: 55.121  on 38  degrees of freedom\n",
    "# AIC: 59.121\n",
    "# \n",
    "# Number of Fisher Scoring iterations: 3"
   ]
  },
  {
   "cell_type": "markdown",
   "id": "5895e1ec-2c7a-4885-aa0f-ea5d4a64f981",
   "metadata": {},
   "source": [
    "## Plots"
   ]
  },
  {
   "cell_type": "code",
   "execution_count": 226,
   "id": "7b57c0a5-d0fe-4182-8afe-eb14fdba3724",
   "metadata": {},
   "outputs": [
    {
     "data": {
      "image/png": "[encoded data removed]",
      "text/plain": [
       "Plot with title “fake data”"
      ]
     },
     "metadata": {
      "image/png": {
       "height": 420,
       "width": 420
      }
     },
     "output_type": "display_data"
    }
   ],
   "source": [
    "#########################\n",
    "# Plots\n",
    "#########################\n",
    "\n",
    "# BUILT-IN PLOTTING FUNCTIONS\n",
    "# Scatterplots!\n",
    "plot(list1$time, list1$price, main = \"fake data\")"
   ]
  },
  {
   "cell_type": "code",
   "execution_count": 228,
   "id": "e2cb947d-0de7-44fe-9574-80868a1e5656",
   "metadata": {},
   "outputs": [
    {
     "data": {
      "image/png": "[encoded data removed]",
      "text/plain": [
       "Plot with title “fake data”"
      ]
     },
     "metadata": {
      "image/png": {
       "height": 420,
       "width": 420
      }
     },
     "output_type": "display_data"
    }
   ],
   "source": [
    "# Plot regression line on existing plot\n",
    "plot(list1$time, list1$price, main = \"fake data\")\n",
    "abline(linearModel, col = \"red\")"
   ]
  },
  {
   "cell_type": "code",
   "execution_count": 229,
   "id": "81df6279-2363-47d9-a528-0e065c0275c8",
   "metadata": {},
   "outputs": [
    {
     "data": {
      "image/png": "[encoded data removed]",
      "text/plain": [
       "Plot with title “”"
      ]
     },
     "metadata": {
      "image/png": {
       "height": 420,
       "width": 420
      }
     },
     "output_type": "display_data"
    },
    {
     "data": {
      "image/png": "[encoded data removed]",
      "text/plain": [
       "Plot with title “”"
      ]
     },
     "metadata": {
      "image/png": {
       "height": 420,
       "width": 420
      }
     },
     "output_type": "display_data"
    },
    {
     "data": {
      "image/png": "[encoded data removed]",
      "text/plain": [
       "Plot with title “”"
      ]
     },
     "metadata": {
      "image/png": {
       "height": 420,
       "width": 420
      }
     },
     "output_type": "display_data"
    },
    {
     "data": {
      "image/png": "[encoded data removed]",
      "text/plain": [
       "Plot with title “”"
      ]
     },
     "metadata": {
      "image/png": {
       "height": 420,
       "width": 420
      }
     },
     "output_type": "display_data"
    }
   ],
   "source": [
    "# Get a variety of nice diagnostics\n",
    "plot(linearModel)"
   ]
  },
  {
   "cell_type": "code",
   "execution_count": 230,
   "id": "d19f54f9-01b3-4ea7-8c55-f17fdeface96",
   "metadata": {},
   "outputs": [
    {
     "data": {
      "image/png": "[encoded data removed]",
      "text/plain": [
       "Plot with title “Histogram of rpois(n = 10000, lambda = 5)”"
      ]
     },
     "metadata": {
      "image/png": {
       "height": 420,
       "width": 420
      }
     },
     "output_type": "display_data"
    }
   ],
   "source": [
    "# Histograms!\n",
    "hist(rpois(n = 10000, lambda = 5), col = \"thistle\")"
   ]
  },
  {
   "cell_type": "code",
   "execution_count": 231,
   "id": "12d3f143-a9f2-4b88-88a8-eb9a21e9f571",
   "metadata": {},
   "outputs": [
    {
     "data": {
      "image/png": "[encoded data removed]",
      "text/plain": [
       "plot without title"
      ]
     },
     "metadata": {
      "image/png": {
       "height": 420,
       "width": 420
      }
     },
     "output_type": "display_data"
    }
   ],
   "source": [
    "# Barplots!\n",
    "barplot(c(1, 4, 5, 1, 2), names.arg = c(\"red\", \"blue\", \"purple\", \"green\", \"yellow\"))"
   ]
  },
  {
   "cell_type": "code",
   "execution_count": 232,
   "id": "2066cf7e-dfa7-455b-9626-cacf716f01ad",
   "metadata": {},
   "outputs": [
    {
     "name": "stderr",
     "output_type": "stream",
     "text": [
      "Installing package into ‘/usr/local/lib/R/site-library’\n",
      "(as ‘lib’ is unspecified)\n",
      "\n",
      "Warning message in install.packages(\"ggplot2\"):\n",
      "“installation of package ‘ggplot2’ had non-zero exit status”\n",
      "Loading required package: ggplot2\n",
      "\n"
     ]
    },
    {
     "data": {
      "image/png": "[encoded data removed]",
      "text/plain": [
       "plot without title"
      ]
     },
     "metadata": {
      "image/png": {
       "height": 420,
       "width": 420
      }
     },
     "output_type": "display_data"
    },
    {
     "data": {
      "image/png": "[encoded data removed]",
      "text/plain": [
       "plot without title"
      ]
     },
     "metadata": {
      "image/png": {
       "height": 420,
       "width": 420
      }
     },
     "output_type": "display_data"
    },
    {
     "data": {
      "text/html": [
       "\n",
       "<table style=\"width: 100%;\"><tr><td>ggplot2-package {ggplot2}</td><td style=\"text-align: right;\">R Documentation</td></tr></table>\n",
       "\n",
       "<h2>ggplot2: Create Elegant Data Visualisations Using the Grammar of Graphics</h2>\n",
       "\n",
       "<h3>Description</h3>\n",
       "\n",
       "<p><img src=\"../help/figures/logo.png\" style='float: right' alt='logo' width='120' />\n",
       "</p>\n",
       "<p>A system for 'declaratively' creating graphics, based on &quot;The Grammar of Graphics&quot;. You provide the data, tell 'ggplot2' how to map variables to aesthetics, what graphical primitives to use, and it takes care of the details.\n",
       "</p>\n",
       "\n",
       "\n",
       "<h3>Author(s)</h3>\n",
       "\n",
       "<p><strong>Maintainer</strong>: Thomas Lin Pedersen <a href=\"mailto:thomas.pedersen@posit.co\">thomas.pedersen@posit.co</a> (<a href=\"https://orcid.org/0000-0002-5147-4711\">ORCID</a>)\n",
       "</p>\n",
       "<p>Authors:\n",
       "</p>\n",
       "\n",
       "<ul>\n",
       "<li><p> Hadley Wickham <a href=\"mailto:hadley@posit.co\">hadley@posit.co</a> (<a href=\"https://orcid.org/0000-0003-4757-117X\">ORCID</a>)\n",
       "</p>\n",
       "</li>\n",
       "<li><p> Winston Chang (<a href=\"https://orcid.org/0000-0002-1576-2126\">ORCID</a>)\n",
       "</p>\n",
       "</li>\n",
       "<li><p> Lionel Henry\n",
       "</p>\n",
       "</li>\n",
       "<li><p> Kohske Takahashi\n",
       "</p>\n",
       "</li>\n",
       "<li><p> Claus Wilke (<a href=\"https://orcid.org/0000-0002-7470-9261\">ORCID</a>)\n",
       "</p>\n",
       "</li>\n",
       "<li><p> Kara Woo (<a href=\"https://orcid.org/0000-0002-5125-4188\">ORCID</a>)\n",
       "</p>\n",
       "</li>\n",
       "<li><p> Hiroaki Yutani (<a href=\"https://orcid.org/0000-0002-3385-7233\">ORCID</a>)\n",
       "</p>\n",
       "</li>\n",
       "<li><p> Dewey Dunnington (<a href=\"https://orcid.org/0000-0002-9415-4582\">ORCID</a>)\n",
       "</p>\n",
       "</li>\n",
       "<li><p> Teun van den Brand (<a href=\"https://orcid.org/0000-0002-9335-7468\">ORCID</a>)\n",
       "</p>\n",
       "</li></ul>\n",
       "\n",
       "<p>Other contributors:\n",
       "</p>\n",
       "\n",
       "<ul>\n",
       "<li><p> Posit, PBC [copyright holder, funder]\n",
       "</p>\n",
       "</li></ul>\n",
       "\n",
       "\n",
       "\n",
       "<h3>See Also</h3>\n",
       "\n",
       "<p>Useful links:\n",
       "</p>\n",
       "\n",
       "<ul>\n",
       "<li> <p><a href=\"https://ggplot2.tidyverse.org\">https://ggplot2.tidyverse.org</a>\n",
       "</p>\n",
       "</li>\n",
       "<li> <p><a href=\"https://github.com/tidyverse/ggplot2\">https://github.com/tidyverse/ggplot2</a>\n",
       "</p>\n",
       "</li>\n",
       "<li><p> Report bugs at <a href=\"https://github.com/tidyverse/ggplot2/issues\">https://github.com/tidyverse/ggplot2/issues</a>\n",
       "</p>\n",
       "</li></ul>\n",
       "\n",
       "\n",
       "<hr /><div style=\"text-align: center;\">[Package <em>ggplot2</em> version 3.5.1 ]</div></main>\n",
       "\n",
       "</div>"
      ],
      "text/latex": [
       "\\inputencoding{utf8}\n",
       "\\HeaderA{ggplot2-package}{ggplot2: Create Elegant Data Visualisations Using the Grammar of Graphics}{ggplot2.Rdash.package}\n",
       "\\aliasA{ggplot2}{ggplot2-package}{ggplot2}\n",
       "\\keyword{internal}{ggplot2-package}\n",
       "%\n",
       "\\begin{Description}\n",
       "\n",
       "\n",
       "A system for 'declaratively' creating graphics, based on \"The Grammar of Graphics\". You provide the data, tell 'ggplot2' how to map variables to aesthetics, what graphical primitives to use, and it takes care of the details.\n",
       "\\end{Description}\n",
       "%\n",
       "\\begin{Author}\n",
       "\\strong{Maintainer}: Thomas Lin Pedersen \\email{thomas.pedersen@posit.co} (\\Rhref{https://orcid.org/0000-0002-5147-4711}{ORCID})\n",
       "\n",
       "Authors:\n",
       "\\begin{itemize}\n",
       "\n",
       "\\item{} Hadley Wickham \\email{hadley@posit.co} (\\Rhref{https://orcid.org/0000-0003-4757-117X}{ORCID})\n",
       "\\item{} Winston Chang (\\Rhref{https://orcid.org/0000-0002-1576-2126}{ORCID})\n",
       "\\item{} Lionel Henry\n",
       "\\item{} Kohske Takahashi\n",
       "\\item{} Claus Wilke (\\Rhref{https://orcid.org/0000-0002-7470-9261}{ORCID})\n",
       "\\item{} Kara Woo (\\Rhref{https://orcid.org/0000-0002-5125-4188}{ORCID})\n",
       "\\item{} Hiroaki Yutani (\\Rhref{https://orcid.org/0000-0002-3385-7233}{ORCID})\n",
       "\\item{} Dewey Dunnington (\\Rhref{https://orcid.org/0000-0002-9415-4582}{ORCID})\n",
       "\\item{} Teun van den Brand (\\Rhref{https://orcid.org/0000-0002-9335-7468}{ORCID})\n",
       "\n",
       "\\end{itemize}\n",
       "\n",
       "\n",
       "Other contributors:\n",
       "\\begin{itemize}\n",
       "\n",
       "\\item{} Posit, PBC [copyright holder, funder]\n",
       "\n",
       "\\end{itemize}\n",
       "\n",
       "\n",
       "\\end{Author}\n",
       "%\n",
       "\\begin{SeeAlso}\n",
       "Useful links:\n",
       "\\begin{itemize}\n",
       "\n",
       "\\item{} \\url{https://ggplot2.tidyverse.org}\n",
       "\\item{} \\url{https://github.com/tidyverse/ggplot2}\n",
       "\\item{} Report bugs at \\url{https://github.com/tidyverse/ggplot2/issues}\n",
       "\n",
       "\\end{itemize}\n",
       "\n",
       "\n",
       "\\end{SeeAlso}"
      ],
      "text/plain": [
       "ggplot2-package            package:ggplot2             R Documentation\n",
       "\n",
       "_\bg_\bg_\bp_\bl_\bo_\bt_\b2: _\bC_\br_\be_\ba_\bt_\be _\bE_\bl_\be_\bg_\ba_\bn_\bt _\bD_\ba_\bt_\ba _\bV_\bi_\bs_\bu_\ba_\bl_\bi_\bs_\ba_\bt_\bi_\bo_\bn_\bs _\bU_\bs_\bi_\bn_\bg _\bt_\bh_\be _\bG_\br_\ba_\bm_\bm_\ba_\br _\bo_\bf\n",
       "_\bG_\br_\ba_\bp_\bh_\bi_\bc_\bs\n",
       "\n",
       "_\bD_\be_\bs_\bc_\br_\bi_\bp_\bt_\bi_\bo_\bn:\n",
       "\n",
       "     A system for 'declaratively' creating graphics, based on \"The\n",
       "     Grammar of Graphics\". You provide the data, tell 'ggplot2' how to\n",
       "     map variables to aesthetics, what graphical primitives to use, and\n",
       "     it takes care of the details.\n",
       "\n",
       "_\bA_\bu_\bt_\bh_\bo_\br(_\bs):\n",
       "\n",
       "     *Maintainer*: Thomas Lin Pedersen\n",
       "     <mailto:thomas.pedersen@posit.co> (ORCID)\n",
       "\n",
       "     Authors:\n",
       "\n",
       "        • Hadley Wickham <mailto:hadley@posit.co> (ORCID)\n",
       "\n",
       "        • Winston Chang (ORCID)\n",
       "\n",
       "        • Lionel Henry\n",
       "\n",
       "        • Kohske Takahashi\n",
       "\n",
       "        • Claus Wilke (ORCID)\n",
       "\n",
       "        • Kara Woo (ORCID)\n",
       "\n",
       "        • Hiroaki Yutani (ORCID)\n",
       "\n",
       "        • Dewey Dunnington (ORCID)\n",
       "\n",
       "        • Teun van den Brand (ORCID)\n",
       "\n",
       "     Other contributors:\n",
       "\n",
       "        • Posit, PBC [copyright holder, funder]\n",
       "\n",
       "_\bS_\be_\be _\bA_\bl_\bs_\bo:\n",
       "\n",
       "     Useful links:\n",
       "\n",
       "        • <https://ggplot2.tidyverse.org>\n",
       "\n",
       "        • <https://github.com/tidyverse/ggplot2>\n",
       "\n",
       "        • Report bugs at <https://github.com/tidyverse/ggplot2/issues>\n"
      ]
     },
     "metadata": {},
     "output_type": "display_data"
    }
   ],
   "source": [
    "# GGPLOT2\n",
    "# But these are not even the prettiest of R's plots\n",
    "# Try the ggplot2 package for more and better graphics\n",
    "install.packages(\"ggplot2\")\n",
    "require(ggplot2)\n",
    "?ggplot2\n",
    "pp <- ggplot(students, aes(x = house))\n",
    "pp + geom_bar()\n",
    "ll <- as.data.table(list1)\n",
    "pp <- ggplot(ll, aes(x = time, price))\n",
    "pp + geom_point()\n",
    "# ggplot2 has excellent documentation (available http://docs.ggplot2.org/current/)"
   ]
  },
  {
   "cell_type": "code",
   "execution_count": null,
   "id": "46121bd7-67f5-4128-a61c-0f7558dddb02",
   "metadata": {},
   "outputs": [],
   "source": []
  },
  {
   "cell_type": "code",
   "execution_count": null,
   "id": "efbd08ef-0310-4e02-912a-994e4cc957b7",
   "metadata": {},
   "outputs": [],
   "source": []
  },
  {
   "cell_type": "code",
   "execution_count": null,
   "id": "03ab0acd-d925-48c7-a454-631afabd59a0",
   "metadata": {},
   "outputs": [],
   "source": []
  }
 ],
 "metadata": {
  "kernelspec": {
   "display_name": "R",
   "language": "R",
   "name": "ir"
  },
  "language_info": {
   "codemirror_mode": "r",
   "file_extension": ".r",
   "mimetype": "text/x-r-source",
   "name": "R",
   "pygments_lexer": "r",
   "version": "4.4.0"
  },
  "widgets": {
   "application/vnd.jupyter.widget-state+json": {
    "state": {},
    "version_major": 2,
    "version_minor": 0
   }
  }
 },
 "nbformat": 4,
 "nbformat_minor": 5
}
