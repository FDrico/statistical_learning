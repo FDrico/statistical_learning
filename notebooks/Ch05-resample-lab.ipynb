{
 "cells": [
  {
   "cell_type": "markdown",
   "id": "85ad9863",
   "metadata": {},
   "source": [
    "\n",
    "# Chapter 5\n",
    "\n"
   ]
  },
  {
   "cell_type": "markdown",
   "id": "ac8b08af",
   "metadata": {},
   "source": [
    "# Lab: Cross-Validation and the Bootstrap\n",
    "In this lab, we explore the resampling techniques covered in this\n",
    "chapter. Some of the commands in this lab may take a while to run on\n",
    "your computer.\n",
    "\n",
    "We again begin by placing most of our imports at this top level."
   ]
  },
  {
   "cell_type": "code",
   "execution_count": 1,
   "id": "e7712cfe",
   "metadata": {
    "lines_to_next_cell": 2
   },
   "outputs": [],
   "source": [
    "import numpy as np\n",
    "import statsmodels.api as sm\n",
    "from ISLP import load_data\n",
    "from ISLP.models import (ModelSpec as MS,\n",
    "                         summarize,\n",
    "                         poly)\n",
    "from sklearn.model_selection import train_test_split\n"
   ]
  },
  {
   "cell_type": "markdown",
   "id": "784a2ba3",
   "metadata": {},
   "source": [
    "There are several new imports needed for this lab."
   ]
  },
  {
   "cell_type": "code",
   "execution_count": 2,
   "id": "21c2ed4f",
   "metadata": {
    "lines_to_next_cell": 2
   },
   "outputs": [],
   "source": [
    "from functools import partial # This allows us to freeze some arguments of a function in order to later call the function with only the remaining arguments, simplifying its calling.\n",
    "from sklearn.model_selection import \\\n",
    "     (cross_validate,\n",
    "      KFold,\n",
    "      ShuffleSplit)\n",
    "from sklearn.base import clone # To clone an estimator without it having been trained, but with the same parameters as the original.\n",
    "from ISLP.models import sklearn_sm\n"
   ]
  },
  {
   "cell_type": "markdown",
   "id": "9ac3acd5",
   "metadata": {},
   "source": [
    "## The Validation Set Approach\n",
    "We explore the use of the validation set approach in order to estimate\n",
    "the test error rates that result from fitting various linear models on\n",
    "the  `Auto`  data set.\n",
    "\n",
    "We use the function `train_test_split()` to split\n",
    "the data into training and validation sets. As there are 392 observations,\n",
    "we split into two equal sets of size 196 using the\n",
    "argument `test_size=196`. It is generally a good idea to set a random seed\n",
    "when performing operations like this that contain an\n",
    "element of randomness, so that the results obtained can be reproduced\n",
    "precisely at a later time. We set the random seed of the splitter\n",
    "with the argument `random_state=0`. "
   ]
  },
  {
   "cell_type": "code",
   "execution_count": 3,
   "id": "8af59641",
   "metadata": {},
   "outputs": [],
   "source": [
    "Auto = load_data('Auto')\n",
    "Auto_train, Auto_valid = train_test_split(Auto,\n",
    "                                         test_size=196,\n",
    "                                         random_state=0)"
   ]
  },
  {
   "cell_type": "markdown",
   "id": "e76383f0",
   "metadata": {},
   "source": [
    "Now we can fit a linear regression using only the observations corresponding to the training set `Auto_train`."
   ]
  },
  {
   "cell_type": "code",
   "execution_count": 4,
   "id": "d9b0b7c8",
   "metadata": {},
   "outputs": [],
   "source": [
    "# MS, ModelSpec, is a transform.\n",
    "# For all of this we will use the train set.\n",
    "\n",
    "hp_mm = MS(['horsepower']) # We transform 1 column\n",
    "X_train = hp_mm.fit_transform(Auto_train) # We transform (with also fit) the dataframe\n",
    "y_train = Auto_train['mpg'] # Output! Should this not be also transformed?\n",
    "\n",
    "# I wonder: On X_train, won't we also have the output column? Shouldn't we drop it?\n",
    "\n",
    "# To the model, we will input the transformed training X.\n",
    "model = sm.OLS(y_train, X_train) # Model! It requires input and output (training samples)\n",
    "results = model.fit() # then we fit the model\n"
   ]
  },
  {
   "cell_type": "markdown",
   "id": "d196dd08",
   "metadata": {},
   "source": [
    "We now use the `predict()` method of `results` evaluated on the model matrix for this model\n",
    "created using the validation data set. We also calculate the validation MSE of our model."
   ]
  },
  {
   "cell_type": "code",
   "execution_count": 5,
   "id": "3e77d831",
   "metadata": {},
   "outputs": [
    {
     "data": {
      "text/plain": [
       "23.61661706966988"
      ]
     },
     "execution_count": 5,
     "metadata": {},
     "output_type": "execute_result"
    }
   ],
   "source": [
    "X_valid = hp_mm.transform(Auto_valid) # We must perform the same transformation.\n",
    "y_valid = Auto_valid['mpg']\n",
    "\n",
    "valid_pred = results.predict(X_valid) # As we have the X, we want the predicted ys.\n",
    "\n",
    "# And a simple metric would be the MSE for the validation set samples.\n",
    "np.mean((y_valid - valid_pred)**2)\n"
   ]
  },
  {
   "cell_type": "markdown",
   "id": "f4369ee6",
   "metadata": {},
   "source": [
    "Hence our estimate for the validation MSE of  the linear regression\n",
    "fit is $23.62$.\n",
    "\n",
    "We can also estimate the validation error for\n",
    "higher-degree polynomial regressions. We first provide a function `evalMSE()` that takes a model string as well\n",
    "as a training and test set and returns the MSE on the test set."
   ]
  },
  {
   "cell_type": "code",
   "execution_count": 6,
   "id": "0aa4bfcc",
   "metadata": {},
   "outputs": [],
   "source": [
    "def evalMSE(terms, # df?\n",
    "            response, # name of the response column\n",
    "            train, # train samples\n",
    "            test): # test samples\n",
    "\n",
    "   # define the transform for the terms\n",
    "   mm = MS(terms)\n",
    "   X_train = mm.fit_transform(train) # use it on the train samples.\n",
    "   y_train = train[response] # from the train samples, take the output.\n",
    "\n",
    "   # ms, the transform, has to also transform the test samples\n",
    "   X_test = mm.transform(test)\n",
    "   y_test = test[response]\n",
    "\n",
    "   # The model is OLS, simple linear regression. We fit it using the train samples.\n",
    "   results = sm.OLS(y_train, X_train).fit()\n",
    "   # And we calculate the predictions\n",
    "   test_pred = results.predict(X_test)\n",
    "    \n",
    "   # And return the MSE\n",
    "   return np.mean((y_test - test_pred)**2)\n"
   ]
  },
  {
   "cell_type": "markdown",
   "id": "0271dc50",
   "metadata": {},
   "source": [
    "Let’s use this function to estimate the validation MSE\n",
    "using linear, quadratic and cubic fits. We use the `enumerate()`  function\n",
    "here, which gives both the values and indices of objects as one iterates\n",
    "over a for loop."
   ]
  },
  {
   "cell_type": "code",
   "execution_count": 7,
   "id": "a0dbd55f",
   "metadata": {},
   "outputs": [
    {
     "data": {
      "text/plain": [
       "array([23.61661707, 18.76303135, 18.79694163])"
      ]
     },
     "execution_count": 7,
     "metadata": {},
     "output_type": "execute_result"
    }
   ],
   "source": [
    "MSE = np.zeros(3) # We will store the MSEs here.\n",
    "\n",
    "# We will use polynomials of 1, 2 and 3 degrees.\n",
    "for idx, degree in enumerate(range(1, 4)):\n",
    "    MSE[idx] = evalMSE([poly('horsepower', degree)], # the terms parameter\n",
    "                       'mpg', #the output column\n",
    "                       Auto_train, #the train set\n",
    "                       Auto_valid) # the validation set.\n",
    "MSE\n",
    "\n",
    "#poly construcs polynomials of the features. For a given column, in this case 'horsepower',\n",
    "# we get the polynomials we would use for the linear regression.\n"
   ]
  },
  {
   "cell_type": "markdown",
   "id": "a7401536",
   "metadata": {},
   "source": [
    "These error rates are $23.62, 18.76$, and $18.80$, respectively. If we\n",
    "choose a different training/validation split instead, then we\n",
    "can expect somewhat different errors on the validation set."
   ]
  },
  {
   "cell_type": "code",
   "execution_count": 8,
   "id": "885136a4",
   "metadata": {},
   "outputs": [
    {
     "data": {
      "text/plain": [
       "array([20.75540796, 16.94510676, 16.97437833])"
      ]
     },
     "execution_count": 8,
     "metadata": {},
     "output_type": "execute_result"
    }
   ],
   "source": [
    "Auto_train, Auto_valid = train_test_split(Auto,\n",
    "                                          test_size=196,\n",
    "                                          random_state=3)\n",
    "MSE = np.zeros(3)\n",
    "for idx, degree in enumerate(range(1, 4)):\n",
    "    MSE[idx] = evalMSE([poly('horsepower', degree)],\n",
    "                       'mpg',\n",
    "                       Auto_train,\n",
    "                       Auto_valid)\n",
    "MSE"
   ]
  },
  {
   "cell_type": "markdown",
   "id": "00785402",
   "metadata": {},
   "source": [
    "Using this split of the observations into a training set and a validation set,\n",
    "we find that the validation set error rates for the models with linear, quadratic, and cubic terms are $20.76$, $16.95$, and $16.97$, respectively.\n",
    "\n",
    "These results are consistent with our previous findings: a model that\n",
    "predicts `mpg` using a quadratic function of `horsepower`\n",
    "performs better than a model that involves only a linear function of\n",
    "`horsepower`, and there is no evidence of an improvement in using a cubic function of `horsepower`."
   ]
  },
  {
   "cell_type": "markdown",
   "id": "21c071b8",
   "metadata": {},
   "source": [
    "## Cross-Validation\n",
    "In theory, the cross-validation estimate can be computed for any generalized\n",
    "linear model.  {}\n",
    "In practice, however, the simplest way to cross-validate in\n",
    "Python is to use `sklearn`, which has a different interface or API\n",
    "than `statsmodels`, the code we have been using to fit GLMs.\n",
    "\n",
    "This is a problem which often confronts data scientists: \"I have a function to do task $A$, and need to feed it into something that performs task $B$, so that I can compute $B(A(D))$, where $D$ is my data.\" When $A$ and $B$ don’t naturally speak to each other, this\n",
    "requires the use of a *wrapper*.\n",
    "In the `ISLP` package,\n",
    "we provide \n",
    "a wrapper, `sklearn_sm()`, that enables us to easily use the cross-validation tools of `sklearn` with\n",
    "models fit by `statsmodels`.\n",
    "\n",
    "The class `sklearn_sm()` \n",
    "has  as its first argument\n",
    "a model from `statsmodels`. It can take two additional\n",
    "optional arguments: `model_str` which can be\n",
    "used to specify a formula, and `model_args` which should\n",
    "be a dictionary of additional arguments used when fitting\n",
    "the model. For example, to fit a logistic regression model\n",
    "we have to specify a `family` argument. This\n",
    "is passed as `model_args={'family':sm.families.Binomial()}`.\n",
    "\n",
    "Here is our wrapper in action:"
   ]
  },
  {
   "cell_type": "code",
   "execution_count": 9,
   "id": "276d436c-e458-477a-962a-33f7f61fa69d",
   "metadata": {},
   "outputs": [],
   "source": [
    "# sklearn_sm is a wrapper\n",
    "# It takes a statsmodel model, a str for a formula and arguments\n",
    "# for the model as a dictionary\n",
    "# It helps us prepare the statsmodel model to be used with\n",
    "# scikitlearn's cross-validate"
   ]
  },
  {
   "cell_type": "code",
   "execution_count": 11,
   "id": "6d957d8c",
   "metadata": {
    "lines_to_next_cell": 0
   },
   "outputs": [
    {
     "data": {
      "text/plain": [
       "24.23151351792922"
      ]
     },
     "execution_count": 11,
     "metadata": {},
     "output_type": "execute_result"
    }
   ],
   "source": [
    "hp_model = sklearn_sm(sm.OLS, # we use the OLS model from statsmodels\n",
    "                      MS(['horsepower'])) # and select a column?\n",
    "\n",
    "X, Y = Auto.drop(columns=['mpg']), Auto['mpg'] # cleverly creates X and Y\n",
    "\n",
    "# We call for cross-validate.\n",
    "# this will calculate CV(k) after dividing the set into k groups/folds.\n",
    "# how many ks?\n",
    "# It also allows us to calculate specific metrics, unlike cross_val_score.\n",
    "cv_results = cross_validate(hp_model, # it takes the model\n",
    "                            X,\n",
    "                            Y,\n",
    "                            cv=Auto.shape[0]) # and the amount of CVs=k\n",
    "cv_err = np.mean(cv_results['test_score'])\n",
    "cv_err\n"
   ]
  },
  {
   "cell_type": "markdown",
   "id": "c17e2bc8",
   "metadata": {},
   "source": [
    "The arguments to `cross_validate()` are as follows: an\n",
    "object with the appropriate `fit()`, `predict()`,\n",
    "and `score()` methods,  an\n",
    "array of features `X` and a response `Y`. \n",
    "We also included an additional argument `cv` to `cross_validate()`; specifying an integer\n",
    "$K$ results in $K$-fold cross-validation. We have provided a value \n",
    "corresponding to the total number of observations, which results in\n",
    "leave-one-out cross-validation (LOOCV). The `cross_validate()`  function produces a dictionary with several components;\n",
    "we simply want the cross-validated test score here (MSE), which is estimated to be 24.23."
   ]
  },
  {
   "cell_type": "code",
   "execution_count": 19,
   "id": "6fa1e731-15c1-485c-9cd4-e137c9d4187b",
   "metadata": {},
   "outputs": [
    {
     "data": {
      "text/plain": [
       "{'fit_time': array([0.00461173, 0.00305367, 0.00364566, 0.00312543, 0.0028913 ,\n",
       "        0.00304651, 0.0028708 , 0.00298452, 0.00348902, 0.00296402,\n",
       "        0.00322962, 0.00341821, 0.00300837, 0.003052  , 0.00309157,\n",
       "        0.00286579, 0.00295353, 0.00281978, 0.00283766, 0.00279903,\n",
       "        0.00325084, 0.00286031, 0.00309205, 0.00275683, 0.00335741,\n",
       "        0.00315714, 0.0028069 , 0.0030818 , 0.0031414 , 0.00297403,\n",
       "        0.00280643, 0.0029552 , 0.00325632, 0.00412917, 0.00421   ,\n",
       "        0.00571012, 0.00363302, 0.00291371, 0.00350785, 0.00301099,\n",
       "        0.0028193 , 0.00302601, 0.00321293, 0.00284529, 0.00286031,\n",
       "        0.00277209, 0.00338674, 0.00307369, 0.00287628, 0.00274897,\n",
       "        0.00334001, 0.00311089, 0.00290537, 0.00276566, 0.00319481,\n",
       "        0.00304198, 0.00286889, 0.00275183, 0.00327873, 0.00296044,\n",
       "        0.00284004, 0.00274229, 0.00301147, 0.00302815, 0.00280571,\n",
       "        0.00278091, 0.00298691, 0.00304127, 0.00282001, 0.00279808,\n",
       "        0.00274777, 0.00328183, 0.00284863, 0.00294733, 0.00314569,\n",
       "        0.00287676, 0.00289035, 0.00284958, 0.0027864 , 0.00321341,\n",
       "        0.00285983, 0.00289607, 0.00285029, 0.00295639, 0.00308347,\n",
       "        0.00283837, 0.00271726, 0.00315547, 0.0027678 , 0.00271893,\n",
       "        0.00281382, 0.00277114, 0.00289845, 0.00273871, 0.00282311,\n",
       "        0.00268602, 0.00283647, 0.00286317, 0.00273991, 0.00270557,\n",
       "        0.00275874, 0.00303245, 0.00289416, 0.00285006, 0.00270939,\n",
       "        0.0028193 , 0.00276589, 0.00291729, 0.00271034, 0.00353432,\n",
       "        0.00277328, 0.00299764, 0.00286746, 0.00282288, 0.00279617,\n",
       "        0.00279117, 0.00272012, 0.00280643, 0.00287461, 0.00301671,\n",
       "        0.00282741, 0.00278664, 0.00273609, 0.00283027, 0.00270724,\n",
       "        0.0028801 , 0.00323534, 0.00286913, 0.0029099 , 0.00285602,\n",
       "        0.00286603, 0.00284076, 0.00273323, 0.00282741, 0.00270438,\n",
       "        0.00313258, 0.00293851, 0.00287199, 0.00270319, 0.00269294,\n",
       "        0.00275922, 0.00271463, 0.00268888, 0.00300193, 0.00278282,\n",
       "        0.00269985, 0.00285149, 0.00282955, 0.00270033, 0.00267577,\n",
       "        0.00265765, 0.0026381 , 0.00266409, 0.00268006, 0.0026176 ,\n",
       "        0.00260425, 0.00265503, 0.00280213, 0.00260139, 0.00261259,\n",
       "        0.00263929, 0.00259304, 0.00267792, 0.00261831, 0.00265884,\n",
       "        0.00260329, 0.0027802 , 0.002671  , 0.00262403, 0.00262856,\n",
       "        0.00265479, 0.00271535, 0.00263238, 0.00258827, 0.00263143,\n",
       "        0.00273705, 0.00261331, 0.00260878, 0.00261593, 0.00258946,\n",
       "        0.00265574, 0.00267649, 0.00259805, 0.0026145 , 0.00263906,\n",
       "        0.00269747, 0.00260162, 0.00258827, 0.00259876, 0.00275612,\n",
       "        0.00267029, 0.00259876, 0.00314403, 0.00320196, 0.0029161 ,\n",
       "        0.00280523, 0.00279593, 0.00288415, 0.00294614, 0.00282955,\n",
       "        0.00298285, 0.00348091, 0.00287938, 0.00275826, 0.00301838,\n",
       "        0.00292563, 0.00315905, 0.00314808, 0.00291181, 0.00274158,\n",
       "        0.0031538 , 0.00324202, 0.00290775, 0.0028007 , 0.00287414,\n",
       "        0.00276637, 0.00281072, 0.00278854, 0.00270939, 0.00279737,\n",
       "        0.00262809, 0.00260758, 0.00270796, 0.00260019, 0.0027771 ,\n",
       "        0.00256252, 0.0026474 , 0.00257802, 0.00264525, 0.00261068,\n",
       "        0.00258064, 0.00257778, 0.00268292, 0.00267482, 0.00258279,\n",
       "        0.00262618, 0.00258636, 0.00261736, 0.00270748, 0.00259447,\n",
       "        0.00265741, 0.00262785, 0.00257897, 0.00272584, 0.00261307,\n",
       "        0.00260139, 0.00260139, 0.00260687, 0.00263214, 0.0026083 ,\n",
       "        0.00262761, 0.00259161, 0.00310397, 0.00269961, 0.00268364,\n",
       "        0.00271416, 0.00259423, 0.00271249, 0.00258541, 0.00260162,\n",
       "        0.00259209, 0.00310254, 0.00277209, 0.00268078, 0.00269771,\n",
       "        0.00268126, 0.00267911, 0.00264311, 0.00263834, 0.00276113,\n",
       "        0.00267458, 0.00271535, 0.00287485, 0.00262618, 0.00263953,\n",
       "        0.00309753, 0.00274849, 0.00267482, 0.00291538, 0.00281405,\n",
       "        0.00272322, 0.00272679, 0.00300145, 0.002671  , 0.0026958 ,\n",
       "        0.00275612, 0.00308585, 0.00287008, 0.00280833, 0.00282407,\n",
       "        0.00297141, 0.00291419, 0.00290346, 0.00293088, 0.00283504,\n",
       "        0.00278664, 0.00288773, 0.00319386, 0.00301933, 0.00307965,\n",
       "        0.00399709, 0.00313616, 0.00353885, 0.00319457, 0.00301456,\n",
       "        0.00282741, 0.00277925, 0.00284123, 0.00316501, 0.00346971,\n",
       "        0.00283813, 0.00275183, 0.0030272 , 0.00301242, 0.00281763,\n",
       "        0.00277305, 0.00310326, 0.0030601 , 0.00283551, 0.00275135,\n",
       "        0.00287127, 0.00313115, 0.00284481, 0.00279856, 0.0027101 ,\n",
       "        0.00326037, 0.00293136, 0.00285244, 0.00269914, 0.00330138,\n",
       "        0.00297546, 0.00290704, 0.003124  , 0.00310397, 0.00284362,\n",
       "        0.00277638, 0.00271726, 0.00333238, 0.00300813, 0.00278211,\n",
       "        0.00273657, 0.0030787 , 0.00308895, 0.00282097, 0.00279927,\n",
       "        0.00275302, 0.00351739, 0.00284481, 0.00277066, 0.00290275,\n",
       "        0.00309753, 0.00284624, 0.00282669, 0.00271201, 0.0032804 ,\n",
       "        0.002882  , 0.00289202, 0.00272393, 0.00322151, 0.00288653,\n",
       "        0.00281715, 0.00269771, 0.00322986, 0.00292492, 0.00283432,\n",
       "        0.00271225, 0.00301361, 0.00300932, 0.0028193 , 0.00278068,\n",
       "        0.00302362, 0.00315404, 0.00281549, 0.00276351, 0.00269985,\n",
       "        0.00318074, 0.00286937, 0.00286007, 0.00271416, 0.00315475,\n",
       "        0.00286102, 0.00292158, 0.00270247, 0.00338387, 0.00300837,\n",
       "        0.00286484, 0.00272775, 0.00329995, 0.00303435, 0.00284386,\n",
       "        0.00270724, 0.00331998]),\n",
       " 'score_time': array([0.00097704, 0.00087309, 0.00106931, 0.00089312, 0.00091839,\n",
       "        0.00086617, 0.00084305, 0.00116467, 0.00089097, 0.00088978,\n",
       "        0.00098681, 0.00101709, 0.00088072, 0.00090671, 0.00090289,\n",
       "        0.00096917, 0.00085211, 0.0008173 , 0.00080538, 0.00097156,\n",
       "        0.00114989, 0.00082207, 0.00085974, 0.00094724, 0.00097203,\n",
       "        0.00085592, 0.0007987 , 0.00102878, 0.00095224, 0.00083661,\n",
       "        0.0007894 , 0.0009439 , 0.00095844, 0.00119686, 0.00118876,\n",
       "        0.00118566, 0.00088191, 0.00086761, 0.0009551 , 0.00086069,\n",
       "        0.00079751, 0.00088978, 0.0008955 , 0.00081754, 0.00079441,\n",
       "        0.00079417, 0.0010004 , 0.00086904, 0.0008173 , 0.00078368,\n",
       "        0.00104189, 0.00094724, 0.00080419, 0.00078249, 0.00104523,\n",
       "        0.00084448, 0.00085974, 0.00076723, 0.00096989, 0.00085378,\n",
       "        0.00083399, 0.00076604, 0.0009532 , 0.00083637, 0.00085092,\n",
       "        0.00077081, 0.00096321, 0.00084305, 0.00080204, 0.00085497,\n",
       "        0.00089788, 0.00090146, 0.00081968, 0.0009079 , 0.00094295,\n",
       "        0.00080967, 0.0008235 , 0.00079083, 0.00076485, 0.0009191 ,\n",
       "        0.00082064, 0.00080466, 0.00090766, 0.00083756, 0.00084162,\n",
       "        0.00077891, 0.00076747, 0.00083399, 0.00078535, 0.00077343,\n",
       "        0.00089216, 0.00077987, 0.00078225, 0.00077176, 0.00080299,\n",
       "        0.0007267 , 0.0008769 , 0.00083208, 0.00088191, 0.00077081,\n",
       "        0.00095868, 0.00083852, 0.0008657 , 0.00087094, 0.00078297,\n",
       "        0.00082541, 0.00077701, 0.00079107, 0.00076079, 0.00084615,\n",
       "        0.00078082, 0.00085402, 0.00082397, 0.00080013, 0.00084233,\n",
       "        0.00080848, 0.00090814, 0.00101995, 0.00086451, 0.00084376,\n",
       "        0.00088334, 0.0007782 , 0.00079036, 0.00078726, 0.00078249,\n",
       "        0.00078201, 0.00085449, 0.00086093, 0.00082636, 0.00077701,\n",
       "        0.00077009, 0.00083303, 0.00077438, 0.00078058, 0.00093317,\n",
       "        0.00078702, 0.00087047, 0.00078773, 0.00077534, 0.00077486,\n",
       "        0.00078344, 0.00078368, 0.00082755, 0.00103092, 0.00078392,\n",
       "        0.00077391, 0.00083423, 0.00081611, 0.00076938, 0.00079727,\n",
       "        0.00074077, 0.00074649, 0.00076818, 0.00074315, 0.00073004,\n",
       "        0.00073743, 0.00073624, 0.00076985, 0.000741  , 0.00073504,\n",
       "        0.00074005, 0.00075293, 0.00073934, 0.00073314, 0.00077343,\n",
       "        0.00073123, 0.00077581, 0.00074315, 0.00073385, 0.00073934,\n",
       "        0.00074005, 0.00073647, 0.00074267, 0.00074768, 0.00073743,\n",
       "        0.00077748, 0.00073743, 0.00073791, 0.00074744, 0.00072813,\n",
       "        0.00075555, 0.00073934, 0.00073886, 0.00073218, 0.00076532,\n",
       "        0.00074434, 0.00073886, 0.00074816, 0.00073481, 0.00077391,\n",
       "        0.00073123, 0.00073886, 0.00091743, 0.00085568, 0.00082374,\n",
       "        0.00081038, 0.00082922, 0.00081325, 0.00084519, 0.00086856,\n",
       "        0.0008688 , 0.00083399, 0.00080347, 0.00084186, 0.00082898,\n",
       "        0.00087357, 0.00085926, 0.00083351, 0.00083494, 0.00076103,\n",
       "        0.00092888, 0.00086141, 0.00080585, 0.00082612, 0.00081587,\n",
       "        0.00088406, 0.00077987, 0.00082183, 0.00076771, 0.00075841,\n",
       "        0.00074005, 0.00076985, 0.00072765, 0.00075006, 0.00075078,\n",
       "        0.00074053, 0.00074244, 0.00073171, 0.00080919, 0.00073338,\n",
       "        0.00073576, 0.00074673, 0.00074553, 0.0007484 , 0.00073552,\n",
       "        0.000736  , 0.00073385, 0.00073719, 0.00075746, 0.00073647,\n",
       "        0.00073719, 0.00073075, 0.00088573, 0.00074005, 0.00075507,\n",
       "        0.00075579, 0.00073838, 0.00084925, 0.00073433, 0.00077295,\n",
       "        0.0007298 , 0.00078177, 0.0007956 , 0.00075006, 0.00075889,\n",
       "        0.00073767, 0.00075269, 0.0007441 , 0.00073218, 0.00074553,\n",
       "        0.00081158, 0.00089002, 0.00077152, 0.00076103, 0.00075459,\n",
       "        0.00079656, 0.00074697, 0.0007751 , 0.00077772, 0.00075531,\n",
       "        0.00074887, 0.00081754, 0.00077987, 0.00074553, 0.00075817,\n",
       "        0.00081015, 0.00076604, 0.00078177, 0.00093102, 0.00078082,\n",
       "        0.00076723, 0.00076604, 0.00078845, 0.00082064, 0.00073695,\n",
       "        0.00120497, 0.00086164, 0.00085211, 0.00088716, 0.00080895,\n",
       "        0.00089025, 0.00089598, 0.00083423, 0.00083899, 0.00086999,\n",
       "        0.00083017, 0.00082946, 0.00093031, 0.0008707 , 0.00094438,\n",
       "        0.00097036, 0.00093484, 0.00101352, 0.00090098, 0.00087619,\n",
       "        0.00080752, 0.00079489, 0.00078917, 0.00096202, 0.0008409 ,\n",
       "        0.00083447, 0.00076795, 0.00093961, 0.00085258, 0.00084829,\n",
       "        0.00077486, 0.00097013, 0.00085878, 0.00086999, 0.00078297,\n",
       "        0.00094461, 0.00091577, 0.00080347, 0.00078392, 0.00080156,\n",
       "        0.00093341, 0.00082207, 0.00080061, 0.00081897, 0.00092411,\n",
       "        0.0008328 , 0.00080514, 0.00091934, 0.0008378 , 0.00080967,\n",
       "        0.00081301, 0.00076127, 0.00099564, 0.00083733, 0.00083089,\n",
       "        0.00078654, 0.00096083, 0.00085402, 0.00086141, 0.00078917,\n",
       "        0.00120091, 0.00092721, 0.00088048, 0.00079155, 0.0009644 ,\n",
       "        0.00089645, 0.00081396, 0.0007782 , 0.00086498, 0.00089836,\n",
       "        0.00083447, 0.00078392, 0.00086164, 0.0009129 , 0.00081396,\n",
       "        0.00080967, 0.00084949, 0.00094938, 0.00082397, 0.00081921,\n",
       "        0.00077581, 0.00092769, 0.00084782, 0.00090981, 0.00078058,\n",
       "        0.0009346 , 0.00086308, 0.00085402, 0.00076795, 0.00096035,\n",
       "        0.00092816, 0.00081682, 0.00077415, 0.0009582 , 0.00091076,\n",
       "        0.0008111 , 0.00078177, 0.00080252, 0.00093102, 0.00084019,\n",
       "        0.00081134, 0.00076628, 0.00097013, 0.00085497, 0.00081635,\n",
       "        0.00077033, 0.00094628]),\n",
       " 'test_score': array([2.02001002e+00, 1.25092412e+00, 3.06805164e+00, 6.79901984e-02,\n",
       "        7.08255629e-01, 4.13566745e+01, 8.13755358e+01, 6.71494767e+01,\n",
       "        9.70498847e+01, 2.63430368e+01, 3.67428697e+00, 4.70741691e-01,\n",
       "        1.60507789e+00, 9.70498847e+01, 8.89557151e-01, 8.69418110e+00,\n",
       "        4.41228965e+01, 3.06562225e+01, 9.16549732e-01, 4.53185378e+01,\n",
       "        1.45705281e+00, 3.00983554e+00, 3.54617605e-03, 1.52964088e+01,\n",
       "        2.25022208e+01, 1.67905446e+01, 2.76735351e+00, 1.85354648e+01,\n",
       "        2.29957474e-01, 9.16549732e-01, 5.18379999e+00, 3.54617605e-03,\n",
       "        2.66745510e+01, 5.44791120e+01, 5.14078324e+01, 4.99405256e+01,\n",
       "        3.80360006e+01, 1.19884585e-02, 2.91033003e+00, 3.23104363e+00,\n",
       "        5.16691118e+00, 2.32487332e-01, 1.06678908e-02, 4.82615264e-01,\n",
       "        2.10211114e+01, 4.35585197e+01, 2.66745510e+01, 6.51231162e+01,\n",
       "        1.13690418e+01, 5.18379999e+00, 1.25085727e+00, 4.27873211e+00,\n",
       "        1.77161819e+00, 3.58044876e+01, 1.21519855e+01, 8.41044041e+00,\n",
       "        8.89557151e-01, 5.36657259e+00, 7.17595842e+01, 3.30230842e+01,\n",
       "        2.89239650e+01, 8.09034686e-01, 2.91033003e+00, 1.60507789e+00,\n",
       "        3.23104363e+00, 5.55648116e-01, 1.58374562e+01, 6.18633936e+00,\n",
       "        7.30069293e+00, 9.62066868e+00, 3.18079355e+01, 1.60507789e+00,\n",
       "        4.14699861e+01, 2.36253376e+01, 5.16691118e+00, 1.82205869e+01,\n",
       "        3.55599555e+01, 2.72424889e+01, 9.35761228e+00, 1.91401940e+01,\n",
       "        6.72450828e+00, 2.65440672e+00, 4.81922115e-01, 9.16549732e-01,\n",
       "        4.82615264e-01, 5.16691118e+00, 1.65673457e+01, 1.87496691e+01,\n",
       "        1.60507789e+00, 1.14041800e+01, 1.07534901e+01, 4.04602925e+00,\n",
       "        5.16691118e+00, 5.14127073e+01, 6.07551884e+01, 4.82615264e-01,\n",
       "        2.89000924e+01, 6.67900464e+01, 3.80360006e+01, 6.51231162e+01,\n",
       "        3.78643546e+00, 4.53185378e+01, 2.80008847e+01, 2.52995804e+00,\n",
       "        1.06678908e-02, 2.32487332e-01, 3.80360006e+01, 3.67700670e+01,\n",
       "        5.78250435e+01, 9.65326195e+00, 6.00999134e+01, 5.69004321e+01,\n",
       "        4.20960109e+00, 7.34161330e-02, 4.24141077e+00, 1.62504118e+02,\n",
       "        1.04124952e+01, 1.69263872e+01, 3.12256930e+01, 1.06661158e+01,\n",
       "        1.60507789e+00, 2.04714617e+00, 4.63627225e-01, 2.81308530e-01,\n",
       "        2.45422744e+01, 2.66745510e+01, 8.41826427e+01, 2.71568614e+00,\n",
       "        1.72393986e+00, 5.45824770e+00, 9.67273723e+00, 6.67900464e+01,\n",
       "        4.34294154e+01, 2.89000924e+01, 3.40894184e+00, 1.07534901e+01,\n",
       "        5.16691118e+00, 1.48674828e+01, 5.16691118e+00, 4.71985461e+00,\n",
       "        1.14045570e+01, 2.65723179e+00, 5.37714836e-01, 2.89872607e+00,\n",
       "        9.58490755e-03, 1.69263872e+01, 4.43538684e+00, 3.92603313e-01,\n",
       "        5.56174397e-01, 2.71568614e+00, 3.54826220e+01, 2.89000924e+01,\n",
       "        1.85793766e+02, 1.85793766e+02, 8.56678574e+00, 4.24141077e+00,\n",
       "        6.79901984e-02, 6.70768171e+00, 3.12200353e+01, 5.44791120e+01,\n",
       "        5.76492515e+01, 4.84338370e+01, 2.48707630e+00, 6.65463189e+00,\n",
       "        4.35279867e+01, 8.21133366e-01, 1.48042183e+01, 1.73234837e+01,\n",
       "        2.15428333e+01, 6.16014660e-01, 1.40301443e+01, 3.92603313e-01,\n",
       "        4.41228965e+01, 1.29490738e-02, 4.55556484e+01, 3.78643546e+00,\n",
       "        9.33148243e+00, 6.11852866e+00, 1.04014510e+01, 2.07408852e+00,\n",
       "        2.70256448e+00, 4.65694071e+00, 1.72487801e-01, 2.16539700e+00,\n",
       "        2.74918795e-02, 1.15058589e-01, 6.79901984e-02, 3.03694219e+01,\n",
       "        2.11072545e+00, 4.65249596e+00, 1.86499577e+00, 9.99513766e+00,\n",
       "        1.04928647e+01, 7.55152999e+00, 3.60116535e+01, 1.29490738e-02,\n",
       "        2.07408852e+00, 1.73234837e+01, 9.33213791e+01, 1.66755705e+01,\n",
       "        5.56635197e+01, 5.99987945e-01, 9.78228164e+00, 9.58490755e-03,\n",
       "        4.32695051e+00, 1.47882454e+01, 1.07534901e+01, 4.99405256e+01,\n",
       "        1.51995441e+01, 2.03208885e+01, 2.53881491e+01, 1.65673457e+01,\n",
       "        4.14699861e+01, 1.07534901e+01, 5.33042511e+00, 7.29756797e+00,\n",
       "        2.75846571e+01, 5.17186811e-01, 2.14795069e+01, 2.06180738e-01,\n",
       "        3.12200353e+01, 2.42350354e+00, 1.96456368e+01, 2.58692664e+01,\n",
       "        8.23394721e+00, 2.66745510e+01, 3.57935557e+01, 2.05425417e+01,\n",
       "        5.86547892e+00, 3.18124590e+01, 1.75981847e-01, 1.90777485e+00,\n",
       "        2.40313535e+00, 4.43538684e+00, 1.51190554e-01, 2.61303673e-01,\n",
       "        4.47244402e+01, 4.13364701e-01, 8.33410057e+00, 6.92684164e+00,\n",
       "        1.15721954e+00, 1.15721954e+00, 1.17243677e+02, 4.37670739e+01,\n",
       "        1.16629732e+00, 1.11553234e+02, 3.21334196e+01, 7.18196254e+00,\n",
       "        2.46435792e+00, 4.90518618e+00, 1.74123514e+01, 1.98261758e+01,\n",
       "        4.01877223e+01, 8.99439615e-01, 1.34018435e+01, 4.03012186e+01,\n",
       "        7.66863328e+00, 3.29183245e+01, 1.58667760e+01, 8.42803414e+00,\n",
       "        4.67977341e+00, 1.47657800e+01, 1.10336292e-02, 1.15058589e-01,\n",
       "        6.42346961e-01, 6.58606332e+00, 6.66627625e+00, 7.91798088e+00,\n",
       "        1.48304437e+01, 2.64318792e-02, 7.44090531e+00, 5.28305235e-01,\n",
       "        1.14684171e+01, 1.03414523e+01, 3.39377102e-02, 7.58123595e+00,\n",
       "        7.74842230e+00, 8.94190790e-02, 8.09384884e-02, 4.54365642e+01,\n",
       "        1.41140526e+01, 3.07579754e+01, 3.91284380e+00, 5.88043263e+00,\n",
       "        3.92436810e+00, 2.75808267e+00, 1.83702289e-01, 2.07387025e+00,\n",
       "        4.12916020e+00, 1.01722577e+00, 5.08353300e+00, 1.01467782e+01,\n",
       "        1.97789373e+01, 7.09285156e+01, 8.47276098e-03, 5.71702729e+00,\n",
       "        7.86198816e+00, 2.35859722e+00, 3.36788510e+00, 2.84924847e+01,\n",
       "        3.18008270e+01, 4.55923166e+00, 6.88003729e+01, 7.17149316e+00,\n",
       "        4.94993583e+01, 2.53016852e+01, 6.07286850e+01, 1.85344168e+02,\n",
       "        5.89921650e+01, 1.04207991e+01, 5.72092847e+01, 5.18379999e+00,\n",
       "        1.26415094e-01, 2.05638892e+00, 4.42118654e+01, 4.49064563e+01,\n",
       "        1.66631623e+01, 1.03395519e+01, 1.34992151e+02, 1.69676219e+01,\n",
       "        2.89448955e+02, 2.06974399e+01, 1.25051574e+02, 1.44905192e+02,\n",
       "        1.23884653e+02, 5.00546480e+01, 4.13364701e-01, 2.34577604e+02,\n",
       "        1.99088405e+01, 1.23537151e-01, 1.86386212e+02, 2.04808540e-01,\n",
       "        8.06690157e+01, 1.47899420e+01, 2.75430770e-01, 5.95305638e-03,\n",
       "        1.49726751e-01, 8.63932788e-01, 1.11156438e+01, 7.00853046e+01,\n",
       "        8.49303469e+01, 2.17401579e+01, 8.72867547e+00, 5.42082969e+01,\n",
       "        5.76616427e+01, 2.42205203e+01, 2.24153948e+01, 2.25523558e+01,\n",
       "        5.07271492e-02, 2.26998788e+01, 3.16437445e+01, 1.86623193e+01,\n",
       "        7.69355372e+01, 1.12801915e+01, 6.31334897e-01, 7.68002445e+00,\n",
       "        1.43235862e+01, 1.03365290e+01, 3.00647280e-02, 1.05372851e+01,\n",
       "        3.43774311e+01, 8.00620412e+01, 3.84314632e+00, 9.16549732e-01,\n",
       "        6.36574958e+01, 2.02081766e+01, 5.43229349e+00, 1.62275765e+00,\n",
       "        2.01113213e+00, 6.04809802e+01, 6.13959910e+01, 3.26284998e+00,\n",
       "        6.48476825e+01, 5.10675623e+01, 9.96926676e+01, 6.29583618e+01,\n",
       "        2.63878500e+01, 7.53932748e+01, 7.03805538e+00, 7.53932748e+01,\n",
       "        5.92141501e+00, 1.32661105e+02, 3.45169047e-01, 6.65300161e-02,\n",
       "        5.23682368e+01, 8.74921443e+01, 1.62275765e+00, 4.10622168e-01,\n",
       "        1.52827762e+02, 2.85218299e+01, 2.87124380e-01, 1.61698064e+01])}"
      ]
     },
     "execution_count": 19,
     "metadata": {},
     "output_type": "execute_result"
    }
   ],
   "source": [
    "cv_results"
   ]
  },
  {
   "cell_type": "markdown",
   "id": "5c7901f2",
   "metadata": {},
   "source": [
    "We can repeat this procedure for increasingly complex polynomial fits.\n",
    "To automate the process, we again\n",
    "use a for loop which iteratively fits polynomial\n",
    "regressions of degree 1 to 5, computes the\n",
    "associated cross-validation error, and stores it in the $i$th element\n",
    "of the vector `cv_error`. The variable `d` in the for loop\n",
    "corresponds to the degree of the polynomial. We begin by initializing the\n",
    "vector. This command may take a couple of seconds to run."
   ]
  },
  {
   "cell_type": "code",
   "execution_count": 21,
   "id": "e2b5ce95",
   "metadata": {
    "lines_to_next_cell": 0
   },
   "outputs": [
    {
     "data": {
      "text/plain": [
       "array([24.23151352, 19.24821312, 19.33498406, 19.42443029, 19.03320648])"
      ]
     },
     "execution_count": 21,
     "metadata": {},
     "output_type": "execute_result"
    }
   ],
   "source": [
    "cv_error = np.zeros(5)\n",
    "H = np.array(Auto['horsepower'])\n",
    "M = sklearn_sm(sm.OLS)\n",
    "\n",
    "# Fit using polynomials of degree 1 to 5\n",
    "for i, d in enumerate(range(1,6)):\n",
    "    # Outer en este caso aplica la función power a cada elemento\n",
    "    # de H apareado con cada elemento del arange.\n",
    "    # Entonces a cada elemento de H le va a aplicar power de \n",
    "    # primero 1\n",
    "    # luego 1 y 2\n",
    "    # luego 1, 2 y 3..\n",
    "    X = np.power.outer(H, np.arange(d+1))\n",
    "    # Y para cada caso, hace un cross-validation LOOCV.\n",
    "    M_CV = cross_validate(M, # toma el modelo\n",
    "                          X, # el input para esta iteración, que va a tener Horsepower, Horsepower^2, etc\n",
    "                          Y,\n",
    "                          cv=Auto.shape[0])\n",
    "    cv_error[i] = np.mean(M_CV['test_score'])\n",
    "cv_error\n"
   ]
  },
  {
   "cell_type": "markdown",
   "id": "03706248",
   "metadata": {},
   "source": [
    "As in Figure 5.4, we see a sharp drop in the estimated test MSE between the linear and\n",
    "quadratic fits, but then no clear improvement from using higher-degree polynomials.\n",
    "\n",
    "Above we introduced the `outer()`  method of the `np.power()`\n",
    "function.  The `outer()` method is applied to an operation\n",
    "that has two arguments, such as `add()`, `min()`, or\n",
    "`power()`.\n",
    "It has two arrays as\n",
    "arguments, and then forms a larger\n",
    "array where the operation is applied to each pair of elements of the\n",
    "two arrays. "
   ]
  },
  {
   "cell_type": "code",
   "execution_count": 22,
   "id": "1dda1bd7",
   "metadata": {},
   "outputs": [
    {
     "data": {
      "text/plain": [
       "array([[ 5,  7],\n",
       "       [ 7,  9],\n",
       "       [11, 13]])"
      ]
     },
     "execution_count": 22,
     "metadata": {},
     "output_type": "execute_result"
    }
   ],
   "source": [
    "A = np.array([3, 5, 9])\n",
    "B = np.array([2, 4])\n",
    "np.add.outer(A, B)\n"
   ]
  },
  {
   "cell_type": "markdown",
   "id": "f5092f1b",
   "metadata": {},
   "source": [
    "In the CV example above, we used $K=n$, but of course we can also use $K<n$. The code is very similar\n",
    "to the above (and is significantly faster). Here we use `KFold()` to partition the data into $K=10$ random groups. We use `random_state` to set a random seed and initialize a vector `cv_error` in which we will store the CV errors corresponding to the\n",
    "polynomial fits of degrees one to five."
   ]
  },
  {
   "cell_type": "code",
   "execution_count": 24,
   "id": "fb25fa70",
   "metadata": {
    "lines_to_next_cell": 0
   },
   "outputs": [
    {
     "data": {
      "text/plain": [
       "array([24.20766449, 19.18533142, 19.27626666, 19.47848403, 19.13720065])"
      ]
     },
     "execution_count": 24,
     "metadata": {},
     "output_type": "execute_result"
    }
   ],
   "source": [
    "cv_error = np.zeros(5)\n",
    "cv = KFold(n_splits=10,\n",
    "           shuffle=True,\n",
    "           random_state=0) # use same splits for each degree\n",
    "for i, d in enumerate(range(1,6)):\n",
    "    X = np.power.outer(H, np.arange(d+1))\n",
    "    M_CV = cross_validate(M,\n",
    "                          X,\n",
    "                          Y,\n",
    "                          cv=cv)\n",
    "    cv_error[i] = np.mean(M_CV['test_score'])\n",
    "cv_error\n"
   ]
  },
  {
   "cell_type": "markdown",
   "id": "c4ec6afb",
   "metadata": {},
   "source": [
    "Notice that the computation time is much shorter than that of LOOCV.\n",
    "(In principle, the computation time for LOOCV for a least squares\n",
    "linear model should be faster than for $K$-fold CV, due to the\n",
    "availability of the formula (5.2)  for LOOCV;\n",
    "however, the generic `cross_validate()`  function does not make\n",
    "use of this formula.)  We still see little evidence that using cubic\n",
    "or higher-degree polynomial terms leads to a lower test error than simply\n",
    "using a quadratic fit."
   ]
  },
  {
   "cell_type": "markdown",
   "id": "5edf407f",
   "metadata": {},
   "source": [
    "The `cross_validate()` function is flexible and can take\n",
    "different splitting mechanisms as an argument. For instance, one can use the `ShuffleSplit()` funtion to implement\n",
    "the validation set approach just as easily as K-fold cross-validation."
   ]
  },
  {
   "cell_type": "code",
   "execution_count": 26,
   "id": "d78795cd",
   "metadata": {
    "lines_to_next_cell": 2
   },
   "outputs": [
    {
     "data": {
      "text/plain": [
       "array([23.61661707])"
      ]
     },
     "execution_count": 26,
     "metadata": {},
     "output_type": "execute_result"
    }
   ],
   "source": [
    "validation = ShuffleSplit(n_splits=1,\n",
    "                          test_size=196,\n",
    "                          random_state=0)\n",
    "results = cross_validate(hp_model,\n",
    "                         Auto.drop(['mpg'], axis=1),\n",
    "                         Auto['mpg'],\n",
    "                         cv=validation);\n",
    "results['test_score']\n"
   ]
  },
  {
   "cell_type": "markdown",
   "id": "a081be63",
   "metadata": {},
   "source": [
    "One can estimate the variability in the test error by running the following:"
   ]
  },
  {
   "cell_type": "code",
   "execution_count": 28,
   "id": "0407ad56",
   "metadata": {},
   "outputs": [
    {
     "data": {
      "text/plain": [
       "(23.802232661034168, 1.4218450941091842)"
      ]
     },
     "execution_count": 28,
     "metadata": {},
     "output_type": "execute_result"
    }
   ],
   "source": [
    "validation = ShuffleSplit(n_splits=10,\n",
    "                          test_size=196,\n",
    "                          random_state=0)\n",
    "results = cross_validate(hp_model,\n",
    "                         Auto.drop(['mpg'], axis=1),\n",
    "                         Auto['mpg'],\n",
    "                         cv=validation)\n",
    "results['test_score'].mean(), results['test_score'].std()\n"
   ]
  },
  {
   "cell_type": "markdown",
   "id": "b66db3cb",
   "metadata": {},
   "source": [
    "Note that this standard deviation is not a valid estimate of the\n",
    "sampling variability of the mean test score or the individual scores, since the randomly-selected training\n",
    "samples overlap and hence introduce correlations. But it does give an\n",
    "idea of the Monte Carlo variation\n",
    "incurred by picking different random folds.\n",
    "\n",
    "## The Bootstrap\n",
    "We illustrate the use of the bootstrap in the simple example\n",
    " {of Section 5.2,}  as well as on an example involving\n",
    "estimating the accuracy of the linear regression model on the  `Auto`\n",
    "data set.\n",
    "### Estimating the Accuracy of a Statistic of Interest\n",
    "One of the great advantages of the bootstrap approach is that it can\n",
    "be applied in almost all situations. No complicated mathematical\n",
    "calculations are required. While there are several implementations\n",
    "of the bootstrap in Python, its use for estimating\n",
    "standard error is simple enough that we write our own function\n",
    "below for the case when our data is stored\n",
    "in a dataframe.\n",
    "\n",
    "To illustrate the bootstrap, we\n",
    "start with a simple example.\n",
    "The  `Portfolio`  data set in the `ISLP` package is described\n",
    "in Section 5.2. _The goal is to estimate the\n",
    "sampling variance of the parameter $\\alpha$_ given in formula (5.7).  We will\n",
    "create a function\n",
    "`alpha_func()`, which takes as input a dataframe `D` assumed\n",
    "to have columns `X` and `Y`, as well as a\n",
    "vector `idx` indicating which observations should be used to\n",
    "estimate \n",
    "$\\alpha$. The function then outputs the estimate for $\\alpha$ based on\n",
    "the selected observations."
   ]
  },
  {
   "cell_type": "code",
   "execution_count": 29,
   "id": "f04f15bd",
   "metadata": {
    "lines_to_next_cell": 0
   },
   "outputs": [],
   "source": [
    "Portfolio = load_data('Portfolio')\n",
    "def alpha_func(D, idx):\n",
    "   \"\"\"\n",
    "   Assumes the dataframe D has columns X and Y.\n",
    "   idx is an array of positions to consider\n",
    "   Returns the sampling variance of a parameter alpha.\n",
    "   \"\"\"\n",
    "   # Calculates covariance of X and Y, considering only\n",
    "   # the correct indexes.\n",
    "   cov_ = np.cov(D[['X','Y']].loc[idx], rowvar=False)\n",
    "   \n",
    "   return ((cov_[1,1] - cov_[0,1]) /\n",
    "           (cov_[0,0]+cov_[1,1]-2*cov_[0,1]))\n"
   ]
  },
  {
   "cell_type": "markdown",
   "id": "c88bd6a4",
   "metadata": {},
   "source": [
    "This function returns an estimate for $\\alpha$\n",
    "based on applying the minimum\n",
    "    variance formula (5.7) to the observations indexed by\n",
    "the argument `idx`.  For instance, the following command\n",
    "estimates $\\alpha$ using all 100 observations."
   ]
  },
  {
   "cell_type": "code",
   "execution_count": 31,
   "id": "4029862f-9e48-4866-9f1f-7cab2e917c85",
   "metadata": {},
   "outputs": [
    {
     "data": {
      "text/html": [
       "<div>\n",
       "<style scoped>\n",
       "    .dataframe tbody tr th:only-of-type {\n",
       "        vertical-align: middle;\n",
       "    }\n",
       "\n",
       "    .dataframe tbody tr th {\n",
       "        vertical-align: top;\n",
       "    }\n",
       "\n",
       "    .dataframe thead th {\n",
       "        text-align: right;\n",
       "    }\n",
       "</style>\n",
       "<table border=\"1\" class=\"dataframe\">\n",
       "  <thead>\n",
       "    <tr style=\"text-align: right;\">\n",
       "      <th></th>\n",
       "      <th>X</th>\n",
       "      <th>Y</th>\n",
       "    </tr>\n",
       "  </thead>\n",
       "  <tbody>\n",
       "    <tr>\n",
       "      <th>0</th>\n",
       "      <td>-0.895251</td>\n",
       "      <td>-0.234924</td>\n",
       "    </tr>\n",
       "    <tr>\n",
       "      <th>1</th>\n",
       "      <td>-1.562454</td>\n",
       "      <td>-0.885176</td>\n",
       "    </tr>\n",
       "    <tr>\n",
       "      <th>2</th>\n",
       "      <td>-0.417090</td>\n",
       "      <td>0.271888</td>\n",
       "    </tr>\n",
       "    <tr>\n",
       "      <th>3</th>\n",
       "      <td>1.044356</td>\n",
       "      <td>-0.734198</td>\n",
       "    </tr>\n",
       "    <tr>\n",
       "      <th>4</th>\n",
       "      <td>-0.315568</td>\n",
       "      <td>0.841983</td>\n",
       "    </tr>\n",
       "  </tbody>\n",
       "</table>\n",
       "</div>"
      ],
      "text/plain": [
       "          X         Y\n",
       "0 -0.895251 -0.234924\n",
       "1 -1.562454 -0.885176\n",
       "2 -0.417090  0.271888\n",
       "3  1.044356 -0.734198\n",
       "4 -0.315568  0.841983"
      ]
     },
     "execution_count": 31,
     "metadata": {},
     "output_type": "execute_result"
    }
   ],
   "source": [
    "Portfolio.head()"
   ]
  },
  {
   "cell_type": "code",
   "execution_count": 33,
   "id": "f98c0323",
   "metadata": {},
   "outputs": [
    {
     "data": {
      "text/plain": [
       "0.57583207459283"
      ]
     },
     "execution_count": 33,
     "metadata": {},
     "output_type": "execute_result"
    }
   ],
   "source": [
    "alpha_func(Portfolio, range(100)) # calculates alpha's sampling variance using only the first 100 samples"
   ]
  },
  {
   "cell_type": "markdown",
   "id": "58a78f00",
   "metadata": {},
   "source": [
    "Next we randomly **select\n",
    "100 observations from `range(100)`, with replacement**. This is equivalent\n",
    "to constructing a new bootstrap data set and recomputing $\\hat{\\alpha}$\n",
    "based on the new data set."
   ]
  },
  {
   "cell_type": "code",
   "execution_count": 34,
   "id": "bcd40175",
   "metadata": {
    "lines_to_next_cell": 2
   },
   "outputs": [
    {
     "data": {
      "text/plain": [
       "0.6074452469619004"
      ]
     },
     "execution_count": 34,
     "metadata": {},
     "output_type": "execute_result"
    }
   ],
   "source": [
    "rng = np.random.default_rng(0)\n",
    "alpha_func(Portfolio,\n",
    "           rng.choice(100, # np.arange(100)\n",
    "                      100, # take 100 samples from the population\n",
    "                      replace=True))"
   ]
  },
  {
   "cell_type": "markdown",
   "id": "e6058be4",
   "metadata": {},
   "source": [
    "This process can be generalized to create a simple function `boot_SE()` for\n",
    "computing the bootstrap standard error for arbitrary\n",
    "functions that take only a data frame as an argument."
   ]
  },
  {
   "cell_type": "code",
   "execution_count": 36,
   "id": "ab6602cd",
   "metadata": {
    "lines_to_next_cell": 0
   },
   "outputs": [],
   "source": [
    "def boot_SE(func, # arbitrary function\n",
    "            D, # array with X and Y columns\n",
    "            n=None,\n",
    "            B=1000, # bootstrap replications\n",
    "            seed=0):\n",
    "    \"\"\"\n",
    "    Calculates the bootstrap standard error for the function\n",
    "    \"\"\"\n",
    "    rng = np.random.default_rng(seed)\n",
    "    first_, second_ = 0, 0\n",
    "    n = n or D.shape[0]\n",
    "    \n",
    "    for _ in range(B): # repeat B times (the amount of replications of the bootstrap)\n",
    "        idx = rng.choice(D.index, # this is an array\n",
    "                         n, # we pick n values (default: array size)\n",
    "                         replace=True)\n",
    "        value = func(D, idx) # using the selected indexes, we apply the function\n",
    "        \n",
    "        first_ += value # we add the function result\n",
    "        second_ += value**2 # and the function result squared\n",
    "\n",
    "    # After all replications are done, we calculate the standard error of the estimated function result\n",
    "    return np.sqrt(second_ / B - (first_ / B)**2)"
   ]
  },
  {
   "cell_type": "markdown",
   "id": "bf8fc9b0-faa6-4459-9b42-b19938949755",
   "metadata": {},
   "source": [
    "So:\n",
    "1. We first calculated the value of a function using a Bootstrapping technique\n",
    "    1. Take a number of observations with replacement from the original population.\n",
    "    2. Use those samples to calculate the function itself, $\\hat{\\alpha}$.\n",
    "2. We then calculated the standard error associated with that function\n",
    "    1. Repeat B times, with B the amount of replications to use.\n",
    "       1. Take n values from the population\n",
    "       2. Calculate the function for those values, $\\hat{\\alpha}^{*i}$.\n",
    "    2. Calculate the standard error for the value by the following equation\n",
    "\n",
    "$$\n",
    "SE_B(\\hat{\\alpha}) = \\sqrt{\\frac{1}{B-1} \\sum_{r=1}^B \\left(\\hat{\\alpha}^{*r} - \\frac{1}{B} \\sum_{r'=1}^B \\hat{\\alpha}^{*r'} \\right)}\n",
    "$$"
   ]
  },
  {
   "cell_type": "markdown",
   "id": "d94d383e",
   "metadata": {},
   "source": [
    "Notice the use of `_` as a loop variable in `for _ in range(B)`. This is often used if the value of the counter is\n",
    "unimportant and simply makes sure  the loop is executed `B` times.\n",
    "\n",
    "Let’s use our function to evaluate the accuracy of our\n",
    "estimate of $\\alpha$ using $B=1{,}000$ bootstrap replications. "
   ]
  },
  {
   "cell_type": "code",
   "execution_count": 43,
   "id": "4a323513",
   "metadata": {},
   "outputs": [
    {
     "data": {
      "text/plain": [
       "0.09118176521277699"
      ]
     },
     "execution_count": 43,
     "metadata": {},
     "output_type": "execute_result"
    }
   ],
   "source": [
    "alpha_SE = boot_SE(alpha_func,\n",
    "                   Portfolio,\n",
    "                   B=1000,\n",
    "                   seed=0)\n",
    "alpha_SE\n"
   ]
  },
  {
   "cell_type": "markdown",
   "id": "22343f53",
   "metadata": {},
   "source": [
    "The final output shows that the bootstrap estimate for ${\\rm SE}(\\hat{\\alpha})$ is $0.0912$.\n",
    "\n",
    "### Estimating the Accuracy of a Linear Regression Model\n",
    "The bootstrap approach **can be used to assess the variability of the\n",
    "coefficient estimates and predictions from a statistical learning\n",
    "method**. Here we use the bootstrap approach in order to assess the\n",
    "variability of the estimates for $\\beta_0$ and $\\beta_1$, the\n",
    "intercept and slope terms for the linear regression model that uses\n",
    "`horsepower` to predict `mpg` in the  `Auto`  data set. We\n",
    "will compare the estimates obtained using the bootstrap to those\n",
    "obtained using the formulas for ${\\rm SE}(\\hat{\\beta}_0)$ and\n",
    "${\\rm SE}(\\hat{\\beta}_1)$ described in Section 3.1.2.\n",
    "\n",
    "To use our `boot_SE()` function, we must write a function (its\n",
    "first argument)\n",
    "that takes a data frame `D` and indices `idx`\n",
    "as its only arguments. But here we want to bootstrap a specific\n",
    "regression model, specified by a model formula and data. We show how\n",
    "to do this in a few simple steps.\n",
    "\n",
    "We start by writing a generic\n",
    "function `boot_OLS()` for bootstrapping a regression model that takes a formula to\n",
    "define the corresponding regression. We use the `clone()` function to\n",
    "make a copy of the formula that can be refit to the new dataframe. This means\n",
    "that any derived features such as those defined by `poly()`\n",
    "(which we will see shortly),\n",
    "will be re-fit on the resampled data frame."
   ]
  },
  {
   "cell_type": "code",
   "execution_count": 52,
   "id": "0220f3af",
   "metadata": {
    "lines_to_next_cell": 0
   },
   "outputs": [],
   "source": [
    "def boot_OLS(model_matrix, response, D, idx):\n",
    "    D_ = D.iloc[idx]\n",
    "    Y_ = D_[response]\n",
    "    X_ = clone(model_matrix).fit_transform(D_)\n",
    "    return sm.OLS(Y_, X_).fit().params #returns the parameters!"
   ]
  },
  {
   "cell_type": "markdown",
   "id": "df0c7f05",
   "metadata": {},
   "source": [
    "This is not quite what is needed as the first argument to\n",
    "`boot_SE()`. The first two arguments which specify the model will not change in the\n",
    "bootstrap process, and we would like to *freeze* them.   The\n",
    "function `partial()` from the `functools` module  does precisely this: it takes a function\n",
    "as an argument, and freezes some of its arguments, starting from the\n",
    "left. We use it to freeze the first two model-formula arguments of `boot_OLS()`."
   ]
  },
  {
   "cell_type": "code",
   "execution_count": 53,
   "id": "62037dcb",
   "metadata": {
    "lines_to_next_cell": 0
   },
   "outputs": [],
   "source": [
    "hp_func = partial(boot_OLS, # The function\n",
    "                  MS(['horsepower']), # The model matrix, in this case for a single column\n",
    "                  'mpg') # the response column name\n"
   ]
  },
  {
   "cell_type": "markdown",
   "id": "61fbe248",
   "metadata": {},
   "source": [
    "Typing `hp_func?` will show that it has two arguments `D`\n",
    "and `idx` --- it is a version of `boot_OLS()` with the first\n",
    "two arguments frozen --- and hence is ideal as the first argument for `boot_SE()`.\n",
    "\n",
    "The `hp_func()` function can now be used in order to create\n",
    "bootstrap estimates for the intercept and slope terms by randomly\n",
    "sampling from among the observations with replacement. We first\n",
    "demonstrate its utility on 10 bootstrap samples."
   ]
  },
  {
   "cell_type": "code",
   "execution_count": 71,
   "id": "16671742-9270-4c8f-bbfc-5561060d29b4",
   "metadata": {},
   "outputs": [],
   "source": [
    "Auto = Auto.reset_index()"
   ]
  },
  {
   "cell_type": "code",
   "execution_count": 73,
   "id": "b8bdb7a4",
   "metadata": {
    "lines_to_next_cell": 0
   },
   "outputs": [
    {
     "data": {
      "text/plain": [
       "array([[39.88064456, -0.1567849 ],\n",
       "       [38.73298691, -0.14699495],\n",
       "       [38.31734657, -0.14442683],\n",
       "       [39.91446826, -0.15782234],\n",
       "       [39.43349349, -0.15072702],\n",
       "       [40.36629857, -0.15912217],\n",
       "       [39.62334517, -0.15449117],\n",
       "       [39.0580588 , -0.14952908],\n",
       "       [38.66688437, -0.14521037],\n",
       "       [39.64280792, -0.15555698]])"
      ]
     },
     "execution_count": 73,
     "metadata": {},
     "output_type": "execute_result"
    }
   ],
   "source": [
    "rng = np.random.default_rng(0)\n",
    "# call 10 times the frozen function and make an \n",
    "# array with their results, which are the parameters\n",
    "np.array([hp_func(# We have to give the boot_OLS function the D and the idx args\n",
    "                  Auto, # D arg: the dataframe\n",
    "                  rng.choice(392, # idx's we use, bootstrap style (with replacement)\n",
    "                             392,\n",
    "                             replace=True)) for _ in range(10)])\n",
    "\n",
    "# So we decide to repeat 10 times the calling of boot_OLS.\n",
    "# This boot_OLS function results on the parameters obtained from a fix using OLS.\n",
    "# therefore, we have b0, b1 (intercept and coeff) after a linear regression.\n",
    "\n",
    "# As we are performing a bootstrap, the linear regression is not performed on ALL\n",
    "# possible samples, but on a subset of those samples.\n",
    "# How many samples? n samples taken **with replacement**. So instead of all possible samples\n",
    "# being used, just a bunch of them are.\n",
    "\n",
    "# This approach is taken B times, with B values being calculated.\n",
    "# In this case, 10.\n",
    "\n",
    "# We then get an array of 10 arrays\n",
    "# each array with two values: one for b0 and one for b1"
   ]
  },
  {
   "cell_type": "markdown",
   "id": "2a831036",
   "metadata": {},
   "source": [
    "Next, we **use the `boot_SE()` {}  function to compute the standard\n",
    "errors of 1,000 bootstrap estimates** for the intercept and slope terms."
   ]
  },
  {
   "cell_type": "code",
   "execution_count": 74,
   "id": "36808258",
   "metadata": {
    "lines_to_next_cell": 2
   },
   "outputs": [
    {
     "data": {
      "text/plain": [
       "intercept     0.848807\n",
       "horsepower    0.007352\n",
       "dtype: float64"
      ]
     },
     "execution_count": 74,
     "metadata": {},
     "output_type": "execute_result"
    }
   ],
   "source": [
    "hp_se = boot_SE(hp_func, # This is the boot_OLS with partial\n",
    "                Auto, # This is again the dataframe\n",
    "                B=1000, # we want the bootstrap value to be 1000\n",
    "                seed=10)\n",
    "\n",
    "# This will call boot_SE, which calls the function for\n",
    "# performing boot_OLS not 10 times but 1000, and calculates the SE.\n",
    "hp_se\n"
   ]
  },
  {
   "cell_type": "markdown",
   "id": "38c65fbf",
   "metadata": {},
   "source": [
    "This indicates that the bootstrap estimate for ${\\rm SE}(\\hat{\\beta}_0)$ is\n",
    "0.85, and that the bootstrap\n",
    "estimate for ${\\rm SE}(\\hat{\\beta}_1)$ is\n",
    "0.0074.  As discussed in\n",
    "Section 3.1.2, standard formulas can be used to compute\n",
    "the standard errors for the regression coefficients in a linear\n",
    "model. These can be obtained using the `summarize()`  function\n",
    "from `ISLP.sm`."
   ]
  },
  {
   "cell_type": "code",
   "execution_count": 75,
   "id": "c9aea297",
   "metadata": {
    "lines_to_next_cell": 2
   },
   "outputs": [
    {
     "data": {
      "text/plain": [
       "intercept     0.717\n",
       "horsepower    0.006\n",
       "Name: std err, dtype: float64"
      ]
     },
     "execution_count": 75,
     "metadata": {},
     "output_type": "execute_result"
    }
   ],
   "source": [
    "hp_model.fit(Auto, Auto['mpg'])\n",
    "model_se = summarize(hp_model.results_)['std err']\n",
    "model_se\n"
   ]
  },
  {
   "cell_type": "markdown",
   "id": "d870ad6b",
   "metadata": {},
   "source": [
    "The standard error estimates for $\\hat{\\beta}_0$ and $\\hat{\\beta}_1$\n",
    "obtained using the formulas  from Section 3.1.2  are\n",
    "0.717 for the\n",
    "intercept and\n",
    "0.006 for the\n",
    "slope. Interestingly, these are somewhat different from the estimates\n",
    "obtained using the bootstrap.  Does this indicate a problem with the\n",
    "bootstrap? In fact, it suggests the opposite.  Recall that the\n",
    "standard formulas given in\n",
    " {Equation 3.8 on page 82}\n",
    "rely on certain assumptions. For example,\n",
    "they depend on the unknown parameter $\\sigma^2$, the noise\n",
    "variance. We then estimate $\\sigma^2$ using the RSS. Now although the\n",
    "formula for the standard errors do not rely on the linear model being\n",
    "correct, the estimate for $\\sigma^2$ does.  We see\n",
    " {in Figure 3.8 on page 108}  that there is\n",
    "a non-linear relationship in the data, and so the residuals from a\n",
    "linear fit will be inflated, and so will $\\hat{\\sigma}^2$.  Secondly,\n",
    "the standard formulas assume (somewhat unrealistically) that the $x_i$\n",
    "are fixed, and all the variability comes from the variation in the\n",
    "errors $\\epsilon_i$.  The **bootstrap approach does not rely on any of\n",
    "these assumptions, and so it is likely giving a more accurate estimate\n",
    "of the standard errors** of $\\hat{\\beta}_0$ and $\\hat{\\beta}_1$ than\n",
    "the results from `sm.OLS`.\n",
    "\n",
    "Below we compute the bootstrap standard error estimates and the\n",
    "standard linear regression estimates that result from fitting the\n",
    "quadratic model to the data. Since this model provides a good fit to\n",
    "the data (Figure 3.8), there is now a better\n",
    "correspondence between the bootstrap estimates and the standard\n",
    "estimates of ${\\rm SE}(\\hat{\\beta}_0)$, ${\\rm SE}(\\hat{\\beta}_1)$ and\n",
    "${\\rm SE}(\\hat{\\beta}_2)$."
   ]
  },
  {
   "cell_type": "code",
   "execution_count": 76,
   "id": "79c56529",
   "metadata": {},
   "outputs": [
    {
     "data": {
      "text/plain": [
       "intercept                                  2.067840\n",
       "poly(horsepower, degree=2, raw=True)[0]    0.033019\n",
       "poly(horsepower, degree=2, raw=True)[1]    0.000120\n",
       "dtype: float64"
      ]
     },
     "execution_count": 76,
     "metadata": {},
     "output_type": "execute_result"
    }
   ],
   "source": [
    "quad_model = MS([poly('horsepower', 2, raw=True)])\n",
    "quad_func = partial(boot_OLS,\n",
    "                    quad_model,\n",
    "                    'mpg')\n",
    "boot_SE(quad_func, Auto, B=1000)\n"
   ]
  },
  {
   "cell_type": "markdown",
   "id": "9fccbbbd",
   "metadata": {},
   "source": [
    "We  compare the results to the standard errors computed using `sm.OLS()`."
   ]
  },
  {
   "cell_type": "code",
   "execution_count": 77,
   "id": "4d0b4edc",
   "metadata": {
    "lines_to_next_cell": 0
   },
   "outputs": [
    {
     "data": {
      "text/plain": [
       "intercept                                  1.800\n",
       "poly(horsepower, degree=2, raw=True)[0]    0.031\n",
       "poly(horsepower, degree=2, raw=True)[1]    0.000\n",
       "Name: std err, dtype: float64"
      ]
     },
     "execution_count": 77,
     "metadata": {},
     "output_type": "execute_result"
    }
   ],
   "source": [
    "M = sm.OLS(Auto['mpg'],\n",
    "           quad_model.fit_transform(Auto))\n",
    "summarize(M.fit())['std err']\n"
   ]
  },
  {
   "cell_type": "markdown",
   "id": "9a86ff6e",
   "metadata": {},
   "source": [
    "\n",
    "\n"
   ]
  }
 ],
 "metadata": {
  "jupytext": {
   "cell_metadata_filter": "-all",
   "formats": "Rmd,ipynb",
   "main_language": "python"
  },
  "kernelspec": {
   "display_name": "Python 3 (ipykernel)",
   "language": "python",
   "name": "python3"
  },
  "language_info": {
   "codemirror_mode": {
    "name": "ipython",
    "version": 3
   },
   "file_extension": ".py",
   "mimetype": "text/x-python",
   "name": "python",
   "nbconvert_exporter": "python",
   "pygments_lexer": "ipython3",
   "version": "3.11.9"
  }
 },
 "nbformat": 4,
 "nbformat_minor": 5
}
